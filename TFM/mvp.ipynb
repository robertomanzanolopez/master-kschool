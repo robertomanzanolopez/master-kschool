{
 "cells": [
  {
   "cell_type": "markdown",
   "metadata": {},
   "source": [
    "# Load data and clean"
   ]
  },
  {
   "cell_type": "code",
   "execution_count": 2,
   "metadata": {},
   "outputs": [],
   "source": [
    "import pandas as pd\n",
    "import numpy as np\n",
    "import matplotlib.pyplot as plt"
   ]
  },
  {
   "cell_type": "code",
   "execution_count": 7,
   "metadata": {},
   "outputs": [
    {
     "data": {
      "text/html": [
       "<div>\n",
       "<style scoped>\n",
       "    .dataframe tbody tr th:only-of-type {\n",
       "        vertical-align: middle;\n",
       "    }\n",
       "\n",
       "    .dataframe tbody tr th {\n",
       "        vertical-align: top;\n",
       "    }\n",
       "\n",
       "    .dataframe thead th {\n",
       "        text-align: right;\n",
       "    }\n",
       "</style>\n",
       "<table border=\"1\" class=\"dataframe\">\n",
       "  <thead>\n",
       "    <tr style=\"text-align: right;\">\n",
       "      <th></th>\n",
       "      <th>Id</th>\n",
       "      <th>Age</th>\n",
       "      <th>Job</th>\n",
       "      <th>Marital</th>\n",
       "      <th>Education</th>\n",
       "      <th>Default</th>\n",
       "      <th>Balance</th>\n",
       "      <th>HHInsurance</th>\n",
       "      <th>CarLoan</th>\n",
       "      <th>Communication</th>\n",
       "      <th>LastContactDay</th>\n",
       "      <th>LastContactMonth</th>\n",
       "      <th>NoOfContacts</th>\n",
       "      <th>DaysPassed</th>\n",
       "      <th>PrevAttempts</th>\n",
       "      <th>Outcome</th>\n",
       "      <th>CallStart</th>\n",
       "      <th>CallEnd</th>\n",
       "      <th>CarInsurance</th>\n",
       "    </tr>\n",
       "  </thead>\n",
       "  <tbody>\n",
       "    <tr>\n",
       "      <th>0</th>\n",
       "      <td>1</td>\n",
       "      <td>32</td>\n",
       "      <td>management</td>\n",
       "      <td>single</td>\n",
       "      <td>tertiary</td>\n",
       "      <td>0</td>\n",
       "      <td>1218</td>\n",
       "      <td>1</td>\n",
       "      <td>0</td>\n",
       "      <td>telephone</td>\n",
       "      <td>28</td>\n",
       "      <td>jan</td>\n",
       "      <td>2</td>\n",
       "      <td>-1</td>\n",
       "      <td>0</td>\n",
       "      <td>NaN</td>\n",
       "      <td>13:45:20</td>\n",
       "      <td>13:46:30</td>\n",
       "      <td>0</td>\n",
       "    </tr>\n",
       "    <tr>\n",
       "      <th>1</th>\n",
       "      <td>2</td>\n",
       "      <td>32</td>\n",
       "      <td>blue-collar</td>\n",
       "      <td>married</td>\n",
       "      <td>primary</td>\n",
       "      <td>0</td>\n",
       "      <td>1156</td>\n",
       "      <td>1</td>\n",
       "      <td>0</td>\n",
       "      <td>NaN</td>\n",
       "      <td>26</td>\n",
       "      <td>may</td>\n",
       "      <td>5</td>\n",
       "      <td>-1</td>\n",
       "      <td>0</td>\n",
       "      <td>NaN</td>\n",
       "      <td>14:49:03</td>\n",
       "      <td>14:52:08</td>\n",
       "      <td>0</td>\n",
       "    </tr>\n",
       "    <tr>\n",
       "      <th>2</th>\n",
       "      <td>3</td>\n",
       "      <td>29</td>\n",
       "      <td>management</td>\n",
       "      <td>single</td>\n",
       "      <td>tertiary</td>\n",
       "      <td>0</td>\n",
       "      <td>637</td>\n",
       "      <td>1</td>\n",
       "      <td>0</td>\n",
       "      <td>cellular</td>\n",
       "      <td>3</td>\n",
       "      <td>jun</td>\n",
       "      <td>1</td>\n",
       "      <td>119</td>\n",
       "      <td>1</td>\n",
       "      <td>failure</td>\n",
       "      <td>16:30:24</td>\n",
       "      <td>16:36:04</td>\n",
       "      <td>1</td>\n",
       "    </tr>\n",
       "    <tr>\n",
       "      <th>3</th>\n",
       "      <td>4</td>\n",
       "      <td>25</td>\n",
       "      <td>student</td>\n",
       "      <td>single</td>\n",
       "      <td>primary</td>\n",
       "      <td>0</td>\n",
       "      <td>373</td>\n",
       "      <td>1</td>\n",
       "      <td>0</td>\n",
       "      <td>cellular</td>\n",
       "      <td>11</td>\n",
       "      <td>may</td>\n",
       "      <td>2</td>\n",
       "      <td>-1</td>\n",
       "      <td>0</td>\n",
       "      <td>NaN</td>\n",
       "      <td>12:06:43</td>\n",
       "      <td>12:20:22</td>\n",
       "      <td>1</td>\n",
       "    </tr>\n",
       "    <tr>\n",
       "      <th>4</th>\n",
       "      <td>5</td>\n",
       "      <td>30</td>\n",
       "      <td>management</td>\n",
       "      <td>married</td>\n",
       "      <td>tertiary</td>\n",
       "      <td>0</td>\n",
       "      <td>2694</td>\n",
       "      <td>0</td>\n",
       "      <td>0</td>\n",
       "      <td>cellular</td>\n",
       "      <td>3</td>\n",
       "      <td>jun</td>\n",
       "      <td>1</td>\n",
       "      <td>-1</td>\n",
       "      <td>0</td>\n",
       "      <td>NaN</td>\n",
       "      <td>14:35:44</td>\n",
       "      <td>14:38:56</td>\n",
       "      <td>0</td>\n",
       "    </tr>\n",
       "    <tr>\n",
       "      <th>...</th>\n",
       "      <td>...</td>\n",
       "      <td>...</td>\n",
       "      <td>...</td>\n",
       "      <td>...</td>\n",
       "      <td>...</td>\n",
       "      <td>...</td>\n",
       "      <td>...</td>\n",
       "      <td>...</td>\n",
       "      <td>...</td>\n",
       "      <td>...</td>\n",
       "      <td>...</td>\n",
       "      <td>...</td>\n",
       "      <td>...</td>\n",
       "      <td>...</td>\n",
       "      <td>...</td>\n",
       "      <td>...</td>\n",
       "      <td>...</td>\n",
       "      <td>...</td>\n",
       "      <td>...</td>\n",
       "    </tr>\n",
       "    <tr>\n",
       "      <th>3995</th>\n",
       "      <td>3996</td>\n",
       "      <td>28</td>\n",
       "      <td>technician</td>\n",
       "      <td>single</td>\n",
       "      <td>tertiary</td>\n",
       "      <td>0</td>\n",
       "      <td>0</td>\n",
       "      <td>1</td>\n",
       "      <td>0</td>\n",
       "      <td>cellular</td>\n",
       "      <td>25</td>\n",
       "      <td>may</td>\n",
       "      <td>1</td>\n",
       "      <td>40</td>\n",
       "      <td>2</td>\n",
       "      <td>failure</td>\n",
       "      <td>17:46:28</td>\n",
       "      <td>17:50:57</td>\n",
       "      <td>1</td>\n",
       "    </tr>\n",
       "    <tr>\n",
       "      <th>3996</th>\n",
       "      <td>3997</td>\n",
       "      <td>49</td>\n",
       "      <td>admin.</td>\n",
       "      <td>divorced</td>\n",
       "      <td>secondary</td>\n",
       "      <td>0</td>\n",
       "      <td>124</td>\n",
       "      <td>1</td>\n",
       "      <td>1</td>\n",
       "      <td>cellular</td>\n",
       "      <td>29</td>\n",
       "      <td>jul</td>\n",
       "      <td>19</td>\n",
       "      <td>-1</td>\n",
       "      <td>0</td>\n",
       "      <td>NaN</td>\n",
       "      <td>14:49:16</td>\n",
       "      <td>14:51:21</td>\n",
       "      <td>0</td>\n",
       "    </tr>\n",
       "    <tr>\n",
       "      <th>3997</th>\n",
       "      <td>3998</td>\n",
       "      <td>27</td>\n",
       "      <td>admin.</td>\n",
       "      <td>single</td>\n",
       "      <td>secondary</td>\n",
       "      <td>0</td>\n",
       "      <td>-400</td>\n",
       "      <td>0</td>\n",
       "      <td>1</td>\n",
       "      <td>cellular</td>\n",
       "      <td>8</td>\n",
       "      <td>jul</td>\n",
       "      <td>1</td>\n",
       "      <td>-1</td>\n",
       "      <td>0</td>\n",
       "      <td>NaN</td>\n",
       "      <td>12:19:03</td>\n",
       "      <td>12:23:53</td>\n",
       "      <td>0</td>\n",
       "    </tr>\n",
       "    <tr>\n",
       "      <th>3998</th>\n",
       "      <td>3999</td>\n",
       "      <td>36</td>\n",
       "      <td>entrepreneur</td>\n",
       "      <td>single</td>\n",
       "      <td>tertiary</td>\n",
       "      <td>0</td>\n",
       "      <td>658</td>\n",
       "      <td>1</td>\n",
       "      <td>0</td>\n",
       "      <td>cellular</td>\n",
       "      <td>29</td>\n",
       "      <td>jan</td>\n",
       "      <td>1</td>\n",
       "      <td>227</td>\n",
       "      <td>3</td>\n",
       "      <td>failure</td>\n",
       "      <td>11:27:35</td>\n",
       "      <td>11:29:14</td>\n",
       "      <td>0</td>\n",
       "    </tr>\n",
       "    <tr>\n",
       "      <th>3999</th>\n",
       "      <td>4000</td>\n",
       "      <td>45</td>\n",
       "      <td>services</td>\n",
       "      <td>married</td>\n",
       "      <td>primary</td>\n",
       "      <td>0</td>\n",
       "      <td>137</td>\n",
       "      <td>1</td>\n",
       "      <td>0</td>\n",
       "      <td>NaN</td>\n",
       "      <td>9</td>\n",
       "      <td>may</td>\n",
       "      <td>2</td>\n",
       "      <td>-1</td>\n",
       "      <td>0</td>\n",
       "      <td>NaN</td>\n",
       "      <td>13:31:48</td>\n",
       "      <td>13:36:22</td>\n",
       "      <td>0</td>\n",
       "    </tr>\n",
       "  </tbody>\n",
       "</table>\n",
       "<p>4000 rows × 19 columns</p>\n",
       "</div>"
      ],
      "text/plain": [
       "        Id  Age           Job   Marital  Education  Default  Balance  \\\n",
       "0        1   32    management    single   tertiary        0     1218   \n",
       "1        2   32   blue-collar   married    primary        0     1156   \n",
       "2        3   29    management    single   tertiary        0      637   \n",
       "3        4   25       student    single    primary        0      373   \n",
       "4        5   30    management   married   tertiary        0     2694   \n",
       "...    ...  ...           ...       ...        ...      ...      ...   \n",
       "3995  3996   28    technician    single   tertiary        0        0   \n",
       "3996  3997   49        admin.  divorced  secondary        0      124   \n",
       "3997  3998   27        admin.    single  secondary        0     -400   \n",
       "3998  3999   36  entrepreneur    single   tertiary        0      658   \n",
       "3999  4000   45      services   married    primary        0      137   \n",
       "\n",
       "      HHInsurance  CarLoan Communication  LastContactDay LastContactMonth  \\\n",
       "0               1        0     telephone              28              jan   \n",
       "1               1        0           NaN              26              may   \n",
       "2               1        0      cellular               3              jun   \n",
       "3               1        0      cellular              11              may   \n",
       "4               0        0      cellular               3              jun   \n",
       "...           ...      ...           ...             ...              ...   \n",
       "3995            1        0      cellular              25              may   \n",
       "3996            1        1      cellular              29              jul   \n",
       "3997            0        1      cellular               8              jul   \n",
       "3998            1        0      cellular              29              jan   \n",
       "3999            1        0           NaN               9              may   \n",
       "\n",
       "      NoOfContacts  DaysPassed  PrevAttempts  Outcome CallStart   CallEnd  \\\n",
       "0                2          -1             0      NaN  13:45:20  13:46:30   \n",
       "1                5          -1             0      NaN  14:49:03  14:52:08   \n",
       "2                1         119             1  failure  16:30:24  16:36:04   \n",
       "3                2          -1             0      NaN  12:06:43  12:20:22   \n",
       "4                1          -1             0      NaN  14:35:44  14:38:56   \n",
       "...            ...         ...           ...      ...       ...       ...   \n",
       "3995             1          40             2  failure  17:46:28  17:50:57   \n",
       "3996            19          -1             0      NaN  14:49:16  14:51:21   \n",
       "3997             1          -1             0      NaN  12:19:03  12:23:53   \n",
       "3998             1         227             3  failure  11:27:35  11:29:14   \n",
       "3999             2          -1             0      NaN  13:31:48  13:36:22   \n",
       "\n",
       "      CarInsurance  \n",
       "0                0  \n",
       "1                0  \n",
       "2                1  \n",
       "3                1  \n",
       "4                0  \n",
       "...            ...  \n",
       "3995             1  \n",
       "3996             0  \n",
       "3997             0  \n",
       "3998             0  \n",
       "3999             0  \n",
       "\n",
       "[4000 rows x 19 columns]"
      ]
     },
     "execution_count": 7,
     "metadata": {},
     "output_type": "execute_result"
    }
   ],
   "source": [
    "# carInsurance: llamadas desde un call center para venderles un seguro de coche concreto. \n",
    "df_carinsurance = pd.read_csv('/Users/miguel/data/projectplanning/carInsurance_train.csv')\n",
    "df_carinsurance"
   ]
  },
  {
   "cell_type": "code",
   "execution_count": 62,
   "metadata": {},
   "outputs": [
    {
     "ename": "TypeError",
     "evalue": "strptime() argument 1 must be str, not Series",
     "output_type": "error",
     "traceback": [
      "\u001b[0;31m---------------------------------------------------------------------------\u001b[0m",
      "\u001b[0;31mTypeError\u001b[0m                                 Traceback (most recent call last)",
      "\u001b[0;32m/var/folders/jn/w0r35k4x0dg_3cvcygm52fz40000gn/T/ipykernel_24573/590371077.py\u001b[0m in \u001b[0;36m<module>\u001b[0;34m\u001b[0m\n\u001b[1;32m      2\u001b[0m \u001b[0;34m\u001b[0m\u001b[0m\n\u001b[1;32m      3\u001b[0m \u001b[0;34m\u001b[0m\u001b[0m\n\u001b[0;32m----> 4\u001b[0;31m \u001b[0mcall_start\u001b[0m \u001b[0;34m=\u001b[0m \u001b[0mdatetime\u001b[0m\u001b[0;34m.\u001b[0m\u001b[0mstrptime\u001b[0m\u001b[0;34m(\u001b[0m\u001b[0mdf_carinsurance\u001b[0m\u001b[0;34m[\u001b[0m\u001b[0;34m'CallStart'\u001b[0m\u001b[0;34m]\u001b[0m\u001b[0;34m,\u001b[0m \u001b[0;34m'%H:%M:%S'\u001b[0m\u001b[0;34m)\u001b[0m\u001b[0;34m\u001b[0m\u001b[0;34m\u001b[0m\u001b[0m\n\u001b[0m\u001b[1;32m      5\u001b[0m \u001b[0mcall_end\u001b[0m \u001b[0;34m=\u001b[0m \u001b[0mdatetime\u001b[0m\u001b[0;34m.\u001b[0m\u001b[0mstrptime\u001b[0m\u001b[0;34m(\u001b[0m\u001b[0mdf_carinsurance\u001b[0m\u001b[0;34m[\u001b[0m\u001b[0;34m'CallEnd'\u001b[0m\u001b[0;34m]\u001b[0m\u001b[0;34m,\u001b[0m \u001b[0;34m'%H:%M:%S'\u001b[0m\u001b[0;34m)\u001b[0m\u001b[0;34m\u001b[0m\u001b[0;34m\u001b[0m\u001b[0m\n\u001b[1;32m      6\u001b[0m \u001b[0;34m\u001b[0m\u001b[0m\n",
      "\u001b[0;31mTypeError\u001b[0m: strptime() argument 1 must be str, not Series"
     ]
    }
   ],
   "source": [
    "from datetime import datetime\n",
    "\n",
    "\n",
    "call_start = datetime.strptime(df_carinsurance['CallStart'], '%H:%M:%S')\n",
    "call_end = datetime.strptime(df_carinsurance['CallEnd'], '%H:%M:%S')\n",
    "\n",
    "df_carinsurance['Duration'] = call_start - call_end\n"
   ]
  },
  {
   "cell_type": "code",
   "execution_count": 64,
   "metadata": {},
   "outputs": [],
   "source": [
    "df_carinsurance['CallDuration'] = ((pd.to_datetime(df_carinsurance['CallEnd']) - pd.to_datetime(df_carinsurance['CallStart'])).astype('<m8[m]').astype(int))"
   ]
  },
  {
   "cell_type": "code",
   "execution_count": 65,
   "metadata": {},
   "outputs": [
    {
     "data": {
      "text/plain": [
       "0        1\n",
       "1        3\n",
       "2        5\n",
       "3       13\n",
       "4        3\n",
       "        ..\n",
       "3995     4\n",
       "3996     2\n",
       "3997     4\n",
       "3998     1\n",
       "3999     4\n",
       "Name: CallDuration, Length: 4000, dtype: int64"
      ]
     },
     "execution_count": 65,
     "metadata": {},
     "output_type": "execute_result"
    }
   ],
   "source": [
    "df_carinsurance['CallDuration']"
   ]
  },
  {
   "cell_type": "code",
   "execution_count": 51,
   "metadata": {},
   "outputs": [
    {
     "data": {
      "text/plain": [
       "(4000, 19)"
      ]
     },
     "execution_count": 51,
     "metadata": {},
     "output_type": "execute_result"
    }
   ],
   "source": [
    "df_carinsurance.shape"
   ]
  },
  {
   "cell_type": "code",
   "execution_count": 9,
   "metadata": {},
   "outputs": [],
   "source": [
    "target = df_carinsurance[['CarInsurance']]"
   ]
  },
  {
   "cell_type": "code",
   "execution_count": 27,
   "metadata": {},
   "outputs": [],
   "source": [
    "data = df_carinsurance[['DaysPassed', 'PrevAttempts']]"
   ]
  },
  {
   "cell_type": "markdown",
   "metadata": {},
   "source": [
    "# Visualization"
   ]
  },
  {
   "cell_type": "code",
   "execution_count": 19,
   "metadata": {},
   "outputs": [],
   "source": [
    "import seaborn as sns"
   ]
  },
  {
   "cell_type": "code",
   "execution_count": 21,
   "metadata": {},
   "outputs": [
    {
     "data": {
      "text/html": [
       "<div>\n",
       "<style scoped>\n",
       "    .dataframe tbody tr th:only-of-type {\n",
       "        vertical-align: middle;\n",
       "    }\n",
       "\n",
       "    .dataframe tbody tr th {\n",
       "        vertical-align: top;\n",
       "    }\n",
       "\n",
       "    .dataframe thead th {\n",
       "        text-align: right;\n",
       "    }\n",
       "</style>\n",
       "<table border=\"1\" class=\"dataframe\">\n",
       "  <thead>\n",
       "    <tr style=\"text-align: right;\">\n",
       "      <th></th>\n",
       "      <th>Id</th>\n",
       "      <th>Age</th>\n",
       "      <th>Default</th>\n",
       "      <th>Balance</th>\n",
       "      <th>HHInsurance</th>\n",
       "      <th>CarLoan</th>\n",
       "      <th>LastContactDay</th>\n",
       "      <th>NoOfContacts</th>\n",
       "      <th>DaysPassed</th>\n",
       "      <th>PrevAttempts</th>\n",
       "      <th>CarInsurance</th>\n",
       "    </tr>\n",
       "  </thead>\n",
       "  <tbody>\n",
       "    <tr>\n",
       "      <th>Id</th>\n",
       "      <td>1.000000</td>\n",
       "      <td>0.000999</td>\n",
       "      <td>0.003334</td>\n",
       "      <td>-0.006639</td>\n",
       "      <td>0.004419</td>\n",
       "      <td>-0.003026</td>\n",
       "      <td>-0.017358</td>\n",
       "      <td>0.008898</td>\n",
       "      <td>0.014355</td>\n",
       "      <td>0.012662</td>\n",
       "      <td>-0.017864</td>\n",
       "    </tr>\n",
       "    <tr>\n",
       "      <th>Age</th>\n",
       "      <td>0.000999</td>\n",
       "      <td>1.000000</td>\n",
       "      <td>0.003720</td>\n",
       "      <td>0.094330</td>\n",
       "      <td>-0.183861</td>\n",
       "      <td>-0.012383</td>\n",
       "      <td>0.013762</td>\n",
       "      <td>0.028561</td>\n",
       "      <td>-0.016685</td>\n",
       "      <td>-0.002503</td>\n",
       "      <td>0.039158</td>\n",
       "    </tr>\n",
       "    <tr>\n",
       "      <th>Default</th>\n",
       "      <td>0.003334</td>\n",
       "      <td>0.003720</td>\n",
       "      <td>1.000000</td>\n",
       "      <td>-0.054045</td>\n",
       "      <td>-0.014974</td>\n",
       "      <td>0.124936</td>\n",
       "      <td>0.027350</td>\n",
       "      <td>0.029884</td>\n",
       "      <td>-0.033388</td>\n",
       "      <td>-0.031812</td>\n",
       "      <td>-0.039506</td>\n",
       "    </tr>\n",
       "    <tr>\n",
       "      <th>Balance</th>\n",
       "      <td>-0.006639</td>\n",
       "      <td>0.094330</td>\n",
       "      <td>-0.054045</td>\n",
       "      <td>1.000000</td>\n",
       "      <td>-0.072401</td>\n",
       "      <td>-0.081684</td>\n",
       "      <td>0.015519</td>\n",
       "      <td>-0.005201</td>\n",
       "      <td>-0.002107</td>\n",
       "      <td>0.001323</td>\n",
       "      <td>0.041561</td>\n",
       "    </tr>\n",
       "    <tr>\n",
       "      <th>HHInsurance</th>\n",
       "      <td>0.004419</td>\n",
       "      <td>-0.183861</td>\n",
       "      <td>-0.014974</td>\n",
       "      <td>-0.072401</td>\n",
       "      <td>1.000000</td>\n",
       "      <td>0.088145</td>\n",
       "      <td>-0.024075</td>\n",
       "      <td>-0.005858</td>\n",
       "      <td>0.081246</td>\n",
       "      <td>0.026900</td>\n",
       "      <td>-0.203419</td>\n",
       "    </tr>\n",
       "    <tr>\n",
       "      <th>CarLoan</th>\n",
       "      <td>-0.003026</td>\n",
       "      <td>-0.012383</td>\n",
       "      <td>0.124936</td>\n",
       "      <td>-0.081684</td>\n",
       "      <td>0.088145</td>\n",
       "      <td>1.000000</td>\n",
       "      <td>0.011299</td>\n",
       "      <td>0.020652</td>\n",
       "      <td>-0.041678</td>\n",
       "      <td>-0.020796</td>\n",
       "      <td>-0.092131</td>\n",
       "    </tr>\n",
       "    <tr>\n",
       "      <th>LastContactDay</th>\n",
       "      <td>-0.017358</td>\n",
       "      <td>0.013762</td>\n",
       "      <td>0.027350</td>\n",
       "      <td>0.015519</td>\n",
       "      <td>-0.024075</td>\n",
       "      <td>0.011299</td>\n",
       "      <td>1.000000</td>\n",
       "      <td>0.144303</td>\n",
       "      <td>-0.073521</td>\n",
       "      <td>-0.072977</td>\n",
       "      <td>-0.061271</td>\n",
       "    </tr>\n",
       "    <tr>\n",
       "      <th>NoOfContacts</th>\n",
       "      <td>0.008898</td>\n",
       "      <td>0.028561</td>\n",
       "      <td>0.029884</td>\n",
       "      <td>-0.005201</td>\n",
       "      <td>-0.005858</td>\n",
       "      <td>0.020652</td>\n",
       "      <td>0.144303</td>\n",
       "      <td>1.000000</td>\n",
       "      <td>-0.100634</td>\n",
       "      <td>-0.056527</td>\n",
       "      <td>-0.114884</td>\n",
       "    </tr>\n",
       "    <tr>\n",
       "      <th>DaysPassed</th>\n",
       "      <td>0.014355</td>\n",
       "      <td>-0.016685</td>\n",
       "      <td>-0.033388</td>\n",
       "      <td>-0.002107</td>\n",
       "      <td>0.081246</td>\n",
       "      <td>-0.041678</td>\n",
       "      <td>-0.073521</td>\n",
       "      <td>-0.100634</td>\n",
       "      <td>1.000000</td>\n",
       "      <td>0.496507</td>\n",
       "      <td>0.138943</td>\n",
       "    </tr>\n",
       "    <tr>\n",
       "      <th>PrevAttempts</th>\n",
       "      <td>0.012662</td>\n",
       "      <td>-0.002503</td>\n",
       "      <td>-0.031812</td>\n",
       "      <td>0.001323</td>\n",
       "      <td>0.026900</td>\n",
       "      <td>-0.020796</td>\n",
       "      <td>-0.072977</td>\n",
       "      <td>-0.056527</td>\n",
       "      <td>0.496507</td>\n",
       "      <td>1.000000</td>\n",
       "      <td>0.148763</td>\n",
       "    </tr>\n",
       "    <tr>\n",
       "      <th>CarInsurance</th>\n",
       "      <td>-0.017864</td>\n",
       "      <td>0.039158</td>\n",
       "      <td>-0.039506</td>\n",
       "      <td>0.041561</td>\n",
       "      <td>-0.203419</td>\n",
       "      <td>-0.092131</td>\n",
       "      <td>-0.061271</td>\n",
       "      <td>-0.114884</td>\n",
       "      <td>0.138943</td>\n",
       "      <td>0.148763</td>\n",
       "      <td>1.000000</td>\n",
       "    </tr>\n",
       "  </tbody>\n",
       "</table>\n",
       "</div>"
      ],
      "text/plain": [
       "                      Id       Age   Default   Balance  HHInsurance   CarLoan  \\\n",
       "Id              1.000000  0.000999  0.003334 -0.006639     0.004419 -0.003026   \n",
       "Age             0.000999  1.000000  0.003720  0.094330    -0.183861 -0.012383   \n",
       "Default         0.003334  0.003720  1.000000 -0.054045    -0.014974  0.124936   \n",
       "Balance        -0.006639  0.094330 -0.054045  1.000000    -0.072401 -0.081684   \n",
       "HHInsurance     0.004419 -0.183861 -0.014974 -0.072401     1.000000  0.088145   \n",
       "CarLoan        -0.003026 -0.012383  0.124936 -0.081684     0.088145  1.000000   \n",
       "LastContactDay -0.017358  0.013762  0.027350  0.015519    -0.024075  0.011299   \n",
       "NoOfContacts    0.008898  0.028561  0.029884 -0.005201    -0.005858  0.020652   \n",
       "DaysPassed      0.014355 -0.016685 -0.033388 -0.002107     0.081246 -0.041678   \n",
       "PrevAttempts    0.012662 -0.002503 -0.031812  0.001323     0.026900 -0.020796   \n",
       "CarInsurance   -0.017864  0.039158 -0.039506  0.041561    -0.203419 -0.092131   \n",
       "\n",
       "                LastContactDay  NoOfContacts  DaysPassed  PrevAttempts  \\\n",
       "Id                   -0.017358      0.008898    0.014355      0.012662   \n",
       "Age                   0.013762      0.028561   -0.016685     -0.002503   \n",
       "Default               0.027350      0.029884   -0.033388     -0.031812   \n",
       "Balance               0.015519     -0.005201   -0.002107      0.001323   \n",
       "HHInsurance          -0.024075     -0.005858    0.081246      0.026900   \n",
       "CarLoan               0.011299      0.020652   -0.041678     -0.020796   \n",
       "LastContactDay        1.000000      0.144303   -0.073521     -0.072977   \n",
       "NoOfContacts          0.144303      1.000000   -0.100634     -0.056527   \n",
       "DaysPassed           -0.073521     -0.100634    1.000000      0.496507   \n",
       "PrevAttempts         -0.072977     -0.056527    0.496507      1.000000   \n",
       "CarInsurance         -0.061271     -0.114884    0.138943      0.148763   \n",
       "\n",
       "                CarInsurance  \n",
       "Id                 -0.017864  \n",
       "Age                 0.039158  \n",
       "Default            -0.039506  \n",
       "Balance             0.041561  \n",
       "HHInsurance        -0.203419  \n",
       "CarLoan            -0.092131  \n",
       "LastContactDay     -0.061271  \n",
       "NoOfContacts       -0.114884  \n",
       "DaysPassed          0.138943  \n",
       "PrevAttempts        0.148763  \n",
       "CarInsurance        1.000000  "
      ]
     },
     "execution_count": 21,
     "metadata": {},
     "output_type": "execute_result"
    }
   ],
   "source": [
    "df_corr = df_carinsurance.corr()\n",
    "df_corr"
   ]
  },
  {
   "cell_type": "code",
   "execution_count": 26,
   "metadata": {},
   "outputs": [
    {
     "data": {
      "text/plain": [
       "<AxesSubplot:>"
      ]
     },
     "execution_count": 26,
     "metadata": {},
     "output_type": "execute_result"
    },
    {
     "data": {
      "image/png": "[encoded data removed]",
      "text/plain": [
       "<Figure size 576x432 with 2 Axes>"
      ]
     },
     "metadata": {
      "needs_background": "light"
     },
     "output_type": "display_data"
    }
   ],
   "source": [
    "plt.figure(figsize=(8,6))\n",
    "sns.heatmap(df_corr, annot=True, cmap='BrBG', center=0)"
   ]
  },
  {
   "cell_type": "code",
   "execution_count": 1,
   "metadata": {},
   "outputs": [
    {
     "ename": "NameError",
     "evalue": "name 'plt' is not defined",
     "output_type": "error",
     "traceback": [
      "\u001b[0;31m---------------------------------------------------------------------------\u001b[0m",
      "\u001b[0;31mNameError\u001b[0m                                 Traceback (most recent call last)",
      "\u001b[0;32m/tmp/ipykernel_9103/3874517828.py\u001b[0m in \u001b[0;36m<module>\u001b[0;34m\u001b[0m\n\u001b[0;32m----> 1\u001b[0;31m \u001b[0mplt\u001b[0m\u001b[0;34m.\u001b[0m\u001b[0mhist\u001b[0m\u001b[0;34m(\u001b[0m\u001b[0mhousing_y\u001b[0m\u001b[0;34m,\u001b[0m \u001b[0mbins\u001b[0m\u001b[0;34m=\u001b[0m\u001b[0;36m50\u001b[0m\u001b[0;34m)\u001b[0m\u001b[0;34m;\u001b[0m\u001b[0;34m\u001b[0m\u001b[0;34m\u001b[0m\u001b[0m\n\u001b[0m",
      "\u001b[0;31mNameError\u001b[0m: name 'plt' is not defined"
     ]
    }
   ],
   "source": [
    "plt.hist(housing_y, bins=50);"
   ]
  },
  {
   "cell_type": "markdown",
   "metadata": {},
   "source": [
    "# Model"
   ]
  },
  {
   "cell_type": "code",
   "execution_count": 28,
   "metadata": {},
   "outputs": [],
   "source": [
    "from sklearn.linear_model import LinearRegression\n",
    "\n",
    "lr = LinearRegression()"
   ]
  },
  {
   "cell_type": "code",
   "execution_count": 29,
   "metadata": {},
   "outputs": [
    {
     "data": {
      "text/plain": [
       "LinearRegression()"
      ]
     },
     "execution_count": 29,
     "metadata": {},
     "output_type": "execute_result"
    }
   ],
   "source": [
    "lr.fit(data, target)"
   ]
  },
  {
   "cell_type": "code",
   "execution_count": 30,
   "metadata": {},
   "outputs": [
    {
     "data": {
      "text/plain": [
       "array([[0.36336072],\n",
       "       [0.36336072],\n",
       "       [0.43594855],\n",
       "       ...,\n",
       "       [0.36336072],\n",
       "       [0.528741  ],\n",
       "       [0.36336072]])"
      ]
     },
     "execution_count": 30,
     "metadata": {},
     "output_type": "execute_result"
    }
   ],
   "source": [
    "lr.predict(data)"
   ]
  },
  {
   "cell_type": "markdown",
   "metadata": {},
   "source": [
    "# Evaluation"
   ]
  },
  {
   "cell_type": "code",
   "execution_count": 31,
   "metadata": {},
   "outputs": [
    {
     "data": {
      "text/plain": [
       "(CarInsurance    0.233533\n",
       " dtype: float64,\n",
       " CarInsurance    0.483253\n",
       " dtype: float64)"
      ]
     },
     "execution_count": 31,
     "metadata": {},
     "output_type": "execute_result"
    }
   ],
   "source": [
    "# MSE\n",
    "\n",
    "y_hat = lr.predict(data)\n",
    "mse = np.mean((target - y_hat) ** 2)\n",
    "\n",
    "# RMSE \n",
    "rmse = np.sqrt(mse)\n",
    "\n",
    "\n",
    "\n",
    "mse, rmse"
   ]
  },
  {
   "cell_type": "code",
   "execution_count": 32,
   "metadata": {},
   "outputs": [
    {
     "data": {
      "text/html": [
       "<div>\n",
       "<style scoped>\n",
       "    .dataframe tbody tr th:only-of-type {\n",
       "        vertical-align: middle;\n",
       "    }\n",
       "\n",
       "    .dataframe tbody tr th {\n",
       "        vertical-align: top;\n",
       "    }\n",
       "\n",
       "    .dataframe thead th {\n",
       "        text-align: right;\n",
       "    }\n",
       "</style>\n",
       "<table border=\"1\" class=\"dataframe\">\n",
       "  <thead>\n",
       "    <tr style=\"text-align: right;\">\n",
       "      <th></th>\n",
       "      <th>MSE</th>\n",
       "      <th>RMSE</th>\n",
       "    </tr>\n",
       "  </thead>\n",
       "  <tbody>\n",
       "    <tr>\n",
       "      <th>linear_regression</th>\n",
       "      <td>CarInsurance    0.233533\n",
       "dtype: float64</td>\n",
       "      <td>CarInsurance    0.483253\n",
       "dtype: float64</td>\n",
       "    </tr>\n",
       "  </tbody>\n",
       "</table>\n",
       "</div>"
      ],
      "text/plain": [
       "                                                       MSE  \\\n",
       "linear_regression  CarInsurance    0.233533\n",
       "dtype: float64   \n",
       "\n",
       "                                                      RMSE  \n",
       "linear_regression  CarInsurance    0.483253\n",
       "dtype: float64  "
      ]
     },
     "execution_count": 32,
     "metadata": {},
     "output_type": "execute_result"
    }
   ],
   "source": [
    "results = pd.DataFrame(columns = ['MSE', 'RMSE'])\n",
    "results.loc['linear_regression'] = [mse, rmse]\n",
    "results"
   ]
  },
  {
   "cell_type": "code",
   "execution_count": null,
   "metadata": {},
   "outputs": [],
   "source": []
  },
  {
   "cell_type": "code",
   "execution_count": null,
   "metadata": {},
   "outputs": [],
   "source": []
  },
  {
   "cell_type": "code",
   "execution_count": null,
   "metadata": {},
   "outputs": [],
   "source": []
  },
  {
   "cell_type": "code",
   "execution_count": 37,
   "metadata": {},
   "outputs": [],
   "source": [
    "from sklearn.linear_model import LogisticRegression"
   ]
  },
  {
   "cell_type": "code",
   "execution_count": 38,
   "metadata": {},
   "outputs": [],
   "source": [
    "logR = LogisticRegression()\n",
    "logR.fit(data, target)\n",
    "evaluate(logR, data, target)"
   ]
  },
  {
   "cell_type": "code",
   "execution_count": 58,
   "metadata": {},
   "outputs": [
    {
     "name": "stderr",
     "output_type": "stream",
     "text": [
      "/Users/miguel/opt/anaconda3/lib/python3.9/site-packages/sklearn/utils/validation.py:63: DataConversionWarning: A column-vector y was passed when a 1d array was expected. Please change the shape of y to (n_samples, ), for example using ravel().\n",
      "  return f(*args, **kwargs)\n"
     ]
    },
    {
     "data": {
      "text/plain": [
       "LogisticRegression()"
      ]
     },
     "execution_count": 58,
     "metadata": {},
     "output_type": "execute_result"
    }
   ],
   "source": [
    "logR.fit(data, target)"
   ]
  },
  {
   "cell_type": "code",
   "execution_count": 59,
   "metadata": {},
   "outputs": [],
   "source": [
    "from sklearn.model_selection import train_test_split\n",
    "from sklearn.metrics import accuracy_score, recall_score, precision_score, f1_score, roc_auc_score, roc_curve\n",
    "\n",
    "def evaluate(estimator, data, target):\n",
    "\n",
    "    X_train, X_test, y_train, y_test = train_test_split(data,target)\n",
    "\n",
    "    estimator.fit(X_train, y_train)\n",
    "    y_hat = estimator.predict(X_test)\n",
    "    probs = estimator.predict_proba(X_test)[:,1]\n",
    "\n",
    "    # plotear curva roc\n",
    "    fpr, tpr, thresholds = roc_curve(y_test, probs)\n",
    "    f, ax = plt.subplots(1,1)\n",
    "    f.set_size_inches(8,7)\n",
    "    ax.plot(fpr,tpr)\n",
    "    ax.plot([0,1], [0,1], c='grey')\n",
    "\n",
    "    print(f'acc: {accuracy_score(y_test, y_hat):.3} \\\n",
    "    recall: {recall_score(y_test, y_hat):.3} \\\n",
    "    precision:{precision_score(y_test, y_hat):.3} \\\n",
    "    f1:{f1_score(y_test, y_hat):.3} \\\n",
    "    auc:{roc_auc_score(y_test, probs):.3}')"
   ]
  },
  {
   "cell_type": "code",
   "execution_count": 56,
   "metadata": {},
   "outputs": [
    {
     "name": "stdout",
     "output_type": "stream",
     "text": [
      "acc: 0.6     recall: 0.176     precision:0.514     f1:0.262     auc:0.586\n"
     ]
    },
    {
     "name": "stderr",
     "output_type": "stream",
     "text": [
      "/Users/miguel/opt/anaconda3/lib/python3.9/site-packages/sklearn/utils/validation.py:63: DataConversionWarning: A column-vector y was passed when a 1d array was expected. Please change the shape of y to (n_samples, ), for example using ravel().\n",
      "  return f(*args, **kwargs)\n"
     ]
    },
    {
     "data": {
      "image/png": "[encoded data removed]",
      "text/plain": [
       "<Figure size 576x504 with 1 Axes>"
      ]
     },
     "metadata": {
      "needs_background": "light"
     },
     "output_type": "display_data"
    }
   ],
   "source": [
    "evaluate(logR, data, target)"
   ]
  },
  {
   "cell_type": "code",
   "execution_count": 57,
   "metadata": {},
   "outputs": [],
   "source": [
    "data = df_carinsurance[['DaysPassed', 'PrevAttempts', 'Balance']]"
   ]
  },
  {
   "cell_type": "code",
   "execution_count": 60,
   "metadata": {},
   "outputs": [
    {
     "name": "stdout",
     "output_type": "stream",
     "text": [
      "acc: 0.593     recall: 0.173     precision:0.578     f1:0.267     auc:0.612\n"
     ]
    },
    {
     "name": "stderr",
     "output_type": "stream",
     "text": [
      "/Users/miguel/opt/anaconda3/lib/python3.9/site-packages/sklearn/utils/validation.py:63: DataConversionWarning: A column-vector y was passed when a 1d array was expected. Please change the shape of y to (n_samples, ), for example using ravel().\n",
      "  return f(*args, **kwargs)\n",
      "/Users/miguel/opt/anaconda3/lib/python3.9/site-packages/sklearn/utils/validation.py:63: DataConversionWarning: A column-vector y was passed when a 1d array was expected. Please change the shape of y to (n_samples, ), for example using ravel().\n",
      "  return f(*args, **kwargs)\n"
     ]
    },
    {
     "data": {
      "image/png": "[encoded data removed]",
      "text/plain": [
       "<Figure size 576x504 with 1 Axes>"
      ]
     },
     "metadata": {
      "needs_background": "light"
     },
     "output_type": "display_data"
    }
   ],
   "source": [
    "logR = LogisticRegression()\n",
    "logR.fit(data, target)\n",
    "evaluate(logR, data, target)"
   ]
  },
  {
   "cell_type": "code",
   "execution_count": null,
   "metadata": {},
   "outputs": [],
   "source": [
    "data = df_carinsurance[['Age', 'PrevAttempts', 'Balance']]"
   ]
  },
  {
   "cell_type": "code",
   "execution_count": null,
   "metadata": {},
   "outputs": [],
   "source": [
    "logR = LogisticRegression()\n",
    "logR.fit(data, target)\n",
    "evaluate(logR, data, target)"
   ]
  },
  {
   "cell_type": "code",
   "execution_count": null,
   "metadata": {},
   "outputs": [],
   "source": []
  },
  {
   "cell_type": "code",
   "execution_count": null,
   "metadata": {},
   "outputs": [],
   "source": []
  },
  {
   "cell_type": "code",
   "execution_count": null,
   "metadata": {},
   "outputs": [],
   "source": []
  }
 ],
 "metadata": {
  "interpreter": {
   "hash": "afc3b4600e7999c1cec994f4f7321fa76de0c7f2f3bd5869f8f64fa643bd8b36"
  },
  "kernelspec": {
   "display_name": "Python 3 (ipykernel)",
   "language": "python",
   "name": "python3"
  },
  "language_info": {
   "codemirror_mode": {
    "name": "ipython",
    "version": 3
   },
   "file_extension": ".py",
   "mimetype": "text/x-python",
   "name": "python",
   "nbconvert_exporter": "python",
   "pygments_lexer": "ipython3",
   "version": "3.8.2"
  }
 },
 "nbformat": 4,
 "nbformat_minor": 2
}
