{
 "cells": [
  {
   "cell_type": "markdown",
   "id": "24bc72f2",
   "metadata": {},
   "source": [
    "# Import stuff"
   ]
  },
  {
   "cell_type": "code",
   "execution_count": 62,
   "id": "8bc00056",
   "metadata": {},
   "outputs": [],
   "source": [
    "import pandas as pd\n",
    "import numpy as np\n",
    "import matplotlib.pyplot as plt\n",
    "import seaborn as sns"
   ]
  },
  {
   "cell_type": "code",
   "execution_count": 90,
   "id": "95a85158",
   "metadata": {},
   "outputs": [
    {
     "name": "stdout",
     "output_type": "stream",
     "text": [
      "Overwriting tips_module.py\n"
     ]
    }
   ],
   "source": [
    "%%file tips_module.py\n",
    "'''\n",
    "Module with all custom-functions defined for this tips.csv exercise\n",
    "'''\n",
    "\n",
    "def top(df, n=5, col='tip_pct'):\n",
    "    '''\n",
    "    Gives top n rows using descending order.\n",
    "    In other words: TOP n\n",
    "\n",
    "    input:\n",
    "    - df: dataframe\n",
    "    - n: number of top elements\n",
    "    - col: column used for ordering\n",
    "\n",
    "    return:\n",
    "    - dataframe sorted by col with head(n)\n",
    "    '''\n",
    "    return df.sort_values(by=col, ascending=False).head(n)\n",
    "\n"
   ]
  },
  {
   "cell_type": "code",
   "execution_count": null,
   "id": "6d7543ec",
   "metadata": {},
   "outputs": [],
   "source": []
  },
  {
   "cell_type": "code",
   "execution_count": 10,
   "id": "daf9cda0",
   "metadata": {},
   "outputs": [
    {
     "name": "stdout",
     "output_type": "stream",
     "text": [
      "Collecting reload\n",
      "  Downloading reload-0.9.tar.gz (2.5 kB)\n",
      "Collecting watchdog>=0.8\n",
      "  Downloading watchdog-2.1.6-cp37-cp37m-macosx_10_9_x86_64.whl (85 kB)\n",
      "\u001b[K     |████████████████████████████████| 85 kB 2.8 MB/s eta 0:00:011\n",
      "\u001b[?25hBuilding wheels for collected packages: reload\n",
      "  Building wheel for reload (setup.py) ... \u001b[?25ldone\n",
      "\u001b[?25h  Created wheel for reload: filename=reload-0.9-py3-none-any.whl size=2879 sha256=8b1b5599c8b91bf1c2a81b4868031d9d3720a39ea7c1a98a31a0c7313ef23d47\n",
      "  Stored in directory: /Users/tonialmagro/Library/Caches/pip/wheels/f1/a2/ff/3f7b4879e081247a0e1381fd6699e86e0732ca0c365be41634\n",
      "Successfully built reload\n",
      "Installing collected packages: watchdog, reload\n",
      "Successfully installed reload-0.9 watchdog-2.1.6\n"
     ]
    }
   ],
   "source": [
    "! pip install reload"
   ]
  },
  {
   "cell_type": "code",
   "execution_count": 11,
   "id": "906d05b4",
   "metadata": {},
   "outputs": [],
   "source": [
    "from importlib import reload"
   ]
  },
  {
   "cell_type": "code",
   "execution_count": 77,
   "id": "158c06d3",
   "metadata": {},
   "outputs": [
    {
     "data": {
      "text/plain": [
       "<module 'tips_module' from '/Users/tonialmagro/Documents/KSchool/Edicion_30/DS_python/class/tips_module.py'>"
      ]
     },
     "execution_count": 77,
     "metadata": {},
     "output_type": "execute_result"
    }
   ],
   "source": [
    "reload(tps)"
   ]
  },
  {
   "cell_type": "code",
   "execution_count": 78,
   "id": "7fa22017",
   "metadata": {},
   "outputs": [],
   "source": [
    "import tips_module as tps"
   ]
  },
  {
   "cell_type": "code",
   "execution_count": 79,
   "id": "1fdcaeb6",
   "metadata": {},
   "outputs": [],
   "source": [
    "tps.top2?"
   ]
  },
  {
   "cell_type": "markdown",
   "id": "c9fb7ad5",
   "metadata": {},
   "source": [
    "# Read the CSV"
   ]
  },
  {
   "cell_type": "code",
   "execution_count": 16,
   "id": "67c19130",
   "metadata": {},
   "outputs": [
    {
     "data": {
      "text/html": [
       "<div>\n",
       "<style scoped>\n",
       "    .dataframe tbody tr th:only-of-type {\n",
       "        vertical-align: middle;\n",
       "    }\n",
       "\n",
       "    .dataframe tbody tr th {\n",
       "        vertical-align: top;\n",
       "    }\n",
       "\n",
       "    .dataframe thead th {\n",
       "        text-align: right;\n",
       "    }\n",
       "</style>\n",
       "<table border=\"1\" class=\"dataframe\">\n",
       "  <thead>\n",
       "    <tr style=\"text-align: right;\">\n",
       "      <th></th>\n",
       "      <th>total_bill</th>\n",
       "      <th>tip</th>\n",
       "      <th>sex</th>\n",
       "      <th>smoker</th>\n",
       "      <th>day</th>\n",
       "      <th>time</th>\n",
       "      <th>size</th>\n",
       "    </tr>\n",
       "  </thead>\n",
       "  <tbody>\n",
       "    <tr>\n",
       "      <th>0</th>\n",
       "      <td>16.99</td>\n",
       "      <td>1.01</td>\n",
       "      <td>Female</td>\n",
       "      <td>No</td>\n",
       "      <td>Sun</td>\n",
       "      <td>Dinner</td>\n",
       "      <td>2</td>\n",
       "    </tr>\n",
       "    <tr>\n",
       "      <th>1</th>\n",
       "      <td>10.34</td>\n",
       "      <td>1.66</td>\n",
       "      <td>Male</td>\n",
       "      <td>No</td>\n",
       "      <td>Sun</td>\n",
       "      <td>Dinner</td>\n",
       "      <td>3</td>\n",
       "    </tr>\n",
       "    <tr>\n",
       "      <th>2</th>\n",
       "      <td>21.01</td>\n",
       "      <td>3.50</td>\n",
       "      <td>Male</td>\n",
       "      <td>No</td>\n",
       "      <td>Sun</td>\n",
       "      <td>Dinner</td>\n",
       "      <td>3</td>\n",
       "    </tr>\n",
       "    <tr>\n",
       "      <th>3</th>\n",
       "      <td>23.68</td>\n",
       "      <td>3.31</td>\n",
       "      <td>Male</td>\n",
       "      <td>No</td>\n",
       "      <td>Sun</td>\n",
       "      <td>Dinner</td>\n",
       "      <td>2</td>\n",
       "    </tr>\n",
       "    <tr>\n",
       "      <th>4</th>\n",
       "      <td>24.59</td>\n",
       "      <td>3.61</td>\n",
       "      <td>Female</td>\n",
       "      <td>No</td>\n",
       "      <td>Sun</td>\n",
       "      <td>Dinner</td>\n",
       "      <td>4</td>\n",
       "    </tr>\n",
       "  </tbody>\n",
       "</table>\n",
       "</div>"
      ],
      "text/plain": [
       "   total_bill   tip     sex smoker  day    time  size\n",
       "0       16.99  1.01  Female     No  Sun  Dinner     2\n",
       "1       10.34  1.66    Male     No  Sun  Dinner     3\n",
       "2       21.01  3.50    Male     No  Sun  Dinner     3\n",
       "3       23.68  3.31    Male     No  Sun  Dinner     2\n",
       "4       24.59  3.61  Female     No  Sun  Dinner     4"
      ]
     },
     "execution_count": 16,
     "metadata": {},
     "output_type": "execute_result"
    }
   ],
   "source": [
    "df = pd.read_csv('tips.csv')\n",
    "df.head()"
   ]
  },
  {
   "cell_type": "markdown",
   "id": "b753c0be",
   "metadata": {},
   "source": [
    "### 1) Plot scatter of TIP vs TOTAL_BILL"
   ]
  },
  {
   "cell_type": "code",
   "execution_count": 42,
   "id": "5349e16e",
   "metadata": {},
   "outputs": [],
   "source": [
    "df.plot.scatter?"
   ]
  },
  {
   "cell_type": "code",
   "execution_count": 55,
   "id": "b1ee0948",
   "metadata": {},
   "outputs": [
    {
     "data": {
      "text/plain": [
       "<matplotlib.lines.Line2D at 0x7fb777bbf290>"
      ]
     },
     "execution_count": 55,
     "metadata": {},
     "output_type": "execute_result"
    },
    {
     "data": {
      "image/png": "[encoded data removed]",
      "text/plain": [
       "<Figure size 576x432 with 1 Axes>"
      ]
     },
     "metadata": {
      "needs_background": "light"
     },
     "output_type": "display_data"
    }
   ],
   "source": [
    "fig, ax = plt.subplots(figsize=(8,6))\n",
    "df.plot.scatter(x ='total_bill',\n",
    "                y ='tip',\n",
    "                c ='DarkBlue',\n",
    "                ax = ax)\n",
    "plt.axvline(df['total_bill'].median(),c='r',ls='dashed')\n",
    "plt.axhline(df['tip'].median(),c='r',ls='dashed')\n",
    "#plt.grid(True)"
   ]
  },
  {
   "cell_type": "code",
   "execution_count": 36,
   "id": "71f6d754",
   "metadata": {},
   "outputs": [
    {
     "data": {
      "text/html": [
       "<div>\n",
       "<style scoped>\n",
       "    .dataframe tbody tr th:only-of-type {\n",
       "        vertical-align: middle;\n",
       "    }\n",
       "\n",
       "    .dataframe tbody tr th {\n",
       "        vertical-align: top;\n",
       "    }\n",
       "\n",
       "    .dataframe thead th {\n",
       "        text-align: right;\n",
       "    }\n",
       "</style>\n",
       "<table border=\"1\" class=\"dataframe\">\n",
       "  <thead>\n",
       "    <tr style=\"text-align: right;\">\n",
       "      <th></th>\n",
       "      <th>total_bill</th>\n",
       "      <th>tip</th>\n",
       "      <th>size</th>\n",
       "    </tr>\n",
       "  </thead>\n",
       "  <tbody>\n",
       "    <tr>\n",
       "      <th>total_bill</th>\n",
       "      <td>1.000000</td>\n",
       "      <td>0.675734</td>\n",
       "      <td>0.598315</td>\n",
       "    </tr>\n",
       "    <tr>\n",
       "      <th>tip</th>\n",
       "      <td>0.675734</td>\n",
       "      <td>1.000000</td>\n",
       "      <td>0.489299</td>\n",
       "    </tr>\n",
       "    <tr>\n",
       "      <th>size</th>\n",
       "      <td>0.598315</td>\n",
       "      <td>0.489299</td>\n",
       "      <td>1.000000</td>\n",
       "    </tr>\n",
       "  </tbody>\n",
       "</table>\n",
       "</div>"
      ],
      "text/plain": [
       "            total_bill       tip      size\n",
       "total_bill    1.000000  0.675734  0.598315\n",
       "tip           0.675734  1.000000  0.489299\n",
       "size          0.598315  0.489299  1.000000"
      ]
     },
     "execution_count": 36,
     "metadata": {},
     "output_type": "execute_result"
    }
   ],
   "source": [
    "df.corr()"
   ]
  },
  {
   "cell_type": "code",
   "execution_count": 56,
   "id": "c752111b",
   "metadata": {},
   "outputs": [],
   "source": [
    "df['total_bill_person'] = df['total_bill']/df['size']"
   ]
  },
  {
   "cell_type": "code",
   "execution_count": 57,
   "id": "09b9f27f",
   "metadata": {},
   "outputs": [
    {
     "data": {
      "text/html": [
       "<div>\n",
       "<style scoped>\n",
       "    .dataframe tbody tr th:only-of-type {\n",
       "        vertical-align: middle;\n",
       "    }\n",
       "\n",
       "    .dataframe tbody tr th {\n",
       "        vertical-align: top;\n",
       "    }\n",
       "\n",
       "    .dataframe thead th {\n",
       "        text-align: right;\n",
       "    }\n",
       "</style>\n",
       "<table border=\"1\" class=\"dataframe\">\n",
       "  <thead>\n",
       "    <tr style=\"text-align: right;\">\n",
       "      <th></th>\n",
       "      <th>total_bill</th>\n",
       "      <th>tip</th>\n",
       "      <th>size</th>\n",
       "      <th>total_bill_person</th>\n",
       "    </tr>\n",
       "  </thead>\n",
       "  <tbody>\n",
       "    <tr>\n",
       "      <th>total_bill</th>\n",
       "      <td>1.000000</td>\n",
       "      <td>0.675734</td>\n",
       "      <td>0.598315</td>\n",
       "      <td>0.647497</td>\n",
       "    </tr>\n",
       "    <tr>\n",
       "      <th>tip</th>\n",
       "      <td>0.675734</td>\n",
       "      <td>1.000000</td>\n",
       "      <td>0.489299</td>\n",
       "      <td>0.347393</td>\n",
       "    </tr>\n",
       "    <tr>\n",
       "      <th>size</th>\n",
       "      <td>0.598315</td>\n",
       "      <td>0.489299</td>\n",
       "      <td>1.000000</td>\n",
       "      <td>-0.175412</td>\n",
       "    </tr>\n",
       "    <tr>\n",
       "      <th>total_bill_person</th>\n",
       "      <td>0.647497</td>\n",
       "      <td>0.347393</td>\n",
       "      <td>-0.175412</td>\n",
       "      <td>1.000000</td>\n",
       "    </tr>\n",
       "  </tbody>\n",
       "</table>\n",
       "</div>"
      ],
      "text/plain": [
       "                   total_bill       tip      size  total_bill_person\n",
       "total_bill           1.000000  0.675734  0.598315           0.647497\n",
       "tip                  0.675734  1.000000  0.489299           0.347393\n",
       "size                 0.598315  0.489299  1.000000          -0.175412\n",
       "total_bill_person    0.647497  0.347393 -0.175412           1.000000"
      ]
     },
     "execution_count": 57,
     "metadata": {},
     "output_type": "execute_result"
    }
   ],
   "source": [
    "df.corr()"
   ]
  },
  {
   "cell_type": "code",
   "execution_count": 63,
   "id": "933a6ce4",
   "metadata": {},
   "outputs": [
    {
     "data": {
      "text/plain": [
       "<seaborn.axisgrid.PairGrid at 0x7fb777d93f90>"
      ]
     },
     "execution_count": 63,
     "metadata": {},
     "output_type": "execute_result"
    },
    {
     "data": {
      "image/png": "[encoded data removed]",
      "text/plain": [
       "<Figure size 720x720 with 20 Axes>"
      ]
     },
     "metadata": {
      "needs_background": "light"
     },
     "output_type": "display_data"
    }
   ],
   "source": [
    "sns.pairplot(df)"
   ]
  },
  {
   "cell_type": "markdown",
   "id": "3de52823",
   "metadata": {},
   "source": [
    "### Top 5 total bills"
   ]
  },
  {
   "cell_type": "code",
   "execution_count": 68,
   "id": "17a4b8b8",
   "metadata": {},
   "outputs": [
    {
     "data": {
      "text/html": [
       "<div>\n",
       "<style scoped>\n",
       "    .dataframe tbody tr th:only-of-type {\n",
       "        vertical-align: middle;\n",
       "    }\n",
       "\n",
       "    .dataframe tbody tr th {\n",
       "        vertical-align: top;\n",
       "    }\n",
       "\n",
       "    .dataframe thead th {\n",
       "        text-align: right;\n",
       "    }\n",
       "</style>\n",
       "<table border=\"1\" class=\"dataframe\">\n",
       "  <thead>\n",
       "    <tr style=\"text-align: right;\">\n",
       "      <th></th>\n",
       "      <th>total_bill</th>\n",
       "      <th>tip</th>\n",
       "      <th>sex</th>\n",
       "      <th>smoker</th>\n",
       "      <th>day</th>\n",
       "      <th>time</th>\n",
       "      <th>size</th>\n",
       "      <th>total_bill_person</th>\n",
       "    </tr>\n",
       "  </thead>\n",
       "  <tbody>\n",
       "    <tr>\n",
       "      <th>170</th>\n",
       "      <td>50.81</td>\n",
       "      <td>10.00</td>\n",
       "      <td>Male</td>\n",
       "      <td>Yes</td>\n",
       "      <td>Sat</td>\n",
       "      <td>Dinner</td>\n",
       "      <td>3</td>\n",
       "      <td>16.936667</td>\n",
       "    </tr>\n",
       "    <tr>\n",
       "      <th>212</th>\n",
       "      <td>48.33</td>\n",
       "      <td>9.00</td>\n",
       "      <td>Male</td>\n",
       "      <td>No</td>\n",
       "      <td>Sat</td>\n",
       "      <td>Dinner</td>\n",
       "      <td>4</td>\n",
       "      <td>12.082500</td>\n",
       "    </tr>\n",
       "    <tr>\n",
       "      <th>59</th>\n",
       "      <td>48.27</td>\n",
       "      <td>6.73</td>\n",
       "      <td>Male</td>\n",
       "      <td>No</td>\n",
       "      <td>Sat</td>\n",
       "      <td>Dinner</td>\n",
       "      <td>4</td>\n",
       "      <td>12.067500</td>\n",
       "    </tr>\n",
       "    <tr>\n",
       "      <th>156</th>\n",
       "      <td>48.17</td>\n",
       "      <td>5.00</td>\n",
       "      <td>Male</td>\n",
       "      <td>No</td>\n",
       "      <td>Sun</td>\n",
       "      <td>Dinner</td>\n",
       "      <td>6</td>\n",
       "      <td>8.028333</td>\n",
       "    </tr>\n",
       "    <tr>\n",
       "      <th>182</th>\n",
       "      <td>45.35</td>\n",
       "      <td>3.50</td>\n",
       "      <td>Male</td>\n",
       "      <td>Yes</td>\n",
       "      <td>Sun</td>\n",
       "      <td>Dinner</td>\n",
       "      <td>3</td>\n",
       "      <td>15.116667</td>\n",
       "    </tr>\n",
       "  </tbody>\n",
       "</table>\n",
       "</div>"
      ],
      "text/plain": [
       "     total_bill    tip   sex smoker  day    time  size  total_bill_person\n",
       "170       50.81  10.00  Male    Yes  Sat  Dinner     3          16.936667\n",
       "212       48.33   9.00  Male     No  Sat  Dinner     4          12.082500\n",
       "59        48.27   6.73  Male     No  Sat  Dinner     4          12.067500\n",
       "156       48.17   5.00  Male     No  Sun  Dinner     6           8.028333\n",
       "182       45.35   3.50  Male    Yes  Sun  Dinner     3          15.116667"
      ]
     },
     "execution_count": 68,
     "metadata": {},
     "output_type": "execute_result"
    }
   ],
   "source": [
    "tps.top(df,col='total_bill')"
   ]
  },
  {
   "cell_type": "markdown",
   "id": "2af56bc6",
   "metadata": {},
   "source": [
    "### 2) Who is more generous? (Smokers or Females?)"
   ]
  },
  {
   "cell_type": "code",
   "execution_count": null,
   "id": "382f72b2",
   "metadata": {},
   "outputs": [],
   "source": [
    "top2 = top(d)"
   ]
  },
  {
   "cell_type": "code",
   "execution_count": 99,
   "id": "f99f5852",
   "metadata": {},
   "outputs": [
    {
     "data": {
      "text/html": [
       "<div>\n",
       "<style scoped>\n",
       "    .dataframe tbody tr th:only-of-type {\n",
       "        vertical-align: middle;\n",
       "    }\n",
       "\n",
       "    .dataframe tbody tr th {\n",
       "        vertical-align: top;\n",
       "    }\n",
       "\n",
       "    .dataframe thead th {\n",
       "        text-align: right;\n",
       "    }\n",
       "</style>\n",
       "<table border=\"1\" class=\"dataframe\">\n",
       "  <thead>\n",
       "    <tr style=\"text-align: right;\">\n",
       "      <th></th>\n",
       "      <th></th>\n",
       "      <th>total_bill</th>\n",
       "      <th>tip</th>\n",
       "      <th>sex</th>\n",
       "      <th>smoker</th>\n",
       "      <th>day</th>\n",
       "      <th>time</th>\n",
       "      <th>size</th>\n",
       "      <th>total_bill_person</th>\n",
       "    </tr>\n",
       "    <tr>\n",
       "      <th>time</th>\n",
       "      <th></th>\n",
       "      <th></th>\n",
       "      <th></th>\n",
       "      <th></th>\n",
       "      <th></th>\n",
       "      <th></th>\n",
       "      <th></th>\n",
       "      <th></th>\n",
       "      <th></th>\n",
       "    </tr>\n",
       "  </thead>\n",
       "  <tbody>\n",
       "    <tr>\n",
       "      <th rowspan=\"5\" valign=\"top\">Dinner</th>\n",
       "      <th>184</th>\n",
       "      <td>40.55</td>\n",
       "      <td>3.00</td>\n",
       "      <td>Male</td>\n",
       "      <td>Yes</td>\n",
       "      <td>Sun</td>\n",
       "      <td>Dinner</td>\n",
       "      <td>2</td>\n",
       "      <td>20.275000</td>\n",
       "    </tr>\n",
       "    <tr>\n",
       "      <th>179</th>\n",
       "      <td>34.63</td>\n",
       "      <td>3.55</td>\n",
       "      <td>Male</td>\n",
       "      <td>Yes</td>\n",
       "      <td>Sun</td>\n",
       "      <td>Dinner</td>\n",
       "      <td>2</td>\n",
       "      <td>17.315000</td>\n",
       "    </tr>\n",
       "    <tr>\n",
       "      <th>170</th>\n",
       "      <td>50.81</td>\n",
       "      <td>10.00</td>\n",
       "      <td>Male</td>\n",
       "      <td>Yes</td>\n",
       "      <td>Sat</td>\n",
       "      <td>Dinner</td>\n",
       "      <td>3</td>\n",
       "      <td>16.936667</td>\n",
       "    </tr>\n",
       "    <tr>\n",
       "      <th>175</th>\n",
       "      <td>32.90</td>\n",
       "      <td>3.11</td>\n",
       "      <td>Male</td>\n",
       "      <td>Yes</td>\n",
       "      <td>Sun</td>\n",
       "      <td>Dinner</td>\n",
       "      <td>2</td>\n",
       "      <td>16.450000</td>\n",
       "    </tr>\n",
       "    <tr>\n",
       "      <th>237</th>\n",
       "      <td>32.83</td>\n",
       "      <td>1.17</td>\n",
       "      <td>Male</td>\n",
       "      <td>Yes</td>\n",
       "      <td>Sat</td>\n",
       "      <td>Dinner</td>\n",
       "      <td>2</td>\n",
       "      <td>16.415000</td>\n",
       "    </tr>\n",
       "    <tr>\n",
       "      <th rowspan=\"5\" valign=\"top\">Lunch</th>\n",
       "      <th>83</th>\n",
       "      <td>32.68</td>\n",
       "      <td>5.00</td>\n",
       "      <td>Male</td>\n",
       "      <td>Yes</td>\n",
       "      <td>Thur</td>\n",
       "      <td>Lunch</td>\n",
       "      <td>2</td>\n",
       "      <td>16.340000</td>\n",
       "    </tr>\n",
       "    <tr>\n",
       "      <th>192</th>\n",
       "      <td>28.44</td>\n",
       "      <td>2.56</td>\n",
       "      <td>Male</td>\n",
       "      <td>Yes</td>\n",
       "      <td>Thur</td>\n",
       "      <td>Lunch</td>\n",
       "      <td>2</td>\n",
       "      <td>14.220000</td>\n",
       "    </tr>\n",
       "    <tr>\n",
       "      <th>88</th>\n",
       "      <td>24.71</td>\n",
       "      <td>5.85</td>\n",
       "      <td>Male</td>\n",
       "      <td>No</td>\n",
       "      <td>Thur</td>\n",
       "      <td>Lunch</td>\n",
       "      <td>2</td>\n",
       "      <td>12.355000</td>\n",
       "    </tr>\n",
       "    <tr>\n",
       "      <th>78</th>\n",
       "      <td>22.76</td>\n",
       "      <td>3.00</td>\n",
       "      <td>Male</td>\n",
       "      <td>No</td>\n",
       "      <td>Thur</td>\n",
       "      <td>Lunch</td>\n",
       "      <td>2</td>\n",
       "      <td>11.380000</td>\n",
       "    </tr>\n",
       "    <tr>\n",
       "      <th>197</th>\n",
       "      <td>43.11</td>\n",
       "      <td>5.00</td>\n",
       "      <td>Female</td>\n",
       "      <td>Yes</td>\n",
       "      <td>Thur</td>\n",
       "      <td>Lunch</td>\n",
       "      <td>4</td>\n",
       "      <td>10.777500</td>\n",
       "    </tr>\n",
       "  </tbody>\n",
       "</table>\n",
       "</div>"
      ],
      "text/plain": [
       "            total_bill    tip     sex smoker   day    time  size  \\\n",
       "time                                                               \n",
       "Dinner 184       40.55   3.00    Male    Yes   Sun  Dinner     2   \n",
       "       179       34.63   3.55    Male    Yes   Sun  Dinner     2   \n",
       "       170       50.81  10.00    Male    Yes   Sat  Dinner     3   \n",
       "       175       32.90   3.11    Male    Yes   Sun  Dinner     2   \n",
       "       237       32.83   1.17    Male    Yes   Sat  Dinner     2   \n",
       "Lunch  83        32.68   5.00    Male    Yes  Thur   Lunch     2   \n",
       "       192       28.44   2.56    Male    Yes  Thur   Lunch     2   \n",
       "       88        24.71   5.85    Male     No  Thur   Lunch     2   \n",
       "       78        22.76   3.00    Male     No  Thur   Lunch     2   \n",
       "       197       43.11   5.00  Female    Yes  Thur   Lunch     4   \n",
       "\n",
       "            total_bill_person  \n",
       "time                           \n",
       "Dinner 184          20.275000  \n",
       "       179          17.315000  \n",
       "       170          16.936667  \n",
       "       175          16.450000  \n",
       "       237          16.415000  \n",
       "Lunch  83           16.340000  \n",
       "       192          14.220000  \n",
       "       88           12.355000  \n",
       "       78           11.380000  \n",
       "       197          10.777500  "
      ]
     },
     "execution_count": 99,
     "metadata": {},
     "output_type": "execute_result"
    }
   ],
   "source": [
    "df.groupby('time').apply(tps.top,col='total_bill_person')"
   ]
  },
  {
   "cell_type": "code",
   "execution_count": 103,
   "id": "6598fab7",
   "metadata": {},
   "outputs": [
    {
     "name": "stdout",
     "output_type": "stream",
     "text": [
      "('Dinner',      total_bill   tip     sex smoker   day    time  size  total_bill_person\n",
      "0         16.99  1.01  Female     No   Sun  Dinner     2           8.495000\n",
      "1         10.34  1.66    Male     No   Sun  Dinner     3           3.446667\n",
      "2         21.01  3.50    Male     No   Sun  Dinner     3           7.003333\n",
      "3         23.68  3.31    Male     No   Sun  Dinner     2          11.840000\n",
      "4         24.59  3.61  Female     No   Sun  Dinner     4           6.147500\n",
      "..          ...   ...     ...    ...   ...     ...   ...                ...\n",
      "239       29.03  5.92    Male     No   Sat  Dinner     3           9.676667\n",
      "240       27.18  2.00  Female    Yes   Sat  Dinner     2          13.590000\n",
      "241       22.67  2.00    Male    Yes   Sat  Dinner     2          11.335000\n",
      "242       17.82  1.75    Male     No   Sat  Dinner     2           8.910000\n",
      "243       18.78  3.00  Female     No  Thur  Dinner     2           9.390000\n",
      "\n",
      "[176 rows x 8 columns])\n",
      "('Lunch',      total_bill   tip     sex smoker   day   time  size  total_bill_person\n",
      "77        27.20  4.00    Male     No  Thur  Lunch     4           6.800000\n",
      "78        22.76  3.00    Male     No  Thur  Lunch     2          11.380000\n",
      "79        17.29  2.71    Male     No  Thur  Lunch     2           8.645000\n",
      "80        19.44  3.00    Male    Yes  Thur  Lunch     2           9.720000\n",
      "81        16.66  3.40    Male     No  Thur  Lunch     2           8.330000\n",
      "..          ...   ...     ...    ...   ...    ...   ...                ...\n",
      "222        8.58  1.92    Male    Yes   Fri  Lunch     1           8.580000\n",
      "223       15.98  3.00  Female     No   Fri  Lunch     3           5.326667\n",
      "224       13.42  1.58    Male    Yes   Fri  Lunch     2           6.710000\n",
      "225       16.27  2.50  Female    Yes   Fri  Lunch     2           8.135000\n",
      "226       10.09  2.00  Female    Yes   Fri  Lunch     2           5.045000\n",
      "\n",
      "[68 rows x 8 columns])\n"
     ]
    }
   ],
   "source": [
    "for item in df.groupby('time'):\n",
    "    print(item)"
   ]
  },
  {
   "cell_type": "code",
   "execution_count": 98,
   "id": "dac66cda",
   "metadata": {},
   "outputs": [
    {
     "data": {
      "text/html": [
       "<div>\n",
       "<style scoped>\n",
       "    .dataframe tbody tr th:only-of-type {\n",
       "        vertical-align: middle;\n",
       "    }\n",
       "\n",
       "    .dataframe tbody tr th {\n",
       "        vertical-align: top;\n",
       "    }\n",
       "\n",
       "    .dataframe thead th {\n",
       "        text-align: right;\n",
       "    }\n",
       "</style>\n",
       "<table border=\"1\" class=\"dataframe\">\n",
       "  <thead>\n",
       "    <tr style=\"text-align: right;\">\n",
       "      <th></th>\n",
       "      <th></th>\n",
       "      <th>total_bill</th>\n",
       "      <th>tip</th>\n",
       "      <th>sex</th>\n",
       "      <th>smoker</th>\n",
       "      <th>day</th>\n",
       "      <th>time</th>\n",
       "      <th>size</th>\n",
       "      <th>total_bill_person</th>\n",
       "    </tr>\n",
       "    <tr>\n",
       "      <th>time</th>\n",
       "      <th></th>\n",
       "      <th></th>\n",
       "      <th></th>\n",
       "      <th></th>\n",
       "      <th></th>\n",
       "      <th></th>\n",
       "      <th></th>\n",
       "      <th></th>\n",
       "      <th></th>\n",
       "    </tr>\n",
       "  </thead>\n",
       "  <tbody>\n",
       "    <tr>\n",
       "      <th rowspan=\"5\" valign=\"top\">Dinner</th>\n",
       "      <th>184</th>\n",
       "      <td>40.55</td>\n",
       "      <td>3.00</td>\n",
       "      <td>Male</td>\n",
       "      <td>Yes</td>\n",
       "      <td>Sun</td>\n",
       "      <td>Dinner</td>\n",
       "      <td>2</td>\n",
       "      <td>20.275000</td>\n",
       "    </tr>\n",
       "    <tr>\n",
       "      <th>179</th>\n",
       "      <td>34.63</td>\n",
       "      <td>3.55</td>\n",
       "      <td>Male</td>\n",
       "      <td>Yes</td>\n",
       "      <td>Sun</td>\n",
       "      <td>Dinner</td>\n",
       "      <td>2</td>\n",
       "      <td>17.315000</td>\n",
       "    </tr>\n",
       "    <tr>\n",
       "      <th>170</th>\n",
       "      <td>50.81</td>\n",
       "      <td>10.00</td>\n",
       "      <td>Male</td>\n",
       "      <td>Yes</td>\n",
       "      <td>Sat</td>\n",
       "      <td>Dinner</td>\n",
       "      <td>3</td>\n",
       "      <td>16.936667</td>\n",
       "    </tr>\n",
       "    <tr>\n",
       "      <th>175</th>\n",
       "      <td>32.90</td>\n",
       "      <td>3.11</td>\n",
       "      <td>Male</td>\n",
       "      <td>Yes</td>\n",
       "      <td>Sun</td>\n",
       "      <td>Dinner</td>\n",
       "      <td>2</td>\n",
       "      <td>16.450000</td>\n",
       "    </tr>\n",
       "    <tr>\n",
       "      <th>237</th>\n",
       "      <td>32.83</td>\n",
       "      <td>1.17</td>\n",
       "      <td>Male</td>\n",
       "      <td>Yes</td>\n",
       "      <td>Sat</td>\n",
       "      <td>Dinner</td>\n",
       "      <td>2</td>\n",
       "      <td>16.415000</td>\n",
       "    </tr>\n",
       "    <tr>\n",
       "      <th rowspan=\"5\" valign=\"top\">Lunch</th>\n",
       "      <th>83</th>\n",
       "      <td>32.68</td>\n",
       "      <td>5.00</td>\n",
       "      <td>Male</td>\n",
       "      <td>Yes</td>\n",
       "      <td>Thur</td>\n",
       "      <td>Lunch</td>\n",
       "      <td>2</td>\n",
       "      <td>16.340000</td>\n",
       "    </tr>\n",
       "    <tr>\n",
       "      <th>192</th>\n",
       "      <td>28.44</td>\n",
       "      <td>2.56</td>\n",
       "      <td>Male</td>\n",
       "      <td>Yes</td>\n",
       "      <td>Thur</td>\n",
       "      <td>Lunch</td>\n",
       "      <td>2</td>\n",
       "      <td>14.220000</td>\n",
       "    </tr>\n",
       "    <tr>\n",
       "      <th>88</th>\n",
       "      <td>24.71</td>\n",
       "      <td>5.85</td>\n",
       "      <td>Male</td>\n",
       "      <td>No</td>\n",
       "      <td>Thur</td>\n",
       "      <td>Lunch</td>\n",
       "      <td>2</td>\n",
       "      <td>12.355000</td>\n",
       "    </tr>\n",
       "    <tr>\n",
       "      <th>78</th>\n",
       "      <td>22.76</td>\n",
       "      <td>3.00</td>\n",
       "      <td>Male</td>\n",
       "      <td>No</td>\n",
       "      <td>Thur</td>\n",
       "      <td>Lunch</td>\n",
       "      <td>2</td>\n",
       "      <td>11.380000</td>\n",
       "    </tr>\n",
       "    <tr>\n",
       "      <th>197</th>\n",
       "      <td>43.11</td>\n",
       "      <td>5.00</td>\n",
       "      <td>Female</td>\n",
       "      <td>Yes</td>\n",
       "      <td>Thur</td>\n",
       "      <td>Lunch</td>\n",
       "      <td>4</td>\n",
       "      <td>10.777500</td>\n",
       "    </tr>\n",
       "  </tbody>\n",
       "</table>\n",
       "</div>"
      ],
      "text/plain": [
       "            total_bill    tip     sex smoker   day    time  size  \\\n",
       "time                                                               \n",
       "Dinner 184       40.55   3.00    Male    Yes   Sun  Dinner     2   \n",
       "       179       34.63   3.55    Male    Yes   Sun  Dinner     2   \n",
       "       170       50.81  10.00    Male    Yes   Sat  Dinner     3   \n",
       "       175       32.90   3.11    Male    Yes   Sun  Dinner     2   \n",
       "       237       32.83   1.17    Male    Yes   Sat  Dinner     2   \n",
       "Lunch  83        32.68   5.00    Male    Yes  Thur   Lunch     2   \n",
       "       192       28.44   2.56    Male    Yes  Thur   Lunch     2   \n",
       "       88        24.71   5.85    Male     No  Thur   Lunch     2   \n",
       "       78        22.76   3.00    Male     No  Thur   Lunch     2   \n",
       "       197       43.11   5.00  Female    Yes  Thur   Lunch     4   \n",
       "\n",
       "            total_bill_person  \n",
       "time                           \n",
       "Dinner 184          20.275000  \n",
       "       179          17.315000  \n",
       "       170          16.936667  \n",
       "       175          16.450000  \n",
       "       237          16.415000  \n",
       "Lunch  83           16.340000  \n",
       "       192          14.220000  \n",
       "       88           12.355000  \n",
       "       78           11.380000  \n",
       "       197          10.777500  "
      ]
     },
     "execution_count": 98,
     "metadata": {},
     "output_type": "execute_result"
    }
   ],
   "source": [
    "df.groupby('time').apply(lambda df: tps.top(df,col='total_bill_person'))"
   ]
  },
  {
   "cell_type": "code",
   "execution_count": 115,
   "id": "4efdde5a",
   "metadata": {},
   "outputs": [],
   "source": [
    "df['tip_pct']=df['tip']/df['total_bill']"
   ]
  },
  {
   "cell_type": "code",
   "execution_count": 117,
   "id": "12f4a337",
   "metadata": {},
   "outputs": [
    {
     "data": {
      "text/plain": [
       "<AxesSubplot:xlabel='day', ylabel='tip_pct'>"
      ]
     },
     "execution_count": 117,
     "metadata": {},
     "output_type": "execute_result"
    },
    {
     "data": {
      "image/png": "[encoded data removed]",
      "text/plain": [
       "<Figure size 432x288 with 1 Axes>"
      ]
     },
     "metadata": {},
     "output_type": "display_data"
    }
   ],
   "source": [
    "import seaborn as sns\n",
    "sns.set_theme(style=\"ticks\", palette=\"pastel\")\n",
    "\n",
    "\n",
    "# Draw a nested boxplot to show bills by day and time\n",
    "sns.boxplot(x=\"day\", y=\"tip_pct\",\n",
    "            hue=\"smoker\", palette=[\"m\", \"g\"],\n",
    "            data=df)\n",
    "#sns.despine(offset=10, trim=True)"
   ]
  },
  {
   "cell_type": "code",
   "execution_count": 119,
   "id": "3ebff5bc",
   "metadata": {},
   "outputs": [
    {
     "data": {
      "text/plain": [
       "48.3"
      ]
     },
     "execution_count": 119,
     "metadata": {},
     "output_type": "execute_result"
    }
   ],
   "source": [
    "42*1.15"
   ]
  },
  {
   "cell_type": "code",
   "execution_count": 121,
   "id": "085d99da",
   "metadata": {},
   "outputs": [],
   "source": [
    "df['total_bill_plus_tip'] = df['total_bill']+df['tip']"
   ]
  },
  {
   "cell_type": "code",
   "execution_count": 122,
   "id": "47907a45",
   "metadata": {},
   "outputs": [
    {
     "data": {
      "text/plain": [
       "<matplotlib.lines.Line2D at 0x7fb7758f61d0>"
      ]
     },
     "execution_count": 122,
     "metadata": {},
     "output_type": "execute_result"
    },
    {
     "data": {
      "image/png": "[encoded data removed]",
      "text/plain": [
       "<Figure size 576x432 with 1 Axes>"
      ]
     },
     "metadata": {},
     "output_type": "display_data"
    }
   ],
   "source": [
    "fig, ax = plt.subplots(figsize=(8,6))\n",
    "df.plot.scatter(x ='total_bill_plus_tip',\n",
    "                y ='tip',\n",
    "                c ='DarkBlue',\n",
    "                ax = ax)\n",
    "plt.axvline(df['total_bill'].median(),c='r',ls='dashed')\n",
    "plt.axhline(df['tip'].median(),c='r',ls='dashed')\n",
    "#plt.grid(True)"
   ]
  },
  {
   "cell_type": "code",
   "execution_count": 123,
   "id": "1ff931df",
   "metadata": {},
   "outputs": [
    {
     "data": {
      "text/html": [
       "<div>\n",
       "<style scoped>\n",
       "    .dataframe tbody tr th:only-of-type {\n",
       "        vertical-align: middle;\n",
       "    }\n",
       "\n",
       "    .dataframe tbody tr th {\n",
       "        vertical-align: top;\n",
       "    }\n",
       "\n",
       "    .dataframe thead th {\n",
       "        text-align: right;\n",
       "    }\n",
       "</style>\n",
       "<table border=\"1\" class=\"dataframe\">\n",
       "  <thead>\n",
       "    <tr style=\"text-align: right;\">\n",
       "      <th></th>\n",
       "      <th>total_bill</th>\n",
       "      <th>tip</th>\n",
       "      <th>size</th>\n",
       "      <th>total_bill_person</th>\n",
       "      <th>tip_pct</th>\n",
       "      <th>total_bill_plus_tip</th>\n",
       "    </tr>\n",
       "  </thead>\n",
       "  <tbody>\n",
       "    <tr>\n",
       "      <th>total_bill</th>\n",
       "      <td>1.000000</td>\n",
       "      <td>0.675734</td>\n",
       "      <td>0.598315</td>\n",
       "      <td>0.647497</td>\n",
       "      <td>-0.338624</td>\n",
       "      <td>0.994668</td>\n",
       "    </tr>\n",
       "    <tr>\n",
       "      <th>tip</th>\n",
       "      <td>0.675734</td>\n",
       "      <td>1.000000</td>\n",
       "      <td>0.489299</td>\n",
       "      <td>0.347393</td>\n",
       "      <td>0.342370</td>\n",
       "      <td>0.748151</td>\n",
       "    </tr>\n",
       "    <tr>\n",
       "      <th>size</th>\n",
       "      <td>0.598315</td>\n",
       "      <td>0.489299</td>\n",
       "      <td>1.000000</td>\n",
       "      <td>-0.175412</td>\n",
       "      <td>-0.142860</td>\n",
       "      <td>0.607016</td>\n",
       "    </tr>\n",
       "    <tr>\n",
       "      <th>total_bill_person</th>\n",
       "      <td>0.647497</td>\n",
       "      <td>0.347393</td>\n",
       "      <td>-0.175412</td>\n",
       "      <td>1.000000</td>\n",
       "      <td>-0.314156</td>\n",
       "      <td>0.631434</td>\n",
       "    </tr>\n",
       "    <tr>\n",
       "      <th>tip_pct</th>\n",
       "      <td>-0.338624</td>\n",
       "      <td>0.342370</td>\n",
       "      <td>-0.142860</td>\n",
       "      <td>-0.314156</td>\n",
       "      <td>1.000000</td>\n",
       "      <td>-0.256909</td>\n",
       "    </tr>\n",
       "    <tr>\n",
       "      <th>total_bill_plus_tip</th>\n",
       "      <td>0.994668</td>\n",
       "      <td>0.748151</td>\n",
       "      <td>0.607016</td>\n",
       "      <td>0.631434</td>\n",
       "      <td>-0.256909</td>\n",
       "      <td>1.000000</td>\n",
       "    </tr>\n",
       "  </tbody>\n",
       "</table>\n",
       "</div>"
      ],
      "text/plain": [
       "                     total_bill       tip      size  total_bill_person  \\\n",
       "total_bill             1.000000  0.675734  0.598315           0.647497   \n",
       "tip                    0.675734  1.000000  0.489299           0.347393   \n",
       "size                   0.598315  0.489299  1.000000          -0.175412   \n",
       "total_bill_person      0.647497  0.347393 -0.175412           1.000000   \n",
       "tip_pct               -0.338624  0.342370 -0.142860          -0.314156   \n",
       "total_bill_plus_tip    0.994668  0.748151  0.607016           0.631434   \n",
       "\n",
       "                      tip_pct  total_bill_plus_tip  \n",
       "total_bill          -0.338624             0.994668  \n",
       "tip                  0.342370             0.748151  \n",
       "size                -0.142860             0.607016  \n",
       "total_bill_person   -0.314156             0.631434  \n",
       "tip_pct              1.000000            -0.256909  \n",
       "total_bill_plus_tip -0.256909             1.000000  "
      ]
     },
     "execution_count": 123,
     "metadata": {},
     "output_type": "execute_result"
    }
   ],
   "source": [
    "df.corr()"
   ]
  },
  {
   "cell_type": "code",
   "execution_count": 125,
   "id": "c3679bae",
   "metadata": {},
   "outputs": [
    {
     "data": {
      "text/plain": [
       "(array([ 1.,  0.,  1.,  0.,  1.,  3.,  4.,  6., 12.,  8., 11., 14.,  8.,\n",
       "        13., 10., 13., 11., 15.,  8.,  6.,  9.,  9.,  7.,  8.,  5.,  3.,\n",
       "         4.,  8.,  7.,  3.,  2.,  2.,  5.,  3.,  1.,  1.,  3.,  1.,  3.,\n",
       "         3.,  1.,  1.,  0.,  1.,  1.,  2.,  1.,  1.,  0.,  0.,  0.,  1.,\n",
       "         0.,  1.,  0.,  0.,  1.,  0.,  0.,  1.]),\n",
       " array([ 4.07      ,  5.01566667,  5.96133333,  6.907     ,  7.85266667,\n",
       "         8.79833333,  9.744     , 10.68966667, 11.63533333, 12.581     ,\n",
       "        13.52666667, 14.47233333, 15.418     , 16.36366667, 17.30933333,\n",
       "        18.255     , 19.20066667, 20.14633333, 21.092     , 22.03766667,\n",
       "        22.98333333, 23.929     , 24.87466667, 25.82033333, 26.766     ,\n",
       "        27.71166667, 28.65733333, 29.603     , 30.54866667, 31.49433333,\n",
       "        32.44      , 33.38566667, 34.33133333, 35.277     , 36.22266667,\n",
       "        37.16833333, 38.114     , 39.05966667, 40.00533333, 40.951     ,\n",
       "        41.89666667, 42.84233333, 43.788     , 44.73366667, 45.67933333,\n",
       "        46.625     , 47.57066667, 48.51633333, 49.462     , 50.40766667,\n",
       "        51.35333333, 52.299     , 53.24466667, 54.19033333, 55.136     ,\n",
       "        56.08166667, 57.02733333, 57.973     , 58.91866667, 59.86433333,\n",
       "        60.81      ]),\n",
       " <BarContainer object of 60 artists>)"
      ]
     },
     "execution_count": 125,
     "metadata": {},
     "output_type": "execute_result"
    },
    {
     "data": {
      "image/png": "[encoded data removed]",
      "text/plain": [
       "<Figure size 432x288 with 1 Axes>"
      ]
     },
     "metadata": {},
     "output_type": "display_data"
    }
   ],
   "source": [
    "plt.hist(df['total_bill_plus_tip'],bins=60)"
   ]
  },
  {
   "cell_type": "code",
   "execution_count": 130,
   "id": "d06c735c",
   "metadata": {},
   "outputs": [],
   "source": [
    "df['total_bill_round'] = df['total_bill_plus_tip']-df['total_bill_plus_tip']//5*5"
   ]
  },
  {
   "cell_type": "code",
   "execution_count": 131,
   "id": "4e68146f",
   "metadata": {},
   "outputs": [
    {
     "data": {
      "text/plain": [
       "<matplotlib.lines.Line2D at 0x7fb759ee34d0>"
      ]
     },
     "execution_count": 131,
     "metadata": {},
     "output_type": "execute_result"
    },
    {
     "data": {
      "image/png": "[encoded data removed]",
      "text/plain": [
       "<Figure size 576x432 with 1 Axes>"
      ]
     },
     "metadata": {},
     "output_type": "display_data"
    }
   ],
   "source": [
    "fig, ax = plt.subplots(figsize=(8,6))\n",
    "df.plot.scatter(x ='total_bill_round',\n",
    "                y ='tip',\n",
    "                c ='DarkBlue',\n",
    "                ax = ax)\n",
    "plt.axvline(df['total_bill'].median(),c='r',ls='dashed')\n",
    "plt.axhline(df['tip'].median(),c='r',ls='dashed')\n",
    "#plt.grid(True)"
   ]
  },
  {
   "cell_type": "code",
   "execution_count": null,
   "id": "f23d6cb6",
   "metadata": {},
   "outputs": [],
   "source": []
  }
 ],
 "metadata": {
  "kernelspec": {
   "display_name": "Python 3 (ipykernel)",
   "language": "python",
   "name": "python3"
  },
  "language_info": {
   "codemirror_mode": {
    "name": "ipython",
    "version": 3
   },
   "file_extension": ".py",
   "mimetype": "text/x-python",
   "name": "python",
   "nbconvert_exporter": "python",
   "pygments_lexer": "ipython3",
   "version": "3.8.2"
  }
 },
 "nbformat": 4,
 "nbformat_minor": 5
}
