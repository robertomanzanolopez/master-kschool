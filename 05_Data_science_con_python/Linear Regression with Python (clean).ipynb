{
 "cells": [
  {
   "cell_type": "markdown",
   "metadata": {},
   "source": [
    "# Implementing a Linear Regression problem with Python"
   ]
  },
  {
   "cell_type": "markdown",
   "metadata": {},
   "source": [
    "Now, we are ready to implement our own linear regression example. \n",
    "\n",
    "In linear regression, our hypothesis function $h_\\theta$ is:\n",
    "\n",
    "$$h_\\theta(x) = \\theta_0 + \\theta_1x$$\n",
    "\n",
    "And, as we are doing regression, our cost function is: \n",
    "\n",
    "$$J(\\theta_0,\\theta_1) = \\frac{1}{m}\\sum_{i=1}^m(\\hat{y}_i-y_i)^2 = \\frac{1}{m}\\sum_{i=1}^m(h_\\theta(x_i)-y_i)^2 $$\n",
    "\n",
    "Nota that, the cost funtion is just the sum of all the square errors from our hypothesis ($\\hat{y}_i$) versus the data ($y_i$).\n",
    "\n",
    "The best parameters for our hypothesis will give us the **minimum cost function**."
   ]
  },
  {
   "cell_type": "markdown",
   "metadata": {},
   "source": [
    "## Finding a minimum for J"
   ]
  },
  {
   "cell_type": "markdown",
   "metadata": {},
   "source": [
    "Finding a minimum of a function is equivalent to finding the parameters that make the gradient of that function to vanish. In other words:\n",
    "\n",
    "$$\\nabla_{\\theta} J(\\theta) = 0$$\n",
    "\n",
    "We will implement two ways of solving this problem."
   ]
  },
  {
   "cell_type": "markdown",
   "metadata": {},
   "source": [
    "### A) Gradient descent (Numerical method)\n",
    "\n",
    "\n",
    "From a starting point ($\\theta$), we will try to move to a new point $\\theta '$, decreasing the cost funtion ($J(\\theta)$). We will do this many times, up to we find a minimum (or close enough to it).\n",
    "\n",
    "#### Partial differentials of the cost function (using chain rule)\n",
    "\n",
    "$$\\frac{\\partial J}{\\partial\\theta_0} = \\frac{2}{m}\\sum_{i=1}^m(h_\\theta(x_i)-y_i)$$\n",
    "\n",
    "$$\\frac{\\partial J}{\\partial\\theta_1} = \\frac{2}{m}\\sum_{i=1}^m(h_\\theta(x_i)-y_i) \\cdot x_i$$\n",
    "\n",
    "Finally, we need to update iteratively the values for $\\theta_0$ and $\\theta_1$. Using Gradient Descent algorithm  with learning rate ($\\alpha$) until convergence criterion ($\\epsilon$) is achieved:\n",
    "\n",
    "         while (convergence==False):\n",
    "$$\\theta_0' = \\theta_0 - \\alpha \\frac{\\partial J}{\\partial\\theta_0} $$\n",
    "$$\\theta_1' = \\theta_1 - \\alpha \\frac{\\partial J}{\\partial\\theta_1} $$\n",
    "$$J' = J(\\theta_0',\\theta_1')$$\n",
    "$$\\Delta J = abs(J'-J)$$\n",
    "$$ convergence = (\\Delta J < \\epsilon)$$"
   ]
  },
  {
   "cell_type": "markdown",
   "metadata": {},
   "source": [
    "### B) Normal equations (Algebra)\n",
    "\n",
    "In matrix notation, we can implement our hypothesis as:\n",
    "\n",
    "$$h_\\theta (x^{(i)})=(x^{(i)})^T \\theta$$\n",
    "\n",
    "Note that, in this case, if we want to consider our hypothesis such $h(\\theta) = \\theta_0 + \\theta_i x^{(i)}$ where $x$ is a vector, for consistency, we need to introduce an additional \"constant feature\" in our data. In other words, we need to map our input data as follows:\n",
    "\n",
    "$$x_i \\rightarrow [1,x_i]$$\n",
    "\n",
    "we can express gradient of J as follows:\n",
    "\n",
    "$$\\nabla_{\\theta} J(\\theta) = X^T X \\theta - X^T \\vec{y}$$\n",
    "\n",
    "To minimize J, we set its derivatives to zero, therefore obtaining the **normal equations**:\n",
    "\n",
    "$$ X^T X \\theta = X^T \\vec{y}$$\n",
    "\n",
    "We can solve this equation for theta.\n",
    "\n",
    "As a final remark, we can extend this method to non linear hypothesis by extending our input data $x$ to the features we need. For example, for a parabolic fit:\n",
    "\n",
    "$$x_i \\rightarrow [1,x_i,x_i^2]$$"
   ]
  },
  {
   "cell_type": "markdown",
   "metadata": {},
   "source": [
    "## Problem\n",
    "\n",
    "Giving the data provided below (x->y), find the best equation fit, using:\n",
    "\n",
    "* Gradient Descent\n",
    "* Normal Equations\n",
    "\n",
    "Using your own python implementation, using numpy and scipy tools (**not scipy!**)."
   ]
  },
  {
   "cell_type": "code",
   "execution_count": 1,
   "metadata": {},
   "outputs": [
    {
     "data": {
      "image/png": "[encoded data removed]",
      "text/plain": [
       "<Figure size 864x576 with 1 Axes>"
      ]
     },
     "metadata": {
      "needs_background": "light"
     },
     "output_type": "display_data"
    }
   ],
   "source": [
    "import scipy.io as scio\n",
    "import numpy as np\n",
    "import matplotlib.pyplot as plt\n",
    "%matplotlib inline\n",
    "\n",
    "\n",
    "theta_0 = 2\n",
    "theta_1 = 5\n",
    "\n",
    "\n",
    "X = (np.random.randn(100) + 1) * 50\n",
    "#X=np.linspace(-50,150,100)\n",
    "jitter = 50 * np.random.randn(100)\n",
    "y = theta_0 + theta_1 * X + jitter\n",
    "\n",
    "fig, ax = plt.subplots(figsize=(12,8))\n",
    "#ax.plot(X,5*X,'g-')\n",
    "ax.scatter(X, y)\n",
    "ax.grid(True)"
   ]
  },
  {
   "cell_type": "code",
   "execution_count": 2,
   "metadata": {},
   "outputs": [],
   "source": [
    "theta = np.array([1.0,4.97]) #theta=[theta_0,theta_1]"
   ]
  },
  {
   "cell_type": "code",
   "execution_count": 3,
   "metadata": {},
   "outputs": [
    {
     "data": {
      "text/plain": [
       "array([1.  , 4.97])"
      ]
     },
     "execution_count": 3,
     "metadata": {},
     "output_type": "execute_result"
    }
   ],
   "source": [
    "theta"
   ]
  },
  {
   "cell_type": "code",
   "execution_count": 4,
   "metadata": {},
   "outputs": [],
   "source": [
    "y = theta_0 + theta_1 * X"
   ]
  },
  {
   "cell_type": "code",
   "execution_count": 5,
   "metadata": {},
   "outputs": [
    {
     "ename": "SyntaxError",
     "evalue": "invalid syntax (4264955884.py, line 1)",
     "output_type": "error",
     "traceback": [
      "\u001b[0;36m  File \u001b[0;32m\"/tmp/ipykernel_5398/4264955884.py\"\u001b[0;36m, line \u001b[0;32m1\u001b[0m\n\u001b[0;31m    Xp = [col(1);X]\u001b[0m\n\u001b[0m                ^\u001b[0m\n\u001b[0;31mSyntaxError\u001b[0m\u001b[0;31m:\u001b[0m invalid syntax\n"
     ]
    }
   ],
   "source": [
    "Xp = [col(1);X]"
   ]
  },
  {
   "cell_type": "code",
   "execution_count": 6,
   "metadata": {},
   "outputs": [
    {
     "ename": "NameError",
     "evalue": "name 'x_i' is not defined",
     "output_type": "error",
     "traceback": [
      "\u001b[0;31m---------------------------------------------------------------------------\u001b[0m",
      "\u001b[0;31mNameError\u001b[0m                                 Traceback (most recent call last)",
      "\u001b[0;32m/tmp/ipykernel_5398/837394508.py\u001b[0m in \u001b[0;36m<module>\u001b[0;34m\u001b[0m\n\u001b[0;32m----> 1\u001b[0;31m \u001b[0mxp_i\u001b[0m \u001b[0;34m=\u001b[0m \u001b[0;34m[\u001b[0m\u001b[0;36m1\u001b[0m\u001b[0;34m,\u001b[0m\u001b[0mx_i\u001b[0m\u001b[0;34m]\u001b[0m\u001b[0;34m\u001b[0m\u001b[0;34m\u001b[0m\u001b[0m\n\u001b[0m",
      "\u001b[0;31mNameError\u001b[0m: name 'x_i' is not defined"
     ]
    }
   ],
   "source": [
    "xp_i = [1,x_i]"
   ]
  },
  {
   "cell_type": "code",
   "execution_count": 7,
   "metadata": {},
   "outputs": [
    {
     "ename": "SyntaxError",
     "evalue": "invalid syntax (1833701322.py, line 2)",
     "output_type": "error",
     "traceback": [
      "\u001b[0;36m  File \u001b[0;32m\"/tmp/ipykernel_5398/1833701322.py\"\u001b[0;36m, line \u001b[0;32m2\u001b[0m\n\u001b[0;31m    y_i_hat = theta_0 + theta_1*x_i = xp_i*[theta_0,theta_1]T\u001b[0m\n\u001b[0m                                                            ^\u001b[0m\n\u001b[0;31mSyntaxError\u001b[0m\u001b[0;31m:\u001b[0m invalid syntax\n"
     ]
    }
   ],
   "source": [
    "#INDICIAL\n",
    "y_i_hat = theta_0 + theta_1*x_i = xp_i*[theta_0,theta_1]T"
   ]
  },
  {
   "cell_type": "code",
   "execution_count": 8,
   "metadata": {},
   "outputs": [
    {
     "ename": "NameError",
     "evalue": "name 'Xp' is not defined",
     "output_type": "error",
     "traceback": [
      "\u001b[0;31m---------------------------------------------------------------------------\u001b[0m",
      "\u001b[0;31mNameError\u001b[0m                                 Traceback (most recent call last)",
      "\u001b[0;32m/tmp/ipykernel_5398/2617139144.py\u001b[0m in \u001b[0;36m<module>\u001b[0;34m\u001b[0m\n\u001b[1;32m      1\u001b[0m \u001b[0;31m#VECTORIAL\u001b[0m\u001b[0;34m\u001b[0m\u001b[0;34m\u001b[0m\u001b[0;34m\u001b[0m\u001b[0m\n\u001b[0;32m----> 2\u001b[0;31m \u001b[0my_hat\u001b[0m \u001b[0;34m=\u001b[0m \u001b[0mXp\u001b[0m\u001b[0;34m*\u001b[0m\u001b[0mtheta\u001b[0m\u001b[0;34m\u001b[0m\u001b[0;34m\u001b[0m\u001b[0m\n\u001b[0m",
      "\u001b[0;31mNameError\u001b[0m: name 'Xp' is not defined"
     ]
    }
   ],
   "source": [
    "#VECTORIAL\n",
    "y_hat = Xp*theta"
   ]
  },
  {
   "cell_type": "code",
   "execution_count": 9,
   "metadata": {},
   "outputs": [],
   "source": [
    "def f_evaluacion(x):\n",
    "    h_theta = theta_0 + theta_1 * x\n",
    "    return h_theta\n",
    "\n",
    "def f_coste_theta_0(x,y):\n",
    "    coste_theta_0 = (2 / theta_0) * ((sum(f_evaluacion(x)) - y) ** 2)\n",
    "    return coste_theta_0\n",
    "\n",
    "def f_coste_theta_1(x,y):\n",
    "    coste_theta_1 = (2 / theta_0) * ((sum(f_evaluacion(x)) - y) ** 2) * (f_evaluacion(x))\n",
    "    return coste_theta_1"
   ]
  },
  {
   "cell_type": "code",
   "execution_count": 10,
   "metadata": {},
   "outputs": [],
   "source": [
    "#DESDE CERO"
   ]
  },
  {
   "cell_type": "code",
   "execution_count": 11,
   "metadata": {},
   "outputs": [],
   "source": [
    "#punto de partida X e y (que son cada uno un array)"
   ]
  },
  {
   "cell_type": "code",
   "execution_count": 12,
   "metadata": {},
   "outputs": [],
   "source": [
    "#lo primero es obtener la funcion de coste, para ello:\n",
    "#hipotesis: h_theta = theta_0 + theta_1 * x\n",
    "theta_0 = -1\n",
    "theta_1 = 1\n",
    "h = X*theta_1 + theta_0\n"
   ]
  },
  {
   "cell_type": "code",
   "execution_count": 13,
   "metadata": {},
   "outputs": [],
   "source": [
    "#Ahora le restamos a la h la y obteniendo el error:\n",
    "error = h - y"
   ]
  },
  {
   "cell_type": "code",
   "execution_count": 14,
   "metadata": {},
   "outputs": [],
   "source": [
    "# ahora lo elevamos al cuadrado para que no se nos anulen los errores\n",
    "error2 = error ** 2"
   ]
  },
  {
   "cell_type": "code",
   "execution_count": 15,
   "metadata": {},
   "outputs": [],
   "source": [
    "#ahora calculamos la suma, q es el coste:\n",
    "cost = error2.sum()/len(X)"
   ]
  },
  {
   "cell_type": "code",
   "execution_count": 16,
   "metadata": {},
   "outputs": [],
   "source": [
    "def cost_function(X,y):\n",
    "    #return_function = error2.sum()/len(X)\n",
    "    #return_function = (error**2).sum()/len(X)\n",
    "    #return_function = ((h-y)**2).sum()/len(X)\n",
    "    #return_function = (((X*theta_1 + theta_0)-y)**2).sum()/len(X)\n",
    "    return_function = lambda theta_0,theta_1: (((X*theta_1 + theta_0)-y)**2).sum()/len(X)\n",
    "    return return_function"
   ]
  },
  {
   "cell_type": "code",
   "execution_count": 17,
   "metadata": {},
   "outputs": [
    {
     "name": "stdout",
     "output_type": "stream",
     "text": [
      "260357.1916069281\n",
      "64.0\n",
      "1637178.2200716052\n"
     ]
    }
   ],
   "source": [
    "l_theta_0 = [-1,10,1000]\n",
    "l_theta_1 = [-2,5,10]\n",
    "\n",
    "\n",
    "#for theta_0 in l_theta_0:\n",
    "#    for theta_1 in theta_1:\n",
    "#            J = cost_function(X,y)\n",
    "#    print(J(theta_0, theta_1))\n",
    "        \n",
    "# o tambn:\n",
    "for theta_0,theta_1 in zip(l_theta_0,l_theta_1):\n",
    "    J = cost_function(X,y)\n",
    "    print(J(theta_0, theta_1))"
   ]
  },
  {
   "cell_type": "code",
   "execution_count": 34,
   "metadata": {},
   "outputs": [],
   "source": [
    "def grad_theta_0(X,y):\n",
    "    return_function_0 = lambda theta_0,theta_1: 2*((X*theta_1 + theta_0-y).sum())/len(X)\n",
    "    return return_function_0\n",
    "\n",
    "def grad_theta_1(X,y):\n",
    "    return_function_1 = lambda theta_0,theta_1: 2*(((X*theta_1 + theta_0-y)*X).sum())/len(X)\n",
    "    return return_function_1"
   ]
  },
  {
   "cell_type": "code",
   "execution_count": 35,
   "metadata": {},
   "outputs": [
    {
     "name": "stdout",
     "output_type": "stream",
     "text": [
      "-614.5499188885082\n",
      "-614.5499188885082\n"
     ]
    }
   ],
   "source": [
    "theta0 = 1\n",
    "theta1 = -1\n",
    "Dtheta0 = grad_theta_0(X,y)\n",
    "print(Dtheta0(theta0,theta1))\n",
    "Dtheta1 = grad_theta_0(X,y)\n",
    "print(Dtheta1(theta0,theta1))"
   ]
  },
  {
   "cell_type": "code",
   "execution_count": 41,
   "metadata": {},
   "outputs": [
    {
     "name": "stdout",
     "output_type": "stream",
     "text": [
      "4.830413378677865 2.8304133786778687\n"
     ]
    }
   ],
   "source": [
    "n = 100\n",
    "theta_0 = 1\n",
    "theta_1 = -1\n",
    "alpha = 0.0001\n",
    "\n",
    "for i in range(0,n):\n",
    "    theta_0_next = theta_0 - (alpha * Dtheta0(theta_0,theta_1))\n",
    "    theta_1_next = theta_1 - (alpha * Dtheta1(theta_0,theta_1))\n",
    "    theta_0, theta_1 = theta_0_next, theta_1_next\n",
    "print(theta_0_next,theta_1_next)\n",
    "\n"
   ]
  },
  {
   "cell_type": "code",
   "execution_count": 49,
   "metadata": {},
   "outputs": [],
   "source": [
    "def get_yhat(X,N=2):\n",
    "    X_ref = np.linspace(0.99*X.min(),1.01*X.max(),N)\n",
    "    return [X_ref, lambda theta_0,theta_1: theta_1 * X_ref + theta_0]"
   ]
  },
  {
   "cell_type": "code",
   "execution_count": 50,
   "metadata": {},
   "outputs": [
    {
     "data": {
      "text/plain": [
       "[<matplotlib.lines.Line2D at 0x7fe6b6020be0>]"
      ]
     },
     "execution_count": 50,
     "metadata": {},
     "output_type": "execute_result"
    },
    {
     "data": {
      "image/png": "[encoded data removed]",
      "text/plain": [
       "<Figure size 864x576 with 1 Axes>"
      ]
     },
     "metadata": {
      "needs_background": "light"
     },
     "output_type": "display_data"
    }
   ],
   "source": [
    "fig, ax = plt.subplots(figsize=(12,8))\n",
    "x_ref, yhat_ref = get_yhat(X)\n",
    "ax.scatter(X, y)\n",
    "ax.grid(True)\n",
    "plt.plot(x_ref,yhat_ref(1,-1),'r')\n",
    "plt.plot(x_ref,yhat_ref(theta_0,theta_1))"
   ]
  },
  {
   "cell_type": "code",
   "execution_count": 68,
   "metadata": {},
   "outputs": [
    {
     "name": "stdout",
     "output_type": "stream",
     "text": [
      "190314.64396112235\n",
      "774\n",
      "6.90215547946448 4.902155479464483\n",
      "25.510545495968863\n"
     ]
    }
   ],
   "source": [
    "n = 100000\n",
    "theta_0 = 1\n",
    "theta_1 = -1\n",
    "alpha = 0.0001\n",
    "cost = J(theta_0, theta_1)\n",
    "epsilon = 0.01\n",
    "print(cost)\n",
    "\n",
    "def cost_function(X,y):\n",
    "    return lambda theta_0,theta_1: (((X*theta_1 + theta_0)-y)**2).sum()/len(X)\n",
    "cost = J(theta_0,theta_1)\n",
    "\n",
    "def grad_theta_0(X,y):\n",
    "    return lambda theta_0,theta_1: 2*((X*theta_1 + theta_0-y).sum())/len(X)\n",
    "def grad_theta_1(X,y):\n",
    "    return lambda theta_0,theta_1: 2*(((X*theta_1 + theta_0-y)*X).sum())/len(X)\n",
    "Dtheta0 = grad_theta_0(X,y)\n",
    "Dtheta1 = grad_theta_0(X,y)\n",
    "\n",
    "\n",
    "for i in range(0,n):\n",
    "    theta_0_next = theta_0 - (alpha * Dtheta0(theta_0,theta_1))\n",
    "    theta_1_next = theta_1 - (alpha * Dtheta1(theta_0,theta_1))\n",
    "    theta_0, theta_1 = theta_0_next, theta_1_next\n",
    "    new_cost = J(theta_0,theta_1)#esto al final no dice si hemos mejorado o no, recordemos q el coste era el error\n",
    "    DeltaCost = new_cost - cost#el incremento del coste\n",
    "    cost = new_cost#volvemos a cambiar por el nuevo cost\n",
    "    \n",
    "    if np.abs(DeltaCost) < epsilon:\n",
    "        print(i)\n",
    "        break\n",
    "print(theta_0,theta_1)\n",
    "print(cost)"
   ]
  },
  {
   "cell_type": "code",
   "execution_count": 66,
   "metadata": {},
   "outputs": [
    {
     "ename": "TypeError",
     "evalue": "<lambda>() missing 1 required positional argument: 'theta_1'",
     "output_type": "error",
     "traceback": [
      "\u001b[0;31m---------------------------------------------------------------------------\u001b[0m",
      "\u001b[0;31mTypeError\u001b[0m                                 Traceback (most recent call last)",
      "\u001b[0;32m/tmp/ipykernel_5398/820766150.py\u001b[0m in \u001b[0;36m<module>\u001b[0;34m\u001b[0m\n\u001b[1;32m      1\u001b[0m \u001b[0;31m#esto tambn lo podemos hacer con optimize\u001b[0m\u001b[0;34m\u001b[0m\u001b[0;34m\u001b[0m\u001b[0;34m\u001b[0m\u001b[0m\n\u001b[1;32m      2\u001b[0m \u001b[0;32mfrom\u001b[0m \u001b[0mscipy\u001b[0m\u001b[0;34m.\u001b[0m\u001b[0moptimize\u001b[0m \u001b[0;32mimport\u001b[0m \u001b[0mfmin\u001b[0m\u001b[0;34m\u001b[0m\u001b[0;34m\u001b[0m\u001b[0m\n\u001b[0;32m----> 3\u001b[0;31m \u001b[0mfmin\u001b[0m\u001b[0;34m(\u001b[0m\u001b[0mJ\u001b[0m\u001b[0;34m,\u001b[0m\u001b[0;34m[\u001b[0m\u001b[0;36m0\u001b[0m\u001b[0;34m,\u001b[0m\u001b[0;36m0\u001b[0m\u001b[0;34m]\u001b[0m\u001b[0;34m)\u001b[0m\u001b[0;34m\u001b[0m\u001b[0;34m\u001b[0m\u001b[0m\n\u001b[0m",
      "\u001b[0;32m~/anaconda3/lib/python3.8/site-packages/scipy/optimize/optimize.py\u001b[0m in \u001b[0;36mfmin\u001b[0;34m(func, x0, args, xtol, ftol, maxiter, maxfun, full_output, disp, retall, callback, initial_simplex)\u001b[0m\n\u001b[1;32m    578\u001b[0m             'initial_simplex': initial_simplex}\n\u001b[1;32m    579\u001b[0m \u001b[0;34m\u001b[0m\u001b[0m\n\u001b[0;32m--> 580\u001b[0;31m     \u001b[0mres\u001b[0m \u001b[0;34m=\u001b[0m \u001b[0m_minimize_neldermead\u001b[0m\u001b[0;34m(\u001b[0m\u001b[0mfunc\u001b[0m\u001b[0;34m,\u001b[0m \u001b[0mx0\u001b[0m\u001b[0;34m,\u001b[0m \u001b[0margs\u001b[0m\u001b[0;34m,\u001b[0m \u001b[0mcallback\u001b[0m\u001b[0;34m=\u001b[0m\u001b[0mcallback\u001b[0m\u001b[0;34m,\u001b[0m \u001b[0;34m**\u001b[0m\u001b[0mopts\u001b[0m\u001b[0;34m)\u001b[0m\u001b[0;34m\u001b[0m\u001b[0;34m\u001b[0m\u001b[0m\n\u001b[0m\u001b[1;32m    581\u001b[0m     \u001b[0;32mif\u001b[0m \u001b[0mfull_output\u001b[0m\u001b[0;34m:\u001b[0m\u001b[0;34m\u001b[0m\u001b[0;34m\u001b[0m\u001b[0m\n\u001b[1;32m    582\u001b[0m         \u001b[0mretlist\u001b[0m \u001b[0;34m=\u001b[0m \u001b[0mres\u001b[0m\u001b[0;34m[\u001b[0m\u001b[0;34m'x'\u001b[0m\u001b[0;34m]\u001b[0m\u001b[0;34m,\u001b[0m \u001b[0mres\u001b[0m\u001b[0;34m[\u001b[0m\u001b[0;34m'fun'\u001b[0m\u001b[0;34m]\u001b[0m\u001b[0;34m,\u001b[0m \u001b[0mres\u001b[0m\u001b[0;34m[\u001b[0m\u001b[0;34m'nit'\u001b[0m\u001b[0;34m]\u001b[0m\u001b[0;34m,\u001b[0m \u001b[0mres\u001b[0m\u001b[0;34m[\u001b[0m\u001b[0;34m'nfev'\u001b[0m\u001b[0;34m]\u001b[0m\u001b[0;34m,\u001b[0m \u001b[0mres\u001b[0m\u001b[0;34m[\u001b[0m\u001b[0;34m'status'\u001b[0m\u001b[0;34m]\u001b[0m\u001b[0;34m\u001b[0m\u001b[0;34m\u001b[0m\u001b[0m\n",
      "\u001b[0;32m~/anaconda3/lib/python3.8/site-packages/scipy/optimize/optimize.py\u001b[0m in \u001b[0;36m_minimize_neldermead\u001b[0;34m(func, x0, args, callback, maxiter, maxfev, disp, return_all, initial_simplex, xatol, fatol, adaptive, bounds, **unknown_options)\u001b[0m\n\u001b[1;32m    748\u001b[0m \u001b[0;34m\u001b[0m\u001b[0m\n\u001b[1;32m    749\u001b[0m     \u001b[0;32mfor\u001b[0m \u001b[0mk\u001b[0m \u001b[0;32min\u001b[0m \u001b[0mrange\u001b[0m\u001b[0;34m(\u001b[0m\u001b[0mN\u001b[0m \u001b[0;34m+\u001b[0m \u001b[0;36m1\u001b[0m\u001b[0;34m)\u001b[0m\u001b[0;34m:\u001b[0m\u001b[0;34m\u001b[0m\u001b[0;34m\u001b[0m\u001b[0m\n\u001b[0;32m--> 750\u001b[0;31m         \u001b[0mfsim\u001b[0m\u001b[0;34m[\u001b[0m\u001b[0mk\u001b[0m\u001b[0;34m]\u001b[0m \u001b[0;34m=\u001b[0m \u001b[0mfunc\u001b[0m\u001b[0;34m(\u001b[0m\u001b[0msim\u001b[0m\u001b[0;34m[\u001b[0m\u001b[0mk\u001b[0m\u001b[0;34m]\u001b[0m\u001b[0;34m)\u001b[0m\u001b[0;34m\u001b[0m\u001b[0;34m\u001b[0m\u001b[0m\n\u001b[0m\u001b[1;32m    751\u001b[0m \u001b[0;34m\u001b[0m\u001b[0m\n\u001b[1;32m    752\u001b[0m     \u001b[0mind\u001b[0m \u001b[0;34m=\u001b[0m \u001b[0mnp\u001b[0m\u001b[0;34m.\u001b[0m\u001b[0margsort\u001b[0m\u001b[0;34m(\u001b[0m\u001b[0mfsim\u001b[0m\u001b[0;34m)\u001b[0m\u001b[0;34m\u001b[0m\u001b[0;34m\u001b[0m\u001b[0m\n",
      "\u001b[0;32m~/anaconda3/lib/python3.8/site-packages/scipy/optimize/optimize.py\u001b[0m in \u001b[0;36mfunction_wrapper\u001b[0;34m(x, *wrapper_args)\u001b[0m\n\u001b[1;32m    462\u001b[0m     \u001b[0;32mdef\u001b[0m \u001b[0mfunction_wrapper\u001b[0m\u001b[0;34m(\u001b[0m\u001b[0mx\u001b[0m\u001b[0;34m,\u001b[0m \u001b[0;34m*\u001b[0m\u001b[0mwrapper_args\u001b[0m\u001b[0;34m)\u001b[0m\u001b[0;34m:\u001b[0m\u001b[0;34m\u001b[0m\u001b[0;34m\u001b[0m\u001b[0m\n\u001b[1;32m    463\u001b[0m         \u001b[0mncalls\u001b[0m\u001b[0;34m[\u001b[0m\u001b[0;36m0\u001b[0m\u001b[0;34m]\u001b[0m \u001b[0;34m+=\u001b[0m \u001b[0;36m1\u001b[0m\u001b[0;34m\u001b[0m\u001b[0;34m\u001b[0m\u001b[0m\n\u001b[0;32m--> 464\u001b[0;31m         \u001b[0;32mreturn\u001b[0m \u001b[0mfunction\u001b[0m\u001b[0;34m(\u001b[0m\u001b[0mnp\u001b[0m\u001b[0;34m.\u001b[0m\u001b[0mcopy\u001b[0m\u001b[0;34m(\u001b[0m\u001b[0mx\u001b[0m\u001b[0;34m)\u001b[0m\u001b[0;34m,\u001b[0m \u001b[0;34m*\u001b[0m\u001b[0;34m(\u001b[0m\u001b[0mwrapper_args\u001b[0m \u001b[0;34m+\u001b[0m \u001b[0margs\u001b[0m\u001b[0;34m)\u001b[0m\u001b[0;34m)\u001b[0m\u001b[0;34m\u001b[0m\u001b[0;34m\u001b[0m\u001b[0m\n\u001b[0m\u001b[1;32m    465\u001b[0m \u001b[0;34m\u001b[0m\u001b[0m\n\u001b[1;32m    466\u001b[0m     \u001b[0;32mreturn\u001b[0m \u001b[0mncalls\u001b[0m\u001b[0;34m,\u001b[0m \u001b[0mfunction_wrapper\u001b[0m\u001b[0;34m\u001b[0m\u001b[0;34m\u001b[0m\u001b[0m\n",
      "\u001b[0;31mTypeError\u001b[0m: <lambda>() missing 1 required positional argument: 'theta_1'"
     ]
    }
   ],
   "source": [
    "#esto tambn lo podemos hacer con optimize\n",
    "from scipy.optimize import fmin\n",
    "fmin(J,[0,0])"
   ]
  },
  {
   "cell_type": "code",
   "execution_count": null,
   "metadata": {},
   "outputs": [],
   "source": []
  },
  {
   "cell_type": "code",
   "execution_count": null,
   "metadata": {},
   "outputs": [],
   "source": []
  },
  {
   "cell_type": "code",
   "execution_count": null,
   "metadata": {},
   "outputs": [],
   "source": [
    "#AHORA VAMOS CON LA SEGUNDA PARTE CON MATRICES"
   ]
  },
  {
   "cell_type": "code",
   "execution_count": 69,
   "metadata": {},
   "outputs": [],
   "source": [
    "def create_poly(k,x):\n",
    "    n_example = len(x)\n",
    "    phi = np.ones((n_example,k + 1))\n",
    "    for j in range(k+1):\n",
    "        poli = x**j\n",
    "        phi[:,j]=poli.ravel()#el ravel es para asegurarse que la dimension esta bien, es para que no falle, el cambio de fila por columna\n",
    "    return phi"
   ]
  },
  {
   "cell_type": "code",
   "execution_count": 71,
   "metadata": {},
   "outputs": [
    {
     "data": {
      "text/plain": [
       "array([[  1.        ,  45.83860956],\n",
       "       [  1.        ,  82.44857885],\n",
       "       [  1.        , 102.04043581],\n",
       "       [  1.        ,  88.67571483],\n",
       "       [  1.        ,  78.04739038],\n",
       "       [  1.        ,  29.0511374 ],\n",
       "       [  1.        ,  69.14848157],\n",
       "       [  1.        ,  68.36161836],\n",
       "       [  1.        ,  75.13112273],\n",
       "       [  1.        ,  40.38040268],\n",
       "       [  1.        ,  91.76349336],\n",
       "       [  1.        ,  21.82368604],\n",
       "       [  1.        ,  87.53114539],\n",
       "       [  1.        , -46.89630979],\n",
       "       [  1.        ,  70.82904404],\n",
       "       [  1.        , -31.91342663],\n",
       "       [  1.        , 135.84691767],\n",
       "       [  1.        ,  90.69193335],\n",
       "       [  1.        ,  17.70558047],\n",
       "       [  1.        , -18.01034121],\n",
       "       [  1.        , 111.67003589],\n",
       "       [  1.        , -14.77104877],\n",
       "       [  1.        ,  68.69599632],\n",
       "       [  1.        , -26.71257867],\n",
       "       [  1.        , 131.81138577],\n",
       "       [  1.        ,  81.29406834],\n",
       "       [  1.        ,  56.98189602],\n",
       "       [  1.        ,  16.28645583],\n",
       "       [  1.        ,  79.72450157],\n",
       "       [  1.        ,  22.84095438],\n",
       "       [  1.        ,  25.00551263],\n",
       "       [  1.        ,  12.89981662],\n",
       "       [  1.        ,   4.73085833],\n",
       "       [  1.        ,  18.12306359],\n",
       "       [  1.        ,  52.48414309],\n",
       "       [  1.        , 136.35407084],\n",
       "       [  1.        ,   4.20710226],\n",
       "       [  1.        , 117.73793982],\n",
       "       [  1.        , 161.5173837 ],\n",
       "       [  1.        ,  -1.42610021],\n",
       "       [  1.        ,  53.93098258],\n",
       "       [  1.        ,  44.05573731],\n",
       "       [  1.        ,   4.80189225],\n",
       "       [  1.        , -13.89594446],\n",
       "       [  1.        ,  20.02620987],\n",
       "       [  1.        ,  57.74986647],\n",
       "       [  1.        , 120.60039144],\n",
       "       [  1.        ,   5.29322881],\n",
       "       [  1.        , -23.40016376],\n",
       "       [  1.        ,  23.91675388],\n",
       "       [  1.        ,  37.41801565],\n",
       "       [  1.        ,  47.45892098],\n",
       "       [  1.        ,  16.61609016],\n",
       "       [  1.        ,  11.80150865],\n",
       "       [  1.        ,  -8.83774688],\n",
       "       [  1.        ,  59.79924064],\n",
       "       [  1.        ,  91.13189424],\n",
       "       [  1.        ,  77.25795905],\n",
       "       [  1.        ,  26.91364094],\n",
       "       [  1.        ,  24.80067326],\n",
       "       [  1.        ,  35.05041946],\n",
       "       [  1.        , -56.6852068 ],\n",
       "       [  1.        ,  52.51647644],\n",
       "       [  1.        ,  74.55098602],\n",
       "       [  1.        ,  51.52389759],\n",
       "       [  1.        , 125.90055153],\n",
       "       [  1.        ,  71.63892271],\n",
       "       [  1.        ,  -1.57055019],\n",
       "       [  1.        ,  54.28278032],\n",
       "       [  1.        ,  73.05407922],\n",
       "       [  1.        , -40.13879959],\n",
       "       [  1.        , 105.79580151],\n",
       "       [  1.        , 104.87294778],\n",
       "       [  1.        , 196.37552244],\n",
       "       [  1.        , 124.49587618],\n",
       "       [  1.        ,  49.61187991],\n",
       "       [  1.        , -40.13261997],\n",
       "       [  1.        ,   2.89298349],\n",
       "       [  1.        ,  45.88513151],\n",
       "       [  1.        ,  81.82325119],\n",
       "       [  1.        , -65.26450621],\n",
       "       [  1.        , 127.81405068],\n",
       "       [  1.        ,  29.92256837],\n",
       "       [  1.        ,  51.16282822],\n",
       "       [  1.        ,  47.93459704],\n",
       "       [  1.        , 153.11473424],\n",
       "       [  1.        , 136.86075768],\n",
       "       [  1.        ,  61.96047462],\n",
       "       [  1.        ,  40.6329671 ],\n",
       "       [  1.        ,  82.0256922 ],\n",
       "       [  1.        ,  99.98899849],\n",
       "       [  1.        ,  49.07671609],\n",
       "       [  1.        , 158.00173643],\n",
       "       [  1.        ,  40.6157544 ],\n",
       "       [  1.        ,  55.13794243],\n",
       "       [  1.        ,  23.81222162],\n",
       "       [  1.        ,  -6.69970729],\n",
       "       [  1.        ,  25.0151243 ],\n",
       "       [  1.        ,   5.61424819],\n",
       "       [  1.        ,  40.72130477]])"
      ]
     },
     "execution_count": 71,
     "metadata": {},
     "output_type": "execute_result"
    }
   ],
   "source": [
    "X1 = create_poly(1,X)\n",
    "A = np.dot(X1.T,X1)\n",
    "B = np.dot(X1.T,y)\n",
    "X1"
   ]
  },
  {
   "cell_type": "code",
   "execution_count": 72,
   "metadata": {},
   "outputs": [],
   "source": [
    "normal = np.linalg.solve(A,B)"
   ]
  },
  {
   "cell_type": "code",
   "execution_count": 73,
   "metadata": {},
   "outputs": [
    {
     "data": {
      "text/plain": [
       "array([2., 5.])"
      ]
     },
     "execution_count": 73,
     "metadata": {},
     "output_type": "execute_result"
    }
   ],
   "source": [
    "normal"
   ]
  },
  {
   "cell_type": "code",
   "execution_count": null,
   "metadata": {},
   "outputs": [],
   "source": []
  },
  {
   "cell_type": "code",
   "execution_count": null,
   "metadata": {},
   "outputs": [],
   "source": [
    "#AHORA PARABOLA, EN VEZ DE LINEAL ES DECIR DE ORDEN 1 A ORDEN 2"
   ]
  },
  {
   "cell_type": "code",
   "execution_count": 74,
   "metadata": {
    "scrolled": true
   },
   "outputs": [
    {
     "data": {
      "image/png": "[encoded data removed]",
      "text/plain": [
       "<Figure size 864x576 with 1 Axes>"
      ]
     },
     "metadata": {
      "needs_background": "light"
     },
     "output_type": "display_data"
    }
   ],
   "source": [
    "import scipy.io as scio\n",
    "import numpy as np\n",
    "import matplotlib.pyplot as plt\n",
    "%matplotlib inline\n",
    "\n",
    "\n",
    "theta_0 = 2\n",
    "theta_1 = 5\n",
    "theta_2 = 2\n",
    "\n",
    "\n",
    "X = (np.random.randn(100) + 1) * 50\n",
    "#X=np.linspace(-50,150,100)\n",
    "jitter = 4000 * np.random.randn(100)\n",
    "y = theta_0 + theta_1 * X + theta_2 * X**2 + jitter\n",
    "\n",
    "fig, ax = plt.subplots(figsize=(12,8))\n",
    "#ax.plot(X,5*X,'g-')\n",
    "ax.scatter(X, y)\n",
    "ax.grid(True)"
   ]
  },
  {
   "cell_type": "code",
   "execution_count": 81,
   "metadata": {},
   "outputs": [],
   "source": [
    "#meter todo esto en una funcion y luego meterlo en un modulo"
   ]
  },
  {
   "cell_type": "code",
   "execution_count": 95,
   "metadata": {},
   "outputs": [],
   "source": [
    "def gradient_descent(X,y,n=100000,theta_0=1,theta_1=1,alpha=0.0001,epsilon=0.001):\n",
    "    def get_yhat(X,N=2):\n",
    "        X_ref = np.linspace(0.99*X.min(),1.01*X.max(),N)\n",
    "        return [X_ref, lambda theta_0,theta_1: theta_1 * X_ref + theta_0]\n",
    "\n",
    "    def cost_function(X,y):\n",
    "        return lambda theta_0,theta_1: (((X*theta_1 + theta_0)-y)**2).sum()/len(X)\n",
    "    J = cost_function(X,y)\n",
    "    cost = J(theta_0,theta_1)\n",
    "\n",
    "    def grad_theta_0(X,y):\n",
    "        return lambda theta_0,theta_1: 2*((X*theta_1 + theta_0-y).sum())/len(X)\n",
    "    Dtheta0 = grad_theta_0(X,y)\n",
    "    def grad_theta_1(X,y):\n",
    "        return lambda theta_0,theta_1: 2*(((X*theta_1 + theta_0-y)*X).sum())/len(X)\n",
    "    Dtheta1 = grad_theta_0(X,y)\n",
    "\n",
    "\n",
    "    for i in range(0,n):\n",
    "        theta_0_next = theta_0 - (alpha * Dtheta0(theta_0,theta_1))\n",
    "        theta_1_next = theta_1 - (alpha * Dtheta1(theta_0,theta_1))\n",
    "        theta_0, theta_1 = theta_0_next, theta_1_next\n",
    "        new_cost = J(theta_0,theta_1)\n",
    "        DeltaCost = new_cost - cost\n",
    "        cost = new_cost\n",
    "    \n",
    "        if np.abs(DeltaCost) < epsilon:\n",
    "            print(i)\n",
    "            break\n",
    "            \n",
    "    return theta_0,theta_1"
   ]
  },
  {
   "cell_type": "code",
   "execution_count": 96,
   "metadata": {
    "scrolled": false
   },
   "outputs": [
    {
     "name": "stdout",
     "output_type": "stream",
     "text": [
      "1783\n"
     ]
    },
    {
     "data": {
      "text/plain": [
       "(217.6708776684831, 217.6708776684831)"
      ]
     },
     "execution_count": 96,
     "metadata": {},
     "output_type": "execute_result"
    }
   ],
   "source": [
    "gradient_descent(X,y)"
   ]
  },
  {
   "cell_type": "code",
   "execution_count": 98,
   "metadata": {},
   "outputs": [
    {
     "name": "stdout",
     "output_type": "stream",
     "text": [
      "1783\n"
     ]
    },
    {
     "data": {
      "image/png": "[encoded data removed]",
      "text/plain": [
       "<Figure size 864x576 with 1 Axes>"
      ]
     },
     "metadata": {
      "needs_background": "light"
     },
     "output_type": "display_data"
    }
   ],
   "source": [
    "x_ref, yhat = get_yhat(X)\n",
    "theta_0_grad, theta_1_grad = gradient_descent(X,y)\n",
    "fig, ax = plt.subplots(figsize=(12,8))\n",
    "ax.plot(x_ref,yhat(theta_0_grad,theta_1_grad), 'r')\n",
    "ax.scatter(X, y)\n",
    "ax.grid(True)"
   ]
  },
  {
   "cell_type": "code",
   "execution_count": null,
   "metadata": {},
   "outputs": [],
   "source": []
  },
  {
   "cell_type": "code",
   "execution_count": null,
   "metadata": {},
   "outputs": [],
   "source": []
  }
 ],
 "metadata": {
  "kernelspec": {
   "display_name": "Python 3 (ipykernel)",
   "language": "python",
   "name": "python3"
  },
  "language_info": {
   "codemirror_mode": {
    "name": "ipython",
    "version": 3
   },
   "file_extension": ".py",
   "mimetype": "text/x-python",
   "name": "python",
   "nbconvert_exporter": "python",
   "pygments_lexer": "ipython3",
   "version": "3.8.11"
  }
 },
 "nbformat": 4,
 "nbformat_minor": 2
}
