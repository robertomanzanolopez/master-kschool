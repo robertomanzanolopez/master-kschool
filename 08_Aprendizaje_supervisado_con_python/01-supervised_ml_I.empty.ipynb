{
 "cells": [
  {
   "cell_type": "markdown",
   "metadata": {
    "slideshow": {
     "slide_type": "slide"
    }
   },
   "source": [
    "# Supervised Machine Learning with Python I\n",
    "\n",
    "\n",
    "<img src=\"https://www.python.org/static/img/python-logo.png\" alt=\"yogen\" style=\"width: 200px; float: right;\"/>\n",
    "<br>\n",
    "<br>\n",
    "<br>\n",
    "<img src=\"../assets/yogen-logo.png\" alt=\"yogen\" style=\"width: 200px; float: right;\"/>"
   ]
  },
  {
   "cell_type": "markdown",
   "metadata": {
    "slideshow": {
     "slide_type": "slide"
    }
   },
   "source": [
    "# Objectives\n",
    "\n",
    "* Learn the basic principles of Machine Learning\n",
    "\n",
    "* Get to know the `scikit-learn` library and how to use it for Machine Learning.\n",
    "\n",
    "* Understand the close relationship between ML and optimization\n",
    "\n",
    "* Learn how to do linear regression with `scikit-learn`\n",
    "\n",
    "* Learn how to evaluate the results of training a regression algorithm\n"
   ]
  },
  {
   "cell_type": "markdown",
   "metadata": {
    "slideshow": {
     "slide_type": "slide"
    }
   },
   "source": [
    "# Machine Learning\n"
   ]
  },
  {
   "cell_type": "markdown",
   "metadata": {
    "slideshow": {
     "slide_type": "slide"
    }
   },
   "source": [
    "# `scikit-learn`"
   ]
  },
  {
   "cell_type": "markdown",
   "metadata": {
    "slideshow": {
     "slide_type": "fragment"
    }
   },
   "source": [
    "![scikit-learn cheat sheet](http://amueller.github.io/sklearn_tutorial/cheat_sheet.png)"
   ]
  },
  {
   "cell_type": "code",
   "execution_count": null,
   "metadata": {},
   "outputs": [],
   "source": []
  },
  {
   "cell_type": "markdown",
   "metadata": {
    "slideshow": {
     "slide_type": "slide"
    }
   },
   "source": [
    "## Linear Regression as a model for Machine Learning\n",
    "\n",
    "Linear regression finds an $h_\\theta$ of the form:\n",
    "\n",
    "$$ h_\\theta(X) = \\theta \\cdot X = \\theta_0 + \\theta_1 \\cdot X_1 + ... + \\beta_n \\cdot X_n$$\n",
    "\n",
    "\n",
    "Notice that X is **fixed**: we have one set of data. Finding $h_\\theta(X)$ means finding the values of $\\theta$ that make $h_\\theta(X)$ most similar to y.\n",
    "\n",
    "\n"
   ]
  },
  {
   "cell_type": "markdown",
   "metadata": {},
   "source": [
    "### Cost (loss) function\n",
    "\n",
    "Difference between  $h_\\theta(X)$  and y\n",
    "\n",
    "$$L(\\theta) = h_\\theta(X) - y$$\n",
    "\n",
    "We need to minimize it: we need its derivative _with respect to $\\theta_i$_"
   ]
  },
  {
   "cell_type": "markdown",
   "metadata": {},
   "source": [
    "## ML is optimization of a loss function.\n",
    "\n",
    "In the case of Linear Regression, we are lucky because we can get an analytic expression of the derivative. That means we can \"teleport\" to its minimum.\n",
    "\n",
    "In many other algorithms we can't, but we can calculate the derivative numerically at any point we want. How can we use that to find the minima?"
   ]
  },
  {
   "cell_type": "code",
   "execution_count": null,
   "metadata": {},
   "outputs": [],
   "source": []
  },
  {
   "cell_type": "markdown",
   "metadata": {},
   "source": [
    "### Gradient descent\n",
    "\n",
    "![Gradient Descent](http://cdn-images-1.medium.com/max/800/1*NRCWfdXa7b-ak2nBtmwRvw.png)\n",
    "\n",
    "from [primo.ai](http://primo.ai/)"
   ]
  },
  {
   "cell_type": "markdown",
   "metadata": {},
   "source": [
    "# Machine Learning with Python: `scikit-learn`"
   ]
  },
  {
   "cell_type": "markdown",
   "metadata": {
    "slideshow": {
     "slide_type": "slide"
    }
   },
   "source": [
    "## Generate dummy data"
   ]
  },
  {
   "cell_type": "markdown",
   "metadata": {
    "slideshow": {
     "slide_type": "fragment"
    }
   },
   "source": [
    "We are going to generate fake data before we dive into real data"
   ]
  },
  {
   "cell_type": "code",
   "execution_count": 1,
   "metadata": {},
   "outputs": [],
   "source": [
    "import pandas as pd\n",
    "import numpy as np\n",
    "import matplotlib.pyplot as plt\n",
    "from sklearn import datasets"
   ]
  },
  {
   "cell_type": "code",
   "execution_count": 2,
   "metadata": {},
   "outputs": [
    {
     "data": {
      "text/plain": [
       "(300, 1)"
      ]
     },
     "execution_count": 2,
     "metadata": {},
     "output_type": "execute_result"
    }
   ],
   "source": [
    "n_sample = 300\n",
    "n_features = 1\n",
    "\n",
    "X, y = datasets.make_regression(n_samplee, n_features, noise=20)\n",
    "\n",
    "X.shape"
   ]
  },
  {
   "cell_type": "code",
   "execution_count": 8,
   "metadata": {},
   "outputs": [
    {
     "data": {
      "text/plain": [
       "<matplotlib.collections.PathCollection at 0x7f233d7a46d0>"
      ]
     },
     "execution_count": 8,
     "metadata": {},
     "output_type": "execute_result"
    },
    {
     "data": {
      "image/png": "[encoded data removed]",
      "text/plain": [
       "<Figure size 432x288 with 1 Axes>"
      ]
     },
     "metadata": {
      "needs_background": "light"
     },
     "output_type": "display_data"
    }
   ],
   "source": [
    "plt.scatter(X, y)"
   ]
  },
  {
   "cell_type": "code",
   "execution_count": 7,
   "metadata": {},
   "outputs": [],
   "source": [
    "from sklearn.linear_model import LinearRegression\n",
    "\n",
    "lr = LinearRegression()"
   ]
  },
  {
   "cell_type": "code",
   "execution_count": 8,
   "metadata": {},
   "outputs": [
    {
     "data": {
      "text/plain": [
       "LinearRegression()"
      ]
     },
     "execution_count": 8,
     "metadata": {},
     "output_type": "execute_result"
    }
   ],
   "source": [
    "lr.fit(X, y)"
   ]
  },
  {
   "cell_type": "code",
   "execution_count": 9,
   "metadata": {
    "scrolled": true
   },
   "outputs": [
    {
     "data": {
      "text/plain": [
       "array([ 1.36227828e+02,  4.61674144e+00,  2.23872792e+01,  2.05671203e+02,\n",
       "       -4.60137566e+01,  6.83101245e+01,  6.33120620e+01,  6.30541984e+01,\n",
       "        1.39642010e+02,  8.62150641e+01, -5.25769651e+00,  6.06011880e+01,\n",
       "        5.48771573e+01, -6.16675034e+00,  7.35627683e+01, -6.53392766e+00,\n",
       "        3.67659683e+01,  5.75269113e+01,  1.26848566e+02,  3.23034472e+01,\n",
       "        1.19496762e+01, -2.03194719e+01, -8.21075002e+00,  1.65404296e+02,\n",
       "        2.70454237e+02,  1.18490279e+02, -6.34086887e+01,  2.61011598e+02,\n",
       "        1.73872313e+02,  6.29994548e+01,  2.53092414e+01, -3.01006736e+01,\n",
       "       -1.23846698e+02,  6.53090970e+00,  3.01223367e+01,  4.30020937e+01,\n",
       "        4.03419058e+01, -1.80969175e+02, -9.12774193e+01,  8.81077157e+01,\n",
       "        9.21405015e+01, -7.14466061e+01,  2.76804192e+01,  3.39952289e+01,\n",
       "        9.16495600e+01, -6.61530017e+01, -5.79094949e+01, -1.20344069e+02,\n",
       "        4.50928596e+01, -4.88877713e+01, -8.84625537e+01,  1.29369103e+02,\n",
       "       -1.44549532e+02, -3.78789011e+01, -1.54504475e+02,  1.44742330e+02,\n",
       "        6.56089616e+01,  5.57011671e+00, -2.21938754e+01,  9.99715496e+00,\n",
       "        1.30795621e+02, -3.61364347e+00,  1.99218141e+02, -3.80471292e+01,\n",
       "       -1.38191418e+01, -1.22506318e+02,  4.61234060e+01,  1.68658848e+02,\n",
       "       -4.93720504e+01,  2.26351673e+02, -4.48505265e+01,  7.12432688e+00,\n",
       "       -2.14375299e+02,  6.73150449e+01,  2.14273094e+01,  1.07983846e+02,\n",
       "        7.93690190e+01, -1.04818816e+02, -2.51436893e+00,  5.52744259e-01,\n",
       "        7.46948242e+01, -1.24017326e+01, -1.50785551e+01,  1.12338657e+02,\n",
       "        1.11612313e-02,  1.38781219e+02,  1.55013532e+02,  2.34694489e+01,\n",
       "       -1.42751032e+02, -5.81108588e+01,  6.62069597e+00,  1.24451162e+01,\n",
       "        1.69676742e+00,  1.47620307e+02, -8.23033788e+01,  1.02722418e+02,\n",
       "       -7.09866380e-01,  1.43375899e+02, -8.29251633e+01,  6.29872391e+01,\n",
       "       -1.39970658e+02,  7.33525690e+01, -8.08461155e+00,  1.05420265e+02,\n",
       "        4.52436118e+01, -5.20607951e+01, -9.66107183e+01,  5.90581570e+01,\n",
       "       -5.08005375e+00,  6.94608860e+00, -1.05964181e+02, -1.04791464e+02,\n",
       "        1.10211881e+02, -1.46751996e+02, -9.46414370e+01, -6.16022207e+01,\n",
       "       -2.55743986e+01,  1.59202392e+02,  4.51455100e+00,  1.24755209e+02,\n",
       "       -6.13228729e+01,  1.21444523e+02, -1.27565611e+02,  9.54922161e+01,\n",
       "        1.05727983e+02, -4.67659144e+01, -3.00219877e+01,  8.11427007e+00,\n",
       "       -1.31661157e+02, -1.51931259e+01, -6.08382245e+01, -1.19447235e+01,\n",
       "       -3.84068996e+01, -1.16803516e+02, -1.02984829e+02,  2.84853419e+01,\n",
       "       -1.16222762e+02,  9.40625335e+01, -4.03752024e+00, -1.76673636e+02,\n",
       "        5.25812464e+01, -9.77088436e+01, -3.40242707e+01,  7.06066096e+00,\n",
       "       -5.23203798e+01, -6.01861475e+00,  1.39090631e+02, -1.39441197e+01,\n",
       "        6.28161593e+01, -6.52335253e+01,  4.53850966e+00,  5.83203729e+01,\n",
       "        5.98797231e+00, -1.40861779e+02,  1.72108630e+02,  4.81467991e+01,\n",
       "       -1.42369718e+02, -3.34257263e+01,  3.79693169e+01, -1.60883328e+01,\n",
       "        1.78177072e+02, -8.69040679e+01,  3.42954160e+01,  9.57276329e+01,\n",
       "        5.28265966e+01, -7.77311939e+01, -3.59288810e+01, -9.48563840e+00,\n",
       "       -4.38748756e+00, -8.62740065e+01, -4.90129362e+01,  8.02947884e+01,\n",
       "        8.37289147e+01, -1.51269538e+02,  1.51324697e+02,  6.37732016e+01,\n",
       "       -3.99652329e+01, -2.44692380e+01,  1.17484460e+01,  3.47530008e+00,\n",
       "       -5.53712186e+01,  1.05085665e+01, -5.26306018e+00,  4.13306682e+01,\n",
       "        1.24103618e+02, -2.10271610e+02, -5.33916790e+01, -9.27567793e+01,\n",
       "       -7.94236436e+01,  1.30365101e+02, -7.30025691e+01, -8.74878532e+00,\n",
       "        6.83712975e+00,  3.40048505e+01,  1.57144532e+01, -1.96830013e+02,\n",
       "       -3.17973640e+01,  6.33049103e+01,  1.24644352e+02, -7.44341692e+01,\n",
       "       -6.37974209e+01,  3.91119470e+00, -5.90818806e+01,  1.90361359e+02,\n",
       "       -6.72447223e+01, -1.15480939e+01, -1.82529940e+02,  1.13950622e+02,\n",
       "        3.21361961e+01, -3.68798891e+01, -1.07238296e+01,  3.73207041e+00,\n",
       "        4.58046369e+01,  1.84307324e+01,  3.28626078e+01, -1.62976651e+02,\n",
       "       -4.39957439e+01,  5.29289363e+00,  1.62297808e+02,  8.15055649e+01,\n",
       "       -4.05706427e+01, -7.40640528e+01, -8.10889917e+01,  2.89210442e+01,\n",
       "       -1.14240394e+01, -2.33341313e+02, -3.09506924e+01, -7.32884863e+01,\n",
       "       -1.51522105e+00, -3.09254091e+01,  7.37279549e+00, -2.08054080e+01,\n",
       "       -1.23504834e+02, -7.25913939e+01,  6.67429022e+01,  3.98055149e+01,\n",
       "       -1.58886114e+01, -1.37522926e+02,  1.11776162e+02,  4.14038041e+01,\n",
       "       -5.55985508e+01,  2.28147669e+01, -3.90482108e+01, -3.53371708e+00,\n",
       "        1.27246893e+02,  1.10465994e+02,  1.62662831e+02, -8.76935067e+01,\n",
       "       -9.83625716e+01, -5.71952145e+01, -2.86815429e+01, -9.89184509e+01,\n",
       "        5.80422447e+01, -1.30647515e+01,  2.38087600e+01, -5.68749056e+01,\n",
       "        1.36161269e+02, -2.80998030e+01, -1.70173530e+02, -3.02428759e+01,\n",
       "       -2.36463030e+02, -1.22783945e+02, -1.62324265e+01,  9.12502694e+01,\n",
       "        1.36397577e+02, -2.19820761e+01,  3.89312150e+01, -5.27980085e+01,\n",
       "        2.38222717e+01,  1.54259847e+02,  6.73169063e+01,  2.93030793e+01,\n",
       "       -9.45861215e+01,  1.36477300e+02, -1.27919638e+01,  5.91509239e+00,\n",
       "        2.95801170e+01, -8.54610684e+01,  4.50192657e+01, -3.40494371e+01,\n",
       "        3.23163909e+01, -2.26398194e+02,  1.34322886e+01, -2.92078048e+01,\n",
       "        6.26680263e+00, -1.46917837e+02, -1.12724156e+02, -1.81532303e+00,\n",
       "        2.19143901e+01, -1.46199743e+02, -1.66132831e+02,  8.46527313e-01,\n",
       "        9.48324930e+01,  2.06308576e+02, -2.32335244e+02, -1.76393857e+01,\n",
       "        1.38870341e+02, -4.38571074e+01, -1.58353783e+02,  1.42672668e+02])"
      ]
     },
     "execution_count": 9,
     "metadata": {},
     "output_type": "execute_result"
    }
   ],
   "source": [
    "lr.predict(X)"
   ]
  },
  {
   "cell_type": "code",
   "execution_count": 10,
   "metadata": {
    "scrolled": true
   },
   "outputs": [
    {
     "data": {
      "text/plain": [
       "array([ 1.40514353e+02, -2.77739959e+01,  6.23141438e+01,  1.93178463e+02,\n",
       "       -4.72025833e+01,  8.27155644e+01,  7.41474199e+01,  5.74514081e+01,\n",
       "        1.51845184e+02,  1.14880168e+02,  1.28852215e-01,  7.48319631e+01,\n",
       "        4.45246381e+01, -2.53585981e+00,  8.00086726e+01, -3.38055512e+00,\n",
       "        3.55965890e+01,  5.64061389e+01,  1.23240935e+02,  1.84238585e+01,\n",
       "        2.39590381e+01, -1.71667737e+01,  8.19330321e+00,  1.55669579e+02,\n",
       "        2.50543346e+02,  1.05002438e+02, -8.10582280e+01,  2.46106514e+02,\n",
       "        1.96402572e+02,  5.99633722e+01,  2.96191272e+01, -2.52665656e+01,\n",
       "       -1.33409879e+02, -1.10394037e+00,  1.84154528e+01,  5.53173933e+01,\n",
       "        2.84889789e+01, -1.52572527e+02, -8.46349386e+01,  9.31992133e+01,\n",
       "        1.14331890e+02, -7.53042990e+01,  2.46540123e+01,  3.71540940e+01,\n",
       "        1.16363395e+02, -8.87455637e+01, -6.19895536e+01, -9.82102750e+01,\n",
       "        4.14581875e+01, -5.50275846e+01, -7.88557496e+01,  1.35100965e+02,\n",
       "       -1.27768515e+02, -5.07344445e+01, -1.59233217e+02,  1.23560758e+02,\n",
       "        6.37804373e+01,  1.54571788e+01,  8.95789502e+00,  8.15108071e+00,\n",
       "        1.40228379e+02,  2.11665022e+01,  2.03905287e+02, -3.82427898e+01,\n",
       "        1.07838860e+01, -9.63807278e+01,  3.91160889e+01,  1.80453757e+02,\n",
       "       -3.38357451e+01,  2.02012319e+02, -3.80846538e+01,  7.25144538e+00,\n",
       "       -1.96822637e+02,  7.91287020e+01,  4.39305162e+01,  1.10912501e+02,\n",
       "        8.63548027e+01, -1.14337157e+02, -3.95597524e-01,  2.63305047e+01,\n",
       "        6.00800223e+01, -2.35003051e+01, -1.26113598e+01,  1.15863697e+02,\n",
       "        3.25593033e+01,  1.53538636e+02,  1.62627448e+02,  3.03499303e+01,\n",
       "       -1.66250319e+02, -4.49772432e+01,  3.83283694e+00,  1.68562914e+01,\n",
       "        3.30752410e+00,  1.47806731e+02, -8.09980132e+01,  1.03828633e+02,\n",
       "        1.53772282e+01,  1.27520076e+02, -9.20217328e+01,  5.53579570e+01,\n",
       "       -1.38473711e+02,  9.09070753e+01,  4.72568300e+00,  9.62030190e+01,\n",
       "        3.76185937e+01, -5.16271819e+01, -1.08153363e+02,  7.20115727e+01,\n",
       "       -2.08786561e+01,  1.44923658e+01, -1.18099426e+02, -8.69118934e+01,\n",
       "        1.08091324e+02, -1.59070970e+02, -1.09932625e+02, -6.81279559e+01,\n",
       "        1.03781261e+01,  1.57696145e+02, -7.36688686e+00,  1.18597586e+02,\n",
       "       -5.48795760e+01,  1.16532432e+02, -1.44352628e+02,  9.61147565e+01,\n",
       "        7.11625282e+01, -3.99787369e+01, -4.61486141e+01,  6.82393707e+00,\n",
       "       -1.37998188e+02, -2.00578753e+01, -6.76594595e+01, -2.40097447e+01,\n",
       "       -5.05723550e+01, -1.28583982e+02, -9.10956591e+01,  1.43077394e+01,\n",
       "       -1.15377615e+02,  9.50524992e+01,  7.88740788e+00, -1.65517756e+02,\n",
       "        3.73216488e+01, -8.32851332e+01, -4.57669396e+01,  7.04526383e+00,\n",
       "       -3.37665842e+01,  4.76901228e+00,  1.53164905e+02, -2.11495613e+00,\n",
       "        5.57919271e+01, -9.20469437e+01, -1.32643242e+01,  6.64748370e+01,\n",
       "       -9.29538777e-02, -1.41185335e+02,  1.91999557e+02,  4.39541365e+01,\n",
       "       -1.48474416e+02, -3.20501774e+01,  3.79753404e+01, -2.98990368e+01,\n",
       "        2.11649185e+02, -6.68050749e+01,  1.97526961e+01,  7.89010182e+01,\n",
       "        3.15361195e+01, -1.06411155e+02, -3.38693534e+01, -2.88271573e+01,\n",
       "       -5.44101880e+00, -7.84594557e+01, -4.94178255e+01,  8.53157979e+01,\n",
       "        9.39464236e+01, -1.39376484e+02,  1.50076524e+02,  7.08413333e+01,\n",
       "       -6.51803560e+01, -6.25341304e-01,  1.71291059e+01,  1.17126630e+01,\n",
       "       -4.50786422e+01, -9.78302553e+00, -7.94311586e+00,  5.70929352e+01,\n",
       "        1.06087408e+02, -2.02137772e+02, -4.85872114e+01, -7.49758204e+01,\n",
       "       -8.75322350e+01,  1.25386969e+02, -8.10175938e+01, -1.07952726e+01,\n",
       "        4.93038337e+00,  2.93267425e+01,  4.74539812e+00, -1.84661579e+02,\n",
       "       -3.51979533e+01,  6.20607472e+01,  9.86088744e+01, -6.26092653e+01,\n",
       "       -8.55632363e+01, -3.42776152e+00, -3.28728062e+01,  2.31706045e+02,\n",
       "       -8.91760834e+01, -9.10306360e+00, -1.53298643e+02,  1.03054661e+02,\n",
       "        1.79999630e+01, -4.86997204e+01, -2.47275254e+01,  1.24431927e+01,\n",
       "        2.33749392e+01,  2.11413702e+01,  3.63134301e+00, -1.60618606e+02,\n",
       "       -4.74838592e+01,  1.67074662e+01,  1.54935785e+02,  9.73186642e+01,\n",
       "       -5.87595364e+01, -7.73704315e+01, -8.14464658e+01,  4.05007353e+01,\n",
       "       -1.14191793e+01, -2.38893983e+02, -3.76964979e+01, -7.04690069e+01,\n",
       "       -1.90747121e+01, -5.55567549e+01,  1.18587474e+01, -1.73639701e+01,\n",
       "       -1.04881164e+02, -5.72302602e+01,  7.11429446e+01,  1.15698411e+01,\n",
       "       -4.82793346e+01, -1.31148169e+02,  1.05227156e+02,  5.81627938e+01,\n",
       "       -2.95021948e+01,  5.75676861e+01, -2.15588640e+01,  5.21511549e+00,\n",
       "        1.27177165e+02,  1.02997465e+02,  1.53249978e+02, -7.64244178e+01,\n",
       "       -1.13616577e+02, -6.44347622e+01, -3.67049705e+01, -1.10174392e+02,\n",
       "        6.11673842e+01,  5.90149634e+00,  1.83549470e+01, -7.23880736e+01,\n",
       "        1.46796152e+02, -3.85180496e+01, -1.66755189e+02, -3.68434501e+01,\n",
       "       -2.31305760e+02, -1.08942853e+02, -3.13921733e+01,  9.92649979e+01,\n",
       "        1.28644853e+02,  1.50039727e+01,  3.23546683e+01, -4.97923522e+01,\n",
       "        2.61966000e+01,  1.60409208e+02,  6.50987578e+01,  1.72414622e+01,\n",
       "       -1.08533373e+02,  1.40609463e+02,  1.11398365e+00,  3.75393436e+00,\n",
       "        3.49541441e+01, -8.95308659e+01,  4.79840745e+01, -5.09057722e+01,\n",
       "        2.19126149e+01, -2.43106368e+02,  9.76824432e-01, -4.00646170e+01,\n",
       "        1.03645955e+01, -1.63403876e+02, -1.23198037e+02, -1.24564047e+01,\n",
       "        5.42217392e+01, -1.44433355e+02, -1.53310984e+02,  1.63426660e+01,\n",
       "        9.74477602e+01,  2.01459621e+02, -2.39298164e+02, -1.64256757e+00,\n",
       "        1.30504232e+02, -4.45809002e+01, -1.76220476e+02,  1.11451383e+02])"
      ]
     },
     "execution_count": 10,
     "metadata": {},
     "output_type": "execute_result"
    }
   ],
   "source": [
    "from sklearn.ensemble import RandomForestRegressor\n",
    "\n",
    "rf = RandomForestRegressor()\n",
    "\n",
    "rf.fit(X, y)\n",
    "\n",
    "rf.predict(X)"
   ]
  },
  {
   "cell_type": "code",
   "execution_count": null,
   "metadata": {},
   "outputs": [],
   "source": []
  },
  {
   "cell_type": "markdown",
   "metadata": {
    "slideshow": {
     "slide_type": "fragment"
    }
   },
   "source": [
    "This time, rather than code our own gradient descent optimizer, we will use `scikit-learn`"
   ]
  },
  {
   "cell_type": "markdown",
   "metadata": {
    "slideshow": {
     "slide_type": "fragment"
    }
   },
   "source": [
    "## The `Estimator` interface\n",
    "\n",
    "In scikit-learn, preprocessing, supervised and unsupervised learning algorithms share a uniform interface.\n",
    "\n",
    "Al estimators have a `.fit()` method, which takes:\n",
    "\n",
    "- X, a numpy array or scipy sparse matrix\n",
    "\n",
    "- y, in the case of supervised learning. It is a one-dimensional numpy array containing target values."
   ]
  },
  {
   "cell_type": "markdown",
   "metadata": {
    "slideshow": {
     "slide_type": "slide"
    }
   },
   "source": [
    "Once fitted, `Estimators` can either:\n",
    "\n",
    "- `.predict()` a new set of y values from an `X_test` array: classification, regression, clustering\n",
    "\n",
    "- `.transform()` an input `X_test` array: preprocessing, dimensionality reduction, feature extraction..."
   ]
  },
  {
   "cell_type": "markdown",
   "metadata": {
    "slideshow": {
     "slide_type": "slide"
    }
   },
   "source": [
    "## Fitting a LinearRegression with `sklearn`"
   ]
  },
  {
   "cell_type": "code",
   "execution_count": 11,
   "metadata": {},
   "outputs": [
    {
     "ename": "NotFittedError",
     "evalue": "This LinearRegression instance is not fitted yet. Call 'fit' with appropriate arguments before using this estimator.",
     "output_type": "error",
     "traceback": [
      "\u001b[0;31m---------------------------------------------------------------------------\u001b[0m",
      "\u001b[0;31mNotFittedError\u001b[0m                            Traceback (most recent call last)",
      "\u001b[0;32m/tmp/ipykernel_2664/138794416.py\u001b[0m in \u001b[0;36m<module>\u001b[0;34m\u001b[0m\n\u001b[1;32m      1\u001b[0m \u001b[0mlr\u001b[0m \u001b[0;34m=\u001b[0m \u001b[0mLinearRegression\u001b[0m\u001b[0;34m(\u001b[0m\u001b[0;34m)\u001b[0m\u001b[0;31m#instanciamos una regresion lineal\u001b[0m\u001b[0;34m\u001b[0m\u001b[0;34m\u001b[0m\u001b[0m\n\u001b[0;32m----> 2\u001b[0;31m \u001b[0mlr\u001b[0m\u001b[0;34m.\u001b[0m\u001b[0mpredict\u001b[0m\u001b[0;34m(\u001b[0m\u001b[0mX\u001b[0m\u001b[0;34m)\u001b[0m\u001b[0;31m#esto asi dara error, porque esta regresion lineal no tiene unas variables tetas aun calculadas\u001b[0m\u001b[0;34m\u001b[0m\u001b[0;34m\u001b[0m\u001b[0m\n\u001b[0m",
      "\u001b[0;32m~/anaconda3/lib/python3.8/site-packages/sklearn/linear_model/_base.py\u001b[0m in \u001b[0;36mpredict\u001b[0;34m(self, X)\u001b[0m\n\u001b[1;32m    360\u001b[0m             \u001b[0mReturns\u001b[0m \u001b[0mpredicted\u001b[0m \u001b[0mvalues\u001b[0m\u001b[0;34m.\u001b[0m\u001b[0;34m\u001b[0m\u001b[0;34m\u001b[0m\u001b[0m\n\u001b[1;32m    361\u001b[0m         \"\"\"\n\u001b[0;32m--> 362\u001b[0;31m         \u001b[0;32mreturn\u001b[0m \u001b[0mself\u001b[0m\u001b[0;34m.\u001b[0m\u001b[0m_decision_function\u001b[0m\u001b[0;34m(\u001b[0m\u001b[0mX\u001b[0m\u001b[0;34m)\u001b[0m\u001b[0;34m\u001b[0m\u001b[0;34m\u001b[0m\u001b[0m\n\u001b[0m\u001b[1;32m    363\u001b[0m \u001b[0;34m\u001b[0m\u001b[0m\n\u001b[1;32m    364\u001b[0m     \u001b[0m_preprocess_data\u001b[0m \u001b[0;34m=\u001b[0m \u001b[0mstaticmethod\u001b[0m\u001b[0;34m(\u001b[0m\u001b[0m_preprocess_data\u001b[0m\u001b[0;34m)\u001b[0m\u001b[0;34m\u001b[0m\u001b[0;34m\u001b[0m\u001b[0m\n",
      "\u001b[0;32m~/anaconda3/lib/python3.8/site-packages/sklearn/linear_model/_base.py\u001b[0m in \u001b[0;36m_decision_function\u001b[0;34m(self, X)\u001b[0m\n\u001b[1;32m    341\u001b[0m \u001b[0;34m\u001b[0m\u001b[0m\n\u001b[1;32m    342\u001b[0m     \u001b[0;32mdef\u001b[0m \u001b[0m_decision_function\u001b[0m\u001b[0;34m(\u001b[0m\u001b[0mself\u001b[0m\u001b[0;34m,\u001b[0m \u001b[0mX\u001b[0m\u001b[0;34m)\u001b[0m\u001b[0;34m:\u001b[0m\u001b[0;34m\u001b[0m\u001b[0;34m\u001b[0m\u001b[0m\n\u001b[0;32m--> 343\u001b[0;31m         \u001b[0mcheck_is_fitted\u001b[0m\u001b[0;34m(\u001b[0m\u001b[0mself\u001b[0m\u001b[0;34m)\u001b[0m\u001b[0;34m\u001b[0m\u001b[0;34m\u001b[0m\u001b[0m\n\u001b[0m\u001b[1;32m    344\u001b[0m \u001b[0;34m\u001b[0m\u001b[0m\n\u001b[1;32m    345\u001b[0m         \u001b[0mX\u001b[0m \u001b[0;34m=\u001b[0m \u001b[0mself\u001b[0m\u001b[0;34m.\u001b[0m\u001b[0m_validate_data\u001b[0m\u001b[0;34m(\u001b[0m\u001b[0mX\u001b[0m\u001b[0;34m,\u001b[0m \u001b[0maccept_sparse\u001b[0m\u001b[0;34m=\u001b[0m\u001b[0;34m[\u001b[0m\u001b[0;34m\"csr\"\u001b[0m\u001b[0;34m,\u001b[0m \u001b[0;34m\"csc\"\u001b[0m\u001b[0;34m,\u001b[0m \u001b[0;34m\"coo\"\u001b[0m\u001b[0;34m]\u001b[0m\u001b[0;34m,\u001b[0m \u001b[0mreset\u001b[0m\u001b[0;34m=\u001b[0m\u001b[0;32mFalse\u001b[0m\u001b[0;34m)\u001b[0m\u001b[0;34m\u001b[0m\u001b[0;34m\u001b[0m\u001b[0m\n",
      "\u001b[0;32m~/anaconda3/lib/python3.8/site-packages/sklearn/utils/validation.py\u001b[0m in \u001b[0;36mcheck_is_fitted\u001b[0;34m(estimator, attributes, msg, all_or_any)\u001b[0m\n\u001b[1;32m   1220\u001b[0m \u001b[0;34m\u001b[0m\u001b[0m\n\u001b[1;32m   1221\u001b[0m     \u001b[0;32mif\u001b[0m \u001b[0;32mnot\u001b[0m \u001b[0mfitted\u001b[0m\u001b[0;34m:\u001b[0m\u001b[0;34m\u001b[0m\u001b[0;34m\u001b[0m\u001b[0m\n\u001b[0;32m-> 1222\u001b[0;31m         \u001b[0;32mraise\u001b[0m \u001b[0mNotFittedError\u001b[0m\u001b[0;34m(\u001b[0m\u001b[0mmsg\u001b[0m \u001b[0;34m%\u001b[0m \u001b[0;34m{\u001b[0m\u001b[0;34m\"name\"\u001b[0m\u001b[0;34m:\u001b[0m \u001b[0mtype\u001b[0m\u001b[0;34m(\u001b[0m\u001b[0mestimator\u001b[0m\u001b[0;34m)\u001b[0m\u001b[0;34m.\u001b[0m\u001b[0m__name__\u001b[0m\u001b[0;34m}\u001b[0m\u001b[0;34m)\u001b[0m\u001b[0;34m\u001b[0m\u001b[0;34m\u001b[0m\u001b[0m\n\u001b[0m\u001b[1;32m   1223\u001b[0m \u001b[0;34m\u001b[0m\u001b[0m\n\u001b[1;32m   1224\u001b[0m \u001b[0;34m\u001b[0m\u001b[0m\n",
      "\u001b[0;31mNotFittedError\u001b[0m: This LinearRegression instance is not fitted yet. Call 'fit' with appropriate arguments before using this estimator."
     ]
    }
   ],
   "source": [
    "lr = LinearRegression()#instanciamos una regresion lineal\n",
    "lr.predict(X)#esto asi dara error, porque esta regresion lineal no tiene unas variables tetas aun calculadas"
   ]
  },
  {
   "cell_type": "code",
   "execution_count": 12,
   "metadata": {},
   "outputs": [
    {
     "data": {
      "text/plain": [
       "(array([94.96756953]), -1.3965514693766456)"
      ]
     },
     "execution_count": 12,
     "metadata": {},
     "output_type": "execute_result"
    }
   ],
   "source": [
    "lr.fit(X,y)#esta lr, se ha cambiado inplace, por lo tanto lo siguiente que voy ha hacer no dara error\n",
    "lr.coef_, lr.intercept_#estos parametros representan la recta que mejor se ajusta"
   ]
  },
  {
   "cell_type": "markdown",
   "metadata": {},
   "source": [
    "## Ejercicio\n",
    "\n",
    "Plot the observation (plt.scatter()) and the line that our LinearRegression has learned\n",
    "\n",
    "Ejemplo:\n",
    "\n",
    "xs = np.linspace(0,10)\n",
    "\n",
    "ys = np.sin(xs)\n",
    "\n",
    "plt.plot(xs,ys)"
   ]
  },
  {
   "cell_type": "code",
   "execution_count": 13,
   "metadata": {
    "scrolled": true
   },
   "outputs": [
    {
     "data": {
      "text/plain": [
       "[<matplotlib.lines.Line2D at 0x7fd7aeb84310>]"
      ]
     },
     "execution_count": 13,
     "metadata": {},
     "output_type": "execute_result"
    },
    {
     "data": {
      "image/png": "[encoded data removed]",
      "text/plain": [
       "<Figure size 432x288 with 1 Axes>"
      ]
     },
     "metadata": {
      "needs_background": "light"
     },
     "output_type": "display_data"
    }
   ],
   "source": [
    "plt.scatter(X,y)\n",
    "\n",
    "xs = np.linspace(min(X),max(X))\n",
    "y_hat = lr.coef_ * xs + lr.intercept_\n",
    "\n",
    "plt.plot(xs,y_hat,c='orange')"
   ]
  },
  {
   "cell_type": "code",
   "execution_count": 14,
   "metadata": {
    "scrolled": true
   },
   "outputs": [
    {
     "data": {
      "text/plain": [
       "[<matplotlib.lines.Line2D at 0x7fd7aea78c70>]"
      ]
     },
     "execution_count": 14,
     "metadata": {},
     "output_type": "execute_result"
    },
    {
     "data": {
      "image/png": "[encoded data removed]",
      "text/plain": [
       "<Figure size 432x288 with 1 Axes>"
      ]
     },
     "metadata": {
      "needs_background": "light"
     },
     "output_type": "display_data"
    }
   ],
   "source": [
    "# si hacemos:\n",
    "y_hat2 = lr.predict(xs)\n",
    "#deberia salir lo mismo\n",
    "plt.scatter(X,y)\n",
    "plt.plot(xs,y_hat2,c='orange')"
   ]
  },
  {
   "cell_type": "code",
   "execution_count": 15,
   "metadata": {},
   "outputs": [
    {
     "data": {
      "text/plain": [
       "(417.39595729307035, 20.43027061233087)"
      ]
     },
     "execution_count": 15,
     "metadata": {},
     "output_type": "execute_result"
    }
   ],
   "source": [
    "# MSE\n",
    "y_hat = lr.predict(X)\n",
    "(y - y_hat) ** 2\n",
    "# y ahora sacamos la media\n",
    "mse = np.mean((y - y_hat) ** 2)\n",
    "\n",
    "# RMS\n",
    "rmse = np.sqrt(mse)\n",
    "\n",
    "mse, rmse"
   ]
  },
  {
   "cell_type": "code",
   "execution_count": 16,
   "metadata": {},
   "outputs": [
    {
     "data": {
      "text/plain": [
       "16.337186658753115"
      ]
     },
     "execution_count": 16,
     "metadata": {},
     "output_type": "execute_result"
    }
   ],
   "source": [
    "# Error absoluto medio\n",
    "np.mean(np.abs(y - y_hat))\n",
    "\n",
    "#Esto significa que de media mi prediccion esta a 16.26 unidades del valor real"
   ]
  },
  {
   "cell_type": "markdown",
   "metadata": {
    "slideshow": {
     "slide_type": "fragment"
    }
   },
   "source": [
    "Is this a good estimate of the generalization error?"
   ]
  },
  {
   "cell_type": "code",
   "execution_count": 41,
   "metadata": {},
   "outputs": [],
   "source": [
    "# Respuesta: NO"
   ]
  },
  {
   "cell_type": "markdown",
   "metadata": {
    "slideshow": {
     "slide_type": "slide"
    }
   },
   "source": [
    "## Scoring and model validation"
   ]
  },
  {
   "cell_type": "markdown",
   "metadata": {
    "slideshow": {
     "slide_type": "fragment"
    }
   },
   "source": [
    "Our training set error will always be an optimistic estimate of our test set error."
   ]
  },
  {
   "cell_type": "markdown",
   "metadata": {
    "slideshow": {
     "slide_type": "slide"
    }
   },
   "source": [
    "We need to do a train, test split:"
   ]
  },
  {
   "cell_type": "code",
   "execution_count": 42,
   "metadata": {},
   "outputs": [
    {
     "data": {
      "text/plain": [
       "(300, 1)"
      ]
     },
     "execution_count": 42,
     "metadata": {},
     "output_type": "execute_result"
    }
   ],
   "source": [
    "X.shape"
   ]
  },
  {
   "cell_type": "code",
   "execution_count": 17,
   "metadata": {},
   "outputs": [
    {
     "data": {
      "text/plain": [
       "(225, 1)"
      ]
     },
     "execution_count": 17,
     "metadata": {},
     "output_type": "execute_result"
    }
   ],
   "source": [
    "from sklearn.model_selection import train_test_split\n",
    "\n",
    "X_train, X_test, y_train, y_test = train_test_split(X,y)\n",
    "\n",
    "X_train.shape\n",
    "#se ha reservado parte de los datos para entrenamiento y otra parte para test, \n",
    "#por eso la shape ha camnbiado a menos"
   ]
  },
  {
   "cell_type": "code",
   "execution_count": 18,
   "metadata": {},
   "outputs": [
    {
     "data": {
      "text/plain": [
       "16.647247024264324"
      ]
     },
     "execution_count": 18,
     "metadata": {},
     "output_type": "execute_result"
    }
   ],
   "source": [
    "lr = LinearRegression()\n",
    "\n",
    "lr.fit(X_train,y_train)# hacemos el fit con el train\n",
    "y_hat = lr.predict(X_test)#hacemos el predict con los datos de test, para ver si lo calculado se ajusta bien\n",
    "\n",
    "np.mean(np.abs(y_test - y_hat))#aqui vemos la media del error absoluto"
   ]
  },
  {
   "cell_type": "code",
   "execution_count": 27,
   "metadata": {},
   "outputs": [
    {
     "data": {
      "text/plain": [
       "16.211344070619212"
      ]
     },
     "execution_count": 27,
     "metadata": {},
     "output_type": "execute_result"
    }
   ],
   "source": [
    "X_train, X_test, y_train, y_test = train_test_split(X,y, train_size =.3)\n",
    "\n",
    "lr = LinearRegression()\n",
    "\n",
    "lr.fit(X_train,y_train)\n",
    "y_hat = lr.predict(X_test)\n",
    "\n",
    "np.mean(np.abs(y_test - y_hat))"
   ]
  },
  {
   "cell_type": "markdown",
   "metadata": {
    "heading_collapsed": true
   },
   "source": [
    "## Metrics for regression\n",
    "\n",
    "MSE: Mean Squared Error\n",
    "\n",
    "$$MSE = \\frac{1}{n} \\sum_{i=1}^{n} (y_i - h(x_i))^2$$\n",
    "\n",
    "MAE: Mean Absolute Error \n",
    "\n",
    "$$MAE = \\frac{1}{n} \\sum_{i=1}^{n} |y_i - h(x_i)|$$\n",
    "\n",
    "MAPE: Mean Absolute Percent Error\n",
    "\n",
    "$$MAE = \\frac{1}{n} \\sum_{i=1}^{n} \\frac{|y_i - h(x_i)|}{y_i}$$\n",
    "\n",
    "Explained Variance:\n",
    "\n",
    "\n",
    "$$explained\\_{}variance(y, \\hat{y}) = 1 - \\frac{Var\\{ y - \\hat{y}\\}}{Var\\{y\\}}$$\n",
    "\n",
    "\n",
    "\n",
    "We will learn more about scoring and model selection in a later module"
   ]
  },
  {
   "cell_type": "markdown",
   "metadata": {},
   "source": [
    "# Regression algorithms in sklearn\n",
    "\n",
    "We have already met Linear regression, which is a parametric algorithm. There are, however, _non-parametric_ algorithms that do not make assumption regarding the shape of the function to be approximated.\n",
    "\n",
    "Let's try more sophisticated algorithms on our toy data and on real data."
   ]
  },
  {
   "cell_type": "code",
   "execution_count": 28,
   "metadata": {},
   "outputs": [
    {
     "data": {
      "text/html": [
       "<div>\n",
       "<style scoped>\n",
       "    .dataframe tbody tr th:only-of-type {\n",
       "        vertical-align: middle;\n",
       "    }\n",
       "\n",
       "    .dataframe tbody tr th {\n",
       "        vertical-align: top;\n",
       "    }\n",
       "\n",
       "    .dataframe thead th {\n",
       "        text-align: right;\n",
       "    }\n",
       "</style>\n",
       "<table border=\"1\" class=\"dataframe\">\n",
       "  <thead>\n",
       "    <tr style=\"text-align: right;\">\n",
       "      <th></th>\n",
       "      <th>age</th>\n",
       "      <th>sex</th>\n",
       "      <th>bmi</th>\n",
       "      <th>bp</th>\n",
       "      <th>s1</th>\n",
       "      <th>s2</th>\n",
       "      <th>s3</th>\n",
       "      <th>s4</th>\n",
       "      <th>s5</th>\n",
       "      <th>s6</th>\n",
       "    </tr>\n",
       "  </thead>\n",
       "  <tbody>\n",
       "    <tr>\n",
       "      <th>0</th>\n",
       "      <td>0.038076</td>\n",
       "      <td>0.050680</td>\n",
       "      <td>0.061696</td>\n",
       "      <td>0.021872</td>\n",
       "      <td>-0.044223</td>\n",
       "      <td>-0.034821</td>\n",
       "      <td>-0.043401</td>\n",
       "      <td>-0.002592</td>\n",
       "      <td>0.019908</td>\n",
       "      <td>-0.017646</td>\n",
       "    </tr>\n",
       "    <tr>\n",
       "      <th>1</th>\n",
       "      <td>-0.001882</td>\n",
       "      <td>-0.044642</td>\n",
       "      <td>-0.051474</td>\n",
       "      <td>-0.026328</td>\n",
       "      <td>-0.008449</td>\n",
       "      <td>-0.019163</td>\n",
       "      <td>0.074412</td>\n",
       "      <td>-0.039493</td>\n",
       "      <td>-0.068330</td>\n",
       "      <td>-0.092204</td>\n",
       "    </tr>\n",
       "    <tr>\n",
       "      <th>2</th>\n",
       "      <td>0.085299</td>\n",
       "      <td>0.050680</td>\n",
       "      <td>0.044451</td>\n",
       "      <td>-0.005671</td>\n",
       "      <td>-0.045599</td>\n",
       "      <td>-0.034194</td>\n",
       "      <td>-0.032356</td>\n",
       "      <td>-0.002592</td>\n",
       "      <td>0.002864</td>\n",
       "      <td>-0.025930</td>\n",
       "    </tr>\n",
       "    <tr>\n",
       "      <th>3</th>\n",
       "      <td>-0.089063</td>\n",
       "      <td>-0.044642</td>\n",
       "      <td>-0.011595</td>\n",
       "      <td>-0.036656</td>\n",
       "      <td>0.012191</td>\n",
       "      <td>0.024991</td>\n",
       "      <td>-0.036038</td>\n",
       "      <td>0.034309</td>\n",
       "      <td>0.022692</td>\n",
       "      <td>-0.009362</td>\n",
       "    </tr>\n",
       "    <tr>\n",
       "      <th>4</th>\n",
       "      <td>0.005383</td>\n",
       "      <td>-0.044642</td>\n",
       "      <td>-0.036385</td>\n",
       "      <td>0.021872</td>\n",
       "      <td>0.003935</td>\n",
       "      <td>0.015596</td>\n",
       "      <td>0.008142</td>\n",
       "      <td>-0.002592</td>\n",
       "      <td>-0.031991</td>\n",
       "      <td>-0.046641</td>\n",
       "    </tr>\n",
       "    <tr>\n",
       "      <th>...</th>\n",
       "      <td>...</td>\n",
       "      <td>...</td>\n",
       "      <td>...</td>\n",
       "      <td>...</td>\n",
       "      <td>...</td>\n",
       "      <td>...</td>\n",
       "      <td>...</td>\n",
       "      <td>...</td>\n",
       "      <td>...</td>\n",
       "      <td>...</td>\n",
       "    </tr>\n",
       "    <tr>\n",
       "      <th>437</th>\n",
       "      <td>0.041708</td>\n",
       "      <td>0.050680</td>\n",
       "      <td>0.019662</td>\n",
       "      <td>0.059744</td>\n",
       "      <td>-0.005697</td>\n",
       "      <td>-0.002566</td>\n",
       "      <td>-0.028674</td>\n",
       "      <td>-0.002592</td>\n",
       "      <td>0.031193</td>\n",
       "      <td>0.007207</td>\n",
       "    </tr>\n",
       "    <tr>\n",
       "      <th>438</th>\n",
       "      <td>-0.005515</td>\n",
       "      <td>0.050680</td>\n",
       "      <td>-0.015906</td>\n",
       "      <td>-0.067642</td>\n",
       "      <td>0.049341</td>\n",
       "      <td>0.079165</td>\n",
       "      <td>-0.028674</td>\n",
       "      <td>0.034309</td>\n",
       "      <td>-0.018118</td>\n",
       "      <td>0.044485</td>\n",
       "    </tr>\n",
       "    <tr>\n",
       "      <th>439</th>\n",
       "      <td>0.041708</td>\n",
       "      <td>0.050680</td>\n",
       "      <td>-0.015906</td>\n",
       "      <td>0.017282</td>\n",
       "      <td>-0.037344</td>\n",
       "      <td>-0.013840</td>\n",
       "      <td>-0.024993</td>\n",
       "      <td>-0.011080</td>\n",
       "      <td>-0.046879</td>\n",
       "      <td>0.015491</td>\n",
       "    </tr>\n",
       "    <tr>\n",
       "      <th>440</th>\n",
       "      <td>-0.045472</td>\n",
       "      <td>-0.044642</td>\n",
       "      <td>0.039062</td>\n",
       "      <td>0.001215</td>\n",
       "      <td>0.016318</td>\n",
       "      <td>0.015283</td>\n",
       "      <td>-0.028674</td>\n",
       "      <td>0.026560</td>\n",
       "      <td>0.044528</td>\n",
       "      <td>-0.025930</td>\n",
       "    </tr>\n",
       "    <tr>\n",
       "      <th>441</th>\n",
       "      <td>-0.045472</td>\n",
       "      <td>-0.044642</td>\n",
       "      <td>-0.073030</td>\n",
       "      <td>-0.081414</td>\n",
       "      <td>0.083740</td>\n",
       "      <td>0.027809</td>\n",
       "      <td>0.173816</td>\n",
       "      <td>-0.039493</td>\n",
       "      <td>-0.004220</td>\n",
       "      <td>0.003064</td>\n",
       "    </tr>\n",
       "  </tbody>\n",
       "</table>\n",
       "<p>442 rows × 10 columns</p>\n",
       "</div>"
      ],
      "text/plain": [
       "          age       sex       bmi        bp        s1        s2        s3  \\\n",
       "0    0.038076  0.050680  0.061696  0.021872 -0.044223 -0.034821 -0.043401   \n",
       "1   -0.001882 -0.044642 -0.051474 -0.026328 -0.008449 -0.019163  0.074412   \n",
       "2    0.085299  0.050680  0.044451 -0.005671 -0.045599 -0.034194 -0.032356   \n",
       "3   -0.089063 -0.044642 -0.011595 -0.036656  0.012191  0.024991 -0.036038   \n",
       "4    0.005383 -0.044642 -0.036385  0.021872  0.003935  0.015596  0.008142   \n",
       "..        ...       ...       ...       ...       ...       ...       ...   \n",
       "437  0.041708  0.050680  0.019662  0.059744 -0.005697 -0.002566 -0.028674   \n",
       "438 -0.005515  0.050680 -0.015906 -0.067642  0.049341  0.079165 -0.028674   \n",
       "439  0.041708  0.050680 -0.015906  0.017282 -0.037344 -0.013840 -0.024993   \n",
       "440 -0.045472 -0.044642  0.039062  0.001215  0.016318  0.015283 -0.028674   \n",
       "441 -0.045472 -0.044642 -0.073030 -0.081414  0.083740  0.027809  0.173816   \n",
       "\n",
       "           s4        s5        s6  \n",
       "0   -0.002592  0.019908 -0.017646  \n",
       "1   -0.039493 -0.068330 -0.092204  \n",
       "2   -0.002592  0.002864 -0.025930  \n",
       "3    0.034309  0.022692 -0.009362  \n",
       "4   -0.002592 -0.031991 -0.046641  \n",
       "..        ...       ...       ...  \n",
       "437 -0.002592  0.031193  0.007207  \n",
       "438  0.034309 -0.018118  0.044485  \n",
       "439 -0.011080 -0.046879  0.015491  \n",
       "440  0.026560  0.044528 -0.025930  \n",
       "441 -0.039493 -0.004220  0.003064  \n",
       "\n",
       "[442 rows x 10 columns]"
      ]
     },
     "execution_count": 28,
     "metadata": {},
     "output_type": "execute_result"
    }
   ],
   "source": [
    "from sklearn.datasets import fetch_openml, load_diabetes\n",
    "\n",
    "diabetes = load_diabetes(as_frame=True)\n",
    "diabetes_X = diabetes['data']\n",
    "diabetes_y = diabetes['target']\n",
    "\n",
    "diabetes_X"
   ]
  },
  {
   "cell_type": "code",
   "execution_count": 29,
   "metadata": {
    "scrolled": true
   },
   "outputs": [
    {
     "data": {
      "text/plain": [
       "0      151.0\n",
       "1       75.0\n",
       "2      141.0\n",
       "3      206.0\n",
       "4      135.0\n",
       "       ...  \n",
       "437    178.0\n",
       "438    104.0\n",
       "439    132.0\n",
       "440    220.0\n",
       "441     57.0\n",
       "Name: target, Length: 442, dtype: float64"
      ]
     },
     "execution_count": 29,
     "metadata": {},
     "output_type": "execute_result"
    }
   ],
   "source": [
    "diabetes_y"
   ]
  },
  {
   "cell_type": "code",
   "execution_count": 31,
   "metadata": {},
   "outputs": [
    {
     "data": {
      "text/plain": [
       "(442,)"
      ]
     },
     "execution_count": 31,
     "metadata": {},
     "output_type": "execute_result"
    }
   ],
   "source": [
    "diabetes_y.shape"
   ]
  },
  {
   "cell_type": "markdown",
   "metadata": {},
   "source": [
    "#### Ejercicio\n",
    "\n",
    "Train a linear regression on the diabetes dataset. Calculate the test set MSE, RMSE and MAE."
   ]
  },
  {
   "cell_type": "code",
   "execution_count": 32,
   "metadata": {},
   "outputs": [
    {
     "data": {
      "text/plain": [
       "(2991.7485605283023, 54.696878892019996, 44.501247607236586)"
      ]
     },
     "execution_count": 32,
     "metadata": {},
     "output_type": "execute_result"
    }
   ],
   "source": [
    "X_train, X_test, y_train, y_test = train_test_split(diabetes_X,diabetes_y)\n",
    "\n",
    "lr = LinearRegression()\n",
    "\n",
    "lr.fit(X_train,y_train)\n",
    "y_hat = lr.predict(X_test)\n",
    "\n",
    "# MSE\n",
    "mse = np.mean((y_test - y_hat) ** 2)\n",
    "\n",
    "# RMSE\n",
    "rmse = np.sqrt(mse)\n",
    "\n",
    "# MAE\n",
    "mae = np.mean(np.abs(y_test - y_hat))\n",
    "\n",
    "mse, rmse, mae"
   ]
  },
  {
   "cell_type": "code",
   "execution_count": 33,
   "metadata": {
    "scrolled": true
   },
   "outputs": [
    {
     "data": {
      "text/plain": [
       "<matplotlib.collections.PathCollection at 0x7fd7ac917580>"
      ]
     },
     "execution_count": 33,
     "metadata": {},
     "output_type": "execute_result"
    },
    {
     "data": {
      "image/png": "[encoded data removed]",
      "text/plain": [
       "<Figure size 432x288 with 1 Axes>"
      ]
     },
     "metadata": {
      "needs_background": "light"
     },
     "output_type": "display_data"
    }
   ],
   "source": [
    "# si queremos ver como de buenas son mis predicciones podemos hacer:\n",
    "plt.scatter(y_test, y_hat)\n",
    "#por el resultado vemos que pueden estar correlacionadas, porque \"forman\" una diagonal, \n",
    "#que es lo que pasaria cuando el valor real y el predicho son similares"
   ]
  },
  {
   "cell_type": "code",
   "execution_count": 34,
   "metadata": {},
   "outputs": [
    {
     "data": {
      "text/plain": [
       "<AxesSubplot:>"
      ]
     },
     "execution_count": 34,
     "metadata": {},
     "output_type": "execute_result"
    },
    {
     "data": {
      "image/png": "[encoded data removed]",
      "text/plain": [
       "<Figure size 432x288 with 2 Axes>"
      ]
     },
     "metadata": {
      "needs_background": "light"
     },
     "output_type": "display_data"
    }
   ],
   "source": [
    "import seaborn as sns\n",
    "\n",
    "with_target = diabetes_X.copy()\n",
    "with_target['target'] = diabetes_y\n",
    "\n",
    "sns.heatmap(with_target.corr(), cmap='BrBG', center=0)"
   ]
  },
  {
   "cell_type": "code",
   "execution_count": 35,
   "metadata": {},
   "outputs": [
    {
     "data": {
      "text/html": [
       "<div>\n",
       "<style scoped>\n",
       "    .dataframe tbody tr th:only-of-type {\n",
       "        vertical-align: middle;\n",
       "    }\n",
       "\n",
       "    .dataframe tbody tr th {\n",
       "        vertical-align: top;\n",
       "    }\n",
       "\n",
       "    .dataframe thead th {\n",
       "        text-align: right;\n",
       "    }\n",
       "</style>\n",
       "<table border=\"1\" class=\"dataframe\">\n",
       "  <thead>\n",
       "    <tr style=\"text-align: right;\">\n",
       "      <th></th>\n",
       "      <th>MSE</th>\n",
       "      <th>RMSE</th>\n",
       "      <th>MAE</th>\n",
       "    </tr>\n",
       "  </thead>\n",
       "  <tbody>\n",
       "    <tr>\n",
       "      <th>linear_regression</th>\n",
       "      <td>3557.345956</td>\n",
       "      <td>59.64349</td>\n",
       "      <td>49.125633</td>\n",
       "    </tr>\n",
       "  </tbody>\n",
       "</table>\n",
       "</div>"
      ],
      "text/plain": [
       "                           MSE      RMSE        MAE\n",
       "linear_regression  3557.345956  59.64349  49.125633"
      ]
     },
     "execution_count": 35,
     "metadata": {},
     "output_type": "execute_result"
    }
   ],
   "source": [
    "#Solucion by Dani\n",
    "pd.DataFrame(columns=['MSE','RMSE', \"MAE\"])\n",
    "\n",
    "X_train, X_test, y_train, y_test = train_test_split(diabetes_X,diabetes_y)\n",
    "\n",
    "lr.fit(X_train,y_train)\n",
    "y_hat = lr.predict(X_test)\n",
    "\n",
    "errors = y_test - y_hat\n",
    "mae = np.mean(np.abs(errors))\n",
    "mse = np.mean(errors ** 2)\n",
    "rmse = np.sqrt(mse)\n",
    "\n",
    "\n",
    "results_diabetes = pd.DataFrame(columns=['MSE','RMSE', \"MAE\"])\n",
    "results_diabetes.loc['linear_regression'] = [mse,rmse,mae]\n",
    "results_diabetes"
   ]
  },
  {
   "cell_type": "code",
   "execution_count": 37,
   "metadata": {},
   "outputs": [
    {
     "data": {
      "text/html": [
       "<div>\n",
       "<style scoped>\n",
       "    .dataframe tbody tr th:only-of-type {\n",
       "        vertical-align: middle;\n",
       "    }\n",
       "\n",
       "    .dataframe tbody tr th {\n",
       "        vertical-align: top;\n",
       "    }\n",
       "\n",
       "    .dataframe thead th {\n",
       "        text-align: right;\n",
       "    }\n",
       "</style>\n",
       "<table border=\"1\" class=\"dataframe\">\n",
       "  <thead>\n",
       "    <tr style=\"text-align: right;\">\n",
       "      <th></th>\n",
       "      <th>Id</th>\n",
       "      <th>MSSubClass</th>\n",
       "      <th>MSZoning</th>\n",
       "      <th>LotFrontage</th>\n",
       "      <th>LotArea</th>\n",
       "      <th>Street</th>\n",
       "      <th>Alley</th>\n",
       "      <th>LotShape</th>\n",
       "      <th>LandContour</th>\n",
       "      <th>Utilities</th>\n",
       "      <th>...</th>\n",
       "      <th>ScreenPorch</th>\n",
       "      <th>PoolArea</th>\n",
       "      <th>PoolQC</th>\n",
       "      <th>Fence</th>\n",
       "      <th>MiscFeature</th>\n",
       "      <th>MiscVal</th>\n",
       "      <th>MoSold</th>\n",
       "      <th>YrSold</th>\n",
       "      <th>SaleType</th>\n",
       "      <th>SaleCondition</th>\n",
       "    </tr>\n",
       "  </thead>\n",
       "  <tbody>\n",
       "    <tr>\n",
       "      <th>0</th>\n",
       "      <td>1.0</td>\n",
       "      <td>60.0</td>\n",
       "      <td>RL</td>\n",
       "      <td>65.0</td>\n",
       "      <td>8450.0</td>\n",
       "      <td>Pave</td>\n",
       "      <td>None</td>\n",
       "      <td>Reg</td>\n",
       "      <td>Lvl</td>\n",
       "      <td>AllPub</td>\n",
       "      <td>...</td>\n",
       "      <td>0.0</td>\n",
       "      <td>0.0</td>\n",
       "      <td>None</td>\n",
       "      <td>None</td>\n",
       "      <td>None</td>\n",
       "      <td>0.0</td>\n",
       "      <td>2.0</td>\n",
       "      <td>2008.0</td>\n",
       "      <td>WD</td>\n",
       "      <td>Normal</td>\n",
       "    </tr>\n",
       "    <tr>\n",
       "      <th>1</th>\n",
       "      <td>2.0</td>\n",
       "      <td>20.0</td>\n",
       "      <td>RL</td>\n",
       "      <td>80.0</td>\n",
       "      <td>9600.0</td>\n",
       "      <td>Pave</td>\n",
       "      <td>None</td>\n",
       "      <td>Reg</td>\n",
       "      <td>Lvl</td>\n",
       "      <td>AllPub</td>\n",
       "      <td>...</td>\n",
       "      <td>0.0</td>\n",
       "      <td>0.0</td>\n",
       "      <td>None</td>\n",
       "      <td>None</td>\n",
       "      <td>None</td>\n",
       "      <td>0.0</td>\n",
       "      <td>5.0</td>\n",
       "      <td>2007.0</td>\n",
       "      <td>WD</td>\n",
       "      <td>Normal</td>\n",
       "    </tr>\n",
       "    <tr>\n",
       "      <th>2</th>\n",
       "      <td>3.0</td>\n",
       "      <td>60.0</td>\n",
       "      <td>RL</td>\n",
       "      <td>68.0</td>\n",
       "      <td>11250.0</td>\n",
       "      <td>Pave</td>\n",
       "      <td>None</td>\n",
       "      <td>IR1</td>\n",
       "      <td>Lvl</td>\n",
       "      <td>AllPub</td>\n",
       "      <td>...</td>\n",
       "      <td>0.0</td>\n",
       "      <td>0.0</td>\n",
       "      <td>None</td>\n",
       "      <td>None</td>\n",
       "      <td>None</td>\n",
       "      <td>0.0</td>\n",
       "      <td>9.0</td>\n",
       "      <td>2008.0</td>\n",
       "      <td>WD</td>\n",
       "      <td>Normal</td>\n",
       "    </tr>\n",
       "    <tr>\n",
       "      <th>3</th>\n",
       "      <td>4.0</td>\n",
       "      <td>70.0</td>\n",
       "      <td>RL</td>\n",
       "      <td>60.0</td>\n",
       "      <td>9550.0</td>\n",
       "      <td>Pave</td>\n",
       "      <td>None</td>\n",
       "      <td>IR1</td>\n",
       "      <td>Lvl</td>\n",
       "      <td>AllPub</td>\n",
       "      <td>...</td>\n",
       "      <td>0.0</td>\n",
       "      <td>0.0</td>\n",
       "      <td>None</td>\n",
       "      <td>None</td>\n",
       "      <td>None</td>\n",
       "      <td>0.0</td>\n",
       "      <td>2.0</td>\n",
       "      <td>2006.0</td>\n",
       "      <td>WD</td>\n",
       "      <td>Abnorml</td>\n",
       "    </tr>\n",
       "    <tr>\n",
       "      <th>4</th>\n",
       "      <td>5.0</td>\n",
       "      <td>60.0</td>\n",
       "      <td>RL</td>\n",
       "      <td>84.0</td>\n",
       "      <td>14260.0</td>\n",
       "      <td>Pave</td>\n",
       "      <td>None</td>\n",
       "      <td>IR1</td>\n",
       "      <td>Lvl</td>\n",
       "      <td>AllPub</td>\n",
       "      <td>...</td>\n",
       "      <td>0.0</td>\n",
       "      <td>0.0</td>\n",
       "      <td>None</td>\n",
       "      <td>None</td>\n",
       "      <td>None</td>\n",
       "      <td>0.0</td>\n",
       "      <td>12.0</td>\n",
       "      <td>2008.0</td>\n",
       "      <td>WD</td>\n",
       "      <td>Normal</td>\n",
       "    </tr>\n",
       "    <tr>\n",
       "      <th>...</th>\n",
       "      <td>...</td>\n",
       "      <td>...</td>\n",
       "      <td>...</td>\n",
       "      <td>...</td>\n",
       "      <td>...</td>\n",
       "      <td>...</td>\n",
       "      <td>...</td>\n",
       "      <td>...</td>\n",
       "      <td>...</td>\n",
       "      <td>...</td>\n",
       "      <td>...</td>\n",
       "      <td>...</td>\n",
       "      <td>...</td>\n",
       "      <td>...</td>\n",
       "      <td>...</td>\n",
       "      <td>...</td>\n",
       "      <td>...</td>\n",
       "      <td>...</td>\n",
       "      <td>...</td>\n",
       "      <td>...</td>\n",
       "      <td>...</td>\n",
       "    </tr>\n",
       "    <tr>\n",
       "      <th>1455</th>\n",
       "      <td>1456.0</td>\n",
       "      <td>60.0</td>\n",
       "      <td>RL</td>\n",
       "      <td>62.0</td>\n",
       "      <td>7917.0</td>\n",
       "      <td>Pave</td>\n",
       "      <td>None</td>\n",
       "      <td>Reg</td>\n",
       "      <td>Lvl</td>\n",
       "      <td>AllPub</td>\n",
       "      <td>...</td>\n",
       "      <td>0.0</td>\n",
       "      <td>0.0</td>\n",
       "      <td>None</td>\n",
       "      <td>None</td>\n",
       "      <td>None</td>\n",
       "      <td>0.0</td>\n",
       "      <td>8.0</td>\n",
       "      <td>2007.0</td>\n",
       "      <td>WD</td>\n",
       "      <td>Normal</td>\n",
       "    </tr>\n",
       "    <tr>\n",
       "      <th>1456</th>\n",
       "      <td>1457.0</td>\n",
       "      <td>20.0</td>\n",
       "      <td>RL</td>\n",
       "      <td>85.0</td>\n",
       "      <td>13175.0</td>\n",
       "      <td>Pave</td>\n",
       "      <td>None</td>\n",
       "      <td>Reg</td>\n",
       "      <td>Lvl</td>\n",
       "      <td>AllPub</td>\n",
       "      <td>...</td>\n",
       "      <td>0.0</td>\n",
       "      <td>0.0</td>\n",
       "      <td>None</td>\n",
       "      <td>MnPrv</td>\n",
       "      <td>None</td>\n",
       "      <td>0.0</td>\n",
       "      <td>2.0</td>\n",
       "      <td>2010.0</td>\n",
       "      <td>WD</td>\n",
       "      <td>Normal</td>\n",
       "    </tr>\n",
       "    <tr>\n",
       "      <th>1457</th>\n",
       "      <td>1458.0</td>\n",
       "      <td>70.0</td>\n",
       "      <td>RL</td>\n",
       "      <td>66.0</td>\n",
       "      <td>9042.0</td>\n",
       "      <td>Pave</td>\n",
       "      <td>None</td>\n",
       "      <td>Reg</td>\n",
       "      <td>Lvl</td>\n",
       "      <td>AllPub</td>\n",
       "      <td>...</td>\n",
       "      <td>0.0</td>\n",
       "      <td>0.0</td>\n",
       "      <td>None</td>\n",
       "      <td>GdPrv</td>\n",
       "      <td>Shed</td>\n",
       "      <td>2500.0</td>\n",
       "      <td>5.0</td>\n",
       "      <td>2010.0</td>\n",
       "      <td>WD</td>\n",
       "      <td>Normal</td>\n",
       "    </tr>\n",
       "    <tr>\n",
       "      <th>1458</th>\n",
       "      <td>1459.0</td>\n",
       "      <td>20.0</td>\n",
       "      <td>RL</td>\n",
       "      <td>68.0</td>\n",
       "      <td>9717.0</td>\n",
       "      <td>Pave</td>\n",
       "      <td>None</td>\n",
       "      <td>Reg</td>\n",
       "      <td>Lvl</td>\n",
       "      <td>AllPub</td>\n",
       "      <td>...</td>\n",
       "      <td>0.0</td>\n",
       "      <td>0.0</td>\n",
       "      <td>None</td>\n",
       "      <td>None</td>\n",
       "      <td>None</td>\n",
       "      <td>0.0</td>\n",
       "      <td>4.0</td>\n",
       "      <td>2010.0</td>\n",
       "      <td>WD</td>\n",
       "      <td>Normal</td>\n",
       "    </tr>\n",
       "    <tr>\n",
       "      <th>1459</th>\n",
       "      <td>1460.0</td>\n",
       "      <td>20.0</td>\n",
       "      <td>RL</td>\n",
       "      <td>75.0</td>\n",
       "      <td>9937.0</td>\n",
       "      <td>Pave</td>\n",
       "      <td>None</td>\n",
       "      <td>Reg</td>\n",
       "      <td>Lvl</td>\n",
       "      <td>AllPub</td>\n",
       "      <td>...</td>\n",
       "      <td>0.0</td>\n",
       "      <td>0.0</td>\n",
       "      <td>None</td>\n",
       "      <td>None</td>\n",
       "      <td>None</td>\n",
       "      <td>0.0</td>\n",
       "      <td>6.0</td>\n",
       "      <td>2008.0</td>\n",
       "      <td>WD</td>\n",
       "      <td>Normal</td>\n",
       "    </tr>\n",
       "  </tbody>\n",
       "</table>\n",
       "<p>1460 rows × 80 columns</p>\n",
       "</div>"
      ],
      "text/plain": [
       "          Id  MSSubClass MSZoning  LotFrontage  LotArea Street Alley LotShape  \\\n",
       "0        1.0        60.0       RL         65.0   8450.0   Pave  None      Reg   \n",
       "1        2.0        20.0       RL         80.0   9600.0   Pave  None      Reg   \n",
       "2        3.0        60.0       RL         68.0  11250.0   Pave  None      IR1   \n",
       "3        4.0        70.0       RL         60.0   9550.0   Pave  None      IR1   \n",
       "4        5.0        60.0       RL         84.0  14260.0   Pave  None      IR1   \n",
       "...      ...         ...      ...          ...      ...    ...   ...      ...   \n",
       "1455  1456.0        60.0       RL         62.0   7917.0   Pave  None      Reg   \n",
       "1456  1457.0        20.0       RL         85.0  13175.0   Pave  None      Reg   \n",
       "1457  1458.0        70.0       RL         66.0   9042.0   Pave  None      Reg   \n",
       "1458  1459.0        20.0       RL         68.0   9717.0   Pave  None      Reg   \n",
       "1459  1460.0        20.0       RL         75.0   9937.0   Pave  None      Reg   \n",
       "\n",
       "     LandContour Utilities  ... ScreenPorch PoolArea PoolQC  Fence  \\\n",
       "0            Lvl    AllPub  ...         0.0      0.0   None   None   \n",
       "1            Lvl    AllPub  ...         0.0      0.0   None   None   \n",
       "2            Lvl    AllPub  ...         0.0      0.0   None   None   \n",
       "3            Lvl    AllPub  ...         0.0      0.0   None   None   \n",
       "4            Lvl    AllPub  ...         0.0      0.0   None   None   \n",
       "...          ...       ...  ...         ...      ...    ...    ...   \n",
       "1455         Lvl    AllPub  ...         0.0      0.0   None   None   \n",
       "1456         Lvl    AllPub  ...         0.0      0.0   None  MnPrv   \n",
       "1457         Lvl    AllPub  ...         0.0      0.0   None  GdPrv   \n",
       "1458         Lvl    AllPub  ...         0.0      0.0   None   None   \n",
       "1459         Lvl    AllPub  ...         0.0      0.0   None   None   \n",
       "\n",
       "     MiscFeature MiscVal MoSold  YrSold  SaleType  SaleCondition  \n",
       "0           None     0.0    2.0  2008.0        WD         Normal  \n",
       "1           None     0.0    5.0  2007.0        WD         Normal  \n",
       "2           None     0.0    9.0  2008.0        WD         Normal  \n",
       "3           None     0.0    2.0  2006.0        WD        Abnorml  \n",
       "4           None     0.0   12.0  2008.0        WD         Normal  \n",
       "...          ...     ...    ...     ...       ...            ...  \n",
       "1455        None     0.0    8.0  2007.0        WD         Normal  \n",
       "1456        None     0.0    2.0  2010.0        WD         Normal  \n",
       "1457        Shed  2500.0    5.0  2010.0        WD         Normal  \n",
       "1458        None     0.0    4.0  2010.0        WD         Normal  \n",
       "1459        None     0.0    6.0  2008.0        WD         Normal  \n",
       "\n",
       "[1460 rows x 80 columns]"
      ]
     },
     "execution_count": 37,
     "metadata": {},
     "output_type": "execute_result"
    }
   ],
   "source": [
    "housing = fetch_openml(name=\"house_prices\", as_frame=True)\n",
    "housing_X = housing['data']\n",
    "housing_y = housing['target']\n",
    "\n",
    "\n",
    "housing_X"
   ]
  },
  {
   "cell_type": "code",
   "execution_count": 39,
   "metadata": {},
   "outputs": [],
   "source": [
    "# vamos a quedarnos solo con variables numericas\n",
    "data = housing_X.select_dtypes('number')\n",
    "#tenemos muchos floats porque -> type(np.nan) es float, por lo tanto nos tiene que hacer pensar en datos missing\n",
    "\n",
    "data = data.fillna(data.median())\n",
    "data = data.drop('Id',axis=1)"
   ]
  },
  {
   "cell_type": "code",
   "execution_count": 40,
   "metadata": {},
   "outputs": [
    {
     "data": {
      "text/html": [
       "<div>\n",
       "<style scoped>\n",
       "    .dataframe tbody tr th:only-of-type {\n",
       "        vertical-align: middle;\n",
       "    }\n",
       "\n",
       "    .dataframe tbody tr th {\n",
       "        vertical-align: top;\n",
       "    }\n",
       "\n",
       "    .dataframe thead th {\n",
       "        text-align: right;\n",
       "    }\n",
       "</style>\n",
       "<table border=\"1\" class=\"dataframe\">\n",
       "  <thead>\n",
       "    <tr style=\"text-align: right;\">\n",
       "      <th></th>\n",
       "      <th>MSSubClass</th>\n",
       "      <th>LotFrontage</th>\n",
       "      <th>LotArea</th>\n",
       "      <th>OverallQual</th>\n",
       "      <th>OverallCond</th>\n",
       "      <th>YearBuilt</th>\n",
       "      <th>YearRemodAdd</th>\n",
       "      <th>MasVnrArea</th>\n",
       "      <th>BsmtFinSF1</th>\n",
       "      <th>BsmtFinSF2</th>\n",
       "      <th>...</th>\n",
       "      <th>GarageArea</th>\n",
       "      <th>WoodDeckSF</th>\n",
       "      <th>OpenPorchSF</th>\n",
       "      <th>EnclosedPorch</th>\n",
       "      <th>3SsnPorch</th>\n",
       "      <th>ScreenPorch</th>\n",
       "      <th>PoolArea</th>\n",
       "      <th>MiscVal</th>\n",
       "      <th>MoSold</th>\n",
       "      <th>YrSold</th>\n",
       "    </tr>\n",
       "  </thead>\n",
       "  <tbody>\n",
       "    <tr>\n",
       "      <th>0</th>\n",
       "      <td>60.0</td>\n",
       "      <td>65.0</td>\n",
       "      <td>8450.0</td>\n",
       "      <td>7.0</td>\n",
       "      <td>5.0</td>\n",
       "      <td>2003.0</td>\n",
       "      <td>2003.0</td>\n",
       "      <td>196.0</td>\n",
       "      <td>706.0</td>\n",
       "      <td>0.0</td>\n",
       "      <td>...</td>\n",
       "      <td>548.0</td>\n",
       "      <td>0.0</td>\n",
       "      <td>61.0</td>\n",
       "      <td>0.0</td>\n",
       "      <td>0.0</td>\n",
       "      <td>0.0</td>\n",
       "      <td>0.0</td>\n",
       "      <td>0.0</td>\n",
       "      <td>2.0</td>\n",
       "      <td>2008.0</td>\n",
       "    </tr>\n",
       "    <tr>\n",
       "      <th>1</th>\n",
       "      <td>20.0</td>\n",
       "      <td>80.0</td>\n",
       "      <td>9600.0</td>\n",
       "      <td>6.0</td>\n",
       "      <td>8.0</td>\n",
       "      <td>1976.0</td>\n",
       "      <td>1976.0</td>\n",
       "      <td>0.0</td>\n",
       "      <td>978.0</td>\n",
       "      <td>0.0</td>\n",
       "      <td>...</td>\n",
       "      <td>460.0</td>\n",
       "      <td>298.0</td>\n",
       "      <td>0.0</td>\n",
       "      <td>0.0</td>\n",
       "      <td>0.0</td>\n",
       "      <td>0.0</td>\n",
       "      <td>0.0</td>\n",
       "      <td>0.0</td>\n",
       "      <td>5.0</td>\n",
       "      <td>2007.0</td>\n",
       "    </tr>\n",
       "    <tr>\n",
       "      <th>2</th>\n",
       "      <td>60.0</td>\n",
       "      <td>68.0</td>\n",
       "      <td>11250.0</td>\n",
       "      <td>7.0</td>\n",
       "      <td>5.0</td>\n",
       "      <td>2001.0</td>\n",
       "      <td>2002.0</td>\n",
       "      <td>162.0</td>\n",
       "      <td>486.0</td>\n",
       "      <td>0.0</td>\n",
       "      <td>...</td>\n",
       "      <td>608.0</td>\n",
       "      <td>0.0</td>\n",
       "      <td>42.0</td>\n",
       "      <td>0.0</td>\n",
       "      <td>0.0</td>\n",
       "      <td>0.0</td>\n",
       "      <td>0.0</td>\n",
       "      <td>0.0</td>\n",
       "      <td>9.0</td>\n",
       "      <td>2008.0</td>\n",
       "    </tr>\n",
       "    <tr>\n",
       "      <th>3</th>\n",
       "      <td>70.0</td>\n",
       "      <td>60.0</td>\n",
       "      <td>9550.0</td>\n",
       "      <td>7.0</td>\n",
       "      <td>5.0</td>\n",
       "      <td>1915.0</td>\n",
       "      <td>1970.0</td>\n",
       "      <td>0.0</td>\n",
       "      <td>216.0</td>\n",
       "      <td>0.0</td>\n",
       "      <td>...</td>\n",
       "      <td>642.0</td>\n",
       "      <td>0.0</td>\n",
       "      <td>35.0</td>\n",
       "      <td>272.0</td>\n",
       "      <td>0.0</td>\n",
       "      <td>0.0</td>\n",
       "      <td>0.0</td>\n",
       "      <td>0.0</td>\n",
       "      <td>2.0</td>\n",
       "      <td>2006.0</td>\n",
       "    </tr>\n",
       "    <tr>\n",
       "      <th>4</th>\n",
       "      <td>60.0</td>\n",
       "      <td>84.0</td>\n",
       "      <td>14260.0</td>\n",
       "      <td>8.0</td>\n",
       "      <td>5.0</td>\n",
       "      <td>2000.0</td>\n",
       "      <td>2000.0</td>\n",
       "      <td>350.0</td>\n",
       "      <td>655.0</td>\n",
       "      <td>0.0</td>\n",
       "      <td>...</td>\n",
       "      <td>836.0</td>\n",
       "      <td>192.0</td>\n",
       "      <td>84.0</td>\n",
       "      <td>0.0</td>\n",
       "      <td>0.0</td>\n",
       "      <td>0.0</td>\n",
       "      <td>0.0</td>\n",
       "      <td>0.0</td>\n",
       "      <td>12.0</td>\n",
       "      <td>2008.0</td>\n",
       "    </tr>\n",
       "    <tr>\n",
       "      <th>...</th>\n",
       "      <td>...</td>\n",
       "      <td>...</td>\n",
       "      <td>...</td>\n",
       "      <td>...</td>\n",
       "      <td>...</td>\n",
       "      <td>...</td>\n",
       "      <td>...</td>\n",
       "      <td>...</td>\n",
       "      <td>...</td>\n",
       "      <td>...</td>\n",
       "      <td>...</td>\n",
       "      <td>...</td>\n",
       "      <td>...</td>\n",
       "      <td>...</td>\n",
       "      <td>...</td>\n",
       "      <td>...</td>\n",
       "      <td>...</td>\n",
       "      <td>...</td>\n",
       "      <td>...</td>\n",
       "      <td>...</td>\n",
       "      <td>...</td>\n",
       "    </tr>\n",
       "    <tr>\n",
       "      <th>1455</th>\n",
       "      <td>60.0</td>\n",
       "      <td>62.0</td>\n",
       "      <td>7917.0</td>\n",
       "      <td>6.0</td>\n",
       "      <td>5.0</td>\n",
       "      <td>1999.0</td>\n",
       "      <td>2000.0</td>\n",
       "      <td>0.0</td>\n",
       "      <td>0.0</td>\n",
       "      <td>0.0</td>\n",
       "      <td>...</td>\n",
       "      <td>460.0</td>\n",
       "      <td>0.0</td>\n",
       "      <td>40.0</td>\n",
       "      <td>0.0</td>\n",
       "      <td>0.0</td>\n",
       "      <td>0.0</td>\n",
       "      <td>0.0</td>\n",
       "      <td>0.0</td>\n",
       "      <td>8.0</td>\n",
       "      <td>2007.0</td>\n",
       "    </tr>\n",
       "    <tr>\n",
       "      <th>1456</th>\n",
       "      <td>20.0</td>\n",
       "      <td>85.0</td>\n",
       "      <td>13175.0</td>\n",
       "      <td>6.0</td>\n",
       "      <td>6.0</td>\n",
       "      <td>1978.0</td>\n",
       "      <td>1988.0</td>\n",
       "      <td>119.0</td>\n",
       "      <td>790.0</td>\n",
       "      <td>163.0</td>\n",
       "      <td>...</td>\n",
       "      <td>500.0</td>\n",
       "      <td>349.0</td>\n",
       "      <td>0.0</td>\n",
       "      <td>0.0</td>\n",
       "      <td>0.0</td>\n",
       "      <td>0.0</td>\n",
       "      <td>0.0</td>\n",
       "      <td>0.0</td>\n",
       "      <td>2.0</td>\n",
       "      <td>2010.0</td>\n",
       "    </tr>\n",
       "    <tr>\n",
       "      <th>1457</th>\n",
       "      <td>70.0</td>\n",
       "      <td>66.0</td>\n",
       "      <td>9042.0</td>\n",
       "      <td>7.0</td>\n",
       "      <td>9.0</td>\n",
       "      <td>1941.0</td>\n",
       "      <td>2006.0</td>\n",
       "      <td>0.0</td>\n",
       "      <td>275.0</td>\n",
       "      <td>0.0</td>\n",
       "      <td>...</td>\n",
       "      <td>252.0</td>\n",
       "      <td>0.0</td>\n",
       "      <td>60.0</td>\n",
       "      <td>0.0</td>\n",
       "      <td>0.0</td>\n",
       "      <td>0.0</td>\n",
       "      <td>0.0</td>\n",
       "      <td>2500.0</td>\n",
       "      <td>5.0</td>\n",
       "      <td>2010.0</td>\n",
       "    </tr>\n",
       "    <tr>\n",
       "      <th>1458</th>\n",
       "      <td>20.0</td>\n",
       "      <td>68.0</td>\n",
       "      <td>9717.0</td>\n",
       "      <td>5.0</td>\n",
       "      <td>6.0</td>\n",
       "      <td>1950.0</td>\n",
       "      <td>1996.0</td>\n",
       "      <td>0.0</td>\n",
       "      <td>49.0</td>\n",
       "      <td>1029.0</td>\n",
       "      <td>...</td>\n",
       "      <td>240.0</td>\n",
       "      <td>366.0</td>\n",
       "      <td>0.0</td>\n",
       "      <td>112.0</td>\n",
       "      <td>0.0</td>\n",
       "      <td>0.0</td>\n",
       "      <td>0.0</td>\n",
       "      <td>0.0</td>\n",
       "      <td>4.0</td>\n",
       "      <td>2010.0</td>\n",
       "    </tr>\n",
       "    <tr>\n",
       "      <th>1459</th>\n",
       "      <td>20.0</td>\n",
       "      <td>75.0</td>\n",
       "      <td>9937.0</td>\n",
       "      <td>5.0</td>\n",
       "      <td>6.0</td>\n",
       "      <td>1965.0</td>\n",
       "      <td>1965.0</td>\n",
       "      <td>0.0</td>\n",
       "      <td>830.0</td>\n",
       "      <td>290.0</td>\n",
       "      <td>...</td>\n",
       "      <td>276.0</td>\n",
       "      <td>736.0</td>\n",
       "      <td>68.0</td>\n",
       "      <td>0.0</td>\n",
       "      <td>0.0</td>\n",
       "      <td>0.0</td>\n",
       "      <td>0.0</td>\n",
       "      <td>0.0</td>\n",
       "      <td>6.0</td>\n",
       "      <td>2008.0</td>\n",
       "    </tr>\n",
       "  </tbody>\n",
       "</table>\n",
       "<p>1460 rows × 36 columns</p>\n",
       "</div>"
      ],
      "text/plain": [
       "      MSSubClass  LotFrontage  LotArea  OverallQual  OverallCond  YearBuilt  \\\n",
       "0           60.0         65.0   8450.0          7.0          5.0     2003.0   \n",
       "1           20.0         80.0   9600.0          6.0          8.0     1976.0   \n",
       "2           60.0         68.0  11250.0          7.0          5.0     2001.0   \n",
       "3           70.0         60.0   9550.0          7.0          5.0     1915.0   \n",
       "4           60.0         84.0  14260.0          8.0          5.0     2000.0   \n",
       "...          ...          ...      ...          ...          ...        ...   \n",
       "1455        60.0         62.0   7917.0          6.0          5.0     1999.0   \n",
       "1456        20.0         85.0  13175.0          6.0          6.0     1978.0   \n",
       "1457        70.0         66.0   9042.0          7.0          9.0     1941.0   \n",
       "1458        20.0         68.0   9717.0          5.0          6.0     1950.0   \n",
       "1459        20.0         75.0   9937.0          5.0          6.0     1965.0   \n",
       "\n",
       "      YearRemodAdd  MasVnrArea  BsmtFinSF1  BsmtFinSF2  ...  GarageArea  \\\n",
       "0           2003.0       196.0       706.0         0.0  ...       548.0   \n",
       "1           1976.0         0.0       978.0         0.0  ...       460.0   \n",
       "2           2002.0       162.0       486.0         0.0  ...       608.0   \n",
       "3           1970.0         0.0       216.0         0.0  ...       642.0   \n",
       "4           2000.0       350.0       655.0         0.0  ...       836.0   \n",
       "...            ...         ...         ...         ...  ...         ...   \n",
       "1455        2000.0         0.0         0.0         0.0  ...       460.0   \n",
       "1456        1988.0       119.0       790.0       163.0  ...       500.0   \n",
       "1457        2006.0         0.0       275.0         0.0  ...       252.0   \n",
       "1458        1996.0         0.0        49.0      1029.0  ...       240.0   \n",
       "1459        1965.0         0.0       830.0       290.0  ...       276.0   \n",
       "\n",
       "      WoodDeckSF  OpenPorchSF  EnclosedPorch  3SsnPorch  ScreenPorch  \\\n",
       "0            0.0         61.0            0.0        0.0          0.0   \n",
       "1          298.0          0.0            0.0        0.0          0.0   \n",
       "2            0.0         42.0            0.0        0.0          0.0   \n",
       "3            0.0         35.0          272.0        0.0          0.0   \n",
       "4          192.0         84.0            0.0        0.0          0.0   \n",
       "...          ...          ...            ...        ...          ...   \n",
       "1455         0.0         40.0            0.0        0.0          0.0   \n",
       "1456       349.0          0.0            0.0        0.0          0.0   \n",
       "1457         0.0         60.0            0.0        0.0          0.0   \n",
       "1458       366.0          0.0          112.0        0.0          0.0   \n",
       "1459       736.0         68.0            0.0        0.0          0.0   \n",
       "\n",
       "      PoolArea  MiscVal  MoSold  YrSold  \n",
       "0          0.0      0.0     2.0  2008.0  \n",
       "1          0.0      0.0     5.0  2007.0  \n",
       "2          0.0      0.0     9.0  2008.0  \n",
       "3          0.0      0.0     2.0  2006.0  \n",
       "4          0.0      0.0    12.0  2008.0  \n",
       "...        ...      ...     ...     ...  \n",
       "1455       0.0      0.0     8.0  2007.0  \n",
       "1456       0.0      0.0     2.0  2010.0  \n",
       "1457       0.0   2500.0     5.0  2010.0  \n",
       "1458       0.0      0.0     4.0  2010.0  \n",
       "1459       0.0      0.0     6.0  2008.0  \n",
       "\n",
       "[1460 rows x 36 columns]"
      ]
     },
     "execution_count": 40,
     "metadata": {},
     "output_type": "execute_result"
    }
   ],
   "source": [
    "data"
   ]
  },
  {
   "cell_type": "code",
   "execution_count": 87,
   "metadata": {},
   "outputs": [
    {
     "data": {
      "text/html": [
       "<div>\n",
       "<style scoped>\n",
       "    .dataframe tbody tr th:only-of-type {\n",
       "        vertical-align: middle;\n",
       "    }\n",
       "\n",
       "    .dataframe tbody tr th {\n",
       "        vertical-align: top;\n",
       "    }\n",
       "\n",
       "    .dataframe thead th {\n",
       "        text-align: right;\n",
       "    }\n",
       "</style>\n",
       "<table border=\"1\" class=\"dataframe\">\n",
       "  <thead>\n",
       "    <tr style=\"text-align: right;\">\n",
       "      <th></th>\n",
       "      <th>MSE</th>\n",
       "      <th>RMSE</th>\n",
       "      <th>MAE</th>\n",
       "    </tr>\n",
       "  </thead>\n",
       "  <tbody>\n",
       "    <tr>\n",
       "      <th>linear_regression</th>\n",
       "      <td>9.249496e+08</td>\n",
       "      <td>30412.984335</td>\n",
       "      <td>21040.804268</td>\n",
       "    </tr>\n",
       "  </tbody>\n",
       "</table>\n",
       "</div>"
      ],
      "text/plain": [
       "                            MSE          RMSE           MAE\n",
       "linear_regression  9.249496e+08  30412.984335  21040.804268"
      ]
     },
     "execution_count": 87,
     "metadata": {},
     "output_type": "execute_result"
    }
   ],
   "source": [
    "pd.DataFrame(columns=['MSE','RMSE', \"MAE\"])\n",
    "\n",
    "X_train, X_test, y_train, y_test = train_test_split(data,housing_y)\n",
    "\n",
    "lr.fit(X_train,y_train)\n",
    "y_hat = lr.predict(X_test)\n",
    "\n",
    "errors = y_test - y_hat\n",
    "mae = np.mean(np.abs(errors))\n",
    "mse = np.mean(errors ** 2)\n",
    "rmse = np.sqrt(mse)\n",
    "\n",
    "\n",
    "results_housing = pd.DataFrame(columns=['MSE','RMSE', \"MAE\"])\n",
    "results_housing.loc['linear_regression'] = [mse,rmse,mae]\n",
    "results_housing"
   ]
  },
  {
   "cell_type": "markdown",
   "metadata": {},
   "source": [
    "## K nearest neighbors"
   ]
  },
  {
   "cell_type": "code",
   "execution_count": 41,
   "metadata": {},
   "outputs": [
    {
     "data": {
      "text/plain": [
       "<matplotlib.collections.PathCollection at 0x7fd7ac5432e0>"
      ]
     },
     "execution_count": 41,
     "metadata": {},
     "output_type": "execute_result"
    },
    {
     "data": {
      "image/png": "[encoded data removed]",
      "text/plain": [
       "<Figure size 432x288 with 1 Axes>"
      ]
     },
     "metadata": {
      "needs_background": "light"
     },
     "output_type": "display_data"
    }
   ],
   "source": [
    "from sklearn.neighbors import KNeighborsRegressor\n",
    "\n",
    "knn = KNeighborsRegressor(n_neighbors=4)\n",
    "\n",
    "X_train, X_test, y_train, y_test = train_test_split(X, y)\n",
    "\n",
    "knn.fit(X_train,y_train)\n",
    "y_hat = knn.predict(X_test)\n",
    "\n",
    "plt.scatter(X,y)\n",
    "plt.scatter(X_test, y_hat)"
   ]
  },
  {
   "cell_type": "markdown",
   "metadata": {},
   "source": [
    "Now with real data: \n",
    "\n",
    "```python\n",
    "diabetes = datasets.load_diabetes()\n",
    "```"
   ]
  },
  {
   "cell_type": "code",
   "execution_count": 42,
   "metadata": {},
   "outputs": [],
   "source": [
    "#select a model and hyperparameters\n",
    "knn = KNeighborsRegressor(n_neighbors=5)\n",
    "\n",
    "#split train and test\n",
    "X_train, X_test, y_train, y_test = train_test_split(diabetes_X,diabetes_y)\n",
    "\n",
    "#learn on the training set\n",
    "knn.fit(X_train,y_train)\n",
    "#Precict on the test set\n",
    "y_hat = knn.predict(X_test)\n",
    "\n",
    "#Evaluate\n",
    "errors = y_test - y_hat\n",
    "mae = np.mean(np.abs(errors))\n",
    "mse = np.mean(errors ** 2)\n",
    "rmse = np.sqrt(mse)\n",
    "\n",
    "\n",
    "results_diabetes.loc['knn_5'] = [mse,rmse,mae]"
   ]
  },
  {
   "cell_type": "code",
   "execution_count": 43,
   "metadata": {},
   "outputs": [],
   "source": [
    "#select a model and hyperparameters\n",
    "knn = KNeighborsRegressor(n_neighbors=20)\n",
    "\n",
    "#split train and test\n",
    "X_train, X_test, y_train, y_test = train_test_split(diabetes_X,diabetes_y)\n",
    "\n",
    "#learn on the training set\n",
    "knn.fit(X_train,y_train)\n",
    "#Precict on the test set\n",
    "y_hat = knn.predict(X_test)\n",
    "\n",
    "#Evaluate\n",
    "errors = y_test - y_hat\n",
    "mae = np.mean(np.abs(errors))\n",
    "mse = np.mean(errors ** 2)\n",
    "rmse = np.sqrt(mse)\n",
    "\n",
    "\n",
    "results_diabetes.loc['knn_20'] = [mse,rmse,mae]"
   ]
  },
  {
   "cell_type": "code",
   "execution_count": 44,
   "metadata": {},
   "outputs": [],
   "source": [
    "#select a model and hyperparameters\n",
    "knn = KNeighborsRegressor(n_neighbors=50)\n",
    "\n",
    "#split train and test\n",
    "X_train, X_test, y_train, y_test = train_test_split(diabetes_X,diabetes_y)\n",
    "\n",
    "#learn on the training set\n",
    "knn.fit(X_train,y_train)\n",
    "#Precict on the test set\n",
    "y_hat = knn.predict(X_test)\n",
    "\n",
    "#Evaluate\n",
    "errors = y_test - y_hat\n",
    "mae = np.mean(np.abs(errors))\n",
    "mse = np.mean(errors ** 2)\n",
    "rmse = np.sqrt(mse)\n",
    "\n",
    "\n",
    "results_diabetes.loc['knn_50'] = [mse,rmse,mae]"
   ]
  },
  {
   "cell_type": "code",
   "execution_count": 45,
   "metadata": {},
   "outputs": [
    {
     "data": {
      "text/html": [
       "<div>\n",
       "<style scoped>\n",
       "    .dataframe tbody tr th:only-of-type {\n",
       "        vertical-align: middle;\n",
       "    }\n",
       "\n",
       "    .dataframe tbody tr th {\n",
       "        vertical-align: top;\n",
       "    }\n",
       "\n",
       "    .dataframe thead th {\n",
       "        text-align: right;\n",
       "    }\n",
       "</style>\n",
       "<table border=\"1\" class=\"dataframe\">\n",
       "  <thead>\n",
       "    <tr style=\"text-align: right;\">\n",
       "      <th></th>\n",
       "      <th>MSE</th>\n",
       "      <th>RMSE</th>\n",
       "      <th>MAE</th>\n",
       "    </tr>\n",
       "  </thead>\n",
       "  <tbody>\n",
       "    <tr>\n",
       "      <th>linear_regression</th>\n",
       "      <td>3557.345956</td>\n",
       "      <td>59.643490</td>\n",
       "      <td>49.125633</td>\n",
       "    </tr>\n",
       "    <tr>\n",
       "      <th>knn_5</th>\n",
       "      <td>3657.043604</td>\n",
       "      <td>60.473495</td>\n",
       "      <td>48.518919</td>\n",
       "    </tr>\n",
       "    <tr>\n",
       "      <th>knn_20</th>\n",
       "      <td>2919.198829</td>\n",
       "      <td>54.029611</td>\n",
       "      <td>44.041441</td>\n",
       "    </tr>\n",
       "    <tr>\n",
       "      <th>knn_50</th>\n",
       "      <td>3668.062177</td>\n",
       "      <td>60.564529</td>\n",
       "      <td>50.632432</td>\n",
       "    </tr>\n",
       "  </tbody>\n",
       "</table>\n",
       "</div>"
      ],
      "text/plain": [
       "                           MSE       RMSE        MAE\n",
       "linear_regression  3557.345956  59.643490  49.125633\n",
       "knn_5              3657.043604  60.473495  48.518919\n",
       "knn_20             2919.198829  54.029611  44.041441\n",
       "knn_50             3668.062177  60.564529  50.632432"
      ]
     },
     "execution_count": 45,
     "metadata": {},
     "output_type": "execute_result"
    }
   ],
   "source": [
    "results_diabetes"
   ]
  },
  {
   "cell_type": "markdown",
   "metadata": {},
   "source": [
    "```python\n",
    "from sklearn.datasets import fetch_openml\n",
    "housing = fetch_openml(name=\"house_prices\", as_frame=True)\n",
    "```"
   ]
  },
  {
   "cell_type": "markdown",
   "metadata": {},
   "source": [
    "### Ejercicio\n",
    "\n",
    "Train several k neighbors classifiers (with 5, 20, and 50 neighbors) on the housing dataset.\n",
    "Measure their errors and annotarte them into the results DataFrame."
   ]
  },
  {
   "cell_type": "code",
   "execution_count": 47,
   "metadata": {},
   "outputs": [],
   "source": [
    "# vamos a quedarnos solo con variables numericas\n",
    "data = housing_X.select_dtypes('number')\n",
    "#tenemos muchos floats porque -> type(np.nan) es float, por lo tanto nos tiene que hacer pensar en datos missing\n",
    "data = data.fillna(data.median())\n",
    "data = data.drop('Id',axis=1)\n",
    "\n",
    "#select a model and hyperparameters\n",
    "knn = KNeighborsRegressor(n_neighbors=5)\n",
    "\n",
    "#split train and test\n",
    "X_train, X_test, y_train, y_test = train_test_split(data,housing_y)\n",
    "\n",
    "#learn on the training set\n",
    "knn.fit(X_train,y_train)\n",
    "#Precict on the test set\n",
    "y_hat = knn.predict(X_test)\n",
    "\n",
    "#Evaluate\n",
    "errors = y_test - y_hat\n",
    "mae = np.mean(np.abs(errors))\n",
    "mse = np.mean(errors ** 2)\n",
    "rmse = np.sqrt(mse)\n",
    "\n",
    "results_housing = pd.DataFrame(columns=['MSE','RMSE', \"MAE\"])\n",
    "results_housing.loc['knn_5'] = [mse,rmse,mae]"
   ]
  },
  {
   "cell_type": "code",
   "execution_count": 48,
   "metadata": {},
   "outputs": [],
   "source": [
    "#select a model and hyperparameters\n",
    "knn = KNeighborsRegressor(n_neighbors=20)\n",
    "\n",
    "#split train and test\n",
    "X_train, X_test, y_train, y_test = train_test_split(data,housing_y)\n",
    "\n",
    "#learn on the training set\n",
    "knn.fit(X_train,y_train)\n",
    "#Precict on the test set\n",
    "y_hat = knn.predict(X_test)\n",
    "\n",
    "#Evaluate\n",
    "errors = y_test - y_hat\n",
    "mae = np.mean(np.abs(errors))\n",
    "mse = np.mean(errors ** 2)\n",
    "rmse = np.sqrt(mse)\n",
    "\n",
    "\n",
    "results_housing.loc['knn_20'] = [mse,rmse,mae]"
   ]
  },
  {
   "cell_type": "code",
   "execution_count": 49,
   "metadata": {},
   "outputs": [],
   "source": [
    "#select a model and hyperparameters\n",
    "knn = KNeighborsRegressor(n_neighbors=50)\n",
    "\n",
    "#split train and test\n",
    "X_train, X_test, y_train, y_test = train_test_split(data,housing_y)\n",
    "\n",
    "#learn on the training set\n",
    "knn.fit(X_train,y_train)\n",
    "#Precict on the test set\n",
    "y_hat = knn.predict(X_test)\n",
    "\n",
    "#Evaluate\n",
    "errors = y_test - y_hat\n",
    "mae = np.mean(np.abs(errors))\n",
    "mse = np.mean(errors ** 2)\n",
    "rmse = np.sqrt(mse)\n",
    "\n",
    "\n",
    "results_housing.loc['knn_50'] = [mse,rmse,mae]"
   ]
  },
  {
   "cell_type": "code",
   "execution_count": 55,
   "metadata": {
    "scrolled": true
   },
   "outputs": [
    {
     "data": {
      "text/html": [
       "<div>\n",
       "<style scoped>\n",
       "    .dataframe tbody tr th:only-of-type {\n",
       "        vertical-align: middle;\n",
       "    }\n",
       "\n",
       "    .dataframe tbody tr th {\n",
       "        vertical-align: top;\n",
       "    }\n",
       "\n",
       "    .dataframe thead th {\n",
       "        text-align: right;\n",
       "    }\n",
       "</style>\n",
       "<table border=\"1\" class=\"dataframe\">\n",
       "  <thead>\n",
       "    <tr style=\"text-align: right;\">\n",
       "      <th></th>\n",
       "      <th>MSE</th>\n",
       "      <th>RMSE</th>\n",
       "      <th>MAE</th>\n",
       "    </tr>\n",
       "  </thead>\n",
       "  <tbody>\n",
       "    <tr>\n",
       "      <th>knn_5</th>\n",
       "      <td>2.073065e+09</td>\n",
       "      <td>45530.924480</td>\n",
       "      <td>30126.024658</td>\n",
       "    </tr>\n",
       "    <tr>\n",
       "      <th>knn_20</th>\n",
       "      <td>2.282033e+09</td>\n",
       "      <td>47770.633491</td>\n",
       "      <td>32541.681644</td>\n",
       "    </tr>\n",
       "    <tr>\n",
       "      <th>knn_50</th>\n",
       "      <td>2.462612e+09</td>\n",
       "      <td>49624.706820</td>\n",
       "      <td>33581.821041</td>\n",
       "    </tr>\n",
       "  </tbody>\n",
       "</table>\n",
       "</div>"
      ],
      "text/plain": [
       "                 MSE          RMSE           MAE\n",
       "knn_5   2.073065e+09  45530.924480  30126.024658\n",
       "knn_20  2.282033e+09  47770.633491  32541.681644\n",
       "knn_50  2.462612e+09  49624.706820  33581.821041"
      ]
     },
     "execution_count": 55,
     "metadata": {},
     "output_type": "execute_result"
    }
   ],
   "source": [
    "results_housing"
   ]
  },
  {
   "cell_type": "code",
   "execution_count": 56,
   "metadata": {},
   "outputs": [
    {
     "data": {
      "text/html": [
       "<div>\n",
       "<style scoped>\n",
       "    .dataframe tbody tr th:only-of-type {\n",
       "        vertical-align: middle;\n",
       "    }\n",
       "\n",
       "    .dataframe tbody tr th {\n",
       "        vertical-align: top;\n",
       "    }\n",
       "\n",
       "    .dataframe thead th {\n",
       "        text-align: right;\n",
       "    }\n",
       "</style>\n",
       "<table border=\"1\" class=\"dataframe\">\n",
       "  <thead>\n",
       "    <tr style=\"text-align: right;\">\n",
       "      <th></th>\n",
       "      <th>MSSubClass</th>\n",
       "      <th>LotFrontage</th>\n",
       "      <th>LotArea</th>\n",
       "      <th>OverallQual</th>\n",
       "      <th>OverallCond</th>\n",
       "      <th>YearBuilt</th>\n",
       "      <th>YearRemodAdd</th>\n",
       "      <th>MasVnrArea</th>\n",
       "      <th>BsmtFinSF1</th>\n",
       "      <th>BsmtFinSF2</th>\n",
       "      <th>...</th>\n",
       "      <th>GarageArea</th>\n",
       "      <th>WoodDeckSF</th>\n",
       "      <th>OpenPorchSF</th>\n",
       "      <th>EnclosedPorch</th>\n",
       "      <th>3SsnPorch</th>\n",
       "      <th>ScreenPorch</th>\n",
       "      <th>PoolArea</th>\n",
       "      <th>MiscVal</th>\n",
       "      <th>MoSold</th>\n",
       "      <th>YrSold</th>\n",
       "    </tr>\n",
       "  </thead>\n",
       "  <tbody>\n",
       "    <tr>\n",
       "      <th>0</th>\n",
       "      <td>0.073350</td>\n",
       "      <td>-0.220799</td>\n",
       "      <td>-0.207071</td>\n",
       "      <td>0.651256</td>\n",
       "      <td>-0.517023</td>\n",
       "      <td>1.050634</td>\n",
       "      <td>0.878367</td>\n",
       "      <td>0.513928</td>\n",
       "      <td>0.575228</td>\n",
       "      <td>-0.288554</td>\n",
       "      <td>...</td>\n",
       "      <td>0.350880</td>\n",
       "      <td>-0.751918</td>\n",
       "      <td>0.216429</td>\n",
       "      <td>-0.359202</td>\n",
       "      <td>-0.116299</td>\n",
       "      <td>-0.270116</td>\n",
       "      <td>-0.068668</td>\n",
       "      <td>-0.087658</td>\n",
       "      <td>-1.598563</td>\n",
       "      <td>0.138730</td>\n",
       "    </tr>\n",
       "    <tr>\n",
       "      <th>1</th>\n",
       "      <td>-0.872264</td>\n",
       "      <td>0.460162</td>\n",
       "      <td>-0.091855</td>\n",
       "      <td>-0.071812</td>\n",
       "      <td>2.178881</td>\n",
       "      <td>0.156680</td>\n",
       "      <td>-0.429430</td>\n",
       "      <td>-0.570555</td>\n",
       "      <td>1.171591</td>\n",
       "      <td>-0.288554</td>\n",
       "      <td>...</td>\n",
       "      <td>-0.060710</td>\n",
       "      <td>1.625638</td>\n",
       "      <td>-0.704242</td>\n",
       "      <td>-0.359202</td>\n",
       "      <td>-0.116299</td>\n",
       "      <td>-0.270116</td>\n",
       "      <td>-0.068668</td>\n",
       "      <td>-0.087658</td>\n",
       "      <td>-0.488943</td>\n",
       "      <td>-0.614228</td>\n",
       "    </tr>\n",
       "    <tr>\n",
       "      <th>2</th>\n",
       "      <td>0.073350</td>\n",
       "      <td>-0.084607</td>\n",
       "      <td>0.073455</td>\n",
       "      <td>0.651256</td>\n",
       "      <td>-0.517023</td>\n",
       "      <td>0.984415</td>\n",
       "      <td>0.829930</td>\n",
       "      <td>0.325803</td>\n",
       "      <td>0.092875</td>\n",
       "      <td>-0.288554</td>\n",
       "      <td>...</td>\n",
       "      <td>0.631510</td>\n",
       "      <td>-0.751918</td>\n",
       "      <td>-0.070337</td>\n",
       "      <td>-0.359202</td>\n",
       "      <td>-0.116299</td>\n",
       "      <td>-0.270116</td>\n",
       "      <td>-0.068668</td>\n",
       "      <td>-0.087658</td>\n",
       "      <td>0.990552</td>\n",
       "      <td>0.138730</td>\n",
       "    </tr>\n",
       "    <tr>\n",
       "      <th>3</th>\n",
       "      <td>0.309753</td>\n",
       "      <td>-0.447787</td>\n",
       "      <td>-0.096864</td>\n",
       "      <td>0.651256</td>\n",
       "      <td>-0.517023</td>\n",
       "      <td>-1.862993</td>\n",
       "      <td>-0.720051</td>\n",
       "      <td>-0.570555</td>\n",
       "      <td>-0.499103</td>\n",
       "      <td>-0.288554</td>\n",
       "      <td>...</td>\n",
       "      <td>0.790533</td>\n",
       "      <td>-0.751918</td>\n",
       "      <td>-0.175988</td>\n",
       "      <td>4.091122</td>\n",
       "      <td>-0.116299</td>\n",
       "      <td>-0.270116</td>\n",
       "      <td>-0.068668</td>\n",
       "      <td>-0.087658</td>\n",
       "      <td>-1.598563</td>\n",
       "      <td>-1.367186</td>\n",
       "    </tr>\n",
       "    <tr>\n",
       "      <th>4</th>\n",
       "      <td>0.073350</td>\n",
       "      <td>0.641752</td>\n",
       "      <td>0.375020</td>\n",
       "      <td>1.374324</td>\n",
       "      <td>-0.517023</td>\n",
       "      <td>0.951306</td>\n",
       "      <td>0.733056</td>\n",
       "      <td>1.366021</td>\n",
       "      <td>0.463410</td>\n",
       "      <td>-0.288554</td>\n",
       "      <td>...</td>\n",
       "      <td>1.697903</td>\n",
       "      <td>0.779930</td>\n",
       "      <td>0.563567</td>\n",
       "      <td>-0.359202</td>\n",
       "      <td>-0.116299</td>\n",
       "      <td>-0.270116</td>\n",
       "      <td>-0.068668</td>\n",
       "      <td>-0.087658</td>\n",
       "      <td>2.100173</td>\n",
       "      <td>0.138730</td>\n",
       "    </tr>\n",
       "    <tr>\n",
       "      <th>...</th>\n",
       "      <td>...</td>\n",
       "      <td>...</td>\n",
       "      <td>...</td>\n",
       "      <td>...</td>\n",
       "      <td>...</td>\n",
       "      <td>...</td>\n",
       "      <td>...</td>\n",
       "      <td>...</td>\n",
       "      <td>...</td>\n",
       "      <td>...</td>\n",
       "      <td>...</td>\n",
       "      <td>...</td>\n",
       "      <td>...</td>\n",
       "      <td>...</td>\n",
       "      <td>...</td>\n",
       "      <td>...</td>\n",
       "      <td>...</td>\n",
       "      <td>...</td>\n",
       "      <td>...</td>\n",
       "      <td>...</td>\n",
       "      <td>...</td>\n",
       "    </tr>\n",
       "    <tr>\n",
       "      <th>1455</th>\n",
       "      <td>0.073350</td>\n",
       "      <td>-0.356992</td>\n",
       "      <td>-0.260471</td>\n",
       "      <td>-0.071812</td>\n",
       "      <td>-0.517023</td>\n",
       "      <td>0.918196</td>\n",
       "      <td>0.733056</td>\n",
       "      <td>-0.570555</td>\n",
       "      <td>-0.972685</td>\n",
       "      <td>-0.288554</td>\n",
       "      <td>...</td>\n",
       "      <td>-0.060710</td>\n",
       "      <td>-0.751918</td>\n",
       "      <td>-0.100523</td>\n",
       "      <td>-0.359202</td>\n",
       "      <td>-0.116299</td>\n",
       "      <td>-0.270116</td>\n",
       "      <td>-0.068668</td>\n",
       "      <td>-0.087658</td>\n",
       "      <td>0.620678</td>\n",
       "      <td>-0.614228</td>\n",
       "    </tr>\n",
       "    <tr>\n",
       "      <th>1456</th>\n",
       "      <td>-0.872264</td>\n",
       "      <td>0.687149</td>\n",
       "      <td>0.266316</td>\n",
       "      <td>-0.071812</td>\n",
       "      <td>0.381612</td>\n",
       "      <td>0.222899</td>\n",
       "      <td>0.151813</td>\n",
       "      <td>0.087881</td>\n",
       "      <td>0.759399</td>\n",
       "      <td>0.721865</td>\n",
       "      <td>...</td>\n",
       "      <td>0.126376</td>\n",
       "      <td>2.032535</td>\n",
       "      <td>-0.704242</td>\n",
       "      <td>-0.359202</td>\n",
       "      <td>-0.116299</td>\n",
       "      <td>-0.270116</td>\n",
       "      <td>-0.068668</td>\n",
       "      <td>-0.087658</td>\n",
       "      <td>-1.598563</td>\n",
       "      <td>1.644646</td>\n",
       "    </tr>\n",
       "    <tr>\n",
       "      <th>1457</th>\n",
       "      <td>0.309753</td>\n",
       "      <td>-0.175402</td>\n",
       "      <td>-0.147760</td>\n",
       "      <td>0.651256</td>\n",
       "      <td>3.077516</td>\n",
       "      <td>-1.002149</td>\n",
       "      <td>1.023678</td>\n",
       "      <td>-0.570555</td>\n",
       "      <td>-0.369744</td>\n",
       "      <td>-0.288554</td>\n",
       "      <td>...</td>\n",
       "      <td>-1.033560</td>\n",
       "      <td>-0.751918</td>\n",
       "      <td>0.201336</td>\n",
       "      <td>-0.359202</td>\n",
       "      <td>-0.116299</td>\n",
       "      <td>-0.270116</td>\n",
       "      <td>-0.068668</td>\n",
       "      <td>4.951415</td>\n",
       "      <td>-0.488943</td>\n",
       "      <td>1.644646</td>\n",
       "    </tr>\n",
       "    <tr>\n",
       "      <th>1458</th>\n",
       "      <td>-0.872264</td>\n",
       "      <td>-0.084607</td>\n",
       "      <td>-0.080133</td>\n",
       "      <td>-0.794879</td>\n",
       "      <td>0.381612</td>\n",
       "      <td>-0.704164</td>\n",
       "      <td>0.539309</td>\n",
       "      <td>-0.570555</td>\n",
       "      <td>-0.865252</td>\n",
       "      <td>6.090101</td>\n",
       "      <td>...</td>\n",
       "      <td>-1.089686</td>\n",
       "      <td>2.168167</td>\n",
       "      <td>-0.704242</td>\n",
       "      <td>1.473284</td>\n",
       "      <td>-0.116299</td>\n",
       "      <td>-0.270116</td>\n",
       "      <td>-0.068668</td>\n",
       "      <td>-0.087658</td>\n",
       "      <td>-0.858816</td>\n",
       "      <td>1.644646</td>\n",
       "    </tr>\n",
       "    <tr>\n",
       "      <th>1459</th>\n",
       "      <td>-0.872264</td>\n",
       "      <td>0.233175</td>\n",
       "      <td>-0.058092</td>\n",
       "      <td>-0.794879</td>\n",
       "      <td>0.381612</td>\n",
       "      <td>-0.207523</td>\n",
       "      <td>-0.962236</td>\n",
       "      <td>-0.570555</td>\n",
       "      <td>0.847099</td>\n",
       "      <td>1.509123</td>\n",
       "      <td>...</td>\n",
       "      <td>-0.921308</td>\n",
       "      <td>5.120166</td>\n",
       "      <td>0.322080</td>\n",
       "      <td>-0.359202</td>\n",
       "      <td>-0.116299</td>\n",
       "      <td>-0.270116</td>\n",
       "      <td>-0.068668</td>\n",
       "      <td>-0.087658</td>\n",
       "      <td>-0.119069</td>\n",
       "      <td>0.138730</td>\n",
       "    </tr>\n",
       "  </tbody>\n",
       "</table>\n",
       "<p>1460 rows × 36 columns</p>\n",
       "</div>"
      ],
      "text/plain": [
       "      MSSubClass  LotFrontage   LotArea  OverallQual  OverallCond  YearBuilt  \\\n",
       "0       0.073350    -0.220799 -0.207071     0.651256    -0.517023   1.050634   \n",
       "1      -0.872264     0.460162 -0.091855    -0.071812     2.178881   0.156680   \n",
       "2       0.073350    -0.084607  0.073455     0.651256    -0.517023   0.984415   \n",
       "3       0.309753    -0.447787 -0.096864     0.651256    -0.517023  -1.862993   \n",
       "4       0.073350     0.641752  0.375020     1.374324    -0.517023   0.951306   \n",
       "...          ...          ...       ...          ...          ...        ...   \n",
       "1455    0.073350    -0.356992 -0.260471    -0.071812    -0.517023   0.918196   \n",
       "1456   -0.872264     0.687149  0.266316    -0.071812     0.381612   0.222899   \n",
       "1457    0.309753    -0.175402 -0.147760     0.651256     3.077516  -1.002149   \n",
       "1458   -0.872264    -0.084607 -0.080133    -0.794879     0.381612  -0.704164   \n",
       "1459   -0.872264     0.233175 -0.058092    -0.794879     0.381612  -0.207523   \n",
       "\n",
       "      YearRemodAdd  MasVnrArea  BsmtFinSF1  BsmtFinSF2  ...  GarageArea  \\\n",
       "0         0.878367    0.513928    0.575228   -0.288554  ...    0.350880   \n",
       "1        -0.429430   -0.570555    1.171591   -0.288554  ...   -0.060710   \n",
       "2         0.829930    0.325803    0.092875   -0.288554  ...    0.631510   \n",
       "3        -0.720051   -0.570555   -0.499103   -0.288554  ...    0.790533   \n",
       "4         0.733056    1.366021    0.463410   -0.288554  ...    1.697903   \n",
       "...            ...         ...         ...         ...  ...         ...   \n",
       "1455      0.733056   -0.570555   -0.972685   -0.288554  ...   -0.060710   \n",
       "1456      0.151813    0.087881    0.759399    0.721865  ...    0.126376   \n",
       "1457      1.023678   -0.570555   -0.369744   -0.288554  ...   -1.033560   \n",
       "1458      0.539309   -0.570555   -0.865252    6.090101  ...   -1.089686   \n",
       "1459     -0.962236   -0.570555    0.847099    1.509123  ...   -0.921308   \n",
       "\n",
       "      WoodDeckSF  OpenPorchSF  EnclosedPorch  3SsnPorch  ScreenPorch  \\\n",
       "0      -0.751918     0.216429      -0.359202  -0.116299    -0.270116   \n",
       "1       1.625638    -0.704242      -0.359202  -0.116299    -0.270116   \n",
       "2      -0.751918    -0.070337      -0.359202  -0.116299    -0.270116   \n",
       "3      -0.751918    -0.175988       4.091122  -0.116299    -0.270116   \n",
       "4       0.779930     0.563567      -0.359202  -0.116299    -0.270116   \n",
       "...          ...          ...            ...        ...          ...   \n",
       "1455   -0.751918    -0.100523      -0.359202  -0.116299    -0.270116   \n",
       "1456    2.032535    -0.704242      -0.359202  -0.116299    -0.270116   \n",
       "1457   -0.751918     0.201336      -0.359202  -0.116299    -0.270116   \n",
       "1458    2.168167    -0.704242       1.473284  -0.116299    -0.270116   \n",
       "1459    5.120166     0.322080      -0.359202  -0.116299    -0.270116   \n",
       "\n",
       "      PoolArea   MiscVal    MoSold    YrSold  \n",
       "0    -0.068668 -0.087658 -1.598563  0.138730  \n",
       "1    -0.068668 -0.087658 -0.488943 -0.614228  \n",
       "2    -0.068668 -0.087658  0.990552  0.138730  \n",
       "3    -0.068668 -0.087658 -1.598563 -1.367186  \n",
       "4    -0.068668 -0.087658  2.100173  0.138730  \n",
       "...        ...       ...       ...       ...  \n",
       "1455 -0.068668 -0.087658  0.620678 -0.614228  \n",
       "1456 -0.068668 -0.087658 -1.598563  1.644646  \n",
       "1457 -0.068668  4.951415 -0.488943  1.644646  \n",
       "1458 -0.068668 -0.087658 -0.858816  1.644646  \n",
       "1459 -0.068668 -0.087658 -0.119069  0.138730  \n",
       "\n",
       "[1460 rows x 36 columns]"
      ]
     },
     "execution_count": 56,
     "metadata": {},
     "output_type": "execute_result"
    }
   ],
   "source": [
    "normalized = data.copy()\n",
    "normalized = (normalized - normalized.mean()) / normalized.std()\n",
    "normalized"
   ]
  },
  {
   "cell_type": "code",
   "execution_count": 57,
   "metadata": {},
   "outputs": [
    {
     "data": {
      "text/html": [
       "<div>\n",
       "<style scoped>\n",
       "    .dataframe tbody tr th:only-of-type {\n",
       "        vertical-align: middle;\n",
       "    }\n",
       "\n",
       "    .dataframe tbody tr th {\n",
       "        vertical-align: top;\n",
       "    }\n",
       "\n",
       "    .dataframe thead th {\n",
       "        text-align: right;\n",
       "    }\n",
       "</style>\n",
       "<table border=\"1\" class=\"dataframe\">\n",
       "  <thead>\n",
       "    <tr style=\"text-align: right;\">\n",
       "      <th></th>\n",
       "      <th>MSE</th>\n",
       "      <th>RMSE</th>\n",
       "      <th>MAE</th>\n",
       "    </tr>\n",
       "  </thead>\n",
       "  <tbody>\n",
       "    <tr>\n",
       "      <th>knn_5</th>\n",
       "      <td>2.073065e+09</td>\n",
       "      <td>45530.924480</td>\n",
       "      <td>30126.024658</td>\n",
       "    </tr>\n",
       "    <tr>\n",
       "      <th>knn_20</th>\n",
       "      <td>2.282033e+09</td>\n",
       "      <td>47770.633491</td>\n",
       "      <td>32541.681644</td>\n",
       "    </tr>\n",
       "    <tr>\n",
       "      <th>knn_50</th>\n",
       "      <td>2.462612e+09</td>\n",
       "      <td>49624.706820</td>\n",
       "      <td>33581.821041</td>\n",
       "    </tr>\n",
       "    <tr>\n",
       "      <th>knn_20_normalized</th>\n",
       "      <td>1.314131e+09</td>\n",
       "      <td>36250.940206</td>\n",
       "      <td>22322.166027</td>\n",
       "    </tr>\n",
       "  </tbody>\n",
       "</table>\n",
       "</div>"
      ],
      "text/plain": [
       "                            MSE          RMSE           MAE\n",
       "knn_5              2.073065e+09  45530.924480  30126.024658\n",
       "knn_20             2.282033e+09  47770.633491  32541.681644\n",
       "knn_50             2.462612e+09  49624.706820  33581.821041\n",
       "knn_20_normalized  1.314131e+09  36250.940206  22322.166027"
      ]
     },
     "execution_count": 57,
     "metadata": {},
     "output_type": "execute_result"
    }
   ],
   "source": [
    "#select a model and hyperparameters\n",
    "knn = KNeighborsRegressor(n_neighbors=20)\n",
    "\n",
    "#split train and test\n",
    "X_train, X_test, y_train, y_test = train_test_split(normalized,housing_y)\n",
    "\n",
    "#learn on the training set\n",
    "knn.fit(X_train,y_train)\n",
    "#Precict on the test set\n",
    "y_hat = knn.predict(X_test)\n",
    "\n",
    "#Evaluate\n",
    "errors = y_test - y_hat\n",
    "mae = np.mean(np.abs(errors))\n",
    "mse = np.mean(errors ** 2)\n",
    "rmse = np.sqrt(mse)\n",
    "\n",
    "\n",
    "results_housing.loc['knn_20_normalized'] = [mse,rmse,mae]\n",
    "results_housing"
   ]
  },
  {
   "cell_type": "code",
   "execution_count": null,
   "metadata": {},
   "outputs": [],
   "source": []
  },
  {
   "cell_type": "markdown",
   "metadata": {},
   "source": [
    "## Decision Tree Regression\n"
   ]
  },
  {
   "cell_type": "code",
   "execution_count": 136,
   "metadata": {
    "scrolled": false
   },
   "outputs": [
    {
     "data": {
      "text/plain": [
       "[<matplotlib.lines.Line2D at 0x7f23331cc040>]"
      ]
     },
     "execution_count": 136,
     "metadata": {},
     "output_type": "execute_result"
    },
    {
     "data": {
      "image/png": "[encoded data removed]",
      "text/plain": [
       "<Figure size 432x288 with 1 Axes>"
      ]
     },
     "metadata": {
      "needs_background": "light"
     },
     "output_type": "display_data"
    }
   ],
   "source": [
    "from sklearn.tree import DecisionTreeRegressor\n",
    "\n",
    "dt = DecisionTreeRegressor(max_depth=10,\n",
    "                           min_samples_leaf=20)# cuanta menos profundidad mayor varianza, basta comparar con 20 y con 5 para ver la diferencia\n",
    "\n",
    "X_train, X_test, y_train, y_test = train_test_split(X, y)\n",
    "\n",
    "dt.fit(X_train, y_train)\n",
    "\n",
    "plt.scatter(X, y)\n",
    "xs = np.linspace(min(X)-2, max(X)+2)\n",
    "plt.plot(xs, dt.predict(xs), c='orange')"
   ]
  },
  {
   "cell_type": "code",
   "execution_count": 138,
   "metadata": {
    "scrolled": true
   },
   "outputs": [
    {
     "data": {
      "text/html": [
       "<div>\n",
       "<style scoped>\n",
       "    .dataframe tbody tr th:only-of-type {\n",
       "        vertical-align: middle;\n",
       "    }\n",
       "\n",
       "    .dataframe tbody tr th {\n",
       "        vertical-align: top;\n",
       "    }\n",
       "\n",
       "    .dataframe thead th {\n",
       "        text-align: right;\n",
       "    }\n",
       "</style>\n",
       "<table border=\"1\" class=\"dataframe\">\n",
       "  <thead>\n",
       "    <tr style=\"text-align: right;\">\n",
       "      <th></th>\n",
       "      <th>MSE</th>\n",
       "      <th>RMSE</th>\n",
       "      <th>MAE</th>\n",
       "    </tr>\n",
       "  </thead>\n",
       "  <tbody>\n",
       "    <tr>\n",
       "      <th>linear_regression</th>\n",
       "      <td>3054.769565</td>\n",
       "      <td>55.269970</td>\n",
       "      <td>43.770447</td>\n",
       "    </tr>\n",
       "    <tr>\n",
       "      <th>knn_5</th>\n",
       "      <td>3347.045405</td>\n",
       "      <td>57.853655</td>\n",
       "      <td>46.881081</td>\n",
       "    </tr>\n",
       "    <tr>\n",
       "      <th>knn_20</th>\n",
       "      <td>3196.589685</td>\n",
       "      <td>56.538391</td>\n",
       "      <td>45.205405</td>\n",
       "    </tr>\n",
       "    <tr>\n",
       "      <th>knn_50</th>\n",
       "      <td>3064.139153</td>\n",
       "      <td>55.354667</td>\n",
       "      <td>47.310090</td>\n",
       "    </tr>\n",
       "    <tr>\n",
       "      <th>dt_2</th>\n",
       "      <td>7128.145050</td>\n",
       "      <td>84.428343</td>\n",
       "      <td>67.932875</td>\n",
       "    </tr>\n",
       "    <tr>\n",
       "      <th>dt_8</th>\n",
       "      <td>6290.578755</td>\n",
       "      <td>79.313169</td>\n",
       "      <td>61.192593</td>\n",
       "    </tr>\n",
       "  </tbody>\n",
       "</table>\n",
       "</div>"
      ],
      "text/plain": [
       "                           MSE       RMSE        MAE\n",
       "linear_regression  3054.769565  55.269970  43.770447\n",
       "knn_5              3347.045405  57.853655  46.881081\n",
       "knn_20             3196.589685  56.538391  45.205405\n",
       "knn_50             3064.139153  55.354667  47.310090\n",
       "dt_2               7128.145050  84.428343  67.932875\n",
       "dt_8               6290.578755  79.313169  61.192593"
      ]
     },
     "execution_count": 138,
     "metadata": {},
     "output_type": "execute_result"
    }
   ],
   "source": [
    "dt = DecisionTreeRegressor(max_depth=8)\n",
    "\n",
    "X_train, X_test, y_train, y_test = train_test_split(diabetes_X, diabetes_y)\n",
    "\n",
    "dt.fit(X_train, y_train)\n",
    "y_hat = dt.predict(X_test)\n",
    "\n",
    "errors = y_test - y_hat\n",
    "mae = np.mean(np.abs(errors))\n",
    "mse = np.mean(errors ** 2)\n",
    "rmse = np.sqrt(mse)\n",
    "\n",
    "\n",
    "results_diabetes.loc['dt_8'] = [mse,rmse,mae]\n",
    "results_diabetes"
   ]
  },
  {
   "cell_type": "code",
   "execution_count": 142,
   "metadata": {},
   "outputs": [
    {
     "data": {
      "text/html": [
       "<div>\n",
       "<style scoped>\n",
       "    .dataframe tbody tr th:only-of-type {\n",
       "        vertical-align: middle;\n",
       "    }\n",
       "\n",
       "    .dataframe tbody tr th {\n",
       "        vertical-align: top;\n",
       "    }\n",
       "\n",
       "    .dataframe thead th {\n",
       "        text-align: right;\n",
       "    }\n",
       "</style>\n",
       "<table border=\"1\" class=\"dataframe\">\n",
       "  <thead>\n",
       "    <tr style=\"text-align: right;\">\n",
       "      <th></th>\n",
       "      <th>MSE</th>\n",
       "      <th>RMSE</th>\n",
       "      <th>MAE</th>\n",
       "    </tr>\n",
       "  </thead>\n",
       "  <tbody>\n",
       "    <tr>\n",
       "      <th>linear_regression</th>\n",
       "      <td>9.249496e+08</td>\n",
       "      <td>30412.984335</td>\n",
       "      <td>21040.804268</td>\n",
       "    </tr>\n",
       "    <tr>\n",
       "      <th>knn_5</th>\n",
       "      <td>1.974752e+09</td>\n",
       "      <td>44438.183440</td>\n",
       "      <td>27742.072877</td>\n",
       "    </tr>\n",
       "    <tr>\n",
       "      <th>knn_20</th>\n",
       "      <td>2.502100e+09</td>\n",
       "      <td>50021.000343</td>\n",
       "      <td>31993.823014</td>\n",
       "    </tr>\n",
       "    <tr>\n",
       "      <th>knn_50</th>\n",
       "      <td>3.299496e+09</td>\n",
       "      <td>57441.243392</td>\n",
       "      <td>34683.314849</td>\n",
       "    </tr>\n",
       "    <tr>\n",
       "      <th>knn_20_normalized</th>\n",
       "      <td>1.864238e+09</td>\n",
       "      <td>43176.818917</td>\n",
       "      <td>24958.403288</td>\n",
       "    </tr>\n",
       "    <tr>\n",
       "      <th>dt_4</th>\n",
       "      <td>2.104822e+09</td>\n",
       "      <td>45878.342766</td>\n",
       "      <td>28086.388140</td>\n",
       "    </tr>\n",
       "    <tr>\n",
       "      <th>dt_4_normalized</th>\n",
       "      <td>1.526920e+09</td>\n",
       "      <td>39075.825932</td>\n",
       "      <td>28677.985416</td>\n",
       "    </tr>\n",
       "  </tbody>\n",
       "</table>\n",
       "</div>"
      ],
      "text/plain": [
       "                            MSE          RMSE           MAE\n",
       "linear_regression  9.249496e+08  30412.984335  21040.804268\n",
       "knn_5              1.974752e+09  44438.183440  27742.072877\n",
       "knn_20             2.502100e+09  50021.000343  31993.823014\n",
       "knn_50             3.299496e+09  57441.243392  34683.314849\n",
       "knn_20_normalized  1.864238e+09  43176.818917  24958.403288\n",
       "dt_4               2.104822e+09  45878.342766  28086.388140\n",
       "dt_4_normalized    1.526920e+09  39075.825932  28677.985416"
      ]
     },
     "execution_count": 142,
     "metadata": {},
     "output_type": "execute_result"
    }
   ],
   "source": [
    "dt = DecisionTreeRegressor(max_depth=4)\n",
    "\n",
    "X_train, X_test, y_train, y_test = train_test_split(normalized, housing_y)\n",
    "\n",
    "dt.fit(X_train, y_train)\n",
    "y_hat = dt.predict(X_test)\n",
    "\n",
    "errors = y_test - y_hat\n",
    "mae = np.mean(np.abs(errors))\n",
    "mse = np.mean(errors ** 2)\n",
    "rmse = np.sqrt(mse)\n",
    "\n",
    "\n",
    "results_housing.loc['dt_4_normalized'] = [mse,rmse,mae]\n",
    "results_housing"
   ]
  },
  {
   "cell_type": "code",
   "execution_count": 143,
   "metadata": {},
   "outputs": [
    {
     "data": {
      "text/html": [
       "<div>\n",
       "<style scoped>\n",
       "    .dataframe tbody tr th:only-of-type {\n",
       "        vertical-align: middle;\n",
       "    }\n",
       "\n",
       "    .dataframe tbody tr th {\n",
       "        vertical-align: top;\n",
       "    }\n",
       "\n",
       "    .dataframe thead th {\n",
       "        text-align: right;\n",
       "    }\n",
       "</style>\n",
       "<table border=\"1\" class=\"dataframe\">\n",
       "  <thead>\n",
       "    <tr style=\"text-align: right;\">\n",
       "      <th></th>\n",
       "      <th>MSE</th>\n",
       "      <th>RMSE</th>\n",
       "      <th>MAE</th>\n",
       "    </tr>\n",
       "  </thead>\n",
       "  <tbody>\n",
       "    <tr>\n",
       "      <th>linear_regression</th>\n",
       "      <td>9.249496e+08</td>\n",
       "      <td>30412.984335</td>\n",
       "      <td>21040.804268</td>\n",
       "    </tr>\n",
       "    <tr>\n",
       "      <th>knn_5</th>\n",
       "      <td>1.974752e+09</td>\n",
       "      <td>44438.183440</td>\n",
       "      <td>27742.072877</td>\n",
       "    </tr>\n",
       "    <tr>\n",
       "      <th>knn_20</th>\n",
       "      <td>2.502100e+09</td>\n",
       "      <td>50021.000343</td>\n",
       "      <td>31993.823014</td>\n",
       "    </tr>\n",
       "    <tr>\n",
       "      <th>knn_50</th>\n",
       "      <td>3.299496e+09</td>\n",
       "      <td>57441.243392</td>\n",
       "      <td>34683.314849</td>\n",
       "    </tr>\n",
       "    <tr>\n",
       "      <th>knn_20_normalized</th>\n",
       "      <td>1.864238e+09</td>\n",
       "      <td>43176.818917</td>\n",
       "      <td>24958.403288</td>\n",
       "    </tr>\n",
       "    <tr>\n",
       "      <th>dt_4</th>\n",
       "      <td>1.325138e+09</td>\n",
       "      <td>36402.441567</td>\n",
       "      <td>26461.761372</td>\n",
       "    </tr>\n",
       "    <tr>\n",
       "      <th>dt_4_normalized</th>\n",
       "      <td>1.526920e+09</td>\n",
       "      <td>39075.825932</td>\n",
       "      <td>28677.985416</td>\n",
       "    </tr>\n",
       "  </tbody>\n",
       "</table>\n",
       "</div>"
      ],
      "text/plain": [
       "                            MSE          RMSE           MAE\n",
       "linear_regression  9.249496e+08  30412.984335  21040.804268\n",
       "knn_5              1.974752e+09  44438.183440  27742.072877\n",
       "knn_20             2.502100e+09  50021.000343  31993.823014\n",
       "knn_50             3.299496e+09  57441.243392  34683.314849\n",
       "knn_20_normalized  1.864238e+09  43176.818917  24958.403288\n",
       "dt_4               1.325138e+09  36402.441567  26461.761372\n",
       "dt_4_normalized    1.526920e+09  39075.825932  28677.985416"
      ]
     },
     "execution_count": 143,
     "metadata": {},
     "output_type": "execute_result"
    }
   ],
   "source": [
    "dt = DecisionTreeRegressor(max_depth=4)\n",
    "\n",
    "X_train, X_test, y_train, y_test = train_test_split(data, housing_y)\n",
    "\n",
    "dt.fit(X_train, y_train)\n",
    "y_hat = dt.predict(X_test)\n",
    "\n",
    "errors = y_test - y_hat\n",
    "mae = np.mean(np.abs(errors))\n",
    "mse = np.mean(errors ** 2)\n",
    "rmse = np.sqrt(mse)\n",
    "\n",
    "\n",
    "results_housing.loc['dt_4'] = [mse,rmse,mae]\n",
    "results_housing"
   ]
  },
  {
   "cell_type": "markdown",
   "metadata": {},
   "source": [
    "# Generalizability of our models\n",
    "\n",
    "We want to train models on known data in order to make inferences (predictions) on unknown data.\n",
    "\n",
    "How do we know how good our models are? "
   ]
  },
  {
   "cell_type": "code",
   "execution_count": null,
   "metadata": {},
   "outputs": [],
   "source": []
  },
  {
   "cell_type": "markdown",
   "metadata": {},
   "source": [
    "## Overfitting\n",
    "\n",
    "![Under- and overfitting](https://djsaunde.files.wordpress.com/2017/07/bias-variance-tradeoff.png)\n",
    "\n",
    "from https://djsaunde.wordpress.com/2017/07/17/the-bias-variance-tradeoff/"
   ]
  },
  {
   "cell_type": "code",
   "execution_count": null,
   "metadata": {},
   "outputs": [],
   "source": []
  },
  {
   "cell_type": "markdown",
   "metadata": {},
   "source": [
    "# Additional References\n",
    "\n",
    "\n",
    "[An Introduction to Statistical Learning](http://www-bcf.usc.edu/~gareth/ISL/)\n",
    "\n",
    "[Introduction to Machine Learning with Python](http://shop.oreilly.com/product/0636920030515.do)\n",
    "\n",
    "[scikit-learn cheat sheet](https://s3.amazonaws.com/assets.datacamp.com/blog_assets/Scikit_Learn_Cheat_Sheet_Python.pdf)\n",
    "\n",
    "[Regression metrics in sklearn](https://scikit-learn.org/stable/modules/model_evaluation.html#regression-metrics)"
   ]
  },
  {
   "cell_type": "code",
   "execution_count": null,
   "metadata": {},
   "outputs": [],
   "source": []
  }
 ],
 "metadata": {
  "kernelspec": {
   "display_name": "Python 3 (ipykernel)",
   "language": "python",
   "name": "python3"
  },
  "language_info": {
   "codemirror_mode": {
    "name": "ipython",
    "version": 3
   },
   "file_extension": ".py",
   "mimetype": "text/x-python",
   "name": "python",
   "nbconvert_exporter": "python",
   "pygments_lexer": "ipython3",
   "version": "3.8.2"
  },
  "toc": {
   "base_numbering": 1,
   "nav_menu": {
    "height": "617px",
    "width": "426px"
   },
   "number_sections": true,
   "sideBar": true,
   "skip_h1_title": false,
   "title_cell": "Table of Contents",
   "title_sidebar": "Contents",
   "toc_cell": false,
   "toc_position": {},
   "toc_section_display": true,
   "toc_window_display": false
  }
 },
 "nbformat": 4,
 "nbformat_minor": 4
}
