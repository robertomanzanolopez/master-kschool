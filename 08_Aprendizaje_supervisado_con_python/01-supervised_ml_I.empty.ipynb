{
 "cells": [
  {
   "cell_type": "markdown",
   "metadata": {
    "slideshow": {
     "slide_type": "slide"
    }
   },
   "source": [
    "# Supervised Machine Learning with Python I\n",
    "\n",
    "\n",
    "<img src=\"https://www.python.org/static/img/python-logo.png\" alt=\"yogen\" style=\"width: 200px; float: right;\"/>\n",
    "<br>\n",
    "<br>\n",
    "<br>\n",
    "<img src=\"../assets/yogen-logo.png\" alt=\"yogen\" style=\"width: 200px; float: right;\"/>"
   ]
  },
  {
   "cell_type": "markdown",
   "metadata": {
    "slideshow": {
     "slide_type": "slide"
    }
   },
   "source": [
    "# Objectives\n",
    "\n",
    "* Learn the basic principles of Machine Learning\n",
    "\n",
    "* Get to know the `scikit-learn` library and how to use it for Machine Learning.\n",
    "\n",
    "* Understand the close relationship between ML and optimization\n",
    "\n",
    "* Learn how to do linear regression with `scikit-learn`\n",
    "\n",
    "* Learn how to evaluate the results of training a regression algorithm\n"
   ]
  },
  {
   "cell_type": "markdown",
   "metadata": {
    "slideshow": {
     "slide_type": "slide"
    }
   },
   "source": [
    "# Machine Learning\n"
   ]
  },
  {
   "cell_type": "markdown",
   "metadata": {
    "slideshow": {
     "slide_type": "slide"
    }
   },
   "source": [
    "# `scikit-learn`"
   ]
  },
  {
   "cell_type": "markdown",
   "metadata": {
    "slideshow": {
     "slide_type": "fragment"
    }
   },
   "source": [
    "![scikit-learn cheat sheet](http://amueller.github.io/sklearn_tutorial/cheat_sheet.png)"
   ]
  },
  {
   "cell_type": "code",
   "execution_count": null,
   "metadata": {},
   "outputs": [],
   "source": []
  },
  {
   "cell_type": "markdown",
   "metadata": {
    "slideshow": {
     "slide_type": "slide"
    }
   },
   "source": [
    "## Linear Regression as a model for Machine Learning\n",
    "\n",
    "Linear regression finds an $h_\\theta$ of the form:\n",
    "\n",
    "$$ h_\\theta(X) = \\theta \\cdot X = \\theta_0 + \\theta_1 \\cdot X_1 + ... + \\beta_n \\cdot X_n$$\n",
    "\n",
    "\n",
    "Notice that X is **fixed**: we have one set of data. Finding $h_\\theta(X)$ means finding the values of $\\theta$ that make $h_\\theta(X)$ most similar to y.\n",
    "\n",
    "\n"
   ]
  },
  {
   "cell_type": "markdown",
   "metadata": {},
   "source": [
    "### Cost (loss) function\n",
    "\n",
    "Difference between  $h_\\theta(X)$  and y\n",
    "\n",
    "$$L(\\theta) = h_\\theta(X) - y$$\n",
    "\n",
    "We need to minimize it: we need its derivative _with respect to $\\theta_i$_"
   ]
  },
  {
   "cell_type": "markdown",
   "metadata": {},
   "source": [
    "## ML is optimization of a loss function.\n",
    "\n",
    "In the case of Linear Regression, we are lucky because we can get an analytic expression of the derivative. That means we can \"teleport\" to its minimum.\n",
    "\n",
    "In many other algorithms we can't, but we can calculate the derivative numerically at any point we want. How can we use that to find the minima?"
   ]
  },
  {
   "cell_type": "code",
   "execution_count": null,
   "metadata": {},
   "outputs": [],
   "source": []
  },
  {
   "cell_type": "markdown",
   "metadata": {},
   "source": [
    "### Gradient descent\n",
    "\n",
    "![Gradient Descent](http://cdn-images-1.medium.com/max/800/1*NRCWfdXa7b-ak2nBtmwRvw.png)\n",
    "\n",
    "from [primo.ai](http://primo.ai/)"
   ]
  },
  {
   "cell_type": "markdown",
   "metadata": {},
   "source": [
    "# Machine Learning with Python: `scikit-learn`"
   ]
  },
  {
   "cell_type": "markdown",
   "metadata": {
    "slideshow": {
     "slide_type": "slide"
    }
   },
   "source": [
    "## Generate dummy data"
   ]
  },
  {
   "cell_type": "markdown",
   "metadata": {
    "slideshow": {
     "slide_type": "fragment"
    }
   },
   "source": [
    "We are going to generate fake data before we dive into real data"
   ]
  },
  {
   "cell_type": "code",
   "execution_count": 2,
   "metadata": {},
   "outputs": [],
   "source": [
    "import pandas as pd\n",
    "import numpy as np\n",
    "import matplotlib.pyplot as plt\n",
    "from sklearn import datasets"
   ]
  },
  {
   "cell_type": "code",
   "execution_count": 7,
   "metadata": {},
   "outputs": [
    {
     "data": {
      "text/plain": [
       "(300, 1)"
      ]
     },
     "execution_count": 7,
     "metadata": {},
     "output_type": "execute_result"
    }
   ],
   "source": [
    "n_sample = 300\n",
    "n_features = 1\n",
    "\n",
    "X, y = datasets.make_regression(n_sample, n_features, noise=20)\n",
    "\n",
    "X.shape"
   ]
  },
  {
   "cell_type": "code",
   "execution_count": 8,
   "metadata": {},
   "outputs": [
    {
     "data": {
      "text/plain": [
       "<matplotlib.collections.PathCollection at 0x7f233d7a46d0>"
      ]
     },
     "execution_count": 8,
     "metadata": {},
     "output_type": "execute_result"
    },
    {
     "data": {
      "image/png": "[encoded data removed]",
      "text/plain": [
       "<Figure size 432x288 with 1 Axes>"
      ]
     },
     "metadata": {
      "needs_background": "light"
     },
     "output_type": "display_data"
    }
   ],
   "source": [
    "plt.scatter(X, y)"
   ]
  },
  {
   "cell_type": "code",
   "execution_count": 9,
   "metadata": {},
   "outputs": [],
   "source": [
    "from sklearn.linear_model import LinearRegression\n",
    "\n",
    "lr = LinearRegression()"
   ]
  },
  {
   "cell_type": "code",
   "execution_count": 10,
   "metadata": {},
   "outputs": [
    {
     "data": {
      "text/plain": [
       "LinearRegression()"
      ]
     },
     "execution_count": 10,
     "metadata": {},
     "output_type": "execute_result"
    }
   ],
   "source": [
    "lr.fit(X, y)"
   ]
  },
  {
   "cell_type": "code",
   "execution_count": 11,
   "metadata": {},
   "outputs": [
    {
     "data": {
      "text/plain": [
       "array([ 6.69795829e+01, -4.92475160e+01,  6.97692198e+00, -1.23264876e+01,\n",
       "        2.61938930e+01,  3.53305838e+01, -1.70155044e+01, -5.49592023e+00,\n",
       "       -1.96127852e+01,  5.11917167e+01,  2.90367134e+01, -9.43353880e+00,\n",
       "       -1.57789028e+01, -3.63677750e+01, -4.39063861e+01,  2.36366860e+01,\n",
       "        1.35191031e+01, -2.38422286e+01, -3.04302117e+01,  4.15695033e+01,\n",
       "        3.63953115e+01,  4.00425211e+01,  4.68745203e+01, -8.41700263e+00,\n",
       "        2.49362163e+01,  1.79715316e+01,  1.70733073e+01,  6.61162359e+01,\n",
       "       -2.01378012e+01,  4.94306647e+01, -1.60933787e+01, -3.78555648e+01,\n",
       "       -1.07639478e+01,  3.23453363e+01,  5.04075678e+01,  1.17090991e+01,\n",
       "       -3.13642717e+01, -1.14249388e+01,  3.46075740e+01, -3.79196594e+00,\n",
       "       -1.21594433e+01,  1.85694729e+01, -1.35704841e+01, -7.59931495e+00,\n",
       "        9.82719665e+00, -1.74233555e+01,  2.98733233e+01, -4.38796160e+00,\n",
       "        6.18281812e+01, -2.43952341e+01,  1.63361326e+01, -9.38641161e+00,\n",
       "        4.11841079e+01, -1.04619583e+01, -3.01610847e+01, -6.48992970e+00,\n",
       "       -7.88494663e+00,  7.57343024e+00, -1.03394978e+01, -8.92345146e+00,\n",
       "       -2.99668014e+01,  1.55023565e+01, -1.03087480e+02,  1.79259014e+00,\n",
       "       -8.26411071e+00, -4.86658819e+01, -1.59039492e+01,  4.02742028e+01,\n",
       "       -1.82192641e+00, -2.81527080e+00,  3.57762486e+01,  5.58926514e+01,\n",
       "        3.33394780e+01,  4.42311765e+01, -2.87311719e+01, -1.23868835e+00,\n",
       "        1.50745771e+01,  6.16197980e+00,  3.15744088e+00,  3.48445661e+01,\n",
       "        3.66429326e+00,  3.65450320e+01,  2.26860526e+01, -2.14877061e+01,\n",
       "        2.76996002e+01,  2.80801325e+00, -5.95438132e+00,  1.58354419e+01,\n",
       "        2.61929821e+01, -3.09110584e+01,  5.49311034e+01, -3.20788999e+01,\n",
       "        3.31398935e+01,  1.98637712e+01, -2.94808699e+00,  1.26276545e+01,\n",
       "       -1.21953375e+00,  5.17323163e+00, -1.24068545e+01,  3.62210445e+00,\n",
       "        2.15995628e+01, -2.48872410e+01, -5.98164687e+01, -1.20464603e+00,\n",
       "       -5.94046804e+01, -1.15680947e+01,  6.72728853e+01,  2.46098303e+01,\n",
       "       -6.66712961e+01,  4.31242919e+01,  1.36117747e+01,  1.16461121e+01,\n",
       "       -1.80773804e+00, -1.90581704e+01, -5.79442808e+01,  2.15383834e+01,\n",
       "       -7.96422821e+00,  1.34156653e+01, -4.97655126e+00, -5.94079736e+00,\n",
       "        1.51196664e+01, -1.64843367e+01,  3.85255861e+01,  3.22486368e+01,\n",
       "        6.70565119e+00,  1.96535261e+00,  5.67316433e+00, -2.38703304e+01,\n",
       "        3.78687270e+01,  1.61389491e+00,  2.85165334e+01, -1.18534766e+01,\n",
       "        3.17990756e+01, -3.43989264e+01,  4.70976223e-01, -2.93740625e+01,\n",
       "       -2.10244464e+01, -2.20370369e+01,  1.84692796e+01, -7.84817583e+00,\n",
       "        8.16660888e+00,  3.24514038e+01, -4.78440427e+01,  4.05603585e+01,\n",
       "        2.80538887e+01,  1.93246615e+01,  7.05420344e+00, -5.46906371e+01,\n",
       "       -4.86987593e-02,  6.32015060e+00, -4.21619954e+01, -2.84318027e+01,\n",
       "        2.92266771e+01, -5.91334030e+00,  1.73399844e+01, -4.21162363e+01,\n",
       "       -3.43430398e+01,  1.93031477e+01, -4.12224664e+01, -2.55630686e+01,\n",
       "        3.90672481e+01,  3.49369858e+01, -4.39163313e+01,  2.95922906e+01,\n",
       "        1.41712707e+00,  2.38900246e+01, -1.34249539e+01, -2.30053470e+00,\n",
       "        2.21969635e+00,  4.58354185e+01, -4.64054936e+00,  1.82370184e+01,\n",
       "       -5.02073855e+01,  7.17851647e+01, -4.00730162e+01,  6.20707639e+00,\n",
       "        2.03405967e+01, -2.85335075e+01, -2.23266022e+01, -2.85364813e+01,\n",
       "       -1.17071697e+01,  1.74291365e+01, -1.56704875e+01, -2.02540180e+01,\n",
       "       -6.23053488e+00,  2.33099056e+01,  4.33451117e+01,  4.58287217e+01,\n",
       "       -2.29914572e+01, -3.69196675e+01, -6.78346399e+00, -1.03771942e+01,\n",
       "        1.02686510e+01, -2.20441302e+01, -4.75928235e+01, -3.32928066e+01,\n",
       "       -3.97024525e+01,  6.15839172e+00, -3.27870713e+01,  1.99707504e+01,\n",
       "       -2.99460970e+01, -3.23977397e+00,  2.51242968e+01,  3.76437058e+01,\n",
       "       -2.67058465e+01, -3.81975160e+01,  3.05903087e+01,  2.55997990e+00,\n",
       "       -4.77690162e+01, -7.68944592e+00,  2.21518991e+01, -4.76996904e+01,\n",
       "        5.89581018e+01, -4.57212174e+01,  7.94793444e+00, -1.70239132e+01,\n",
       "       -1.00795478e+01,  4.49098368e+01,  5.97954015e+01, -2.70060132e+01,\n",
       "       -2.49756886e+01, -3.99813042e+01, -1.30249519e+01, -1.68519260e+01,\n",
       "        5.54230019e+01,  6.36272950e+01, -4.17089822e+01,  5.65007971e+01,\n",
       "        2.97994172e+01, -6.40046261e+00,  4.84384682e-01, -1.23328520e+01,\n",
       "        1.07947267e+01,  1.58912182e+01,  1.21199258e+01, -3.43862646e+01,\n",
       "        3.51456633e+01, -2.06582065e+01,  7.20248489e+01, -1.13539623e+01,\n",
       "       -4.22228287e+01,  5.78479118e+01,  1.53027543e+01, -2.29080788e+01,\n",
       "        2.98747652e+01,  2.21456814e+01,  6.86505477e+00,  3.85992528e+01,\n",
       "       -1.96120572e+01,  2.16808751e+01, -1.01146994e+01,  6.05066809e+00,\n",
       "        8.13696285e+00, -8.22079271e-02,  9.69880384e+00, -1.51173841e+01,\n",
       "       -3.26674408e+01, -5.07202436e+01, -2.88897893e+01,  2.86455058e+00,\n",
       "        3.90422687e+01,  5.93359615e+00, -3.37644122e+01,  1.98085957e+01,\n",
       "       -1.20717948e+01,  3.06951970e+01,  4.19225052e+01,  5.39640371e+01,\n",
       "        5.96593319e+01,  3.66751087e+01, -5.47851985e+00,  6.18008642e+00,\n",
       "       -1.63185755e+01,  3.01896669e+01,  4.56072197e+01,  3.97922354e+01,\n",
       "       -3.93526786e+01, -6.29188600e+01, -3.37794253e+01,  6.56896459e+01,\n",
       "        3.46356858e+01,  6.21061426e+01, -4.62524619e+01,  5.05011618e+01,\n",
       "        6.39835238e+01, -1.97082938e+00,  3.30459970e+01, -4.98394832e+00,\n",
       "       -2.64123258e+01,  7.09529253e+01, -1.05479393e+01, -4.59526671e+01,\n",
       "        5.45998198e+00,  2.65677917e+01, -1.05811759e+01,  5.90769448e+01,\n",
       "       -1.66524125e+01,  1.28847083e+00, -2.90417705e+01,  3.98971742e+00])"
      ]
     },
     "execution_count": 11,
     "metadata": {},
     "output_type": "execute_result"
    }
   ],
   "source": [
    "lr.predict(X)"
   ]
  },
  {
   "cell_type": "code",
   "execution_count": 12,
   "metadata": {
    "collapsed": true
   },
   "outputs": [
    {
     "data": {
      "text/plain": [
       "array([ 64.81795614, -32.90189442,  -1.69324428, -15.31040946,\n",
       "        12.74441202,  38.36176721, -24.11108188, -13.8453442 ,\n",
       "       -10.06318659,  50.0684005 ,  45.55889203,  15.10520737,\n",
       "       -16.94416908, -43.52554062, -30.34140118,  -4.65247956,\n",
       "         1.77749648, -28.18070589, -25.87090488,  35.17100991,\n",
       "        33.54006396,  49.40241862,  53.63784351, -27.43686636,\n",
       "        40.49922417,  15.19414798,  31.7826608 ,  83.11011095,\n",
       "       -25.39028614,  44.32508755,  -9.54977084, -53.27420956,\n",
       "       -16.84585226,  50.84605308,  35.61690125,  13.48082295,\n",
       "       -15.70101454,  -8.11771149,  47.79736912,  16.30397566,\n",
       "       -23.95803804,  10.91300227, -18.2325685 ,  10.75981533,\n",
       "         7.31760386, -30.93062086,  16.92484632,  -8.67007735,\n",
       "        59.02577577, -40.3877866 ,  23.81287695,  10.62547018,\n",
       "        40.90787953, -13.19774512, -35.45216778,  -3.73061565,\n",
       "        -8.67297147, -12.28936411, -18.6216928 ,   7.44215824,\n",
       "       -12.62306296,   2.29807476, -97.61335446,  15.4998839 ,\n",
       "       -14.69284052, -51.23948892, -11.87549013,  45.61550803,\n",
       "       -21.20328638,   4.48755392,  23.93159716,  65.49882911,\n",
       "        37.17794624,  44.5328248 , -35.56236178, -14.13939112,\n",
       "        27.50661314,   4.74809301,  -3.40270196,  57.7547603 ,\n",
       "        34.78458162,  23.99935274,  54.54093927, -43.67351388,\n",
       "         8.40797486,   9.44575181, -27.38266856,  20.09949896,\n",
       "        10.17762558, -15.39768303,  60.9039078 , -28.84274684,\n",
       "        29.30924205,  29.03011718,   3.77731864,  10.77371982,\n",
       "        -4.9634083 , -21.512711  ,  -6.28530959,  31.23340354,\n",
       "        -3.45179367, -59.32642731, -68.96635367,  -4.23065031,\n",
       "       -65.22812033,  10.0887459 ,  60.02385894,  27.64994383,\n",
       "       -64.0616815 ,  67.25985356,  -6.66309914,   1.42148191,\n",
       "       -26.75322979, -22.16350065, -47.11672196,   1.25125582,\n",
       "         3.10835429,  10.23700175, -33.89396496,   1.92192373,\n",
       "        18.3801063 ,  -4.61192308,  33.68926023,  44.0873868 ,\n",
       "        -4.32731248,   6.41131677, -15.25819974, -22.8608193 ,\n",
       "        37.17607141,  19.04788056,  40.64531242,  26.43310291,\n",
       "        19.22535239, -32.73239207,  -6.65187034,  -2.41302263,\n",
       "       -20.37345131, -11.66961816,  14.15990945,   5.24708647,\n",
       "         0.86635012,  44.073883  , -67.85682173,  40.4833779 ,\n",
       "        21.28334821,  12.47051047,   3.2606384 , -74.33496023,\n",
       "       -26.70946384,  -3.48282729, -56.53262027, -33.35056918,\n",
       "        38.92441516, -12.93826543,  12.71284974, -54.07935605,\n",
       "       -32.88184682,   4.79151211, -34.31341284, -29.61366153,\n",
       "        18.9061063 ,  39.57781721, -40.6744544 ,  22.47824319,\n",
       "        15.90845335,  11.06455661,  -5.19965511,  -6.45825342,\n",
       "       -12.08104969,  60.37955458,  -1.62835483,   9.28954187,\n",
       "       -24.03497525,  65.96220625, -13.29648437,   5.92030927,\n",
       "        -4.61024339, -40.20803709, -29.06267681, -45.6982082 ,\n",
       "        30.68149044,   4.16112942, -10.38729237, -22.63551896,\n",
       "       -25.49493637,  11.43735216,  60.02808156,  48.33227634,\n",
       "        14.60013209, -28.25868192,  -2.31863367,  -7.45670738,\n",
       "        -7.32811037, -14.47050522, -45.25070698, -38.81764632,\n",
       "       -31.26935729,   2.8585568 , -51.31873147,  11.45425901,\n",
       "       -25.08323392,  -2.92897952,  46.41474737,  21.07495082,\n",
       "       -34.54237559, -47.10517299,  20.93062406,  -1.77880269,\n",
       "       -42.27035056, -13.5338016 ,  42.94226164, -33.22011585,\n",
       "        69.34463135, -26.27490577,  15.37935106,  -1.1929583 ,\n",
       "        -4.09062275,  32.45993456,  70.00649129, -18.96004211,\n",
       "       -41.71034593, -33.65786505,  -8.97877611, -11.92685948,\n",
       "        47.25260627,  56.99294253, -26.36579144,  42.23238698,\n",
       "        23.77018692,   7.16327397,  -5.62832743,  -3.17810768,\n",
       "         2.30208678,  11.50289394,  29.09539679, -23.70448452,\n",
       "        42.05225754,  -8.24047182,  78.22246554, -37.18384046,\n",
       "       -52.34903429,  86.10843404,  13.46755251,   4.24167553,\n",
       "        13.87622185,  42.48082408,  -3.58282079,  41.45396654,\n",
       "        -8.00543689,   2.20633849, -10.80965182,   7.11148984,\n",
       "         0.16646021, -22.66520016,  -7.01287365,   1.03558224,\n",
       "       -34.21811245, -42.77868059, -16.6019846 ,   5.61988347,\n",
       "        39.13530884,  40.00367038, -36.57762248,  22.00047283,\n",
       "        -3.52056556,  22.60441257,  48.70878949,  65.27049338,\n",
       "        75.8081121 ,  25.45536482, -16.93374394,   1.63343267,\n",
       "       -18.87173926,  29.13942181,  48.41475758,  35.33474029,\n",
       "       -55.44655078, -56.9907353 , -47.88073885,  77.40104406,\n",
       "        48.63776524,  58.88429686, -17.10098233,  48.98465402,\n",
       "        63.37900379, -27.74582684,  21.26837747, -30.0127248 ,\n",
       "       -48.58878188,  92.05028772,  -6.5025694 , -30.73079989,\n",
       "       -24.20279206,  22.34982839, -15.69438133,  76.23328904,\n",
       "       -29.07023498,  32.14185417, -23.56689383,   6.19644131])"
      ]
     },
     "execution_count": 12,
     "metadata": {},
     "output_type": "execute_result"
    }
   ],
   "source": [
    "from sklearn.ensemble import RandomForestRegressor\n",
    "\n",
    "rf = RandomForestRegressor()\n",
    "\n",
    "rf.fit(X, y)\n",
    "\n",
    "rf.predict(X)"
   ]
  },
  {
   "cell_type": "code",
   "execution_count": null,
   "metadata": {},
   "outputs": [],
   "source": []
  },
  {
   "cell_type": "markdown",
   "metadata": {
    "slideshow": {
     "slide_type": "fragment"
    }
   },
   "source": [
    "This time, rather than code our own gradient descent optimizer, we will use `scikit-learn`"
   ]
  },
  {
   "cell_type": "markdown",
   "metadata": {
    "slideshow": {
     "slide_type": "fragment"
    }
   },
   "source": [
    "## The `Estimator` interface\n",
    "\n",
    "In scikit-learn, preprocessing, supervised and unsupervised learning algorithms share a uniform interface.\n",
    "\n",
    "Al estimators have a `.fit()` method, which takes:\n",
    "\n",
    "- X, a numpy array or scipy sparse matrix\n",
    "\n",
    "- y, in the case of supervised learning. It is a one-dimensional numpy array containing target values."
   ]
  },
  {
   "cell_type": "markdown",
   "metadata": {
    "slideshow": {
     "slide_type": "slide"
    }
   },
   "source": [
    "Once fitted, `Estimators` can either:\n",
    "\n",
    "- `.predict()` a new set of y values from an `X_test` array: classification, regression, clustering\n",
    "\n",
    "- `.transform()` an input `X_test` array: preprocessing, dimensionality reduction, feature extraction..."
   ]
  },
  {
   "cell_type": "markdown",
   "metadata": {
    "slideshow": {
     "slide_type": "slide"
    }
   },
   "source": [
    "## Fitting a LinearRegression with `sklearn`"
   ]
  },
  {
   "cell_type": "code",
   "execution_count": 13,
   "metadata": {},
   "outputs": [
    {
     "ename": "NotFittedError",
     "evalue": "This LinearRegression instance is not fitted yet. Call 'fit' with appropriate arguments before using this estimator.",
     "output_type": "error",
     "traceback": [
      "\u001b[0;31m---------------------------------------------------------------------------\u001b[0m",
      "\u001b[0;31mNotFittedError\u001b[0m                            Traceback (most recent call last)",
      "\u001b[0;32m/tmp/ipykernel_4687/138794416.py\u001b[0m in \u001b[0;36m<module>\u001b[0;34m\u001b[0m\n\u001b[1;32m      1\u001b[0m \u001b[0mlr\u001b[0m \u001b[0;34m=\u001b[0m \u001b[0mLinearRegression\u001b[0m\u001b[0;34m(\u001b[0m\u001b[0;34m)\u001b[0m\u001b[0;31m#instanciamos una regresion lineal\u001b[0m\u001b[0;34m\u001b[0m\u001b[0;34m\u001b[0m\u001b[0m\n\u001b[0;32m----> 2\u001b[0;31m \u001b[0mlr\u001b[0m\u001b[0;34m.\u001b[0m\u001b[0mpredict\u001b[0m\u001b[0;34m(\u001b[0m\u001b[0mX\u001b[0m\u001b[0;34m)\u001b[0m\u001b[0;31m#esto asi dara error, porque esta regresion lineal no tiene unas variables tetas aun calculadas\u001b[0m\u001b[0;34m\u001b[0m\u001b[0;34m\u001b[0m\u001b[0m\n\u001b[0m",
      "\u001b[0;32m~/anaconda3/lib/python3.8/site-packages/sklearn/linear_model/_base.py\u001b[0m in \u001b[0;36mpredict\u001b[0;34m(self, X)\u001b[0m\n\u001b[1;32m    360\u001b[0m             \u001b[0mReturns\u001b[0m \u001b[0mpredicted\u001b[0m \u001b[0mvalues\u001b[0m\u001b[0;34m.\u001b[0m\u001b[0;34m\u001b[0m\u001b[0;34m\u001b[0m\u001b[0m\n\u001b[1;32m    361\u001b[0m         \"\"\"\n\u001b[0;32m--> 362\u001b[0;31m         \u001b[0;32mreturn\u001b[0m \u001b[0mself\u001b[0m\u001b[0;34m.\u001b[0m\u001b[0m_decision_function\u001b[0m\u001b[0;34m(\u001b[0m\u001b[0mX\u001b[0m\u001b[0;34m)\u001b[0m\u001b[0;34m\u001b[0m\u001b[0;34m\u001b[0m\u001b[0m\n\u001b[0m\u001b[1;32m    363\u001b[0m \u001b[0;34m\u001b[0m\u001b[0m\n\u001b[1;32m    364\u001b[0m     \u001b[0m_preprocess_data\u001b[0m \u001b[0;34m=\u001b[0m \u001b[0mstaticmethod\u001b[0m\u001b[0;34m(\u001b[0m\u001b[0m_preprocess_data\u001b[0m\u001b[0;34m)\u001b[0m\u001b[0;34m\u001b[0m\u001b[0;34m\u001b[0m\u001b[0m\n",
      "\u001b[0;32m~/anaconda3/lib/python3.8/site-packages/sklearn/linear_model/_base.py\u001b[0m in \u001b[0;36m_decision_function\u001b[0;34m(self, X)\u001b[0m\n\u001b[1;32m    341\u001b[0m \u001b[0;34m\u001b[0m\u001b[0m\n\u001b[1;32m    342\u001b[0m     \u001b[0;32mdef\u001b[0m \u001b[0m_decision_function\u001b[0m\u001b[0;34m(\u001b[0m\u001b[0mself\u001b[0m\u001b[0;34m,\u001b[0m \u001b[0mX\u001b[0m\u001b[0;34m)\u001b[0m\u001b[0;34m:\u001b[0m\u001b[0;34m\u001b[0m\u001b[0;34m\u001b[0m\u001b[0m\n\u001b[0;32m--> 343\u001b[0;31m         \u001b[0mcheck_is_fitted\u001b[0m\u001b[0;34m(\u001b[0m\u001b[0mself\u001b[0m\u001b[0;34m)\u001b[0m\u001b[0;34m\u001b[0m\u001b[0;34m\u001b[0m\u001b[0m\n\u001b[0m\u001b[1;32m    344\u001b[0m \u001b[0;34m\u001b[0m\u001b[0m\n\u001b[1;32m    345\u001b[0m         \u001b[0mX\u001b[0m \u001b[0;34m=\u001b[0m \u001b[0mself\u001b[0m\u001b[0;34m.\u001b[0m\u001b[0m_validate_data\u001b[0m\u001b[0;34m(\u001b[0m\u001b[0mX\u001b[0m\u001b[0;34m,\u001b[0m \u001b[0maccept_sparse\u001b[0m\u001b[0;34m=\u001b[0m\u001b[0;34m[\u001b[0m\u001b[0;34m\"csr\"\u001b[0m\u001b[0;34m,\u001b[0m \u001b[0;34m\"csc\"\u001b[0m\u001b[0;34m,\u001b[0m \u001b[0;34m\"coo\"\u001b[0m\u001b[0;34m]\u001b[0m\u001b[0;34m,\u001b[0m \u001b[0mreset\u001b[0m\u001b[0;34m=\u001b[0m\u001b[0;32mFalse\u001b[0m\u001b[0;34m)\u001b[0m\u001b[0;34m\u001b[0m\u001b[0;34m\u001b[0m\u001b[0m\n",
      "\u001b[0;32m~/anaconda3/lib/python3.8/site-packages/sklearn/utils/validation.py\u001b[0m in \u001b[0;36mcheck_is_fitted\u001b[0;34m(estimator, attributes, msg, all_or_any)\u001b[0m\n\u001b[1;32m   1220\u001b[0m \u001b[0;34m\u001b[0m\u001b[0m\n\u001b[1;32m   1221\u001b[0m     \u001b[0;32mif\u001b[0m \u001b[0;32mnot\u001b[0m \u001b[0mfitted\u001b[0m\u001b[0;34m:\u001b[0m\u001b[0;34m\u001b[0m\u001b[0;34m\u001b[0m\u001b[0m\n\u001b[0;32m-> 1222\u001b[0;31m         \u001b[0;32mraise\u001b[0m \u001b[0mNotFittedError\u001b[0m\u001b[0;34m(\u001b[0m\u001b[0mmsg\u001b[0m \u001b[0;34m%\u001b[0m \u001b[0;34m{\u001b[0m\u001b[0;34m\"name\"\u001b[0m\u001b[0;34m:\u001b[0m \u001b[0mtype\u001b[0m\u001b[0;34m(\u001b[0m\u001b[0mestimator\u001b[0m\u001b[0;34m)\u001b[0m\u001b[0;34m.\u001b[0m\u001b[0m__name__\u001b[0m\u001b[0;34m}\u001b[0m\u001b[0;34m)\u001b[0m\u001b[0;34m\u001b[0m\u001b[0;34m\u001b[0m\u001b[0m\n\u001b[0m\u001b[1;32m   1223\u001b[0m \u001b[0;34m\u001b[0m\u001b[0m\n\u001b[1;32m   1224\u001b[0m \u001b[0;34m\u001b[0m\u001b[0m\n",
      "\u001b[0;31mNotFittedError\u001b[0m: This LinearRegression instance is not fitted yet. Call 'fit' with appropriate arguments before using this estimator."
     ]
    }
   ],
   "source": [
    "lr = LinearRegression()#instanciamos una regresion lineal\n",
    "lr.predict(X)#esto asi dara error, porque esta regresion lineal no tiene unas variables tetas aun calculadas"
   ]
  },
  {
   "cell_type": "code",
   "execution_count": 16,
   "metadata": {},
   "outputs": [
    {
     "data": {
      "text/plain": [
       "(array([30.5829911]), 0.5557829576454352)"
      ]
     },
     "execution_count": 16,
     "metadata": {},
     "output_type": "execute_result"
    }
   ],
   "source": [
    "lr.fit(X,y)#esta lr, se ha cambiado inplace, por lo tanto lo siguiente que voy ha hacer no dara error\n",
    "lr.coef_, lr.intercept_#estos parametros representan la recta que mejor se ajusta"
   ]
  },
  {
   "cell_type": "markdown",
   "metadata": {},
   "source": [
    "## Ejercicio\n",
    "\n",
    "Plot the observation (plt.scatter()) and the line that our LinearRegression has learned\n",
    "\n",
    "Ejemplo:\n",
    "\n",
    "xs = np.linspace(0,10)\n",
    "\n",
    "ys = np.sin(xs)\n",
    "\n",
    "plt.plot(xs,ys)"
   ]
  },
  {
   "cell_type": "code",
   "execution_count": 32,
   "metadata": {
    "scrolled": true
   },
   "outputs": [
    {
     "data": {
      "text/plain": [
       "[<matplotlib.lines.Line2D at 0x7f233aceaa90>]"
      ]
     },
     "execution_count": 32,
     "metadata": {},
     "output_type": "execute_result"
    },
    {
     "data": {
      "image/png": "[encoded data removed]",
      "text/plain": [
       "<Figure size 432x288 with 1 Axes>"
      ]
     },
     "metadata": {
      "needs_background": "light"
     },
     "output_type": "display_data"
    }
   ],
   "source": [
    "plt.scatter(X,y)\n",
    "\n",
    "xs = np.linspace(min(X),max(X))\n",
    "y_hat = lr.coef_ * xs + lr.intercept_\n",
    "\n",
    "plt.plot(xs,y_hat,c='orange')"
   ]
  },
  {
   "cell_type": "code",
   "execution_count": 36,
   "metadata": {
    "scrolled": true
   },
   "outputs": [
    {
     "data": {
      "text/plain": [
       "[<matplotlib.lines.Line2D at 0x7f233ad7e100>]"
      ]
     },
     "execution_count": 36,
     "metadata": {},
     "output_type": "execute_result"
    },
    {
     "data": {
      "image/png": "[encoded data removed]",
      "text/plain": [
       "<Figure size 432x288 with 1 Axes>"
      ]
     },
     "metadata": {
      "needs_background": "light"
     },
     "output_type": "display_data"
    }
   ],
   "source": [
    "# si hacemos:\n",
    "y_hat2 = lr.predict(xs)\n",
    "#deberia salir lo mismo\n",
    "plt.scatter(X,y)\n",
    "plt.plot(xs,y_hat2,c='orange')"
   ]
  },
  {
   "cell_type": "code",
   "execution_count": 39,
   "metadata": {},
   "outputs": [
    {
     "data": {
      "text/plain": [
       "(406.3028462237282, 20.156955281582785)"
      ]
     },
     "execution_count": 39,
     "metadata": {},
     "output_type": "execute_result"
    }
   ],
   "source": [
    "# MSE\n",
    "y_hat = lr.predict(X)\n",
    "(y - y_hat) ** 2\n",
    "# y ahora sacamos la media\n",
    "mse = np.mean((y - y_hat) ** 2)\n",
    "\n",
    "# RMS\n",
    "rmse = np.sqrt(mse)\n",
    "\n",
    "mse, rmse"
   ]
  },
  {
   "cell_type": "code",
   "execution_count": 40,
   "metadata": {},
   "outputs": [
    {
     "data": {
      "text/plain": [
       "16.26286677432582"
      ]
     },
     "execution_count": 40,
     "metadata": {},
     "output_type": "execute_result"
    }
   ],
   "source": [
    "# Error absoluto medio\n",
    "np.mean(np.abs(y - y_hat))\n",
    "\n",
    "#Esto significa que de media mi prediccion esta a 16.26 unidades del valor real"
   ]
  },
  {
   "cell_type": "markdown",
   "metadata": {
    "slideshow": {
     "slide_type": "fragment"
    }
   },
   "source": [
    "Is this a good estimate of the generalization error?"
   ]
  },
  {
   "cell_type": "code",
   "execution_count": 41,
   "metadata": {},
   "outputs": [],
   "source": [
    "# Respuesta: NO"
   ]
  },
  {
   "cell_type": "markdown",
   "metadata": {
    "slideshow": {
     "slide_type": "slide"
    }
   },
   "source": [
    "## Scoring and model validation"
   ]
  },
  {
   "cell_type": "markdown",
   "metadata": {
    "slideshow": {
     "slide_type": "fragment"
    }
   },
   "source": [
    "Our training set error will always be an optimistic estimate of our test set error."
   ]
  },
  {
   "cell_type": "markdown",
   "metadata": {
    "slideshow": {
     "slide_type": "slide"
    }
   },
   "source": [
    "We need to do a train, test split:"
   ]
  },
  {
   "cell_type": "code",
   "execution_count": 42,
   "metadata": {},
   "outputs": [
    {
     "data": {
      "text/plain": [
       "(300, 1)"
      ]
     },
     "execution_count": 42,
     "metadata": {},
     "output_type": "execute_result"
    }
   ],
   "source": [
    "X.shape"
   ]
  },
  {
   "cell_type": "code",
   "execution_count": 44,
   "metadata": {},
   "outputs": [
    {
     "data": {
      "text/plain": [
       "(225, 1)"
      ]
     },
     "execution_count": 44,
     "metadata": {},
     "output_type": "execute_result"
    }
   ],
   "source": [
    "from sklearn.model_selection import train_test_split\n",
    "\n",
    "X_train, X_test, y_train, y_test = train_test_split(X,y)\n",
    "\n",
    "X_train.shape\n",
    "#se ha reservado parate de los datos para entrenamiento y otra parte para test, \n",
    "#por eso la shape ha camnbiado a menos"
   ]
  },
  {
   "cell_type": "code",
   "execution_count": 46,
   "metadata": {},
   "outputs": [
    {
     "data": {
      "text/plain": [
       "17.43449753196351"
      ]
     },
     "execution_count": 46,
     "metadata": {},
     "output_type": "execute_result"
    }
   ],
   "source": [
    "lr = LinearRegression()\n",
    "\n",
    "lr.fit(X_train,y_train)# hacemos el fit con el train\n",
    "y_hat = lr.predict(X_test)#hacemos el predict con los datos de test, para ver si lo calculado se ajusta bien\n",
    "\n",
    "np.mean(np.abs(y_test - y_hat))#aqui vemos la media del error absoluto"
   ]
  },
  {
   "cell_type": "code",
   "execution_count": 52,
   "metadata": {},
   "outputs": [
    {
     "data": {
      "text/plain": [
       "16.637934640216468"
      ]
     },
     "execution_count": 52,
     "metadata": {},
     "output_type": "execute_result"
    }
   ],
   "source": [
    "X_train, X_test, y_train, y_test = train_test_split(X,y, train_size =.3)\n",
    "\n",
    "lr = LinearRegression()\n",
    "\n",
    "lr.fit(X_train,y_train)\n",
    "y_hat = lr.predict(X_test)\n",
    "\n",
    "np.mean(np.abs(y_test - y_hat))"
   ]
  },
  {
   "cell_type": "markdown",
   "metadata": {
    "heading_collapsed": true
   },
   "source": [
    "## Metrics for regression\n",
    "\n",
    "MSE: Mean Squared Error\n",
    "\n",
    "$$MSE = \\frac{1}{n} \\sum_{i=1}^{n} (y_i - h(x_i))^2$$\n",
    "\n",
    "MAE: Mean Absolute Error \n",
    "\n",
    "$$MAE = \\frac{1}{n} \\sum_{i=1}^{n} |y_i - h(x_i)|$$\n",
    "\n",
    "MAPE: Mean Absolute Percent Error\n",
    "\n",
    "$$MAE = \\frac{1}{n} \\sum_{i=1}^{n} \\frac{|y_i - h(x_i)|}{y_i}$$\n",
    "\n",
    "Explained Variance:\n",
    "\n",
    "\n",
    "$$explained\\_{}variance(y, \\hat{y}) = 1 - \\frac{Var\\{ y - \\hat{y}\\}}{Var\\{y\\}}$$\n",
    "\n",
    "\n",
    "\n",
    "We will learn more about scoring and model selection in a later module"
   ]
  },
  {
   "cell_type": "markdown",
   "metadata": {},
   "source": [
    "# Regression algorithms in sklearn\n",
    "\n",
    "We have already met Linear regression, which is a parametric algorithm. There are, however, _non-parametric_ algorithms that do not make assumption regarding the shape of the function to be approximated.\n",
    "\n",
    "Let's try more sophisticated algorithms on our toy data and on real data."
   ]
  },
  {
   "cell_type": "code",
   "execution_count": 72,
   "metadata": {},
   "outputs": [
    {
     "data": {
      "text/html": [
       "<div>\n",
       "<style scoped>\n",
       "    .dataframe tbody tr th:only-of-type {\n",
       "        vertical-align: middle;\n",
       "    }\n",
       "\n",
       "    .dataframe tbody tr th {\n",
       "        vertical-align: top;\n",
       "    }\n",
       "\n",
       "    .dataframe thead th {\n",
       "        text-align: right;\n",
       "    }\n",
       "</style>\n",
       "<table border=\"1\" class=\"dataframe\">\n",
       "  <thead>\n",
       "    <tr style=\"text-align: right;\">\n",
       "      <th></th>\n",
       "      <th>age</th>\n",
       "      <th>sex</th>\n",
       "      <th>bmi</th>\n",
       "      <th>bp</th>\n",
       "      <th>s1</th>\n",
       "      <th>s2</th>\n",
       "      <th>s3</th>\n",
       "      <th>s4</th>\n",
       "      <th>s5</th>\n",
       "      <th>s6</th>\n",
       "    </tr>\n",
       "  </thead>\n",
       "  <tbody>\n",
       "    <tr>\n",
       "      <th>0</th>\n",
       "      <td>0.038076</td>\n",
       "      <td>0.050680</td>\n",
       "      <td>0.061696</td>\n",
       "      <td>0.021872</td>\n",
       "      <td>-0.044223</td>\n",
       "      <td>-0.034821</td>\n",
       "      <td>-0.043401</td>\n",
       "      <td>-0.002592</td>\n",
       "      <td>0.019908</td>\n",
       "      <td>-0.017646</td>\n",
       "    </tr>\n",
       "    <tr>\n",
       "      <th>1</th>\n",
       "      <td>-0.001882</td>\n",
       "      <td>-0.044642</td>\n",
       "      <td>-0.051474</td>\n",
       "      <td>-0.026328</td>\n",
       "      <td>-0.008449</td>\n",
       "      <td>-0.019163</td>\n",
       "      <td>0.074412</td>\n",
       "      <td>-0.039493</td>\n",
       "      <td>-0.068330</td>\n",
       "      <td>-0.092204</td>\n",
       "    </tr>\n",
       "    <tr>\n",
       "      <th>2</th>\n",
       "      <td>0.085299</td>\n",
       "      <td>0.050680</td>\n",
       "      <td>0.044451</td>\n",
       "      <td>-0.005671</td>\n",
       "      <td>-0.045599</td>\n",
       "      <td>-0.034194</td>\n",
       "      <td>-0.032356</td>\n",
       "      <td>-0.002592</td>\n",
       "      <td>0.002864</td>\n",
       "      <td>-0.025930</td>\n",
       "    </tr>\n",
       "    <tr>\n",
       "      <th>3</th>\n",
       "      <td>-0.089063</td>\n",
       "      <td>-0.044642</td>\n",
       "      <td>-0.011595</td>\n",
       "      <td>-0.036656</td>\n",
       "      <td>0.012191</td>\n",
       "      <td>0.024991</td>\n",
       "      <td>-0.036038</td>\n",
       "      <td>0.034309</td>\n",
       "      <td>0.022692</td>\n",
       "      <td>-0.009362</td>\n",
       "    </tr>\n",
       "    <tr>\n",
       "      <th>4</th>\n",
       "      <td>0.005383</td>\n",
       "      <td>-0.044642</td>\n",
       "      <td>-0.036385</td>\n",
       "      <td>0.021872</td>\n",
       "      <td>0.003935</td>\n",
       "      <td>0.015596</td>\n",
       "      <td>0.008142</td>\n",
       "      <td>-0.002592</td>\n",
       "      <td>-0.031991</td>\n",
       "      <td>-0.046641</td>\n",
       "    </tr>\n",
       "    <tr>\n",
       "      <th>...</th>\n",
       "      <td>...</td>\n",
       "      <td>...</td>\n",
       "      <td>...</td>\n",
       "      <td>...</td>\n",
       "      <td>...</td>\n",
       "      <td>...</td>\n",
       "      <td>...</td>\n",
       "      <td>...</td>\n",
       "      <td>...</td>\n",
       "      <td>...</td>\n",
       "    </tr>\n",
       "    <tr>\n",
       "      <th>437</th>\n",
       "      <td>0.041708</td>\n",
       "      <td>0.050680</td>\n",
       "      <td>0.019662</td>\n",
       "      <td>0.059744</td>\n",
       "      <td>-0.005697</td>\n",
       "      <td>-0.002566</td>\n",
       "      <td>-0.028674</td>\n",
       "      <td>-0.002592</td>\n",
       "      <td>0.031193</td>\n",
       "      <td>0.007207</td>\n",
       "    </tr>\n",
       "    <tr>\n",
       "      <th>438</th>\n",
       "      <td>-0.005515</td>\n",
       "      <td>0.050680</td>\n",
       "      <td>-0.015906</td>\n",
       "      <td>-0.067642</td>\n",
       "      <td>0.049341</td>\n",
       "      <td>0.079165</td>\n",
       "      <td>-0.028674</td>\n",
       "      <td>0.034309</td>\n",
       "      <td>-0.018118</td>\n",
       "      <td>0.044485</td>\n",
       "    </tr>\n",
       "    <tr>\n",
       "      <th>439</th>\n",
       "      <td>0.041708</td>\n",
       "      <td>0.050680</td>\n",
       "      <td>-0.015906</td>\n",
       "      <td>0.017282</td>\n",
       "      <td>-0.037344</td>\n",
       "      <td>-0.013840</td>\n",
       "      <td>-0.024993</td>\n",
       "      <td>-0.011080</td>\n",
       "      <td>-0.046879</td>\n",
       "      <td>0.015491</td>\n",
       "    </tr>\n",
       "    <tr>\n",
       "      <th>440</th>\n",
       "      <td>-0.045472</td>\n",
       "      <td>-0.044642</td>\n",
       "      <td>0.039062</td>\n",
       "      <td>0.001215</td>\n",
       "      <td>0.016318</td>\n",
       "      <td>0.015283</td>\n",
       "      <td>-0.028674</td>\n",
       "      <td>0.026560</td>\n",
       "      <td>0.044528</td>\n",
       "      <td>-0.025930</td>\n",
       "    </tr>\n",
       "    <tr>\n",
       "      <th>441</th>\n",
       "      <td>-0.045472</td>\n",
       "      <td>-0.044642</td>\n",
       "      <td>-0.073030</td>\n",
       "      <td>-0.081414</td>\n",
       "      <td>0.083740</td>\n",
       "      <td>0.027809</td>\n",
       "      <td>0.173816</td>\n",
       "      <td>-0.039493</td>\n",
       "      <td>-0.004220</td>\n",
       "      <td>0.003064</td>\n",
       "    </tr>\n",
       "  </tbody>\n",
       "</table>\n",
       "<p>442 rows × 10 columns</p>\n",
       "</div>"
      ],
      "text/plain": [
       "          age       sex       bmi        bp        s1        s2        s3  \\\n",
       "0    0.038076  0.050680  0.061696  0.021872 -0.044223 -0.034821 -0.043401   \n",
       "1   -0.001882 -0.044642 -0.051474 -0.026328 -0.008449 -0.019163  0.074412   \n",
       "2    0.085299  0.050680  0.044451 -0.005671 -0.045599 -0.034194 -0.032356   \n",
       "3   -0.089063 -0.044642 -0.011595 -0.036656  0.012191  0.024991 -0.036038   \n",
       "4    0.005383 -0.044642 -0.036385  0.021872  0.003935  0.015596  0.008142   \n",
       "..        ...       ...       ...       ...       ...       ...       ...   \n",
       "437  0.041708  0.050680  0.019662  0.059744 -0.005697 -0.002566 -0.028674   \n",
       "438 -0.005515  0.050680 -0.015906 -0.067642  0.049341  0.079165 -0.028674   \n",
       "439  0.041708  0.050680 -0.015906  0.017282 -0.037344 -0.013840 -0.024993   \n",
       "440 -0.045472 -0.044642  0.039062  0.001215  0.016318  0.015283 -0.028674   \n",
       "441 -0.045472 -0.044642 -0.073030 -0.081414  0.083740  0.027809  0.173816   \n",
       "\n",
       "           s4        s5        s6  \n",
       "0   -0.002592  0.019908 -0.017646  \n",
       "1   -0.039493 -0.068330 -0.092204  \n",
       "2   -0.002592  0.002864 -0.025930  \n",
       "3    0.034309  0.022692 -0.009362  \n",
       "4   -0.002592 -0.031991 -0.046641  \n",
       "..        ...       ...       ...  \n",
       "437 -0.002592  0.031193  0.007207  \n",
       "438  0.034309 -0.018118  0.044485  \n",
       "439 -0.011080 -0.046879  0.015491  \n",
       "440  0.026560  0.044528 -0.025930  \n",
       "441 -0.039493 -0.004220  0.003064  \n",
       "\n",
       "[442 rows x 10 columns]"
      ]
     },
     "execution_count": 72,
     "metadata": {},
     "output_type": "execute_result"
    }
   ],
   "source": [
    "from sklearn.datasets import fetch_openml, load_diabetes\n",
    "\n",
    "diabetes = load_diabetes(as_frame=True)\n",
    "diabetes_X = diabetes['data']\n",
    "diabetes_y = diabetes['target']\n",
    "\n",
    "diabetes_X"
   ]
  },
  {
   "cell_type": "markdown",
   "metadata": {},
   "source": [
    "#### Ejercicio\n",
    "\n",
    "Train a linear regression on the diabetes dataset. Calculate the test set MSE, RMSE and MAE."
   ]
  },
  {
   "cell_type": "code",
   "execution_count": 90,
   "metadata": {},
   "outputs": [
    {
     "data": {
      "text/plain": [
       "(3298.1760147783075, 57.42974851745659, 46.018744486355786)"
      ]
     },
     "execution_count": 90,
     "metadata": {},
     "output_type": "execute_result"
    }
   ],
   "source": [
    "X_train, X_test, y_train, y_test = train_test_split(diabetes_X,diabetes_y)\n",
    "\n",
    "lr = LinearRegression()\n",
    "\n",
    "lr.fit(X_train,y_train)\n",
    "y_hat = lr.predict(X_test)\n",
    "\n",
    "# MSE\n",
    "mse = np.mean((y_test - y_hat) ** 2)\n",
    "\n",
    "# RMSE\n",
    "rmse = np.sqrt(mse)\n",
    "\n",
    "# MAE\n",
    "mae = np.mean(np.abs(y_test - y_hat))\n",
    "\n",
    "mse, rmse, mae"
   ]
  },
  {
   "cell_type": "code",
   "execution_count": 69,
   "metadata": {
    "scrolled": true
   },
   "outputs": [
    {
     "data": {
      "text/plain": [
       "<matplotlib.collections.PathCollection at 0x7f233ac2c0d0>"
      ]
     },
     "execution_count": 69,
     "metadata": {},
     "output_type": "execute_result"
    },
    {
     "data": {
      "image/png": "[encoded data removed]",
      "text/plain": [
       "<Figure size 432x288 with 1 Axes>"
      ]
     },
     "metadata": {
      "needs_background": "light"
     },
     "output_type": "display_data"
    }
   ],
   "source": [
    "# si queremos ver como de buenas son mis predicciones podemos hacer:\n",
    "plt.scatter(y_test, y_hat)\n",
    "#por el resultado vemos que pueden estar correlacionadas, porque \"forman\" una diagonal, \n",
    "#que es lo que pasaria cuando el valor real y el predicho son similares"
   ]
  },
  {
   "cell_type": "code",
   "execution_count": 77,
   "metadata": {},
   "outputs": [
    {
     "data": {
      "text/plain": [
       "<AxesSubplot:>"
      ]
     },
     "execution_count": 77,
     "metadata": {},
     "output_type": "execute_result"
    },
    {
     "data": {
      "image/png": "[encoded data removed]",
      "text/plain": [
       "<Figure size 432x288 with 2 Axes>"
      ]
     },
     "metadata": {
      "needs_background": "light"
     },
     "output_type": "display_data"
    }
   ],
   "source": [
    "import seaborn as sns\n",
    "\n",
    "with_target = diabetes_X.copy()\n",
    "with_target['target'] = diabetes_y\n",
    "\n",
    "sns.heatmap(with_target.corr(), cmap='BrBG', center=0)"
   ]
  },
  {
   "cell_type": "code",
   "execution_count": 91,
   "metadata": {},
   "outputs": [
    {
     "data": {
      "text/html": [
       "<div>\n",
       "<style scoped>\n",
       "    .dataframe tbody tr th:only-of-type {\n",
       "        vertical-align: middle;\n",
       "    }\n",
       "\n",
       "    .dataframe tbody tr th {\n",
       "        vertical-align: top;\n",
       "    }\n",
       "\n",
       "    .dataframe thead th {\n",
       "        text-align: right;\n",
       "    }\n",
       "</style>\n",
       "<table border=\"1\" class=\"dataframe\">\n",
       "  <thead>\n",
       "    <tr style=\"text-align: right;\">\n",
       "      <th></th>\n",
       "      <th>MSE</th>\n",
       "      <th>RMSE</th>\n",
       "      <th>MAE</th>\n",
       "    </tr>\n",
       "  </thead>\n",
       "  <tbody>\n",
       "    <tr>\n",
       "      <th>linear_regression</th>\n",
       "      <td>3054.769565</td>\n",
       "      <td>55.26997</td>\n",
       "      <td>43.770447</td>\n",
       "    </tr>\n",
       "  </tbody>\n",
       "</table>\n",
       "</div>"
      ],
      "text/plain": [
       "                           MSE      RMSE        MAE\n",
       "linear_regression  3054.769565  55.26997  43.770447"
      ]
     },
     "execution_count": 91,
     "metadata": {},
     "output_type": "execute_result"
    }
   ],
   "source": [
    "#Solucion by Dani\n",
    "pd.DataFrame(columns=['MSE','RMSE', \"MAE\"])\n",
    "\n",
    "X_train, X_test, y_train, y_test = train_test_split(diabetes_X,diabetes_y)\n",
    "\n",
    "lr.fit(X_train,y_train)\n",
    "y_hat = lr.predict(X_test)\n",
    "\n",
    "errors = y_test - y_hat\n",
    "mae = np.mean(np.abs(errors))\n",
    "mse = np.mean(errors ** 2)\n",
    "rmse = np.sqrt(mse)\n",
    "\n",
    "\n",
    "results_diabetes = pd.DataFrame(columns=['MSE','RMSE', \"MAE\"])\n",
    "results_diabetes.loc['linear_regression'] = [mse,rmse,mae]\n",
    "results_diabetes"
   ]
  },
  {
   "cell_type": "code",
   "execution_count": 84,
   "metadata": {},
   "outputs": [],
   "source": [
    "housing = fetch_openml(name=\"house_prices\", as_frame=True)\n",
    "housing_X = housing['data']\n",
    "housing_y = housing['target']\n",
    "\n",
    "housing_X\n",
    "\n",
    "# vamos a quedarnos solo con variables numericas\n",
    "data = housing_X.select_dtypes('number')\n",
    "#tenemos muchos floats porque -> type(np.nan) es float, por lo tanto nos tiene que hacer pensar en datos missing\n",
    "\n",
    "data = data.fillna(data.median())\n",
    "data = data.drop('Id',axis=1)\n"
   ]
  },
  {
   "cell_type": "code",
   "execution_count": 87,
   "metadata": {},
   "outputs": [
    {
     "data": {
      "text/html": [
       "<div>\n",
       "<style scoped>\n",
       "    .dataframe tbody tr th:only-of-type {\n",
       "        vertical-align: middle;\n",
       "    }\n",
       "\n",
       "    .dataframe tbody tr th {\n",
       "        vertical-align: top;\n",
       "    }\n",
       "\n",
       "    .dataframe thead th {\n",
       "        text-align: right;\n",
       "    }\n",
       "</style>\n",
       "<table border=\"1\" class=\"dataframe\">\n",
       "  <thead>\n",
       "    <tr style=\"text-align: right;\">\n",
       "      <th></th>\n",
       "      <th>MSE</th>\n",
       "      <th>RMSE</th>\n",
       "      <th>MAE</th>\n",
       "    </tr>\n",
       "  </thead>\n",
       "  <tbody>\n",
       "    <tr>\n",
       "      <th>linear_regression</th>\n",
       "      <td>9.249496e+08</td>\n",
       "      <td>30412.984335</td>\n",
       "      <td>21040.804268</td>\n",
       "    </tr>\n",
       "  </tbody>\n",
       "</table>\n",
       "</div>"
      ],
      "text/plain": [
       "                            MSE          RMSE           MAE\n",
       "linear_regression  9.249496e+08  30412.984335  21040.804268"
      ]
     },
     "execution_count": 87,
     "metadata": {},
     "output_type": "execute_result"
    }
   ],
   "source": [
    "pd.DataFrame(columns=['MSE','RMSE', \"MAE\"])\n",
    "\n",
    "X_train, X_test, y_train, y_test = train_test_split(data,housing_y)\n",
    "\n",
    "lr.fit(X_train,y_train)\n",
    "y_hat = lr.predict(X_test)\n",
    "\n",
    "errors = y_test - y_hat\n",
    "mae = np.mean(np.abs(errors))\n",
    "mse = np.mean(errors ** 2)\n",
    "rmse = np.sqrt(mse)\n",
    "\n",
    "\n",
    "results_housing = pd.DataFrame(columns=['MSE','RMSE', \"MAE\"])\n",
    "results_housing.loc['linear_regression'] = [mse,rmse,mae]\n",
    "results_housing"
   ]
  },
  {
   "cell_type": "markdown",
   "metadata": {},
   "source": [
    "## K nearest neighbors"
   ]
  },
  {
   "cell_type": "code",
   "execution_count": 105,
   "metadata": {},
   "outputs": [
    {
     "data": {
      "text/plain": [
       "<matplotlib.collections.PathCollection at 0x7f2338ad54c0>"
      ]
     },
     "execution_count": 105,
     "metadata": {},
     "output_type": "execute_result"
    },
    {
     "data": {
      "image/png": "[encoded data removed]",
      "text/plain": [
       "<Figure size 432x288 with 1 Axes>"
      ]
     },
     "metadata": {
      "needs_background": "light"
     },
     "output_type": "display_data"
    }
   ],
   "source": [
    "from sklearn.neighbors import KNeighborsRegressor\n",
    "\n",
    "knn = KNeighborsRegressor(n_neighbors=4)\n",
    "\n",
    "X_train, X_test, y_train, y_test = train_test_split(X, y)\n",
    "\n",
    "knn.fit(X_train,y_train)\n",
    "y_hat = knn.predict(X_test)\n",
    "\n",
    "plt.scatter(X,y)\n",
    "plt.scatter(X_test, y_hat)"
   ]
  },
  {
   "cell_type": "markdown",
   "metadata": {},
   "source": [
    "Now with real data: \n",
    "\n",
    "```python\n",
    "diabetes = datasets.load_diabetes()\n",
    "```"
   ]
  },
  {
   "cell_type": "code",
   "execution_count": 107,
   "metadata": {},
   "outputs": [],
   "source": [
    "#select a model and hyperparameters\n",
    "knn = KNeighborsRegressor(n_neighbors=5)\n",
    "\n",
    "#split train and test\n",
    "X_train, X_test, y_train, y_test = train_test_split(diabetes_X,diabetes_y)\n",
    "\n",
    "#learn on the training set\n",
    "knn.fit(X_train,y_train)\n",
    "#Precict on the test set\n",
    "y_hat = knn.predict(X_test)\n",
    "\n",
    "#Evaluate\n",
    "errors = y_test - y_hat\n",
    "mae = np.mean(np.abs(errors))\n",
    "mse = np.mean(errors ** 2)\n",
    "rmse = np.sqrt(mse)\n",
    "\n",
    "\n",
    "results_diabetes.loc['knn_5'] = [mse,rmse,mae]"
   ]
  },
  {
   "cell_type": "code",
   "execution_count": 108,
   "metadata": {},
   "outputs": [],
   "source": [
    "#select a model and hyperparameters\n",
    "knn = KNeighborsRegressor(n_neighbors=20)\n",
    "\n",
    "#split train and test\n",
    "X_train, X_test, y_train, y_test = train_test_split(diabetes_X,diabetes_y)\n",
    "\n",
    "#learn on the training set\n",
    "knn.fit(X_train,y_train)\n",
    "#Precict on the test set\n",
    "y_hat = knn.predict(X_test)\n",
    "\n",
    "#Evaluate\n",
    "errors = y_test - y_hat\n",
    "mae = np.mean(np.abs(errors))\n",
    "mse = np.mean(errors ** 2)\n",
    "rmse = np.sqrt(mse)\n",
    "\n",
    "\n",
    "results_diabetes.loc['knn_20'] = [mse,rmse,mae]"
   ]
  },
  {
   "cell_type": "code",
   "execution_count": 109,
   "metadata": {},
   "outputs": [],
   "source": [
    "#select a model and hyperparameters\n",
    "knn = KNeighborsRegressor(n_neighbors=50)\n",
    "\n",
    "#split train and test\n",
    "X_train, X_test, y_train, y_test = train_test_split(diabetes_X,diabetes_y)\n",
    "\n",
    "#learn on the training set\n",
    "knn.fit(X_train,y_train)\n",
    "#Precict on the test set\n",
    "y_hat = knn.predict(X_test)\n",
    "\n",
    "#Evaluate\n",
    "errors = y_test - y_hat\n",
    "mae = np.mean(np.abs(errors))\n",
    "mse = np.mean(errors ** 2)\n",
    "rmse = np.sqrt(mse)\n",
    "\n",
    "\n",
    "results_diabetes.loc['knn_50'] = [mse,rmse,mae]"
   ]
  },
  {
   "cell_type": "code",
   "execution_count": 110,
   "metadata": {},
   "outputs": [
    {
     "data": {
      "text/html": [
       "<div>\n",
       "<style scoped>\n",
       "    .dataframe tbody tr th:only-of-type {\n",
       "        vertical-align: middle;\n",
       "    }\n",
       "\n",
       "    .dataframe tbody tr th {\n",
       "        vertical-align: top;\n",
       "    }\n",
       "\n",
       "    .dataframe thead th {\n",
       "        text-align: right;\n",
       "    }\n",
       "</style>\n",
       "<table border=\"1\" class=\"dataframe\">\n",
       "  <thead>\n",
       "    <tr style=\"text-align: right;\">\n",
       "      <th></th>\n",
       "      <th>MSE</th>\n",
       "      <th>RMSE</th>\n",
       "      <th>MAE</th>\n",
       "    </tr>\n",
       "  </thead>\n",
       "  <tbody>\n",
       "    <tr>\n",
       "      <th>linear_regression</th>\n",
       "      <td>3054.769565</td>\n",
       "      <td>55.269970</td>\n",
       "      <td>43.770447</td>\n",
       "    </tr>\n",
       "    <tr>\n",
       "      <th>knn_5</th>\n",
       "      <td>3347.045405</td>\n",
       "      <td>57.853655</td>\n",
       "      <td>46.881081</td>\n",
       "    </tr>\n",
       "    <tr>\n",
       "      <th>knn_20</th>\n",
       "      <td>3196.589685</td>\n",
       "      <td>56.538391</td>\n",
       "      <td>45.205405</td>\n",
       "    </tr>\n",
       "    <tr>\n",
       "      <th>knn_50</th>\n",
       "      <td>3064.139153</td>\n",
       "      <td>55.354667</td>\n",
       "      <td>47.310090</td>\n",
       "    </tr>\n",
       "  </tbody>\n",
       "</table>\n",
       "</div>"
      ],
      "text/plain": [
       "                           MSE       RMSE        MAE\n",
       "linear_regression  3054.769565  55.269970  43.770447\n",
       "knn_5              3347.045405  57.853655  46.881081\n",
       "knn_20             3196.589685  56.538391  45.205405\n",
       "knn_50             3064.139153  55.354667  47.310090"
      ]
     },
     "execution_count": 110,
     "metadata": {},
     "output_type": "execute_result"
    }
   ],
   "source": [
    "results_diabetes"
   ]
  },
  {
   "cell_type": "markdown",
   "metadata": {},
   "source": [
    "```python\n",
    "from sklearn.datasets import fetch_openml\n",
    "housing = fetch_openml(name=\"house_prices\", as_frame=True)\n",
    "```"
   ]
  },
  {
   "cell_type": "markdown",
   "metadata": {},
   "source": [
    "### Ejercicio\n",
    "\n",
    "Train several k neighbors classifiers (with 5, 20, and 50 neighbors) on the housing dataset.\n",
    "Measure their errors and annotarte them into the results DataFrame."
   ]
  },
  {
   "cell_type": "code",
   "execution_count": 112,
   "metadata": {},
   "outputs": [],
   "source": [
    "# vamos a quedarnos solo con variables numericas\n",
    "data = housing_X.select_dtypes('number')\n",
    "#tenemos muchos floats porque -> type(np.nan) es float, por lo tanto nos tiene que hacer pensar en datos missing\n",
    "data = data.fillna(data.median())\n",
    "data = data.drop('Id',axis=1)\n",
    "\n",
    "#select a model and hyperparameters\n",
    "knn = KNeighborsRegressor(n_neighbors=5)\n",
    "\n",
    "#split train and test\n",
    "X_train, X_test, y_train, y_test = train_test_split(data,housing_y)\n",
    "\n",
    "#learn on the training set\n",
    "knn.fit(X_train,y_train)\n",
    "#Precict on the test set\n",
    "y_hat = knn.predict(X_test)\n",
    "\n",
    "#Evaluate\n",
    "errors = y_test - y_hat\n",
    "mae = np.mean(np.abs(errors))\n",
    "mse = np.mean(errors ** 2)\n",
    "rmse = np.sqrt(mse)\n",
    "\n",
    "\n",
    "results_housing.loc['knn_5'] = [mse,rmse,mae]"
   ]
  },
  {
   "cell_type": "code",
   "execution_count": 113,
   "metadata": {},
   "outputs": [],
   "source": [
    "#select a model and hyperparameters\n",
    "knn = KNeighborsRegressor(n_neighbors=20)\n",
    "\n",
    "#split train and test\n",
    "X_train, X_test, y_train, y_test = train_test_split(data,housing_y)\n",
    "\n",
    "#learn on the training set\n",
    "knn.fit(X_train,y_train)\n",
    "#Precict on the test set\n",
    "y_hat = knn.predict(X_test)\n",
    "\n",
    "#Evaluate\n",
    "errors = y_test - y_hat\n",
    "mae = np.mean(np.abs(errors))\n",
    "mse = np.mean(errors ** 2)\n",
    "rmse = np.sqrt(mse)\n",
    "\n",
    "\n",
    "results_housing.loc['knn_20'] = [mse,rmse,mae]"
   ]
  },
  {
   "cell_type": "code",
   "execution_count": 114,
   "metadata": {},
   "outputs": [],
   "source": [
    "#select a model and hyperparameters\n",
    "knn = KNeighborsRegressor(n_neighbors=50)\n",
    "\n",
    "#split train and test\n",
    "X_train, X_test, y_train, y_test = train_test_split(data,housing_y)\n",
    "\n",
    "#learn on the training set\n",
    "knn.fit(X_train,y_train)\n",
    "#Precict on the test set\n",
    "y_hat = knn.predict(X_test)\n",
    "\n",
    "#Evaluate\n",
    "errors = y_test - y_hat\n",
    "mae = np.mean(np.abs(errors))\n",
    "mse = np.mean(errors ** 2)\n",
    "rmse = np.sqrt(mse)\n",
    "\n",
    "\n",
    "results_housing.loc['knn_50'] = [mse,rmse,mae]"
   ]
  },
  {
   "cell_type": "code",
   "execution_count": 115,
   "metadata": {
    "scrolled": true
   },
   "outputs": [
    {
     "data": {
      "text/html": [
       "<div>\n",
       "<style scoped>\n",
       "    .dataframe tbody tr th:only-of-type {\n",
       "        vertical-align: middle;\n",
       "    }\n",
       "\n",
       "    .dataframe tbody tr th {\n",
       "        vertical-align: top;\n",
       "    }\n",
       "\n",
       "    .dataframe thead th {\n",
       "        text-align: right;\n",
       "    }\n",
       "</style>\n",
       "<table border=\"1\" class=\"dataframe\">\n",
       "  <thead>\n",
       "    <tr style=\"text-align: right;\">\n",
       "      <th></th>\n",
       "      <th>MSE</th>\n",
       "      <th>RMSE</th>\n",
       "      <th>MAE</th>\n",
       "    </tr>\n",
       "  </thead>\n",
       "  <tbody>\n",
       "    <tr>\n",
       "      <th>linear_regression</th>\n",
       "      <td>9.249496e+08</td>\n",
       "      <td>30412.984335</td>\n",
       "      <td>21040.804268</td>\n",
       "    </tr>\n",
       "    <tr>\n",
       "      <th>knn_5</th>\n",
       "      <td>1.974752e+09</td>\n",
       "      <td>44438.183440</td>\n",
       "      <td>27742.072877</td>\n",
       "    </tr>\n",
       "    <tr>\n",
       "      <th>knn_20</th>\n",
       "      <td>2.502100e+09</td>\n",
       "      <td>50021.000343</td>\n",
       "      <td>31993.823014</td>\n",
       "    </tr>\n",
       "    <tr>\n",
       "      <th>knn_50</th>\n",
       "      <td>3.299496e+09</td>\n",
       "      <td>57441.243392</td>\n",
       "      <td>34683.314849</td>\n",
       "    </tr>\n",
       "  </tbody>\n",
       "</table>\n",
       "</div>"
      ],
      "text/plain": [
       "                            MSE          RMSE           MAE\n",
       "linear_regression  9.249496e+08  30412.984335  21040.804268\n",
       "knn_5              1.974752e+09  44438.183440  27742.072877\n",
       "knn_20             2.502100e+09  50021.000343  31993.823014\n",
       "knn_50             3.299496e+09  57441.243392  34683.314849"
      ]
     },
     "execution_count": 115,
     "metadata": {},
     "output_type": "execute_result"
    }
   ],
   "source": [
    "results_housing"
   ]
  },
  {
   "cell_type": "code",
   "execution_count": 116,
   "metadata": {},
   "outputs": [
    {
     "data": {
      "text/html": [
       "<div>\n",
       "<style scoped>\n",
       "    .dataframe tbody tr th:only-of-type {\n",
       "        vertical-align: middle;\n",
       "    }\n",
       "\n",
       "    .dataframe tbody tr th {\n",
       "        vertical-align: top;\n",
       "    }\n",
       "\n",
       "    .dataframe thead th {\n",
       "        text-align: right;\n",
       "    }\n",
       "</style>\n",
       "<table border=\"1\" class=\"dataframe\">\n",
       "  <thead>\n",
       "    <tr style=\"text-align: right;\">\n",
       "      <th></th>\n",
       "      <th>MSSubClass</th>\n",
       "      <th>LotFrontage</th>\n",
       "      <th>LotArea</th>\n",
       "      <th>OverallQual</th>\n",
       "      <th>OverallCond</th>\n",
       "      <th>YearBuilt</th>\n",
       "      <th>YearRemodAdd</th>\n",
       "      <th>MasVnrArea</th>\n",
       "      <th>BsmtFinSF1</th>\n",
       "      <th>BsmtFinSF2</th>\n",
       "      <th>...</th>\n",
       "      <th>GarageArea</th>\n",
       "      <th>WoodDeckSF</th>\n",
       "      <th>OpenPorchSF</th>\n",
       "      <th>EnclosedPorch</th>\n",
       "      <th>3SsnPorch</th>\n",
       "      <th>ScreenPorch</th>\n",
       "      <th>PoolArea</th>\n",
       "      <th>MiscVal</th>\n",
       "      <th>MoSold</th>\n",
       "      <th>YrSold</th>\n",
       "    </tr>\n",
       "  </thead>\n",
       "  <tbody>\n",
       "    <tr>\n",
       "      <th>0</th>\n",
       "      <td>0.073350</td>\n",
       "      <td>-0.220799</td>\n",
       "      <td>-0.207071</td>\n",
       "      <td>0.651256</td>\n",
       "      <td>-0.517023</td>\n",
       "      <td>1.050634</td>\n",
       "      <td>0.878367</td>\n",
       "      <td>0.513928</td>\n",
       "      <td>0.575228</td>\n",
       "      <td>-0.288554</td>\n",
       "      <td>...</td>\n",
       "      <td>0.350880</td>\n",
       "      <td>-0.751918</td>\n",
       "      <td>0.216429</td>\n",
       "      <td>-0.359202</td>\n",
       "      <td>-0.116299</td>\n",
       "      <td>-0.270116</td>\n",
       "      <td>-0.068668</td>\n",
       "      <td>-0.087658</td>\n",
       "      <td>-1.598563</td>\n",
       "      <td>0.138730</td>\n",
       "    </tr>\n",
       "    <tr>\n",
       "      <th>1</th>\n",
       "      <td>-0.872264</td>\n",
       "      <td>0.460162</td>\n",
       "      <td>-0.091855</td>\n",
       "      <td>-0.071812</td>\n",
       "      <td>2.178881</td>\n",
       "      <td>0.156680</td>\n",
       "      <td>-0.429430</td>\n",
       "      <td>-0.570555</td>\n",
       "      <td>1.171591</td>\n",
       "      <td>-0.288554</td>\n",
       "      <td>...</td>\n",
       "      <td>-0.060710</td>\n",
       "      <td>1.625638</td>\n",
       "      <td>-0.704242</td>\n",
       "      <td>-0.359202</td>\n",
       "      <td>-0.116299</td>\n",
       "      <td>-0.270116</td>\n",
       "      <td>-0.068668</td>\n",
       "      <td>-0.087658</td>\n",
       "      <td>-0.488943</td>\n",
       "      <td>-0.614228</td>\n",
       "    </tr>\n",
       "    <tr>\n",
       "      <th>2</th>\n",
       "      <td>0.073350</td>\n",
       "      <td>-0.084607</td>\n",
       "      <td>0.073455</td>\n",
       "      <td>0.651256</td>\n",
       "      <td>-0.517023</td>\n",
       "      <td>0.984415</td>\n",
       "      <td>0.829930</td>\n",
       "      <td>0.325803</td>\n",
       "      <td>0.092875</td>\n",
       "      <td>-0.288554</td>\n",
       "      <td>...</td>\n",
       "      <td>0.631510</td>\n",
       "      <td>-0.751918</td>\n",
       "      <td>-0.070337</td>\n",
       "      <td>-0.359202</td>\n",
       "      <td>-0.116299</td>\n",
       "      <td>-0.270116</td>\n",
       "      <td>-0.068668</td>\n",
       "      <td>-0.087658</td>\n",
       "      <td>0.990552</td>\n",
       "      <td>0.138730</td>\n",
       "    </tr>\n",
       "    <tr>\n",
       "      <th>3</th>\n",
       "      <td>0.309753</td>\n",
       "      <td>-0.447787</td>\n",
       "      <td>-0.096864</td>\n",
       "      <td>0.651256</td>\n",
       "      <td>-0.517023</td>\n",
       "      <td>-1.862993</td>\n",
       "      <td>-0.720051</td>\n",
       "      <td>-0.570555</td>\n",
       "      <td>-0.499103</td>\n",
       "      <td>-0.288554</td>\n",
       "      <td>...</td>\n",
       "      <td>0.790533</td>\n",
       "      <td>-0.751918</td>\n",
       "      <td>-0.175988</td>\n",
       "      <td>4.091122</td>\n",
       "      <td>-0.116299</td>\n",
       "      <td>-0.270116</td>\n",
       "      <td>-0.068668</td>\n",
       "      <td>-0.087658</td>\n",
       "      <td>-1.598563</td>\n",
       "      <td>-1.367186</td>\n",
       "    </tr>\n",
       "    <tr>\n",
       "      <th>4</th>\n",
       "      <td>0.073350</td>\n",
       "      <td>0.641752</td>\n",
       "      <td>0.375020</td>\n",
       "      <td>1.374324</td>\n",
       "      <td>-0.517023</td>\n",
       "      <td>0.951306</td>\n",
       "      <td>0.733056</td>\n",
       "      <td>1.366021</td>\n",
       "      <td>0.463410</td>\n",
       "      <td>-0.288554</td>\n",
       "      <td>...</td>\n",
       "      <td>1.697903</td>\n",
       "      <td>0.779930</td>\n",
       "      <td>0.563567</td>\n",
       "      <td>-0.359202</td>\n",
       "      <td>-0.116299</td>\n",
       "      <td>-0.270116</td>\n",
       "      <td>-0.068668</td>\n",
       "      <td>-0.087658</td>\n",
       "      <td>2.100173</td>\n",
       "      <td>0.138730</td>\n",
       "    </tr>\n",
       "    <tr>\n",
       "      <th>...</th>\n",
       "      <td>...</td>\n",
       "      <td>...</td>\n",
       "      <td>...</td>\n",
       "      <td>...</td>\n",
       "      <td>...</td>\n",
       "      <td>...</td>\n",
       "      <td>...</td>\n",
       "      <td>...</td>\n",
       "      <td>...</td>\n",
       "      <td>...</td>\n",
       "      <td>...</td>\n",
       "      <td>...</td>\n",
       "      <td>...</td>\n",
       "      <td>...</td>\n",
       "      <td>...</td>\n",
       "      <td>...</td>\n",
       "      <td>...</td>\n",
       "      <td>...</td>\n",
       "      <td>...</td>\n",
       "      <td>...</td>\n",
       "      <td>...</td>\n",
       "    </tr>\n",
       "    <tr>\n",
       "      <th>1455</th>\n",
       "      <td>0.073350</td>\n",
       "      <td>-0.356992</td>\n",
       "      <td>-0.260471</td>\n",
       "      <td>-0.071812</td>\n",
       "      <td>-0.517023</td>\n",
       "      <td>0.918196</td>\n",
       "      <td>0.733056</td>\n",
       "      <td>-0.570555</td>\n",
       "      <td>-0.972685</td>\n",
       "      <td>-0.288554</td>\n",
       "      <td>...</td>\n",
       "      <td>-0.060710</td>\n",
       "      <td>-0.751918</td>\n",
       "      <td>-0.100523</td>\n",
       "      <td>-0.359202</td>\n",
       "      <td>-0.116299</td>\n",
       "      <td>-0.270116</td>\n",
       "      <td>-0.068668</td>\n",
       "      <td>-0.087658</td>\n",
       "      <td>0.620678</td>\n",
       "      <td>-0.614228</td>\n",
       "    </tr>\n",
       "    <tr>\n",
       "      <th>1456</th>\n",
       "      <td>-0.872264</td>\n",
       "      <td>0.687149</td>\n",
       "      <td>0.266316</td>\n",
       "      <td>-0.071812</td>\n",
       "      <td>0.381612</td>\n",
       "      <td>0.222899</td>\n",
       "      <td>0.151813</td>\n",
       "      <td>0.087881</td>\n",
       "      <td>0.759399</td>\n",
       "      <td>0.721865</td>\n",
       "      <td>...</td>\n",
       "      <td>0.126376</td>\n",
       "      <td>2.032535</td>\n",
       "      <td>-0.704242</td>\n",
       "      <td>-0.359202</td>\n",
       "      <td>-0.116299</td>\n",
       "      <td>-0.270116</td>\n",
       "      <td>-0.068668</td>\n",
       "      <td>-0.087658</td>\n",
       "      <td>-1.598563</td>\n",
       "      <td>1.644646</td>\n",
       "    </tr>\n",
       "    <tr>\n",
       "      <th>1457</th>\n",
       "      <td>0.309753</td>\n",
       "      <td>-0.175402</td>\n",
       "      <td>-0.147760</td>\n",
       "      <td>0.651256</td>\n",
       "      <td>3.077516</td>\n",
       "      <td>-1.002149</td>\n",
       "      <td>1.023678</td>\n",
       "      <td>-0.570555</td>\n",
       "      <td>-0.369744</td>\n",
       "      <td>-0.288554</td>\n",
       "      <td>...</td>\n",
       "      <td>-1.033560</td>\n",
       "      <td>-0.751918</td>\n",
       "      <td>0.201336</td>\n",
       "      <td>-0.359202</td>\n",
       "      <td>-0.116299</td>\n",
       "      <td>-0.270116</td>\n",
       "      <td>-0.068668</td>\n",
       "      <td>4.951415</td>\n",
       "      <td>-0.488943</td>\n",
       "      <td>1.644646</td>\n",
       "    </tr>\n",
       "    <tr>\n",
       "      <th>1458</th>\n",
       "      <td>-0.872264</td>\n",
       "      <td>-0.084607</td>\n",
       "      <td>-0.080133</td>\n",
       "      <td>-0.794879</td>\n",
       "      <td>0.381612</td>\n",
       "      <td>-0.704164</td>\n",
       "      <td>0.539309</td>\n",
       "      <td>-0.570555</td>\n",
       "      <td>-0.865252</td>\n",
       "      <td>6.090101</td>\n",
       "      <td>...</td>\n",
       "      <td>-1.089686</td>\n",
       "      <td>2.168167</td>\n",
       "      <td>-0.704242</td>\n",
       "      <td>1.473284</td>\n",
       "      <td>-0.116299</td>\n",
       "      <td>-0.270116</td>\n",
       "      <td>-0.068668</td>\n",
       "      <td>-0.087658</td>\n",
       "      <td>-0.858816</td>\n",
       "      <td>1.644646</td>\n",
       "    </tr>\n",
       "    <tr>\n",
       "      <th>1459</th>\n",
       "      <td>-0.872264</td>\n",
       "      <td>0.233175</td>\n",
       "      <td>-0.058092</td>\n",
       "      <td>-0.794879</td>\n",
       "      <td>0.381612</td>\n",
       "      <td>-0.207523</td>\n",
       "      <td>-0.962236</td>\n",
       "      <td>-0.570555</td>\n",
       "      <td>0.847099</td>\n",
       "      <td>1.509123</td>\n",
       "      <td>...</td>\n",
       "      <td>-0.921308</td>\n",
       "      <td>5.120166</td>\n",
       "      <td>0.322080</td>\n",
       "      <td>-0.359202</td>\n",
       "      <td>-0.116299</td>\n",
       "      <td>-0.270116</td>\n",
       "      <td>-0.068668</td>\n",
       "      <td>-0.087658</td>\n",
       "      <td>-0.119069</td>\n",
       "      <td>0.138730</td>\n",
       "    </tr>\n",
       "  </tbody>\n",
       "</table>\n",
       "<p>1460 rows × 36 columns</p>\n",
       "</div>"
      ],
      "text/plain": [
       "      MSSubClass  LotFrontage   LotArea  OverallQual  OverallCond  YearBuilt  \\\n",
       "0       0.073350    -0.220799 -0.207071     0.651256    -0.517023   1.050634   \n",
       "1      -0.872264     0.460162 -0.091855    -0.071812     2.178881   0.156680   \n",
       "2       0.073350    -0.084607  0.073455     0.651256    -0.517023   0.984415   \n",
       "3       0.309753    -0.447787 -0.096864     0.651256    -0.517023  -1.862993   \n",
       "4       0.073350     0.641752  0.375020     1.374324    -0.517023   0.951306   \n",
       "...          ...          ...       ...          ...          ...        ...   \n",
       "1455    0.073350    -0.356992 -0.260471    -0.071812    -0.517023   0.918196   \n",
       "1456   -0.872264     0.687149  0.266316    -0.071812     0.381612   0.222899   \n",
       "1457    0.309753    -0.175402 -0.147760     0.651256     3.077516  -1.002149   \n",
       "1458   -0.872264    -0.084607 -0.080133    -0.794879     0.381612  -0.704164   \n",
       "1459   -0.872264     0.233175 -0.058092    -0.794879     0.381612  -0.207523   \n",
       "\n",
       "      YearRemodAdd  MasVnrArea  BsmtFinSF1  BsmtFinSF2  ...  GarageArea  \\\n",
       "0         0.878367    0.513928    0.575228   -0.288554  ...    0.350880   \n",
       "1        -0.429430   -0.570555    1.171591   -0.288554  ...   -0.060710   \n",
       "2         0.829930    0.325803    0.092875   -0.288554  ...    0.631510   \n",
       "3        -0.720051   -0.570555   -0.499103   -0.288554  ...    0.790533   \n",
       "4         0.733056    1.366021    0.463410   -0.288554  ...    1.697903   \n",
       "...            ...         ...         ...         ...  ...         ...   \n",
       "1455      0.733056   -0.570555   -0.972685   -0.288554  ...   -0.060710   \n",
       "1456      0.151813    0.087881    0.759399    0.721865  ...    0.126376   \n",
       "1457      1.023678   -0.570555   -0.369744   -0.288554  ...   -1.033560   \n",
       "1458      0.539309   -0.570555   -0.865252    6.090101  ...   -1.089686   \n",
       "1459     -0.962236   -0.570555    0.847099    1.509123  ...   -0.921308   \n",
       "\n",
       "      WoodDeckSF  OpenPorchSF  EnclosedPorch  3SsnPorch  ScreenPorch  \\\n",
       "0      -0.751918     0.216429      -0.359202  -0.116299    -0.270116   \n",
       "1       1.625638    -0.704242      -0.359202  -0.116299    -0.270116   \n",
       "2      -0.751918    -0.070337      -0.359202  -0.116299    -0.270116   \n",
       "3      -0.751918    -0.175988       4.091122  -0.116299    -0.270116   \n",
       "4       0.779930     0.563567      -0.359202  -0.116299    -0.270116   \n",
       "...          ...          ...            ...        ...          ...   \n",
       "1455   -0.751918    -0.100523      -0.359202  -0.116299    -0.270116   \n",
       "1456    2.032535    -0.704242      -0.359202  -0.116299    -0.270116   \n",
       "1457   -0.751918     0.201336      -0.359202  -0.116299    -0.270116   \n",
       "1458    2.168167    -0.704242       1.473284  -0.116299    -0.270116   \n",
       "1459    5.120166     0.322080      -0.359202  -0.116299    -0.270116   \n",
       "\n",
       "      PoolArea   MiscVal    MoSold    YrSold  \n",
       "0    -0.068668 -0.087658 -1.598563  0.138730  \n",
       "1    -0.068668 -0.087658 -0.488943 -0.614228  \n",
       "2    -0.068668 -0.087658  0.990552  0.138730  \n",
       "3    -0.068668 -0.087658 -1.598563 -1.367186  \n",
       "4    -0.068668 -0.087658  2.100173  0.138730  \n",
       "...        ...       ...       ...       ...  \n",
       "1455 -0.068668 -0.087658  0.620678 -0.614228  \n",
       "1456 -0.068668 -0.087658 -1.598563  1.644646  \n",
       "1457 -0.068668  4.951415 -0.488943  1.644646  \n",
       "1458 -0.068668 -0.087658 -0.858816  1.644646  \n",
       "1459 -0.068668 -0.087658 -0.119069  0.138730  \n",
       "\n",
       "[1460 rows x 36 columns]"
      ]
     },
     "execution_count": 116,
     "metadata": {},
     "output_type": "execute_result"
    }
   ],
   "source": [
    "normalized = data.copy()\n",
    "normalized = (normalized - normalized.mean()) / normalized.std()\n",
    "normalized"
   ]
  },
  {
   "cell_type": "code",
   "execution_count": 120,
   "metadata": {},
   "outputs": [
    {
     "data": {
      "text/html": [
       "<div>\n",
       "<style scoped>\n",
       "    .dataframe tbody tr th:only-of-type {\n",
       "        vertical-align: middle;\n",
       "    }\n",
       "\n",
       "    .dataframe tbody tr th {\n",
       "        vertical-align: top;\n",
       "    }\n",
       "\n",
       "    .dataframe thead th {\n",
       "        text-align: right;\n",
       "    }\n",
       "</style>\n",
       "<table border=\"1\" class=\"dataframe\">\n",
       "  <thead>\n",
       "    <tr style=\"text-align: right;\">\n",
       "      <th></th>\n",
       "      <th>MSE</th>\n",
       "      <th>RMSE</th>\n",
       "      <th>MAE</th>\n",
       "    </tr>\n",
       "  </thead>\n",
       "  <tbody>\n",
       "    <tr>\n",
       "      <th>linear_regression</th>\n",
       "      <td>9.249496e+08</td>\n",
       "      <td>30412.984335</td>\n",
       "      <td>21040.804268</td>\n",
       "    </tr>\n",
       "    <tr>\n",
       "      <th>knn_5</th>\n",
       "      <td>1.974752e+09</td>\n",
       "      <td>44438.183440</td>\n",
       "      <td>27742.072877</td>\n",
       "    </tr>\n",
       "    <tr>\n",
       "      <th>knn_20</th>\n",
       "      <td>2.502100e+09</td>\n",
       "      <td>50021.000343</td>\n",
       "      <td>31993.823014</td>\n",
       "    </tr>\n",
       "    <tr>\n",
       "      <th>knn_50</th>\n",
       "      <td>3.299496e+09</td>\n",
       "      <td>57441.243392</td>\n",
       "      <td>34683.314849</td>\n",
       "    </tr>\n",
       "    <tr>\n",
       "      <th>knn_20_normalized</th>\n",
       "      <td>1.864238e+09</td>\n",
       "      <td>43176.818917</td>\n",
       "      <td>24958.403288</td>\n",
       "    </tr>\n",
       "  </tbody>\n",
       "</table>\n",
       "</div>"
      ],
      "text/plain": [
       "                            MSE          RMSE           MAE\n",
       "linear_regression  9.249496e+08  30412.984335  21040.804268\n",
       "knn_5              1.974752e+09  44438.183440  27742.072877\n",
       "knn_20             2.502100e+09  50021.000343  31993.823014\n",
       "knn_50             3.299496e+09  57441.243392  34683.314849\n",
       "knn_20_normalized  1.864238e+09  43176.818917  24958.403288"
      ]
     },
     "execution_count": 120,
     "metadata": {},
     "output_type": "execute_result"
    }
   ],
   "source": [
    "#select a model and hyperparameters\n",
    "knn = KNeighborsRegressor(n_neighbors=20)\n",
    "\n",
    "#split train and test\n",
    "X_train, X_test, y_train, y_test = train_test_split(normalized,housing_y)\n",
    "\n",
    "#learn on the training set\n",
    "knn.fit(X_train,y_train)\n",
    "#Precict on the test set\n",
    "y_hat = knn.predict(X_test)\n",
    "\n",
    "#Evaluate\n",
    "errors = y_test - y_hat\n",
    "mae = np.mean(np.abs(errors))\n",
    "mse = np.mean(errors ** 2)\n",
    "rmse = np.sqrt(mse)\n",
    "\n",
    "\n",
    "results_housing.loc['knn_20_normalized'] = [mse,rmse,mae]\n",
    "results_housing"
   ]
  },
  {
   "cell_type": "code",
   "execution_count": null,
   "metadata": {},
   "outputs": [],
   "source": []
  },
  {
   "cell_type": "markdown",
   "metadata": {},
   "source": [
    "## Decision Tree Regression\n"
   ]
  },
  {
   "cell_type": "code",
   "execution_count": 136,
   "metadata": {
    "scrolled": false
   },
   "outputs": [
    {
     "data": {
      "text/plain": [
       "[<matplotlib.lines.Line2D at 0x7f23331cc040>]"
      ]
     },
     "execution_count": 136,
     "metadata": {},
     "output_type": "execute_result"
    },
    {
     "data": {
      "image/png": "[encoded data removed]",
      "text/plain": [
       "<Figure size 432x288 with 1 Axes>"
      ]
     },
     "metadata": {
      "needs_background": "light"
     },
     "output_type": "display_data"
    }
   ],
   "source": [
    "from sklearn.tree import DecisionTreeRegressor\n",
    "\n",
    "dt = DecisionTreeRegressor(max_depth=10,\n",
    "                           min_samples_leaf=20)# cuanta menos profundidad mayor varianza, basta comparar con 20 y con 5 para ver la diferencia\n",
    "\n",
    "X_train, X_test, y_train, y_test = train_test_split(X, y)\n",
    "\n",
    "dt.fit(X_train, y_train)\n",
    "\n",
    "plt.scatter(X, y)\n",
    "xs = np.linspace(min(X)-2, max(X)+2)\n",
    "plt.plot(xs, dt.predict(xs), c='orange')"
   ]
  },
  {
   "cell_type": "code",
   "execution_count": 138,
   "metadata": {
    "scrolled": true
   },
   "outputs": [
    {
     "data": {
      "text/html": [
       "<div>\n",
       "<style scoped>\n",
       "    .dataframe tbody tr th:only-of-type {\n",
       "        vertical-align: middle;\n",
       "    }\n",
       "\n",
       "    .dataframe tbody tr th {\n",
       "        vertical-align: top;\n",
       "    }\n",
       "\n",
       "    .dataframe thead th {\n",
       "        text-align: right;\n",
       "    }\n",
       "</style>\n",
       "<table border=\"1\" class=\"dataframe\">\n",
       "  <thead>\n",
       "    <tr style=\"text-align: right;\">\n",
       "      <th></th>\n",
       "      <th>MSE</th>\n",
       "      <th>RMSE</th>\n",
       "      <th>MAE</th>\n",
       "    </tr>\n",
       "  </thead>\n",
       "  <tbody>\n",
       "    <tr>\n",
       "      <th>linear_regression</th>\n",
       "      <td>3054.769565</td>\n",
       "      <td>55.269970</td>\n",
       "      <td>43.770447</td>\n",
       "    </tr>\n",
       "    <tr>\n",
       "      <th>knn_5</th>\n",
       "      <td>3347.045405</td>\n",
       "      <td>57.853655</td>\n",
       "      <td>46.881081</td>\n",
       "    </tr>\n",
       "    <tr>\n",
       "      <th>knn_20</th>\n",
       "      <td>3196.589685</td>\n",
       "      <td>56.538391</td>\n",
       "      <td>45.205405</td>\n",
       "    </tr>\n",
       "    <tr>\n",
       "      <th>knn_50</th>\n",
       "      <td>3064.139153</td>\n",
       "      <td>55.354667</td>\n",
       "      <td>47.310090</td>\n",
       "    </tr>\n",
       "    <tr>\n",
       "      <th>dt_2</th>\n",
       "      <td>7128.145050</td>\n",
       "      <td>84.428343</td>\n",
       "      <td>67.932875</td>\n",
       "    </tr>\n",
       "    <tr>\n",
       "      <th>dt_8</th>\n",
       "      <td>6290.578755</td>\n",
       "      <td>79.313169</td>\n",
       "      <td>61.192593</td>\n",
       "    </tr>\n",
       "  </tbody>\n",
       "</table>\n",
       "</div>"
      ],
      "text/plain": [
       "                           MSE       RMSE        MAE\n",
       "linear_regression  3054.769565  55.269970  43.770447\n",
       "knn_5              3347.045405  57.853655  46.881081\n",
       "knn_20             3196.589685  56.538391  45.205405\n",
       "knn_50             3064.139153  55.354667  47.310090\n",
       "dt_2               7128.145050  84.428343  67.932875\n",
       "dt_8               6290.578755  79.313169  61.192593"
      ]
     },
     "execution_count": 138,
     "metadata": {},
     "output_type": "execute_result"
    }
   ],
   "source": [
    "dt = DecisionTreeRegressor(max_depth=8)\n",
    "\n",
    "X_train, X_test, y_train, y_test = train_test_split(diabetes_X, diabetes_y)\n",
    "\n",
    "dt.fit(X_train, y_train)\n",
    "y_hat = dt.predict(X_test)\n",
    "\n",
    "errors = y_test - y_hat\n",
    "mae = np.mean(np.abs(errors))\n",
    "mse = np.mean(errors ** 2)\n",
    "rmse = np.sqrt(mse)\n",
    "\n",
    "\n",
    "results_diabetes.loc['dt_8'] = [mse,rmse,mae]\n",
    "results_diabetes"
   ]
  },
  {
   "cell_type": "code",
   "execution_count": 142,
   "metadata": {},
   "outputs": [
    {
     "data": {
      "text/html": [
       "<div>\n",
       "<style scoped>\n",
       "    .dataframe tbody tr th:only-of-type {\n",
       "        vertical-align: middle;\n",
       "    }\n",
       "\n",
       "    .dataframe tbody tr th {\n",
       "        vertical-align: top;\n",
       "    }\n",
       "\n",
       "    .dataframe thead th {\n",
       "        text-align: right;\n",
       "    }\n",
       "</style>\n",
       "<table border=\"1\" class=\"dataframe\">\n",
       "  <thead>\n",
       "    <tr style=\"text-align: right;\">\n",
       "      <th></th>\n",
       "      <th>MSE</th>\n",
       "      <th>RMSE</th>\n",
       "      <th>MAE</th>\n",
       "    </tr>\n",
       "  </thead>\n",
       "  <tbody>\n",
       "    <tr>\n",
       "      <th>linear_regression</th>\n",
       "      <td>9.249496e+08</td>\n",
       "      <td>30412.984335</td>\n",
       "      <td>21040.804268</td>\n",
       "    </tr>\n",
       "    <tr>\n",
       "      <th>knn_5</th>\n",
       "      <td>1.974752e+09</td>\n",
       "      <td>44438.183440</td>\n",
       "      <td>27742.072877</td>\n",
       "    </tr>\n",
       "    <tr>\n",
       "      <th>knn_20</th>\n",
       "      <td>2.502100e+09</td>\n",
       "      <td>50021.000343</td>\n",
       "      <td>31993.823014</td>\n",
       "    </tr>\n",
       "    <tr>\n",
       "      <th>knn_50</th>\n",
       "      <td>3.299496e+09</td>\n",
       "      <td>57441.243392</td>\n",
       "      <td>34683.314849</td>\n",
       "    </tr>\n",
       "    <tr>\n",
       "      <th>knn_20_normalized</th>\n",
       "      <td>1.864238e+09</td>\n",
       "      <td>43176.818917</td>\n",
       "      <td>24958.403288</td>\n",
       "    </tr>\n",
       "    <tr>\n",
       "      <th>dt_4</th>\n",
       "      <td>2.104822e+09</td>\n",
       "      <td>45878.342766</td>\n",
       "      <td>28086.388140</td>\n",
       "    </tr>\n",
       "    <tr>\n",
       "      <th>dt_4_normalized</th>\n",
       "      <td>1.526920e+09</td>\n",
       "      <td>39075.825932</td>\n",
       "      <td>28677.985416</td>\n",
       "    </tr>\n",
       "  </tbody>\n",
       "</table>\n",
       "</div>"
      ],
      "text/plain": [
       "                            MSE          RMSE           MAE\n",
       "linear_regression  9.249496e+08  30412.984335  21040.804268\n",
       "knn_5              1.974752e+09  44438.183440  27742.072877\n",
       "knn_20             2.502100e+09  50021.000343  31993.823014\n",
       "knn_50             3.299496e+09  57441.243392  34683.314849\n",
       "knn_20_normalized  1.864238e+09  43176.818917  24958.403288\n",
       "dt_4               2.104822e+09  45878.342766  28086.388140\n",
       "dt_4_normalized    1.526920e+09  39075.825932  28677.985416"
      ]
     },
     "execution_count": 142,
     "metadata": {},
     "output_type": "execute_result"
    }
   ],
   "source": [
    "dt = DecisionTreeRegressor(max_depth=4)\n",
    "\n",
    "X_train, X_test, y_train, y_test = train_test_split(normalized, housing_y)\n",
    "\n",
    "dt.fit(X_train, y_train)\n",
    "y_hat = dt.predict(X_test)\n",
    "\n",
    "errors = y_test - y_hat\n",
    "mae = np.mean(np.abs(errors))\n",
    "mse = np.mean(errors ** 2)\n",
    "rmse = np.sqrt(mse)\n",
    "\n",
    "\n",
    "results_housing.loc['dt_4_normalized'] = [mse,rmse,mae]\n",
    "results_housing"
   ]
  },
  {
   "cell_type": "code",
   "execution_count": 143,
   "metadata": {},
   "outputs": [
    {
     "data": {
      "text/html": [
       "<div>\n",
       "<style scoped>\n",
       "    .dataframe tbody tr th:only-of-type {\n",
       "        vertical-align: middle;\n",
       "    }\n",
       "\n",
       "    .dataframe tbody tr th {\n",
       "        vertical-align: top;\n",
       "    }\n",
       "\n",
       "    .dataframe thead th {\n",
       "        text-align: right;\n",
       "    }\n",
       "</style>\n",
       "<table border=\"1\" class=\"dataframe\">\n",
       "  <thead>\n",
       "    <tr style=\"text-align: right;\">\n",
       "      <th></th>\n",
       "      <th>MSE</th>\n",
       "      <th>RMSE</th>\n",
       "      <th>MAE</th>\n",
       "    </tr>\n",
       "  </thead>\n",
       "  <tbody>\n",
       "    <tr>\n",
       "      <th>linear_regression</th>\n",
       "      <td>9.249496e+08</td>\n",
       "      <td>30412.984335</td>\n",
       "      <td>21040.804268</td>\n",
       "    </tr>\n",
       "    <tr>\n",
       "      <th>knn_5</th>\n",
       "      <td>1.974752e+09</td>\n",
       "      <td>44438.183440</td>\n",
       "      <td>27742.072877</td>\n",
       "    </tr>\n",
       "    <tr>\n",
       "      <th>knn_20</th>\n",
       "      <td>2.502100e+09</td>\n",
       "      <td>50021.000343</td>\n",
       "      <td>31993.823014</td>\n",
       "    </tr>\n",
       "    <tr>\n",
       "      <th>knn_50</th>\n",
       "      <td>3.299496e+09</td>\n",
       "      <td>57441.243392</td>\n",
       "      <td>34683.314849</td>\n",
       "    </tr>\n",
       "    <tr>\n",
       "      <th>knn_20_normalized</th>\n",
       "      <td>1.864238e+09</td>\n",
       "      <td>43176.818917</td>\n",
       "      <td>24958.403288</td>\n",
       "    </tr>\n",
       "    <tr>\n",
       "      <th>dt_4</th>\n",
       "      <td>1.325138e+09</td>\n",
       "      <td>36402.441567</td>\n",
       "      <td>26461.761372</td>\n",
       "    </tr>\n",
       "    <tr>\n",
       "      <th>dt_4_normalized</th>\n",
       "      <td>1.526920e+09</td>\n",
       "      <td>39075.825932</td>\n",
       "      <td>28677.985416</td>\n",
       "    </tr>\n",
       "  </tbody>\n",
       "</table>\n",
       "</div>"
      ],
      "text/plain": [
       "                            MSE          RMSE           MAE\n",
       "linear_regression  9.249496e+08  30412.984335  21040.804268\n",
       "knn_5              1.974752e+09  44438.183440  27742.072877\n",
       "knn_20             2.502100e+09  50021.000343  31993.823014\n",
       "knn_50             3.299496e+09  57441.243392  34683.314849\n",
       "knn_20_normalized  1.864238e+09  43176.818917  24958.403288\n",
       "dt_4               1.325138e+09  36402.441567  26461.761372\n",
       "dt_4_normalized    1.526920e+09  39075.825932  28677.985416"
      ]
     },
     "execution_count": 143,
     "metadata": {},
     "output_type": "execute_result"
    }
   ],
   "source": [
    "dt = DecisionTreeRegressor(max_depth=4)\n",
    "\n",
    "X_train, X_test, y_train, y_test = train_test_split(data, housing_y)\n",
    "\n",
    "dt.fit(X_train, y_train)\n",
    "y_hat = dt.predict(X_test)\n",
    "\n",
    "errors = y_test - y_hat\n",
    "mae = np.mean(np.abs(errors))\n",
    "mse = np.mean(errors ** 2)\n",
    "rmse = np.sqrt(mse)\n",
    "\n",
    "\n",
    "results_housing.loc['dt_4'] = [mse,rmse,mae]\n",
    "results_housing"
   ]
  },
  {
   "cell_type": "markdown",
   "metadata": {},
   "source": [
    "# Generalizability of our models\n",
    "\n",
    "We want to train models on known data in order to make inferences (predictions) on unknown data.\n",
    "\n",
    "How do we know how good our models are? "
   ]
  },
  {
   "cell_type": "code",
   "execution_count": null,
   "metadata": {},
   "outputs": [],
   "source": []
  },
  {
   "cell_type": "markdown",
   "metadata": {},
   "source": [
    "## Overfitting\n",
    "\n",
    "![Under- and overfitting](https://djsaunde.files.wordpress.com/2017/07/bias-variance-tradeoff.png)\n",
    "\n",
    "from https://djsaunde.wordpress.com/2017/07/17/the-bias-variance-tradeoff/"
   ]
  },
  {
   "cell_type": "code",
   "execution_count": null,
   "metadata": {},
   "outputs": [],
   "source": []
  },
  {
   "cell_type": "markdown",
   "metadata": {},
   "source": [
    "# Additional References\n",
    "\n",
    "\n",
    "[An Introduction to Statistical Learning](http://www-bcf.usc.edu/~gareth/ISL/)\n",
    "\n",
    "[Introduction to Machine Learning with Python](http://shop.oreilly.com/product/0636920030515.do)\n",
    "\n",
    "[scikit-learn cheat sheet](https://s3.amazonaws.com/assets.datacamp.com/blog_assets/Scikit_Learn_Cheat_Sheet_Python.pdf)\n",
    "\n",
    "[Regression metrics in sklearn](https://scikit-learn.org/stable/modules/model_evaluation.html#regression-metrics)"
   ]
  },
  {
   "cell_type": "code",
   "execution_count": null,
   "metadata": {},
   "outputs": [],
   "source": []
  }
 ],
 "metadata": {
  "kernelspec": {
   "display_name": "Python 3 (ipykernel)",
   "language": "python",
   "name": "python3"
  },
  "language_info": {
   "codemirror_mode": {
    "name": "ipython",
    "version": 3
   },
   "file_extension": ".py",
   "mimetype": "text/x-python",
   "name": "python",
   "nbconvert_exporter": "python",
   "pygments_lexer": "ipython3",
   "version": "3.8.2"
  },
  "toc": {
   "base_numbering": 1,
   "nav_menu": {
    "height": "617px",
    "width": "426px"
   },
   "number_sections": true,
   "sideBar": true,
   "skip_h1_title": false,
   "title_cell": "Table of Contents",
   "title_sidebar": "Contents",
   "toc_cell": false,
   "toc_position": {},
   "toc_section_display": true,
   "toc_window_display": false
  }
 },
 "nbformat": 4,
 "nbformat_minor": 4
}
