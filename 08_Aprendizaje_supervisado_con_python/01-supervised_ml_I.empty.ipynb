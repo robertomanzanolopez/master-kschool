{
 "cells": [
  {
   "cell_type": "markdown",
   "metadata": {
    "slideshow": {
     "slide_type": "slide"
    }
   },
   "source": [
    "# Supervised Machine Learning with Python I\n",
    "\n",
    "\n",
    "<img src=\"https://www.python.org/static/img/python-logo.png\" alt=\"yogen\" style=\"width: 200px; float: right;\"/>\n",
    "<br>\n",
    "<br>\n",
    "<br>\n",
    "<img src=\"../assets/yogen-logo.png\" alt=\"yogen\" style=\"width: 200px; float: right;\"/>"
   ]
  },
  {
   "cell_type": "markdown",
   "metadata": {
    "slideshow": {
     "slide_type": "slide"
    }
   },
   "source": [
    "# Objectives\n",
    "\n",
    "* Learn the basic principles of Machine Learning\n",
    "\n",
    "* Get to know the `scikit-learn` library and how to use it for Machine Learning.\n",
    "\n",
    "* Understand the close relationship between ML and optimization\n",
    "\n",
    "* Learn how to do linear regression with `scikit-learn`\n",
    "\n",
    "* Learn how to evaluate the results of training a regression algorithm\n"
   ]
  },
  {
   "cell_type": "markdown",
   "metadata": {
    "slideshow": {
     "slide_type": "slide"
    }
   },
   "source": [
    "# Machine Learning\n"
   ]
  },
  {
   "cell_type": "markdown",
   "metadata": {
    "slideshow": {
     "slide_type": "slide"
    }
   },
   "source": [
    "# `scikit-learn`"
   ]
  },
  {
   "cell_type": "markdown",
   "metadata": {
    "slideshow": {
     "slide_type": "fragment"
    }
   },
   "source": [
    "![scikit-learn cheat sheet](http://amueller.github.io/sklearn_tutorial/cheat_sheet.png)"
   ]
  },
  {
   "cell_type": "code",
   "execution_count": null,
   "metadata": {},
   "outputs": [],
   "source": []
  },
  {
   "cell_type": "markdown",
   "metadata": {
    "slideshow": {
     "slide_type": "slide"
    }
   },
   "source": [
    "## Linear Regression as a model for Machine Learning\n",
    "\n",
    "Linear regression finds an $h_\\theta$ of the form:\n",
    "\n",
    "$$ h_\\theta(X) = \\theta \\cdot X = \\theta_0 + \\theta_1 \\cdot X_1 + ... + \\beta_n \\cdot X_n$$\n",
    "\n",
    "\n",
    "Notice that X is **fixed**: we have one set of data. Finding $h_\\theta(X)$ means finding the values of $\\theta$ that make $h_\\theta(X)$ most similar to y.\n",
    "\n",
    "\n"
   ]
  },
  {
   "cell_type": "markdown",
   "metadata": {},
   "source": [
    "### Cost (loss) function\n",
    "\n",
    "Difference between  $h_\\theta(X)$  and y\n",
    "\n",
    "$$L(\\theta) = h_\\theta(X) - y$$\n",
    "\n",
    "We need to minimize it: we need its derivative _with respect to $\\theta_i$_"
   ]
  },
  {
   "cell_type": "markdown",
   "metadata": {},
   "source": [
    "## ML is optimization of a loss function.\n",
    "\n",
    "In the case of Linear Regression, we are lucky because we can get an analytic expression of the derivative. That means we can \"teleport\" to its minimum.\n",
    "\n",
    "In many other algorithms we can't, but we can calculate the derivative numerically at any point we want. How can we use that to find the minima?"
   ]
  },
  {
   "cell_type": "code",
   "execution_count": null,
   "metadata": {},
   "outputs": [],
   "source": []
  },
  {
   "cell_type": "markdown",
   "metadata": {},
   "source": [
    "### Gradient descent\n",
    "\n",
    "![Gradient Descent](http://cdn-images-1.medium.com/max/800/1*NRCWfdXa7b-ak2nBtmwRvw.png)\n",
    "\n",
    "from [primo.ai](http://primo.ai/)"
   ]
  },
  {
   "cell_type": "markdown",
   "metadata": {},
   "source": [
    "# Machine Learning with Python: `scikit-learn`"
   ]
  },
  {
   "cell_type": "markdown",
   "metadata": {
    "slideshow": {
     "slide_type": "slide"
    }
   },
   "source": [
    "## Generate dummy data"
   ]
  },
  {
   "cell_type": "markdown",
   "metadata": {
    "slideshow": {
     "slide_type": "fragment"
    }
   },
   "source": [
    "We are going to generate fake data before we dive into real data"
   ]
  },
  {
   "cell_type": "code",
   "execution_count": 1,
   "metadata": {},
   "outputs": [],
   "source": [
    "import pandas as pd\n",
    "import numpy as np\n",
    "import matplotlib.pyplot as plt\n",
    "from sklearn import datasets"
   ]
  },
  {
   "cell_type": "code",
   "execution_count": 3,
   "metadata": {},
   "outputs": [
    {
     "data": {
      "text/plain": [
       "(300, 1)"
      ]
     },
     "execution_count": 3,
     "metadata": {},
     "output_type": "execute_result"
    }
   ],
   "source": [
    "n_sample = 300\n",
    "n_features = 1\n",
    "\n",
    "X, y = datasets.make_regression(n_sample, n_features, noise=20)\n",
    "\n",
    "X.shape"
   ]
  },
  {
   "cell_type": "code",
   "execution_count": 4,
   "metadata": {},
   "outputs": [
    {
     "data": {
      "text/plain": [
       "<matplotlib.collections.PathCollection at 0x7f7136e3afd0>"
      ]
     },
     "execution_count": 4,
     "metadata": {},
     "output_type": "execute_result"
    },
    {
     "data": {
      "image/png": "[encoded data removed]",
      "text/plain": [
       "<Figure size 432x288 with 1 Axes>"
      ]
     },
     "metadata": {
      "needs_background": "light"
     },
     "output_type": "display_data"
    }
   ],
   "source": [
    "plt.scatter(X, y)"
   ]
  },
  {
   "cell_type": "code",
   "execution_count": 5,
   "metadata": {},
   "outputs": [],
   "source": [
    "from sklearn.linear_model import LinearRegression\n",
    "\n",
    "lr = LinearRegression()"
   ]
  },
  {
   "cell_type": "code",
   "execution_count": 6,
   "metadata": {},
   "outputs": [
    {
     "data": {
      "text/plain": [
       "LinearRegression()"
      ]
     },
     "execution_count": 6,
     "metadata": {},
     "output_type": "execute_result"
    }
   ],
   "source": [
    "lr.fit(X, y)"
   ]
  },
  {
   "cell_type": "code",
   "execution_count": 7,
   "metadata": {
    "scrolled": true
   },
   "outputs": [
    {
     "data": {
      "text/plain": [
       "array([   3.71923894,    9.6482539 ,  -38.17929158,   83.86317534,\n",
       "         25.22353827,  -92.02822617,  -53.99239867,   51.58776384,\n",
       "        -58.78604738,  -54.31465819,   -1.99135086,   13.04571198,\n",
       "        120.35156109,   51.96734438,   -3.88886514,   14.83682395,\n",
       "        -42.13047962,  -31.62756986,  -40.53734131,  -24.18836386,\n",
       "        -76.26689632,  -33.42003596,    9.68792957,   20.14065357,\n",
       "        -27.36401542,   25.07802196,   56.80011009,  -67.76833536,\n",
       "        -76.82888041,  100.38311827,   24.45242881,    9.82407999,\n",
       "        -91.98798221,  -17.16146808,  -33.49030401,    0.67475267,\n",
       "         87.83615116,   16.38809919,   -9.95684178,  -70.33192899,\n",
       "        -47.84736167,   75.11737809,  -79.37412687,  153.86972163,\n",
       "        -78.25386703,    9.12699626,  -57.11084587,    4.28648812,\n",
       "         44.05586191,   -3.49889162,   13.11292636,   52.25927606,\n",
       "        -53.18555387,    3.36597198,    0.6679359 ,  -80.24131115,\n",
       "         41.648128  ,   69.44149666,    0.72613697,    6.04568202,\n",
       "        -48.95688462,  -33.96705911,   42.22515172,   56.14927999,\n",
       "         57.96743703,  -53.49231801,   -9.25586463,    1.25756777,\n",
       "        -37.1894195 ,   69.26256131,  -71.53867164,  -26.04689569,\n",
       "        -18.48582021,   16.87400444,   24.72086768,  -73.29780294,\n",
       "        -40.46519553,   46.2071922 ,  -48.98815909,    9.14943689,\n",
       "         38.05687967,   57.00452369, -121.45138579,   20.58525836,\n",
       "        -68.1456688 ,   81.84103517,   30.19954825,   45.92043673,\n",
       "          9.89046046,    7.74595017,   27.03602621,   -1.75580553,\n",
       "        -15.11823713,  -19.25591583,  -35.7918297 ,  -52.42293554,\n",
       "       -185.83454167,  -58.82023079,   28.71006782,   26.3847004 ,\n",
       "         18.26127871,  -57.67069991,   87.05083595,   40.90663064,\n",
       "         26.82458102,   14.06920878,  -56.99496259,  -28.56254777,\n",
       "         36.41759995,   11.80941327,   -5.08774734,  -64.83747278,\n",
       "         10.66497669,   -4.3790423 ,   30.0662619 ,  -56.52119441,\n",
       "          0.7716541 ,  -53.45489336,   51.04527397,   45.54257242,\n",
       "        -10.77405711,   13.00765296,   -7.15717688,  -10.29954597,\n",
       "         23.60823071,   97.41787197,  -73.18196053,   71.19799773,\n",
       "         31.52819493,  -41.75718588,  -23.54099429,   16.41135437,\n",
       "         58.59451079,  -56.11094209,   20.27890222,  -56.12574956,\n",
       "        -78.88679686,   78.99379804,    9.37994467,   64.92510772,\n",
       "         49.87467153,  -31.69971972,    7.52402093,   -9.48902434,\n",
       "         45.95834553,  -69.05668264,  -55.01623564,   -8.71473596,\n",
       "          3.18299144,  -22.32152984,  -68.88650243,  -50.36856015,\n",
       "        -10.36933733,  -46.68050379,  -60.78196989,    2.07943545,\n",
       "        -67.98573957,  105.36700969,  -26.39059688,   52.19880903,\n",
       "        -70.50899922,  -35.03083572,  -64.76433282,  -63.50965252,\n",
       "         -3.2876605 ,   57.42229652,    9.80435275,  -44.69827594,\n",
       "        -34.74383246,   67.0016685 ,  -54.19227977,   -7.9066058 ,\n",
       "         29.31984516,  -19.84533332,   -0.76654413,    9.10301762,\n",
       "        -65.40085389,   72.45227499,  -15.66962743,  -54.18394931,\n",
       "         51.16434342,   -5.5113611 ,  -40.17819329,   37.72174725,\n",
       "         -7.32132159,   14.51823259,   -8.75289119,  -17.01180011,\n",
       "         23.80208299, -102.42969316,  -15.14052464,   45.74667778,\n",
       "          8.14695393,   20.84424508,   13.28041593,    3.34355482,\n",
       "         -4.8212202 ,  -27.67112287,   45.88600826,  -75.33735537,\n",
       "        -11.17003635,  -49.17882855,  -49.04311922,    5.52044414,\n",
       "         12.36899798,   50.70581204, -113.81562292,   36.56956088,\n",
       "         29.80647124,   27.76138249,   15.72818558,  -31.67923523,\n",
       "          6.3301127 ,    0.30185081,   44.16315602,    6.76645761,\n",
       "         83.91374391,  -29.71483432,   43.69735684,   86.04247727,\n",
       "         97.45965859,  -33.20449787,  -26.93084185,   86.49190165,\n",
       "          1.7023312 ,  -72.53329065,    2.29716094,    7.82583967,\n",
       "         29.23300725,  -37.25549878,  -35.47338921,   10.85113273,\n",
       "         22.53634643,   36.01034818,  -29.87891935,  -32.82595909,\n",
       "         39.37378182,  -15.88775512,  -37.93832101,  -35.97307547,\n",
       "        -35.1970248 ,  -66.144964  , -118.91275789,   19.20888671,\n",
       "         -4.77690441,  -60.15310416,   -2.50071947,    3.27590409,\n",
       "        -52.9093443 ,  -55.48978386,   12.94827499,    1.06014509,\n",
       "         58.36170677,  -30.64726327,  -14.90597588,  -57.23386476,\n",
       "       -112.18903409,   35.81730994,   30.17427426,  -89.61262885,\n",
       "         -5.25969497,   38.23433347,   46.19029406,  -32.34485801,\n",
       "         12.3408527 ,   46.16121577,  -40.8010226 ,   38.74319469,\n",
       "         42.57574056,  -25.33599101,   -3.11808105,   85.65313004,\n",
       "         70.44705248,  -61.58408401,   -7.99048389,   51.84228517,\n",
       "        -53.56613229,  119.46619357,    1.08200332,  107.24499777,\n",
       "          5.3039895 ,  -62.85010401, -156.41155359,    5.51981436,\n",
       "        -93.80084864,    8.9550208 ,  -55.21798691,   20.64110137,\n",
       "        -43.28293581,  -28.13346795,  -20.36102789,  -26.40485498,\n",
       "         -9.36254438, -108.25395318,   31.58400927,   50.09504668,\n",
       "         -8.44608519,   -1.02835232,  -99.96478495,   59.83912142])"
      ]
     },
     "execution_count": 7,
     "metadata": {},
     "output_type": "execute_result"
    }
   ],
   "source": [
    "lr.predict(X)"
   ]
  },
  {
   "cell_type": "code",
   "execution_count": 8,
   "metadata": {
    "scrolled": true
   },
   "outputs": [
    {
     "data": {
      "text/plain": [
       "array([-3.28824084e+00,  6.84536010e+00, -5.35791312e+01,  8.52391012e+01,\n",
       "        1.92627137e+01, -9.11167710e+01, -4.74217080e+01,  5.89308550e+01,\n",
       "       -6.58588545e+01, -5.97364746e+01, -4.01857141e+01,  2.42308503e+01,\n",
       "        1.12875770e+02,  5.08253803e+01,  8.44456995e+00,  1.39297658e+01,\n",
       "       -3.24764952e+01, -5.25685179e+01, -4.31474267e+01, -1.17098984e+01,\n",
       "       -8.12801718e+01, -5.72126620e+01, -8.52421493e+00,  1.49212241e+00,\n",
       "       -1.51695582e+01,  5.66196305e+00,  6.23292693e+01, -5.79348765e+01,\n",
       "       -6.26183029e+01,  8.59345744e+01,  1.19012909e+01,  1.54907810e+01,\n",
       "       -1.08673619e+02, -2.83714711e+01, -6.52030517e+01,  1.51952044e+01,\n",
       "        8.39845027e+01,  3.25875609e+01, -7.64425006e-01, -9.27368727e+01,\n",
       "       -3.30433361e+01,  5.74758452e+01, -6.01872735e+01,  1.29659003e+02,\n",
       "       -9.18793060e+01,  2.62722800e+00, -7.00711847e+01,  4.05256285e+00,\n",
       "        5.63799881e+01, -6.92694428e-01,  1.72331810e+01,  4.39682280e+01,\n",
       "       -5.87026588e+01, -2.75766071e+01,  3.28184770e+00, -6.01106216e+01,\n",
       "        3.33620917e+01,  7.70148860e+01,  3.24556521e+00, -2.14288093e+00,\n",
       "       -2.61109860e+01, -8.17243539e+00,  4.66433823e+01,  5.89737116e+01,\n",
       "        8.71694380e+01, -3.78838585e+01, -4.85556506e+00, -1.70131975e+01,\n",
       "       -4.92321244e+01,  7.27969592e+01, -9.01343335e+01, -1.29053892e+01,\n",
       "       -1.72322595e+01,  1.20966651e+01,  1.99590023e+01, -7.71877713e+01,\n",
       "       -4.84250458e+01,  3.14840697e+01, -5.53203501e+01,  1.44825566e+01,\n",
       "        3.68302592e+01,  7.01676899e+01, -9.92944667e+01,  8.85790385e+00,\n",
       "       -7.21642031e+01,  9.06517314e+01,  4.97593711e+01,  6.13499317e+01,\n",
       "        3.77884544e+01,  6.87149249e+00,  1.19575229e+01, -2.64070737e+01,\n",
       "        1.95841081e+00,  1.77400994e+01, -3.37540997e+01, -6.32059160e+01,\n",
       "       -1.63836048e+02, -6.57792165e+01,  4.93730060e+01,  2.98038523e+01,\n",
       "        1.78973947e+01, -5.02296848e+01,  9.12003179e+01,  7.26746112e+01,\n",
       "        1.58548093e+01,  2.80875351e+01, -6.45935064e+01, -2.20610960e+01,\n",
       "        9.04021612e+00,  1.44238715e+01,  1.75174192e+01, -6.66533378e+01,\n",
       "        2.34105919e+01, -8.22292751e+00,  6.28743811e+01, -6.18028127e+01,\n",
       "        8.25117314e+00, -4.43599182e+01,  4.72466318e+01,  5.78188675e+01,\n",
       "       -8.92195953e+00,  2.01079457e+01,  1.13279319e+01,  1.02989051e+00,\n",
       "        2.53051466e+01,  9.81790113e+01, -6.23057487e+01,  6.78588731e+01,\n",
       "        2.86129640e+01, -2.94529856e+01,  1.11341316e+00,  4.44826629e+01,\n",
       "        7.43699235e+01, -7.19300259e+01, -5.66353280e+00, -7.74223072e+01,\n",
       "       -7.30985266e+01,  7.69431198e+01,  1.33315251e+01,  6.37648837e+01,\n",
       "        7.55446667e+01, -4.15198056e+01,  1.68670278e+01, -3.95219362e+00,\n",
       "        3.89815371e+01, -7.59909747e+01, -5.09581319e+01, -3.85425183e+00,\n",
       "       -1.06727135e+01, -1.97427727e+01, -9.44910388e+01, -5.70749618e+01,\n",
       "       -5.77602551e+00, -6.09828484e+01, -6.84969993e+01,  1.19919259e+00,\n",
       "       -8.03225152e+01,  1.16816805e+02, -8.35412859e+00,  5.48671481e+01,\n",
       "       -8.40067984e+01, -6.29821269e+01, -6.96630364e+01, -6.76876525e+01,\n",
       "        1.93113741e+01,  5.97157401e+01,  2.28352940e+01, -4.03879002e+01,\n",
       "       -4.79065210e+01,  7.72601787e+01, -5.59900474e+01, -2.19229686e+01,\n",
       "        4.78506630e+01, -1.00416950e+01, -1.98621067e+01, -6.62366230e-01,\n",
       "       -5.71729816e+01,  5.29352393e+01, -3.86011532e+01, -4.16324481e+01,\n",
       "        4.35634963e+01,  6.61573047e+00, -2.30500645e+01,  5.39669095e+01,\n",
       "        2.64867196e+01,  1.48701553e+01, -1.19938671e+01, -3.62884804e+01,\n",
       "        2.85100064e+01, -9.49003689e+01, -9.46709317e-01,  6.21870024e+01,\n",
       "       -1.24093695e+00,  1.50537888e+01,  2.45762121e+01, -1.45904132e+01,\n",
       "       -2.17229189e+01, -1.64746852e+01,  5.74038250e+01, -8.08159847e+01,\n",
       "       -1.80384196e+01, -6.36909887e+01, -5.11034428e+01, -5.76089258e+00,\n",
       "        1.48151005e+01,  3.45158039e+01, -1.01789733e+02,  7.40132859e+00,\n",
       "        3.00505796e+01,  1.52382929e+01,  2.83832001e+01, -4.60537408e+01,\n",
       "        1.61688365e+01,  5.70583378e+00,  5.58392774e+01,  1.02118238e+01,\n",
       "        8.91434102e+01, -2.25979900e+01,  2.06783509e+01,  9.29569693e+01,\n",
       "        8.27060224e+01, -2.87790893e+01, -1.36220968e+01,  9.62715624e+01,\n",
       "       -5.48405572e+00, -8.52023937e+01, -4.23268271e+00,  1.55723439e+01,\n",
       "        5.65999349e+01, -4.00728559e+01, -4.67347793e+01,  3.06692381e+01,\n",
       "        2.38881715e+01,  1.63464869e+01, -2.44307861e+01, -2.73652640e+01,\n",
       "        2.76062376e+01, -3.60465871e+01, -4.89710805e+01, -3.03264430e+01,\n",
       "       -6.21812471e+01, -6.25851821e+01, -9.39100084e+01,  3.27933111e+01,\n",
       "       -2.19297263e+01, -7.67484631e+01, -2.99757481e+01, -7.06318392e+00,\n",
       "       -6.97295789e+01, -5.52845943e+01, -4.45129515e+00,  3.58140913e+01,\n",
       "        7.56609204e+01, -3.52977137e+01, -2.00423549e+00, -5.33512173e+01,\n",
       "       -9.78219451e+01,  1.11459966e+01,  5.19241999e+01, -8.47359163e+01,\n",
       "        1.58340856e+01,  3.16735666e+01,  2.73855626e+01, -4.52700508e+01,\n",
       "        1.08536704e+01,  3.54013372e+01, -1.69337751e+01,  1.90948605e+01,\n",
       "        2.94295439e+01, -1.26288535e+01,  1.57157338e-01,  8.71817708e+01,\n",
       "        7.57420151e+01, -6.63792967e+01, -3.20599261e+00,  6.34474233e+01,\n",
       "       -3.54726052e+01,  1.17740054e+02,  2.26632777e+01,  1.30428137e+02,\n",
       "        1.08903028e+00, -7.39386967e+01, -1.73991152e+02, -2.37941865e+01,\n",
       "       -9.62220971e+01,  2.27648174e+00, -5.98238058e+01,  2.77541339e+01,\n",
       "       -3.66096659e+01, -4.10864298e+01, -1.86529432e+01, -9.98152723e+00,\n",
       "        4.57963236e+00, -1.01924011e+02,  1.41665288e+01,  6.14964231e+01,\n",
       "       -5.26681571e+00, -2.48754547e+01, -9.43647052e+01,  2.96195658e+01])"
      ]
     },
     "execution_count": 8,
     "metadata": {},
     "output_type": "execute_result"
    }
   ],
   "source": [
    "from sklearn.ensemble import RandomForestRegressor\n",
    "\n",
    "rf = RandomForestRegressor()\n",
    "\n",
    "rf.fit(X, y)\n",
    "\n",
    "rf.predict(X)"
   ]
  },
  {
   "cell_type": "code",
   "execution_count": null,
   "metadata": {},
   "outputs": [],
   "source": []
  },
  {
   "cell_type": "markdown",
   "metadata": {
    "slideshow": {
     "slide_type": "fragment"
    }
   },
   "source": [
    "This time, rather than code our own gradient descent optimizer, we will use `scikit-learn`"
   ]
  },
  {
   "cell_type": "markdown",
   "metadata": {
    "slideshow": {
     "slide_type": "fragment"
    }
   },
   "source": [
    "## The `Estimator` interface\n",
    "\n",
    "In scikit-learn, preprocessing, supervised and unsupervised learning algorithms share a uniform interface.\n",
    "\n",
    "Al estimators have a `.fit()` method, which takes:\n",
    "\n",
    "- X, a numpy array or scipy sparse matrix\n",
    "\n",
    "- y, in the case of supervised learning. It is a one-dimensional numpy array containing target values."
   ]
  },
  {
   "cell_type": "markdown",
   "metadata": {
    "slideshow": {
     "slide_type": "slide"
    }
   },
   "source": [
    "Once fitted, `Estimators` can either:\n",
    "\n",
    "- `.predict()` a new set of y values from an `X_test` array: classification, regression, clustering\n",
    "\n",
    "- `.transform()` an input `X_test` array: preprocessing, dimensionality reduction, feature extraction..."
   ]
  },
  {
   "cell_type": "markdown",
   "metadata": {
    "slideshow": {
     "slide_type": "slide"
    }
   },
   "source": [
    "## Fitting a LinearRegression with `sklearn`"
   ]
  },
  {
   "cell_type": "code",
   "execution_count": 9,
   "metadata": {},
   "outputs": [
    {
     "ename": "NotFittedError",
     "evalue": "This LinearRegression instance is not fitted yet. Call 'fit' with appropriate arguments before using this estimator.",
     "output_type": "error",
     "traceback": [
      "\u001b[0;31m---------------------------------------------------------------------------\u001b[0m",
      "\u001b[0;31mNotFittedError\u001b[0m                            Traceback (most recent call last)",
      "\u001b[0;32m/tmp/ipykernel_3053/138794416.py\u001b[0m in \u001b[0;36m<module>\u001b[0;34m\u001b[0m\n\u001b[1;32m      1\u001b[0m \u001b[0mlr\u001b[0m \u001b[0;34m=\u001b[0m \u001b[0mLinearRegression\u001b[0m\u001b[0;34m(\u001b[0m\u001b[0;34m)\u001b[0m\u001b[0;31m#instanciamos una regresion lineal\u001b[0m\u001b[0;34m\u001b[0m\u001b[0;34m\u001b[0m\u001b[0m\n\u001b[0;32m----> 2\u001b[0;31m \u001b[0mlr\u001b[0m\u001b[0;34m.\u001b[0m\u001b[0mpredict\u001b[0m\u001b[0;34m(\u001b[0m\u001b[0mX\u001b[0m\u001b[0;34m)\u001b[0m\u001b[0;31m#esto asi dara error, porque esta regresion lineal no tiene unas variables tetas aun calculadas\u001b[0m\u001b[0;34m\u001b[0m\u001b[0;34m\u001b[0m\u001b[0m\n\u001b[0m",
      "\u001b[0;32m~/anaconda3/lib/python3.8/site-packages/sklearn/linear_model/_base.py\u001b[0m in \u001b[0;36mpredict\u001b[0;34m(self, X)\u001b[0m\n\u001b[1;32m    360\u001b[0m             \u001b[0mReturns\u001b[0m \u001b[0mpredicted\u001b[0m \u001b[0mvalues\u001b[0m\u001b[0;34m.\u001b[0m\u001b[0;34m\u001b[0m\u001b[0;34m\u001b[0m\u001b[0m\n\u001b[1;32m    361\u001b[0m         \"\"\"\n\u001b[0;32m--> 362\u001b[0;31m         \u001b[0;32mreturn\u001b[0m \u001b[0mself\u001b[0m\u001b[0;34m.\u001b[0m\u001b[0m_decision_function\u001b[0m\u001b[0;34m(\u001b[0m\u001b[0mX\u001b[0m\u001b[0;34m)\u001b[0m\u001b[0;34m\u001b[0m\u001b[0;34m\u001b[0m\u001b[0m\n\u001b[0m\u001b[1;32m    363\u001b[0m \u001b[0;34m\u001b[0m\u001b[0m\n\u001b[1;32m    364\u001b[0m     \u001b[0m_preprocess_data\u001b[0m \u001b[0;34m=\u001b[0m \u001b[0mstaticmethod\u001b[0m\u001b[0;34m(\u001b[0m\u001b[0m_preprocess_data\u001b[0m\u001b[0;34m)\u001b[0m\u001b[0;34m\u001b[0m\u001b[0;34m\u001b[0m\u001b[0m\n",
      "\u001b[0;32m~/anaconda3/lib/python3.8/site-packages/sklearn/linear_model/_base.py\u001b[0m in \u001b[0;36m_decision_function\u001b[0;34m(self, X)\u001b[0m\n\u001b[1;32m    341\u001b[0m \u001b[0;34m\u001b[0m\u001b[0m\n\u001b[1;32m    342\u001b[0m     \u001b[0;32mdef\u001b[0m \u001b[0m_decision_function\u001b[0m\u001b[0;34m(\u001b[0m\u001b[0mself\u001b[0m\u001b[0;34m,\u001b[0m \u001b[0mX\u001b[0m\u001b[0;34m)\u001b[0m\u001b[0;34m:\u001b[0m\u001b[0;34m\u001b[0m\u001b[0;34m\u001b[0m\u001b[0m\n\u001b[0;32m--> 343\u001b[0;31m         \u001b[0mcheck_is_fitted\u001b[0m\u001b[0;34m(\u001b[0m\u001b[0mself\u001b[0m\u001b[0;34m)\u001b[0m\u001b[0;34m\u001b[0m\u001b[0;34m\u001b[0m\u001b[0m\n\u001b[0m\u001b[1;32m    344\u001b[0m \u001b[0;34m\u001b[0m\u001b[0m\n\u001b[1;32m    345\u001b[0m         \u001b[0mX\u001b[0m \u001b[0;34m=\u001b[0m \u001b[0mself\u001b[0m\u001b[0;34m.\u001b[0m\u001b[0m_validate_data\u001b[0m\u001b[0;34m(\u001b[0m\u001b[0mX\u001b[0m\u001b[0;34m,\u001b[0m \u001b[0maccept_sparse\u001b[0m\u001b[0;34m=\u001b[0m\u001b[0;34m[\u001b[0m\u001b[0;34m\"csr\"\u001b[0m\u001b[0;34m,\u001b[0m \u001b[0;34m\"csc\"\u001b[0m\u001b[0;34m,\u001b[0m \u001b[0;34m\"coo\"\u001b[0m\u001b[0;34m]\u001b[0m\u001b[0;34m,\u001b[0m \u001b[0mreset\u001b[0m\u001b[0;34m=\u001b[0m\u001b[0;32mFalse\u001b[0m\u001b[0;34m)\u001b[0m\u001b[0;34m\u001b[0m\u001b[0;34m\u001b[0m\u001b[0m\n",
      "\u001b[0;32m~/anaconda3/lib/python3.8/site-packages/sklearn/utils/validation.py\u001b[0m in \u001b[0;36mcheck_is_fitted\u001b[0;34m(estimator, attributes, msg, all_or_any)\u001b[0m\n\u001b[1;32m   1220\u001b[0m \u001b[0;34m\u001b[0m\u001b[0m\n\u001b[1;32m   1221\u001b[0m     \u001b[0;32mif\u001b[0m \u001b[0;32mnot\u001b[0m \u001b[0mfitted\u001b[0m\u001b[0;34m:\u001b[0m\u001b[0;34m\u001b[0m\u001b[0;34m\u001b[0m\u001b[0m\n\u001b[0;32m-> 1222\u001b[0;31m         \u001b[0;32mraise\u001b[0m \u001b[0mNotFittedError\u001b[0m\u001b[0;34m(\u001b[0m\u001b[0mmsg\u001b[0m \u001b[0;34m%\u001b[0m \u001b[0;34m{\u001b[0m\u001b[0;34m\"name\"\u001b[0m\u001b[0;34m:\u001b[0m \u001b[0mtype\u001b[0m\u001b[0;34m(\u001b[0m\u001b[0mestimator\u001b[0m\u001b[0;34m)\u001b[0m\u001b[0;34m.\u001b[0m\u001b[0m__name__\u001b[0m\u001b[0;34m}\u001b[0m\u001b[0;34m)\u001b[0m\u001b[0;34m\u001b[0m\u001b[0;34m\u001b[0m\u001b[0m\n\u001b[0m\u001b[1;32m   1223\u001b[0m \u001b[0;34m\u001b[0m\u001b[0m\n\u001b[1;32m   1224\u001b[0m \u001b[0;34m\u001b[0m\u001b[0m\n",
      "\u001b[0;31mNotFittedError\u001b[0m: This LinearRegression instance is not fitted yet. Call 'fit' with appropriate arguments before using this estimator."
     ]
    }
   ],
   "source": [
    "lr = LinearRegression()#instanciamos una regresion lineal\n",
    "lr.predict(X)#esto asi dara error, porque esta regresion lineal no tiene unas variables tetas aun calculadas"
   ]
  },
  {
   "cell_type": "code",
   "execution_count": 10,
   "metadata": {},
   "outputs": [
    {
     "data": {
      "text/plain": [
       "(array([51.98493356]), -1.6041670179210121)"
      ]
     },
     "execution_count": 10,
     "metadata": {},
     "output_type": "execute_result"
    }
   ],
   "source": [
    "lr.fit(X,y)#esta lr, se ha cambiado inplace, por lo tanto lo siguiente que voy ha hacer no dara error\n",
    "lr.coef_, lr.intercept_#estos parametros representan la recta que mejor se ajusta"
   ]
  },
  {
   "cell_type": "markdown",
   "metadata": {},
   "source": [
    "## Ejercicio\n",
    "\n",
    "Plot the observation (plt.scatter()) and the line that our LinearRegression has learned\n",
    "\n",
    "Ejemplo:\n",
    "\n",
    "xs = np.linspace(0,10)\n",
    "\n",
    "ys = np.sin(xs)\n",
    "\n",
    "plt.plot(xs,ys)"
   ]
  },
  {
   "cell_type": "code",
   "execution_count": 11,
   "metadata": {
    "scrolled": true
   },
   "outputs": [
    {
     "data": {
      "text/plain": [
       "[<matplotlib.lines.Line2D at 0x7f7134b12310>]"
      ]
     },
     "execution_count": 11,
     "metadata": {},
     "output_type": "execute_result"
    },
    {
     "data": {
      "image/png": "[encoded data removed]",
      "text/plain": [
       "<Figure size 432x288 with 1 Axes>"
      ]
     },
     "metadata": {
      "needs_background": "light"
     },
     "output_type": "display_data"
    }
   ],
   "source": [
    "plt.scatter(X,y)\n",
    "\n",
    "xs = np.linspace(min(X),max(X))\n",
    "y_hat = lr.coef_ * xs + lr.intercept_\n",
    "\n",
    "plt.plot(xs,y_hat,c='orange')"
   ]
  },
  {
   "cell_type": "code",
   "execution_count": 12,
   "metadata": {
    "scrolled": true
   },
   "outputs": [
    {
     "data": {
      "text/plain": [
       "[<matplotlib.lines.Line2D at 0x7f7134a864c0>]"
      ]
     },
     "execution_count": 12,
     "metadata": {},
     "output_type": "execute_result"
    },
    {
     "data": {
      "image/png": "[encoded data removed]",
      "text/plain": [
       "<Figure size 432x288 with 1 Axes>"
      ]
     },
     "metadata": {
      "needs_background": "light"
     },
     "output_type": "display_data"
    }
   ],
   "source": [
    "# si hacemos:\n",
    "y_hat2 = lr.predict(xs)\n",
    "#deberia salir lo mismo\n",
    "plt.scatter(X,y)\n",
    "plt.plot(xs,y_hat2,c='orange')"
   ]
  },
  {
   "cell_type": "code",
   "execution_count": 13,
   "metadata": {},
   "outputs": [
    {
     "data": {
      "text/plain": [
       "(416.80282337097714, 20.415749395282486)"
      ]
     },
     "execution_count": 13,
     "metadata": {},
     "output_type": "execute_result"
    }
   ],
   "source": [
    "# MSE\n",
    "y_hat = lr.predict(X)\n",
    "(y - y_hat) ** 2\n",
    "# y ahora sacamos la media\n",
    "mse = np.mean((y - y_hat) ** 2)\n",
    "\n",
    "# RMS\n",
    "rmse = np.sqrt(mse)\n",
    "\n",
    "mse, rmse"
   ]
  },
  {
   "cell_type": "code",
   "execution_count": 14,
   "metadata": {},
   "outputs": [
    {
     "data": {
      "text/plain": [
       "16.422841942708224"
      ]
     },
     "execution_count": 14,
     "metadata": {},
     "output_type": "execute_result"
    }
   ],
   "source": [
    "# Error absoluto medio\n",
    "np.mean(np.abs(y - y_hat))\n",
    "\n",
    "#Esto significa que de media mi prediccion esta a 16.26 unidades del valor real"
   ]
  },
  {
   "cell_type": "markdown",
   "metadata": {
    "slideshow": {
     "slide_type": "fragment"
    }
   },
   "source": [
    "Is this a good estimate of the generalization error?"
   ]
  },
  {
   "cell_type": "code",
   "execution_count": 15,
   "metadata": {},
   "outputs": [],
   "source": [
    "# Respuesta: NO"
   ]
  },
  {
   "cell_type": "markdown",
   "metadata": {
    "slideshow": {
     "slide_type": "slide"
    }
   },
   "source": [
    "## Scoring and model validation"
   ]
  },
  {
   "cell_type": "markdown",
   "metadata": {
    "slideshow": {
     "slide_type": "fragment"
    }
   },
   "source": [
    "Our training set error will always be an optimistic estimate of our test set error."
   ]
  },
  {
   "cell_type": "markdown",
   "metadata": {
    "slideshow": {
     "slide_type": "slide"
    }
   },
   "source": [
    "We need to do a train, test split:"
   ]
  },
  {
   "cell_type": "code",
   "execution_count": 16,
   "metadata": {},
   "outputs": [
    {
     "data": {
      "text/plain": [
       "(300, 1)"
      ]
     },
     "execution_count": 16,
     "metadata": {},
     "output_type": "execute_result"
    }
   ],
   "source": [
    "X.shape"
   ]
  },
  {
   "cell_type": "code",
   "execution_count": 17,
   "metadata": {},
   "outputs": [
    {
     "data": {
      "text/plain": [
       "(225, 1)"
      ]
     },
     "execution_count": 17,
     "metadata": {},
     "output_type": "execute_result"
    }
   ],
   "source": [
    "from sklearn.model_selection import train_test_split\n",
    "\n",
    "X_train, X_test, y_train, y_test = train_test_split(X,y)\n",
    "\n",
    "X_train.shape\n",
    "#se ha reservado parte de los datos para entrenamiento y otra parte para test, \n",
    "#por eso la shape ha camnbiado a menos"
   ]
  },
  {
   "cell_type": "code",
   "execution_count": 18,
   "metadata": {},
   "outputs": [
    {
     "data": {
      "text/plain": [
       "16.369202205690033"
      ]
     },
     "execution_count": 18,
     "metadata": {},
     "output_type": "execute_result"
    }
   ],
   "source": [
    "lr = LinearRegression()\n",
    "\n",
    "lr.fit(X_train,y_train)# hacemos el fit con el train\n",
    "y_hat = lr.predict(X_test)#hacemos el predict con los datos de test, para ver si lo calculado se ajusta bien\n",
    "\n",
    "np.mean(np.abs(y_test - y_hat))#aqui vemos la media del error absoluto"
   ]
  },
  {
   "cell_type": "code",
   "execution_count": 19,
   "metadata": {},
   "outputs": [
    {
     "data": {
      "text/plain": [
       "17.007225571549668"
      ]
     },
     "execution_count": 19,
     "metadata": {},
     "output_type": "execute_result"
    }
   ],
   "source": [
    "X_train, X_test, y_train, y_test = train_test_split(X,y, train_size =.3)\n",
    "\n",
    "lr = LinearRegression()\n",
    "\n",
    "lr.fit(X_train,y_train)\n",
    "y_hat = lr.predict(X_test)\n",
    "\n",
    "np.mean(np.abs(y_test - y_hat))"
   ]
  },
  {
   "cell_type": "markdown",
   "metadata": {
    "heading_collapsed": true
   },
   "source": [
    "## Metrics for regression\n",
    "\n",
    "MSE: Mean Squared Error\n",
    "\n",
    "$$MSE = \\frac{1}{n} \\sum_{i=1}^{n} (y_i - h(x_i))^2$$\n",
    "\n",
    "MAE: Mean Absolute Error \n",
    "\n",
    "$$MAE = \\frac{1}{n} \\sum_{i=1}^{n} |y_i - h(x_i)|$$\n",
    "\n",
    "MAPE: Mean Absolute Percent Error\n",
    "\n",
    "$$MAE = \\frac{1}{n} \\sum_{i=1}^{n} \\frac{|y_i - h(x_i)|}{y_i}$$\n",
    "\n",
    "Explained Variance:\n",
    "\n",
    "\n",
    "$$explained\\_{}variance(y, \\hat{y}) = 1 - \\frac{Var\\{ y - \\hat{y}\\}}{Var\\{y\\}}$$\n",
    "\n",
    "\n",
    "\n",
    "We will learn more about scoring and model selection in a later module"
   ]
  },
  {
   "cell_type": "markdown",
   "metadata": {},
   "source": [
    "# Regression algorithms in sklearn\n",
    "\n",
    "We have already met Linear regression, which is a parametric algorithm. There are, however, _non-parametric_ algorithms that do not make assumption regarding the shape of the function to be approximated.\n",
    "\n",
    "Let's try more sophisticated algorithms on our toy data and on real data."
   ]
  },
  {
   "cell_type": "code",
   "execution_count": 20,
   "metadata": {},
   "outputs": [
    {
     "data": {
      "text/html": [
       "<div>\n",
       "<style scoped>\n",
       "    .dataframe tbody tr th:only-of-type {\n",
       "        vertical-align: middle;\n",
       "    }\n",
       "\n",
       "    .dataframe tbody tr th {\n",
       "        vertical-align: top;\n",
       "    }\n",
       "\n",
       "    .dataframe thead th {\n",
       "        text-align: right;\n",
       "    }\n",
       "</style>\n",
       "<table border=\"1\" class=\"dataframe\">\n",
       "  <thead>\n",
       "    <tr style=\"text-align: right;\">\n",
       "      <th></th>\n",
       "      <th>age</th>\n",
       "      <th>sex</th>\n",
       "      <th>bmi</th>\n",
       "      <th>bp</th>\n",
       "      <th>s1</th>\n",
       "      <th>s2</th>\n",
       "      <th>s3</th>\n",
       "      <th>s4</th>\n",
       "      <th>s5</th>\n",
       "      <th>s6</th>\n",
       "    </tr>\n",
       "  </thead>\n",
       "  <tbody>\n",
       "    <tr>\n",
       "      <th>0</th>\n",
       "      <td>0.038076</td>\n",
       "      <td>0.050680</td>\n",
       "      <td>0.061696</td>\n",
       "      <td>0.021872</td>\n",
       "      <td>-0.044223</td>\n",
       "      <td>-0.034821</td>\n",
       "      <td>-0.043401</td>\n",
       "      <td>-0.002592</td>\n",
       "      <td>0.019908</td>\n",
       "      <td>-0.017646</td>\n",
       "    </tr>\n",
       "    <tr>\n",
       "      <th>1</th>\n",
       "      <td>-0.001882</td>\n",
       "      <td>-0.044642</td>\n",
       "      <td>-0.051474</td>\n",
       "      <td>-0.026328</td>\n",
       "      <td>-0.008449</td>\n",
       "      <td>-0.019163</td>\n",
       "      <td>0.074412</td>\n",
       "      <td>-0.039493</td>\n",
       "      <td>-0.068330</td>\n",
       "      <td>-0.092204</td>\n",
       "    </tr>\n",
       "    <tr>\n",
       "      <th>2</th>\n",
       "      <td>0.085299</td>\n",
       "      <td>0.050680</td>\n",
       "      <td>0.044451</td>\n",
       "      <td>-0.005671</td>\n",
       "      <td>-0.045599</td>\n",
       "      <td>-0.034194</td>\n",
       "      <td>-0.032356</td>\n",
       "      <td>-0.002592</td>\n",
       "      <td>0.002864</td>\n",
       "      <td>-0.025930</td>\n",
       "    </tr>\n",
       "    <tr>\n",
       "      <th>3</th>\n",
       "      <td>-0.089063</td>\n",
       "      <td>-0.044642</td>\n",
       "      <td>-0.011595</td>\n",
       "      <td>-0.036656</td>\n",
       "      <td>0.012191</td>\n",
       "      <td>0.024991</td>\n",
       "      <td>-0.036038</td>\n",
       "      <td>0.034309</td>\n",
       "      <td>0.022692</td>\n",
       "      <td>-0.009362</td>\n",
       "    </tr>\n",
       "    <tr>\n",
       "      <th>4</th>\n",
       "      <td>0.005383</td>\n",
       "      <td>-0.044642</td>\n",
       "      <td>-0.036385</td>\n",
       "      <td>0.021872</td>\n",
       "      <td>0.003935</td>\n",
       "      <td>0.015596</td>\n",
       "      <td>0.008142</td>\n",
       "      <td>-0.002592</td>\n",
       "      <td>-0.031991</td>\n",
       "      <td>-0.046641</td>\n",
       "    </tr>\n",
       "    <tr>\n",
       "      <th>...</th>\n",
       "      <td>...</td>\n",
       "      <td>...</td>\n",
       "      <td>...</td>\n",
       "      <td>...</td>\n",
       "      <td>...</td>\n",
       "      <td>...</td>\n",
       "      <td>...</td>\n",
       "      <td>...</td>\n",
       "      <td>...</td>\n",
       "      <td>...</td>\n",
       "    </tr>\n",
       "    <tr>\n",
       "      <th>437</th>\n",
       "      <td>0.041708</td>\n",
       "      <td>0.050680</td>\n",
       "      <td>0.019662</td>\n",
       "      <td>0.059744</td>\n",
       "      <td>-0.005697</td>\n",
       "      <td>-0.002566</td>\n",
       "      <td>-0.028674</td>\n",
       "      <td>-0.002592</td>\n",
       "      <td>0.031193</td>\n",
       "      <td>0.007207</td>\n",
       "    </tr>\n",
       "    <tr>\n",
       "      <th>438</th>\n",
       "      <td>-0.005515</td>\n",
       "      <td>0.050680</td>\n",
       "      <td>-0.015906</td>\n",
       "      <td>-0.067642</td>\n",
       "      <td>0.049341</td>\n",
       "      <td>0.079165</td>\n",
       "      <td>-0.028674</td>\n",
       "      <td>0.034309</td>\n",
       "      <td>-0.018118</td>\n",
       "      <td>0.044485</td>\n",
       "    </tr>\n",
       "    <tr>\n",
       "      <th>439</th>\n",
       "      <td>0.041708</td>\n",
       "      <td>0.050680</td>\n",
       "      <td>-0.015906</td>\n",
       "      <td>0.017282</td>\n",
       "      <td>-0.037344</td>\n",
       "      <td>-0.013840</td>\n",
       "      <td>-0.024993</td>\n",
       "      <td>-0.011080</td>\n",
       "      <td>-0.046879</td>\n",
       "      <td>0.015491</td>\n",
       "    </tr>\n",
       "    <tr>\n",
       "      <th>440</th>\n",
       "      <td>-0.045472</td>\n",
       "      <td>-0.044642</td>\n",
       "      <td>0.039062</td>\n",
       "      <td>0.001215</td>\n",
       "      <td>0.016318</td>\n",
       "      <td>0.015283</td>\n",
       "      <td>-0.028674</td>\n",
       "      <td>0.026560</td>\n",
       "      <td>0.044528</td>\n",
       "      <td>-0.025930</td>\n",
       "    </tr>\n",
       "    <tr>\n",
       "      <th>441</th>\n",
       "      <td>-0.045472</td>\n",
       "      <td>-0.044642</td>\n",
       "      <td>-0.073030</td>\n",
       "      <td>-0.081414</td>\n",
       "      <td>0.083740</td>\n",
       "      <td>0.027809</td>\n",
       "      <td>0.173816</td>\n",
       "      <td>-0.039493</td>\n",
       "      <td>-0.004220</td>\n",
       "      <td>0.003064</td>\n",
       "    </tr>\n",
       "  </tbody>\n",
       "</table>\n",
       "<p>442 rows × 10 columns</p>\n",
       "</div>"
      ],
      "text/plain": [
       "          age       sex       bmi        bp        s1        s2        s3  \\\n",
       "0    0.038076  0.050680  0.061696  0.021872 -0.044223 -0.034821 -0.043401   \n",
       "1   -0.001882 -0.044642 -0.051474 -0.026328 -0.008449 -0.019163  0.074412   \n",
       "2    0.085299  0.050680  0.044451 -0.005671 -0.045599 -0.034194 -0.032356   \n",
       "3   -0.089063 -0.044642 -0.011595 -0.036656  0.012191  0.024991 -0.036038   \n",
       "4    0.005383 -0.044642 -0.036385  0.021872  0.003935  0.015596  0.008142   \n",
       "..        ...       ...       ...       ...       ...       ...       ...   \n",
       "437  0.041708  0.050680  0.019662  0.059744 -0.005697 -0.002566 -0.028674   \n",
       "438 -0.005515  0.050680 -0.015906 -0.067642  0.049341  0.079165 -0.028674   \n",
       "439  0.041708  0.050680 -0.015906  0.017282 -0.037344 -0.013840 -0.024993   \n",
       "440 -0.045472 -0.044642  0.039062  0.001215  0.016318  0.015283 -0.028674   \n",
       "441 -0.045472 -0.044642 -0.073030 -0.081414  0.083740  0.027809  0.173816   \n",
       "\n",
       "           s4        s5        s6  \n",
       "0   -0.002592  0.019908 -0.017646  \n",
       "1   -0.039493 -0.068330 -0.092204  \n",
       "2   -0.002592  0.002864 -0.025930  \n",
       "3    0.034309  0.022692 -0.009362  \n",
       "4   -0.002592 -0.031991 -0.046641  \n",
       "..        ...       ...       ...  \n",
       "437 -0.002592  0.031193  0.007207  \n",
       "438  0.034309 -0.018118  0.044485  \n",
       "439 -0.011080 -0.046879  0.015491  \n",
       "440  0.026560  0.044528 -0.025930  \n",
       "441 -0.039493 -0.004220  0.003064  \n",
       "\n",
       "[442 rows x 10 columns]"
      ]
     },
     "execution_count": 20,
     "metadata": {},
     "output_type": "execute_result"
    }
   ],
   "source": [
    "from sklearn.datasets import fetch_openml, load_diabetes\n",
    "\n",
    "diabetes = load_diabetes(as_frame=True)\n",
    "diabetes_X = diabetes['data']\n",
    "diabetes_y = diabetes['target']\n",
    "\n",
    "diabetes_X"
   ]
  },
  {
   "cell_type": "code",
   "execution_count": 21,
   "metadata": {
    "scrolled": true
   },
   "outputs": [
    {
     "data": {
      "text/plain": [
       "0      151.0\n",
       "1       75.0\n",
       "2      141.0\n",
       "3      206.0\n",
       "4      135.0\n",
       "       ...  \n",
       "437    178.0\n",
       "438    104.0\n",
       "439    132.0\n",
       "440    220.0\n",
       "441     57.0\n",
       "Name: target, Length: 442, dtype: float64"
      ]
     },
     "execution_count": 21,
     "metadata": {},
     "output_type": "execute_result"
    }
   ],
   "source": [
    "diabetes_y"
   ]
  },
  {
   "cell_type": "code",
   "execution_count": 22,
   "metadata": {},
   "outputs": [
    {
     "data": {
      "text/plain": [
       "(442,)"
      ]
     },
     "execution_count": 22,
     "metadata": {},
     "output_type": "execute_result"
    }
   ],
   "source": [
    "diabetes_y.shape"
   ]
  },
  {
   "cell_type": "markdown",
   "metadata": {},
   "source": [
    "#### Ejercicio\n",
    "\n",
    "Train a linear regression on the diabetes dataset. Calculate the test set MSE, RMSE and MAE."
   ]
  },
  {
   "cell_type": "code",
   "execution_count": 23,
   "metadata": {},
   "outputs": [
    {
     "data": {
      "text/plain": [
       "(3029.5824515729473, 55.041642885845505, 44.626575833354835)"
      ]
     },
     "execution_count": 23,
     "metadata": {},
     "output_type": "execute_result"
    }
   ],
   "source": [
    "X_train, X_test, y_train, y_test = train_test_split(diabetes_X,diabetes_y)\n",
    "\n",
    "lr = LinearRegression()\n",
    "\n",
    "lr.fit(X_train,y_train)\n",
    "y_hat = lr.predict(X_test)\n",
    "\n",
    "# MSE\n",
    "mse = np.mean((y_test - y_hat) ** 2)\n",
    "\n",
    "# RMSE\n",
    "rmse = np.sqrt(mse)\n",
    "\n",
    "# MAE\n",
    "mae = np.mean(np.abs(y_test - y_hat))\n",
    "\n",
    "mse, rmse, mae"
   ]
  },
  {
   "cell_type": "code",
   "execution_count": 24,
   "metadata": {
    "scrolled": true
   },
   "outputs": [
    {
     "data": {
      "text/plain": [
       "<matplotlib.collections.PathCollection at 0x7f71349d7df0>"
      ]
     },
     "execution_count": 24,
     "metadata": {},
     "output_type": "execute_result"
    },
    {
     "data": {
      "image/png": "[encoded data removed]",
      "text/plain": [
       "<Figure size 432x288 with 1 Axes>"
      ]
     },
     "metadata": {
      "needs_background": "light"
     },
     "output_type": "display_data"
    }
   ],
   "source": [
    "# si queremos ver como de buenas son mis predicciones podemos hacer:\n",
    "plt.scatter(y_test, y_hat)\n",
    "#por el resultado vemos que pueden estar correlacionadas, porque \"forman\" una diagonal, \n",
    "#que es lo que pasaria cuando el valor real y el predicho son similares"
   ]
  },
  {
   "cell_type": "code",
   "execution_count": 25,
   "metadata": {},
   "outputs": [
    {
     "data": {
      "text/plain": [
       "<AxesSubplot:>"
      ]
     },
     "execution_count": 25,
     "metadata": {},
     "output_type": "execute_result"
    },
    {
     "data": {
      "image/png": "[encoded data removed]",
      "text/plain": [
       "<Figure size 432x288 with 2 Axes>"
      ]
     },
     "metadata": {
      "needs_background": "light"
     },
     "output_type": "display_data"
    }
   ],
   "source": [
    "import seaborn as sns\n",
    "\n",
    "with_target = diabetes_X.copy()\n",
    "with_target['target'] = diabetes_y\n",
    "\n",
    "sns.heatmap(with_target.corr(), cmap='BrBG', center=0)"
   ]
  },
  {
   "cell_type": "code",
   "execution_count": 26,
   "metadata": {},
   "outputs": [
    {
     "data": {
      "text/html": [
       "<div>\n",
       "<style scoped>\n",
       "    .dataframe tbody tr th:only-of-type {\n",
       "        vertical-align: middle;\n",
       "    }\n",
       "\n",
       "    .dataframe tbody tr th {\n",
       "        vertical-align: top;\n",
       "    }\n",
       "\n",
       "    .dataframe thead th {\n",
       "        text-align: right;\n",
       "    }\n",
       "</style>\n",
       "<table border=\"1\" class=\"dataframe\">\n",
       "  <thead>\n",
       "    <tr style=\"text-align: right;\">\n",
       "      <th></th>\n",
       "      <th>MSE</th>\n",
       "      <th>RMSE</th>\n",
       "      <th>MAE</th>\n",
       "    </tr>\n",
       "  </thead>\n",
       "  <tbody>\n",
       "    <tr>\n",
       "      <th>linear_regression</th>\n",
       "      <td>3185.811026</td>\n",
       "      <td>56.442989</td>\n",
       "      <td>46.990529</td>\n",
       "    </tr>\n",
       "  </tbody>\n",
       "</table>\n",
       "</div>"
      ],
      "text/plain": [
       "                           MSE       RMSE        MAE\n",
       "linear_regression  3185.811026  56.442989  46.990529"
      ]
     },
     "execution_count": 26,
     "metadata": {},
     "output_type": "execute_result"
    }
   ],
   "source": [
    "#Solucion by Dani\n",
    "pd.DataFrame(columns=['MSE','RMSE', \"MAE\"])\n",
    "\n",
    "X_train, X_test, y_train, y_test = train_test_split(diabetes_X,diabetes_y)\n",
    "\n",
    "lr.fit(X_train,y_train)\n",
    "y_hat = lr.predict(X_test)\n",
    "\n",
    "errors = y_test - y_hat\n",
    "mae = np.mean(np.abs(errors))\n",
    "mse = np.mean(errors ** 2)\n",
    "rmse = np.sqrt(mse)\n",
    "\n",
    "\n",
    "results_diabetes = pd.DataFrame(columns=['MSE','RMSE', \"MAE\"])\n",
    "results_diabetes.loc['linear_regression'] = [mse,rmse,mae]\n",
    "results_diabetes"
   ]
  },
  {
   "cell_type": "code",
   "execution_count": 27,
   "metadata": {},
   "outputs": [
    {
     "data": {
      "text/html": [
       "<div>\n",
       "<style scoped>\n",
       "    .dataframe tbody tr th:only-of-type {\n",
       "        vertical-align: middle;\n",
       "    }\n",
       "\n",
       "    .dataframe tbody tr th {\n",
       "        vertical-align: top;\n",
       "    }\n",
       "\n",
       "    .dataframe thead th {\n",
       "        text-align: right;\n",
       "    }\n",
       "</style>\n",
       "<table border=\"1\" class=\"dataframe\">\n",
       "  <thead>\n",
       "    <tr style=\"text-align: right;\">\n",
       "      <th></th>\n",
       "      <th>Id</th>\n",
       "      <th>MSSubClass</th>\n",
       "      <th>MSZoning</th>\n",
       "      <th>LotFrontage</th>\n",
       "      <th>LotArea</th>\n",
       "      <th>Street</th>\n",
       "      <th>Alley</th>\n",
       "      <th>LotShape</th>\n",
       "      <th>LandContour</th>\n",
       "      <th>Utilities</th>\n",
       "      <th>...</th>\n",
       "      <th>ScreenPorch</th>\n",
       "      <th>PoolArea</th>\n",
       "      <th>PoolQC</th>\n",
       "      <th>Fence</th>\n",
       "      <th>MiscFeature</th>\n",
       "      <th>MiscVal</th>\n",
       "      <th>MoSold</th>\n",
       "      <th>YrSold</th>\n",
       "      <th>SaleType</th>\n",
       "      <th>SaleCondition</th>\n",
       "    </tr>\n",
       "  </thead>\n",
       "  <tbody>\n",
       "    <tr>\n",
       "      <th>0</th>\n",
       "      <td>1.0</td>\n",
       "      <td>60.0</td>\n",
       "      <td>RL</td>\n",
       "      <td>65.0</td>\n",
       "      <td>8450.0</td>\n",
       "      <td>Pave</td>\n",
       "      <td>None</td>\n",
       "      <td>Reg</td>\n",
       "      <td>Lvl</td>\n",
       "      <td>AllPub</td>\n",
       "      <td>...</td>\n",
       "      <td>0.0</td>\n",
       "      <td>0.0</td>\n",
       "      <td>None</td>\n",
       "      <td>None</td>\n",
       "      <td>None</td>\n",
       "      <td>0.0</td>\n",
       "      <td>2.0</td>\n",
       "      <td>2008.0</td>\n",
       "      <td>WD</td>\n",
       "      <td>Normal</td>\n",
       "    </tr>\n",
       "    <tr>\n",
       "      <th>1</th>\n",
       "      <td>2.0</td>\n",
       "      <td>20.0</td>\n",
       "      <td>RL</td>\n",
       "      <td>80.0</td>\n",
       "      <td>9600.0</td>\n",
       "      <td>Pave</td>\n",
       "      <td>None</td>\n",
       "      <td>Reg</td>\n",
       "      <td>Lvl</td>\n",
       "      <td>AllPub</td>\n",
       "      <td>...</td>\n",
       "      <td>0.0</td>\n",
       "      <td>0.0</td>\n",
       "      <td>None</td>\n",
       "      <td>None</td>\n",
       "      <td>None</td>\n",
       "      <td>0.0</td>\n",
       "      <td>5.0</td>\n",
       "      <td>2007.0</td>\n",
       "      <td>WD</td>\n",
       "      <td>Normal</td>\n",
       "    </tr>\n",
       "    <tr>\n",
       "      <th>2</th>\n",
       "      <td>3.0</td>\n",
       "      <td>60.0</td>\n",
       "      <td>RL</td>\n",
       "      <td>68.0</td>\n",
       "      <td>11250.0</td>\n",
       "      <td>Pave</td>\n",
       "      <td>None</td>\n",
       "      <td>IR1</td>\n",
       "      <td>Lvl</td>\n",
       "      <td>AllPub</td>\n",
       "      <td>...</td>\n",
       "      <td>0.0</td>\n",
       "      <td>0.0</td>\n",
       "      <td>None</td>\n",
       "      <td>None</td>\n",
       "      <td>None</td>\n",
       "      <td>0.0</td>\n",
       "      <td>9.0</td>\n",
       "      <td>2008.0</td>\n",
       "      <td>WD</td>\n",
       "      <td>Normal</td>\n",
       "    </tr>\n",
       "    <tr>\n",
       "      <th>3</th>\n",
       "      <td>4.0</td>\n",
       "      <td>70.0</td>\n",
       "      <td>RL</td>\n",
       "      <td>60.0</td>\n",
       "      <td>9550.0</td>\n",
       "      <td>Pave</td>\n",
       "      <td>None</td>\n",
       "      <td>IR1</td>\n",
       "      <td>Lvl</td>\n",
       "      <td>AllPub</td>\n",
       "      <td>...</td>\n",
       "      <td>0.0</td>\n",
       "      <td>0.0</td>\n",
       "      <td>None</td>\n",
       "      <td>None</td>\n",
       "      <td>None</td>\n",
       "      <td>0.0</td>\n",
       "      <td>2.0</td>\n",
       "      <td>2006.0</td>\n",
       "      <td>WD</td>\n",
       "      <td>Abnorml</td>\n",
       "    </tr>\n",
       "    <tr>\n",
       "      <th>4</th>\n",
       "      <td>5.0</td>\n",
       "      <td>60.0</td>\n",
       "      <td>RL</td>\n",
       "      <td>84.0</td>\n",
       "      <td>14260.0</td>\n",
       "      <td>Pave</td>\n",
       "      <td>None</td>\n",
       "      <td>IR1</td>\n",
       "      <td>Lvl</td>\n",
       "      <td>AllPub</td>\n",
       "      <td>...</td>\n",
       "      <td>0.0</td>\n",
       "      <td>0.0</td>\n",
       "      <td>None</td>\n",
       "      <td>None</td>\n",
       "      <td>None</td>\n",
       "      <td>0.0</td>\n",
       "      <td>12.0</td>\n",
       "      <td>2008.0</td>\n",
       "      <td>WD</td>\n",
       "      <td>Normal</td>\n",
       "    </tr>\n",
       "    <tr>\n",
       "      <th>...</th>\n",
       "      <td>...</td>\n",
       "      <td>...</td>\n",
       "      <td>...</td>\n",
       "      <td>...</td>\n",
       "      <td>...</td>\n",
       "      <td>...</td>\n",
       "      <td>...</td>\n",
       "      <td>...</td>\n",
       "      <td>...</td>\n",
       "      <td>...</td>\n",
       "      <td>...</td>\n",
       "      <td>...</td>\n",
       "      <td>...</td>\n",
       "      <td>...</td>\n",
       "      <td>...</td>\n",
       "      <td>...</td>\n",
       "      <td>...</td>\n",
       "      <td>...</td>\n",
       "      <td>...</td>\n",
       "      <td>...</td>\n",
       "      <td>...</td>\n",
       "    </tr>\n",
       "    <tr>\n",
       "      <th>1455</th>\n",
       "      <td>1456.0</td>\n",
       "      <td>60.0</td>\n",
       "      <td>RL</td>\n",
       "      <td>62.0</td>\n",
       "      <td>7917.0</td>\n",
       "      <td>Pave</td>\n",
       "      <td>None</td>\n",
       "      <td>Reg</td>\n",
       "      <td>Lvl</td>\n",
       "      <td>AllPub</td>\n",
       "      <td>...</td>\n",
       "      <td>0.0</td>\n",
       "      <td>0.0</td>\n",
       "      <td>None</td>\n",
       "      <td>None</td>\n",
       "      <td>None</td>\n",
       "      <td>0.0</td>\n",
       "      <td>8.0</td>\n",
       "      <td>2007.0</td>\n",
       "      <td>WD</td>\n",
       "      <td>Normal</td>\n",
       "    </tr>\n",
       "    <tr>\n",
       "      <th>1456</th>\n",
       "      <td>1457.0</td>\n",
       "      <td>20.0</td>\n",
       "      <td>RL</td>\n",
       "      <td>85.0</td>\n",
       "      <td>13175.0</td>\n",
       "      <td>Pave</td>\n",
       "      <td>None</td>\n",
       "      <td>Reg</td>\n",
       "      <td>Lvl</td>\n",
       "      <td>AllPub</td>\n",
       "      <td>...</td>\n",
       "      <td>0.0</td>\n",
       "      <td>0.0</td>\n",
       "      <td>None</td>\n",
       "      <td>MnPrv</td>\n",
       "      <td>None</td>\n",
       "      <td>0.0</td>\n",
       "      <td>2.0</td>\n",
       "      <td>2010.0</td>\n",
       "      <td>WD</td>\n",
       "      <td>Normal</td>\n",
       "    </tr>\n",
       "    <tr>\n",
       "      <th>1457</th>\n",
       "      <td>1458.0</td>\n",
       "      <td>70.0</td>\n",
       "      <td>RL</td>\n",
       "      <td>66.0</td>\n",
       "      <td>9042.0</td>\n",
       "      <td>Pave</td>\n",
       "      <td>None</td>\n",
       "      <td>Reg</td>\n",
       "      <td>Lvl</td>\n",
       "      <td>AllPub</td>\n",
       "      <td>...</td>\n",
       "      <td>0.0</td>\n",
       "      <td>0.0</td>\n",
       "      <td>None</td>\n",
       "      <td>GdPrv</td>\n",
       "      <td>Shed</td>\n",
       "      <td>2500.0</td>\n",
       "      <td>5.0</td>\n",
       "      <td>2010.0</td>\n",
       "      <td>WD</td>\n",
       "      <td>Normal</td>\n",
       "    </tr>\n",
       "    <tr>\n",
       "      <th>1458</th>\n",
       "      <td>1459.0</td>\n",
       "      <td>20.0</td>\n",
       "      <td>RL</td>\n",
       "      <td>68.0</td>\n",
       "      <td>9717.0</td>\n",
       "      <td>Pave</td>\n",
       "      <td>None</td>\n",
       "      <td>Reg</td>\n",
       "      <td>Lvl</td>\n",
       "      <td>AllPub</td>\n",
       "      <td>...</td>\n",
       "      <td>0.0</td>\n",
       "      <td>0.0</td>\n",
       "      <td>None</td>\n",
       "      <td>None</td>\n",
       "      <td>None</td>\n",
       "      <td>0.0</td>\n",
       "      <td>4.0</td>\n",
       "      <td>2010.0</td>\n",
       "      <td>WD</td>\n",
       "      <td>Normal</td>\n",
       "    </tr>\n",
       "    <tr>\n",
       "      <th>1459</th>\n",
       "      <td>1460.0</td>\n",
       "      <td>20.0</td>\n",
       "      <td>RL</td>\n",
       "      <td>75.0</td>\n",
       "      <td>9937.0</td>\n",
       "      <td>Pave</td>\n",
       "      <td>None</td>\n",
       "      <td>Reg</td>\n",
       "      <td>Lvl</td>\n",
       "      <td>AllPub</td>\n",
       "      <td>...</td>\n",
       "      <td>0.0</td>\n",
       "      <td>0.0</td>\n",
       "      <td>None</td>\n",
       "      <td>None</td>\n",
       "      <td>None</td>\n",
       "      <td>0.0</td>\n",
       "      <td>6.0</td>\n",
       "      <td>2008.0</td>\n",
       "      <td>WD</td>\n",
       "      <td>Normal</td>\n",
       "    </tr>\n",
       "  </tbody>\n",
       "</table>\n",
       "<p>1460 rows × 80 columns</p>\n",
       "</div>"
      ],
      "text/plain": [
       "          Id  MSSubClass MSZoning  LotFrontage  LotArea Street Alley LotShape  \\\n",
       "0        1.0        60.0       RL         65.0   8450.0   Pave  None      Reg   \n",
       "1        2.0        20.0       RL         80.0   9600.0   Pave  None      Reg   \n",
       "2        3.0        60.0       RL         68.0  11250.0   Pave  None      IR1   \n",
       "3        4.0        70.0       RL         60.0   9550.0   Pave  None      IR1   \n",
       "4        5.0        60.0       RL         84.0  14260.0   Pave  None      IR1   \n",
       "...      ...         ...      ...          ...      ...    ...   ...      ...   \n",
       "1455  1456.0        60.0       RL         62.0   7917.0   Pave  None      Reg   \n",
       "1456  1457.0        20.0       RL         85.0  13175.0   Pave  None      Reg   \n",
       "1457  1458.0        70.0       RL         66.0   9042.0   Pave  None      Reg   \n",
       "1458  1459.0        20.0       RL         68.0   9717.0   Pave  None      Reg   \n",
       "1459  1460.0        20.0       RL         75.0   9937.0   Pave  None      Reg   \n",
       "\n",
       "     LandContour Utilities  ... ScreenPorch PoolArea PoolQC  Fence  \\\n",
       "0            Lvl    AllPub  ...         0.0      0.0   None   None   \n",
       "1            Lvl    AllPub  ...         0.0      0.0   None   None   \n",
       "2            Lvl    AllPub  ...         0.0      0.0   None   None   \n",
       "3            Lvl    AllPub  ...         0.0      0.0   None   None   \n",
       "4            Lvl    AllPub  ...         0.0      0.0   None   None   \n",
       "...          ...       ...  ...         ...      ...    ...    ...   \n",
       "1455         Lvl    AllPub  ...         0.0      0.0   None   None   \n",
       "1456         Lvl    AllPub  ...         0.0      0.0   None  MnPrv   \n",
       "1457         Lvl    AllPub  ...         0.0      0.0   None  GdPrv   \n",
       "1458         Lvl    AllPub  ...         0.0      0.0   None   None   \n",
       "1459         Lvl    AllPub  ...         0.0      0.0   None   None   \n",
       "\n",
       "     MiscFeature MiscVal MoSold  YrSold  SaleType  SaleCondition  \n",
       "0           None     0.0    2.0  2008.0        WD         Normal  \n",
       "1           None     0.0    5.0  2007.0        WD         Normal  \n",
       "2           None     0.0    9.0  2008.0        WD         Normal  \n",
       "3           None     0.0    2.0  2006.0        WD        Abnorml  \n",
       "4           None     0.0   12.0  2008.0        WD         Normal  \n",
       "...          ...     ...    ...     ...       ...            ...  \n",
       "1455        None     0.0    8.0  2007.0        WD         Normal  \n",
       "1456        None     0.0    2.0  2010.0        WD         Normal  \n",
       "1457        Shed  2500.0    5.0  2010.0        WD         Normal  \n",
       "1458        None     0.0    4.0  2010.0        WD         Normal  \n",
       "1459        None     0.0    6.0  2008.0        WD         Normal  \n",
       "\n",
       "[1460 rows x 80 columns]"
      ]
     },
     "execution_count": 27,
     "metadata": {},
     "output_type": "execute_result"
    }
   ],
   "source": [
    "housing = fetch_openml(name=\"house_prices\", as_frame=True)\n",
    "housing_X = housing['data']\n",
    "housing_y = housing['target']\n",
    "\n",
    "\n",
    "housing_X"
   ]
  },
  {
   "cell_type": "code",
   "execution_count": 28,
   "metadata": {},
   "outputs": [],
   "source": [
    "# vamos a quedarnos solo con variables numericas\n",
    "data = housing_X.select_dtypes('number')\n",
    "#tenemos muchos floats porque -> type(np.nan) es float, por lo tanto nos tiene que hacer pensar en datos missing\n",
    "\n",
    "data = data.fillna(data.median())\n",
    "data = data.drop('Id',axis=1)"
   ]
  },
  {
   "cell_type": "code",
   "execution_count": 29,
   "metadata": {},
   "outputs": [
    {
     "data": {
      "text/html": [
       "<div>\n",
       "<style scoped>\n",
       "    .dataframe tbody tr th:only-of-type {\n",
       "        vertical-align: middle;\n",
       "    }\n",
       "\n",
       "    .dataframe tbody tr th {\n",
       "        vertical-align: top;\n",
       "    }\n",
       "\n",
       "    .dataframe thead th {\n",
       "        text-align: right;\n",
       "    }\n",
       "</style>\n",
       "<table border=\"1\" class=\"dataframe\">\n",
       "  <thead>\n",
       "    <tr style=\"text-align: right;\">\n",
       "      <th></th>\n",
       "      <th>MSSubClass</th>\n",
       "      <th>LotFrontage</th>\n",
       "      <th>LotArea</th>\n",
       "      <th>OverallQual</th>\n",
       "      <th>OverallCond</th>\n",
       "      <th>YearBuilt</th>\n",
       "      <th>YearRemodAdd</th>\n",
       "      <th>MasVnrArea</th>\n",
       "      <th>BsmtFinSF1</th>\n",
       "      <th>BsmtFinSF2</th>\n",
       "      <th>...</th>\n",
       "      <th>GarageArea</th>\n",
       "      <th>WoodDeckSF</th>\n",
       "      <th>OpenPorchSF</th>\n",
       "      <th>EnclosedPorch</th>\n",
       "      <th>3SsnPorch</th>\n",
       "      <th>ScreenPorch</th>\n",
       "      <th>PoolArea</th>\n",
       "      <th>MiscVal</th>\n",
       "      <th>MoSold</th>\n",
       "      <th>YrSold</th>\n",
       "    </tr>\n",
       "  </thead>\n",
       "  <tbody>\n",
       "    <tr>\n",
       "      <th>0</th>\n",
       "      <td>60.0</td>\n",
       "      <td>65.0</td>\n",
       "      <td>8450.0</td>\n",
       "      <td>7.0</td>\n",
       "      <td>5.0</td>\n",
       "      <td>2003.0</td>\n",
       "      <td>2003.0</td>\n",
       "      <td>196.0</td>\n",
       "      <td>706.0</td>\n",
       "      <td>0.0</td>\n",
       "      <td>...</td>\n",
       "      <td>548.0</td>\n",
       "      <td>0.0</td>\n",
       "      <td>61.0</td>\n",
       "      <td>0.0</td>\n",
       "      <td>0.0</td>\n",
       "      <td>0.0</td>\n",
       "      <td>0.0</td>\n",
       "      <td>0.0</td>\n",
       "      <td>2.0</td>\n",
       "      <td>2008.0</td>\n",
       "    </tr>\n",
       "    <tr>\n",
       "      <th>1</th>\n",
       "      <td>20.0</td>\n",
       "      <td>80.0</td>\n",
       "      <td>9600.0</td>\n",
       "      <td>6.0</td>\n",
       "      <td>8.0</td>\n",
       "      <td>1976.0</td>\n",
       "      <td>1976.0</td>\n",
       "      <td>0.0</td>\n",
       "      <td>978.0</td>\n",
       "      <td>0.0</td>\n",
       "      <td>...</td>\n",
       "      <td>460.0</td>\n",
       "      <td>298.0</td>\n",
       "      <td>0.0</td>\n",
       "      <td>0.0</td>\n",
       "      <td>0.0</td>\n",
       "      <td>0.0</td>\n",
       "      <td>0.0</td>\n",
       "      <td>0.0</td>\n",
       "      <td>5.0</td>\n",
       "      <td>2007.0</td>\n",
       "    </tr>\n",
       "    <tr>\n",
       "      <th>2</th>\n",
       "      <td>60.0</td>\n",
       "      <td>68.0</td>\n",
       "      <td>11250.0</td>\n",
       "      <td>7.0</td>\n",
       "      <td>5.0</td>\n",
       "      <td>2001.0</td>\n",
       "      <td>2002.0</td>\n",
       "      <td>162.0</td>\n",
       "      <td>486.0</td>\n",
       "      <td>0.0</td>\n",
       "      <td>...</td>\n",
       "      <td>608.0</td>\n",
       "      <td>0.0</td>\n",
       "      <td>42.0</td>\n",
       "      <td>0.0</td>\n",
       "      <td>0.0</td>\n",
       "      <td>0.0</td>\n",
       "      <td>0.0</td>\n",
       "      <td>0.0</td>\n",
       "      <td>9.0</td>\n",
       "      <td>2008.0</td>\n",
       "    </tr>\n",
       "    <tr>\n",
       "      <th>3</th>\n",
       "      <td>70.0</td>\n",
       "      <td>60.0</td>\n",
       "      <td>9550.0</td>\n",
       "      <td>7.0</td>\n",
       "      <td>5.0</td>\n",
       "      <td>1915.0</td>\n",
       "      <td>1970.0</td>\n",
       "      <td>0.0</td>\n",
       "      <td>216.0</td>\n",
       "      <td>0.0</td>\n",
       "      <td>...</td>\n",
       "      <td>642.0</td>\n",
       "      <td>0.0</td>\n",
       "      <td>35.0</td>\n",
       "      <td>272.0</td>\n",
       "      <td>0.0</td>\n",
       "      <td>0.0</td>\n",
       "      <td>0.0</td>\n",
       "      <td>0.0</td>\n",
       "      <td>2.0</td>\n",
       "      <td>2006.0</td>\n",
       "    </tr>\n",
       "    <tr>\n",
       "      <th>4</th>\n",
       "      <td>60.0</td>\n",
       "      <td>84.0</td>\n",
       "      <td>14260.0</td>\n",
       "      <td>8.0</td>\n",
       "      <td>5.0</td>\n",
       "      <td>2000.0</td>\n",
       "      <td>2000.0</td>\n",
       "      <td>350.0</td>\n",
       "      <td>655.0</td>\n",
       "      <td>0.0</td>\n",
       "      <td>...</td>\n",
       "      <td>836.0</td>\n",
       "      <td>192.0</td>\n",
       "      <td>84.0</td>\n",
       "      <td>0.0</td>\n",
       "      <td>0.0</td>\n",
       "      <td>0.0</td>\n",
       "      <td>0.0</td>\n",
       "      <td>0.0</td>\n",
       "      <td>12.0</td>\n",
       "      <td>2008.0</td>\n",
       "    </tr>\n",
       "    <tr>\n",
       "      <th>...</th>\n",
       "      <td>...</td>\n",
       "      <td>...</td>\n",
       "      <td>...</td>\n",
       "      <td>...</td>\n",
       "      <td>...</td>\n",
       "      <td>...</td>\n",
       "      <td>...</td>\n",
       "      <td>...</td>\n",
       "      <td>...</td>\n",
       "      <td>...</td>\n",
       "      <td>...</td>\n",
       "      <td>...</td>\n",
       "      <td>...</td>\n",
       "      <td>...</td>\n",
       "      <td>...</td>\n",
       "      <td>...</td>\n",
       "      <td>...</td>\n",
       "      <td>...</td>\n",
       "      <td>...</td>\n",
       "      <td>...</td>\n",
       "      <td>...</td>\n",
       "    </tr>\n",
       "    <tr>\n",
       "      <th>1455</th>\n",
       "      <td>60.0</td>\n",
       "      <td>62.0</td>\n",
       "      <td>7917.0</td>\n",
       "      <td>6.0</td>\n",
       "      <td>5.0</td>\n",
       "      <td>1999.0</td>\n",
       "      <td>2000.0</td>\n",
       "      <td>0.0</td>\n",
       "      <td>0.0</td>\n",
       "      <td>0.0</td>\n",
       "      <td>...</td>\n",
       "      <td>460.0</td>\n",
       "      <td>0.0</td>\n",
       "      <td>40.0</td>\n",
       "      <td>0.0</td>\n",
       "      <td>0.0</td>\n",
       "      <td>0.0</td>\n",
       "      <td>0.0</td>\n",
       "      <td>0.0</td>\n",
       "      <td>8.0</td>\n",
       "      <td>2007.0</td>\n",
       "    </tr>\n",
       "    <tr>\n",
       "      <th>1456</th>\n",
       "      <td>20.0</td>\n",
       "      <td>85.0</td>\n",
       "      <td>13175.0</td>\n",
       "      <td>6.0</td>\n",
       "      <td>6.0</td>\n",
       "      <td>1978.0</td>\n",
       "      <td>1988.0</td>\n",
       "      <td>119.0</td>\n",
       "      <td>790.0</td>\n",
       "      <td>163.0</td>\n",
       "      <td>...</td>\n",
       "      <td>500.0</td>\n",
       "      <td>349.0</td>\n",
       "      <td>0.0</td>\n",
       "      <td>0.0</td>\n",
       "      <td>0.0</td>\n",
       "      <td>0.0</td>\n",
       "      <td>0.0</td>\n",
       "      <td>0.0</td>\n",
       "      <td>2.0</td>\n",
       "      <td>2010.0</td>\n",
       "    </tr>\n",
       "    <tr>\n",
       "      <th>1457</th>\n",
       "      <td>70.0</td>\n",
       "      <td>66.0</td>\n",
       "      <td>9042.0</td>\n",
       "      <td>7.0</td>\n",
       "      <td>9.0</td>\n",
       "      <td>1941.0</td>\n",
       "      <td>2006.0</td>\n",
       "      <td>0.0</td>\n",
       "      <td>275.0</td>\n",
       "      <td>0.0</td>\n",
       "      <td>...</td>\n",
       "      <td>252.0</td>\n",
       "      <td>0.0</td>\n",
       "      <td>60.0</td>\n",
       "      <td>0.0</td>\n",
       "      <td>0.0</td>\n",
       "      <td>0.0</td>\n",
       "      <td>0.0</td>\n",
       "      <td>2500.0</td>\n",
       "      <td>5.0</td>\n",
       "      <td>2010.0</td>\n",
       "    </tr>\n",
       "    <tr>\n",
       "      <th>1458</th>\n",
       "      <td>20.0</td>\n",
       "      <td>68.0</td>\n",
       "      <td>9717.0</td>\n",
       "      <td>5.0</td>\n",
       "      <td>6.0</td>\n",
       "      <td>1950.0</td>\n",
       "      <td>1996.0</td>\n",
       "      <td>0.0</td>\n",
       "      <td>49.0</td>\n",
       "      <td>1029.0</td>\n",
       "      <td>...</td>\n",
       "      <td>240.0</td>\n",
       "      <td>366.0</td>\n",
       "      <td>0.0</td>\n",
       "      <td>112.0</td>\n",
       "      <td>0.0</td>\n",
       "      <td>0.0</td>\n",
       "      <td>0.0</td>\n",
       "      <td>0.0</td>\n",
       "      <td>4.0</td>\n",
       "      <td>2010.0</td>\n",
       "    </tr>\n",
       "    <tr>\n",
       "      <th>1459</th>\n",
       "      <td>20.0</td>\n",
       "      <td>75.0</td>\n",
       "      <td>9937.0</td>\n",
       "      <td>5.0</td>\n",
       "      <td>6.0</td>\n",
       "      <td>1965.0</td>\n",
       "      <td>1965.0</td>\n",
       "      <td>0.0</td>\n",
       "      <td>830.0</td>\n",
       "      <td>290.0</td>\n",
       "      <td>...</td>\n",
       "      <td>276.0</td>\n",
       "      <td>736.0</td>\n",
       "      <td>68.0</td>\n",
       "      <td>0.0</td>\n",
       "      <td>0.0</td>\n",
       "      <td>0.0</td>\n",
       "      <td>0.0</td>\n",
       "      <td>0.0</td>\n",
       "      <td>6.0</td>\n",
       "      <td>2008.0</td>\n",
       "    </tr>\n",
       "  </tbody>\n",
       "</table>\n",
       "<p>1460 rows × 36 columns</p>\n",
       "</div>"
      ],
      "text/plain": [
       "      MSSubClass  LotFrontage  LotArea  OverallQual  OverallCond  YearBuilt  \\\n",
       "0           60.0         65.0   8450.0          7.0          5.0     2003.0   \n",
       "1           20.0         80.0   9600.0          6.0          8.0     1976.0   \n",
       "2           60.0         68.0  11250.0          7.0          5.0     2001.0   \n",
       "3           70.0         60.0   9550.0          7.0          5.0     1915.0   \n",
       "4           60.0         84.0  14260.0          8.0          5.0     2000.0   \n",
       "...          ...          ...      ...          ...          ...        ...   \n",
       "1455        60.0         62.0   7917.0          6.0          5.0     1999.0   \n",
       "1456        20.0         85.0  13175.0          6.0          6.0     1978.0   \n",
       "1457        70.0         66.0   9042.0          7.0          9.0     1941.0   \n",
       "1458        20.0         68.0   9717.0          5.0          6.0     1950.0   \n",
       "1459        20.0         75.0   9937.0          5.0          6.0     1965.0   \n",
       "\n",
       "      YearRemodAdd  MasVnrArea  BsmtFinSF1  BsmtFinSF2  ...  GarageArea  \\\n",
       "0           2003.0       196.0       706.0         0.0  ...       548.0   \n",
       "1           1976.0         0.0       978.0         0.0  ...       460.0   \n",
       "2           2002.0       162.0       486.0         0.0  ...       608.0   \n",
       "3           1970.0         0.0       216.0         0.0  ...       642.0   \n",
       "4           2000.0       350.0       655.0         0.0  ...       836.0   \n",
       "...            ...         ...         ...         ...  ...         ...   \n",
       "1455        2000.0         0.0         0.0         0.0  ...       460.0   \n",
       "1456        1988.0       119.0       790.0       163.0  ...       500.0   \n",
       "1457        2006.0         0.0       275.0         0.0  ...       252.0   \n",
       "1458        1996.0         0.0        49.0      1029.0  ...       240.0   \n",
       "1459        1965.0         0.0       830.0       290.0  ...       276.0   \n",
       "\n",
       "      WoodDeckSF  OpenPorchSF  EnclosedPorch  3SsnPorch  ScreenPorch  \\\n",
       "0            0.0         61.0            0.0        0.0          0.0   \n",
       "1          298.0          0.0            0.0        0.0          0.0   \n",
       "2            0.0         42.0            0.0        0.0          0.0   \n",
       "3            0.0         35.0          272.0        0.0          0.0   \n",
       "4          192.0         84.0            0.0        0.0          0.0   \n",
       "...          ...          ...            ...        ...          ...   \n",
       "1455         0.0         40.0            0.0        0.0          0.0   \n",
       "1456       349.0          0.0            0.0        0.0          0.0   \n",
       "1457         0.0         60.0            0.0        0.0          0.0   \n",
       "1458       366.0          0.0          112.0        0.0          0.0   \n",
       "1459       736.0         68.0            0.0        0.0          0.0   \n",
       "\n",
       "      PoolArea  MiscVal  MoSold  YrSold  \n",
       "0          0.0      0.0     2.0  2008.0  \n",
       "1          0.0      0.0     5.0  2007.0  \n",
       "2          0.0      0.0     9.0  2008.0  \n",
       "3          0.0      0.0     2.0  2006.0  \n",
       "4          0.0      0.0    12.0  2008.0  \n",
       "...        ...      ...     ...     ...  \n",
       "1455       0.0      0.0     8.0  2007.0  \n",
       "1456       0.0      0.0     2.0  2010.0  \n",
       "1457       0.0   2500.0     5.0  2010.0  \n",
       "1458       0.0      0.0     4.0  2010.0  \n",
       "1459       0.0      0.0     6.0  2008.0  \n",
       "\n",
       "[1460 rows x 36 columns]"
      ]
     },
     "execution_count": 29,
     "metadata": {},
     "output_type": "execute_result"
    }
   ],
   "source": [
    "data"
   ]
  },
  {
   "cell_type": "code",
   "execution_count": 30,
   "metadata": {},
   "outputs": [
    {
     "data": {
      "text/html": [
       "<div>\n",
       "<style scoped>\n",
       "    .dataframe tbody tr th:only-of-type {\n",
       "        vertical-align: middle;\n",
       "    }\n",
       "\n",
       "    .dataframe tbody tr th {\n",
       "        vertical-align: top;\n",
       "    }\n",
       "\n",
       "    .dataframe thead th {\n",
       "        text-align: right;\n",
       "    }\n",
       "</style>\n",
       "<table border=\"1\" class=\"dataframe\">\n",
       "  <thead>\n",
       "    <tr style=\"text-align: right;\">\n",
       "      <th></th>\n",
       "      <th>MSE</th>\n",
       "      <th>RMSE</th>\n",
       "      <th>MAE</th>\n",
       "    </tr>\n",
       "  </thead>\n",
       "  <tbody>\n",
       "    <tr>\n",
       "      <th>linear_regression</th>\n",
       "      <td>1.430056e+09</td>\n",
       "      <td>37816.081211</td>\n",
       "      <td>23581.293264</td>\n",
       "    </tr>\n",
       "  </tbody>\n",
       "</table>\n",
       "</div>"
      ],
      "text/plain": [
       "                            MSE          RMSE           MAE\n",
       "linear_regression  1.430056e+09  37816.081211  23581.293264"
      ]
     },
     "execution_count": 30,
     "metadata": {},
     "output_type": "execute_result"
    }
   ],
   "source": [
    "pd.DataFrame(columns=['MSE','RMSE', \"MAE\"])\n",
    "\n",
    "X_train, X_test, y_train, y_test = train_test_split(data,housing_y)\n",
    "\n",
    "lr.fit(X_train,y_train)\n",
    "y_hat = lr.predict(X_test)\n",
    "\n",
    "errors = y_test - y_hat\n",
    "mae = np.mean(np.abs(errors))\n",
    "mse = np.mean(errors ** 2)\n",
    "rmse = np.sqrt(mse)\n",
    "\n",
    "\n",
    "results_housing = pd.DataFrame(columns=['MSE','RMSE', \"MAE\"])\n",
    "results_housing.loc['linear_regression'] = [mse,rmse,mae]\n",
    "results_housing"
   ]
  },
  {
   "cell_type": "markdown",
   "metadata": {},
   "source": [
    "## K nearest neighbors"
   ]
  },
  {
   "cell_type": "code",
   "execution_count": 31,
   "metadata": {},
   "outputs": [
    {
     "data": {
      "text/plain": [
       "<matplotlib.collections.PathCollection at 0x7f71345aff40>"
      ]
     },
     "execution_count": 31,
     "metadata": {},
     "output_type": "execute_result"
    },
    {
     "data": {
      "image/png": "[encoded data removed]",
      "text/plain": [
       "<Figure size 432x288 with 1 Axes>"
      ]
     },
     "metadata": {
      "needs_background": "light"
     },
     "output_type": "display_data"
    }
   ],
   "source": [
    "from sklearn.neighbors import KNeighborsRegressor\n",
    "\n",
    "knn = KNeighborsRegressor(n_neighbors=4)\n",
    "\n",
    "X_train, X_test, y_train, y_test = train_test_split(X, y)\n",
    "\n",
    "knn.fit(X_train,y_train)\n",
    "y_hat = knn.predict(X_test)\n",
    "\n",
    "plt.scatter(X,y)\n",
    "plt.scatter(X_test, y_hat)"
   ]
  },
  {
   "cell_type": "markdown",
   "metadata": {},
   "source": [
    "Now with real data: \n",
    "\n",
    "```python\n",
    "diabetes = datasets.load_diabetes()\n",
    "```"
   ]
  },
  {
   "cell_type": "code",
   "execution_count": 32,
   "metadata": {},
   "outputs": [],
   "source": [
    "#select a model and hyperparameters\n",
    "knn = KNeighborsRegressor(n_neighbors=5)\n",
    "\n",
    "#split train and test\n",
    "X_train, X_test, y_train, y_test = train_test_split(diabetes_X,diabetes_y)\n",
    "\n",
    "#learn on the training set\n",
    "knn.fit(X_train,y_train)\n",
    "#Precict on the test set\n",
    "y_hat = knn.predict(X_test)\n",
    "\n",
    "#Evaluate\n",
    "errors = y_test - y_hat\n",
    "mae = np.mean(np.abs(errors))\n",
    "mse = np.mean(errors ** 2)\n",
    "rmse = np.sqrt(mse)\n",
    "\n",
    "\n",
    "results_diabetes.loc['knn_5'] = [mse,rmse,mae]"
   ]
  },
  {
   "cell_type": "code",
   "execution_count": 33,
   "metadata": {},
   "outputs": [],
   "source": [
    "#select a model and hyperparameters\n",
    "knn = KNeighborsRegressor(n_neighbors=20)\n",
    "\n",
    "#split train and test\n",
    "X_train, X_test, y_train, y_test = train_test_split(diabetes_X,diabetes_y)\n",
    "\n",
    "#learn on the training set\n",
    "knn.fit(X_train,y_train)\n",
    "#Precict on the test set\n",
    "y_hat = knn.predict(X_test)\n",
    "\n",
    "#Evaluate\n",
    "errors = y_test - y_hat\n",
    "mae = np.mean(np.abs(errors))\n",
    "mse = np.mean(errors ** 2)\n",
    "rmse = np.sqrt(mse)\n",
    "\n",
    "\n",
    "results_diabetes.loc['knn_20'] = [mse,rmse,mae]"
   ]
  },
  {
   "cell_type": "code",
   "execution_count": 34,
   "metadata": {},
   "outputs": [],
   "source": [
    "#select a model and hyperparameters\n",
    "knn = KNeighborsRegressor(n_neighbors=50)\n",
    "\n",
    "#split train and test\n",
    "X_train, X_test, y_train, y_test = train_test_split(diabetes_X,diabetes_y)\n",
    "\n",
    "#learn on the training set\n",
    "knn.fit(X_train,y_train)\n",
    "#Precict on the test set\n",
    "y_hat = knn.predict(X_test)\n",
    "\n",
    "#Evaluate\n",
    "errors = y_test - y_hat\n",
    "mae = np.mean(np.abs(errors))\n",
    "mse = np.mean(errors ** 2)\n",
    "rmse = np.sqrt(mse)\n",
    "\n",
    "\n",
    "results_diabetes.loc['knn_50'] = [mse,rmse,mae]"
   ]
  },
  {
   "cell_type": "code",
   "execution_count": 35,
   "metadata": {},
   "outputs": [
    {
     "data": {
      "text/html": [
       "<div>\n",
       "<style scoped>\n",
       "    .dataframe tbody tr th:only-of-type {\n",
       "        vertical-align: middle;\n",
       "    }\n",
       "\n",
       "    .dataframe tbody tr th {\n",
       "        vertical-align: top;\n",
       "    }\n",
       "\n",
       "    .dataframe thead th {\n",
       "        text-align: right;\n",
       "    }\n",
       "</style>\n",
       "<table border=\"1\" class=\"dataframe\">\n",
       "  <thead>\n",
       "    <tr style=\"text-align: right;\">\n",
       "      <th></th>\n",
       "      <th>MSE</th>\n",
       "      <th>RMSE</th>\n",
       "      <th>MAE</th>\n",
       "    </tr>\n",
       "  </thead>\n",
       "  <tbody>\n",
       "    <tr>\n",
       "      <th>linear_regression</th>\n",
       "      <td>3185.811026</td>\n",
       "      <td>56.442989</td>\n",
       "      <td>46.990529</td>\n",
       "    </tr>\n",
       "    <tr>\n",
       "      <th>knn_5</th>\n",
       "      <td>3917.655135</td>\n",
       "      <td>62.591175</td>\n",
       "      <td>49.046847</td>\n",
       "    </tr>\n",
       "    <tr>\n",
       "      <th>knn_20</th>\n",
       "      <td>3518.434032</td>\n",
       "      <td>59.316389</td>\n",
       "      <td>48.873423</td>\n",
       "    </tr>\n",
       "    <tr>\n",
       "      <th>knn_50</th>\n",
       "      <td>3234.547503</td>\n",
       "      <td>56.873082</td>\n",
       "      <td>46.262703</td>\n",
       "    </tr>\n",
       "  </tbody>\n",
       "</table>\n",
       "</div>"
      ],
      "text/plain": [
       "                           MSE       RMSE        MAE\n",
       "linear_regression  3185.811026  56.442989  46.990529\n",
       "knn_5              3917.655135  62.591175  49.046847\n",
       "knn_20             3518.434032  59.316389  48.873423\n",
       "knn_50             3234.547503  56.873082  46.262703"
      ]
     },
     "execution_count": 35,
     "metadata": {},
     "output_type": "execute_result"
    }
   ],
   "source": [
    "results_diabetes"
   ]
  },
  {
   "cell_type": "markdown",
   "metadata": {},
   "source": [
    "```python\n",
    "from sklearn.datasets import fetch_openml\n",
    "housing = fetch_openml(name=\"house_prices\", as_frame=True)\n",
    "```"
   ]
  },
  {
   "cell_type": "markdown",
   "metadata": {},
   "source": [
    "### Ejercicio\n",
    "\n",
    "Train several k neighbors classifiers (with 5, 20, and 50 neighbors) on the housing dataset.\n",
    "Measure their errors and annotarte them into the results DataFrame."
   ]
  },
  {
   "cell_type": "code",
   "execution_count": 36,
   "metadata": {},
   "outputs": [],
   "source": [
    "# vamos a quedarnos solo con variables numericas\n",
    "data = housing_X.select_dtypes('number')\n",
    "#tenemos muchos floats porque -> type(np.nan) es float, por lo tanto nos tiene que hacer pensar en datos missing\n",
    "data = data.fillna(data.median())\n",
    "data = data.drop('Id',axis=1)\n",
    "\n",
    "#select a model and hyperparameters\n",
    "knn = KNeighborsRegressor(n_neighbors=5)\n",
    "\n",
    "#split train and test\n",
    "X_train, X_test, y_train, y_test = train_test_split(data,housing_y)\n",
    "\n",
    "#learn on the training set\n",
    "knn.fit(X_train,y_train)\n",
    "#Precict on the test set\n",
    "y_hat = knn.predict(X_test)\n",
    "\n",
    "#Evaluate\n",
    "errors = y_test - y_hat\n",
    "mae = np.mean(np.abs(errors))\n",
    "mse = np.mean(errors ** 2)\n",
    "rmse = np.sqrt(mse)\n",
    "\n",
    "results_housing = pd.DataFrame(columns=['MSE','RMSE', \"MAE\"])\n",
    "results_housing.loc['knn_5'] = [mse,rmse,mae]"
   ]
  },
  {
   "cell_type": "code",
   "execution_count": 37,
   "metadata": {},
   "outputs": [],
   "source": [
    "#select a model and hyperparameters\n",
    "knn = KNeighborsRegressor(n_neighbors=20)\n",
    "\n",
    "#split train and test\n",
    "X_train, X_test, y_train, y_test = train_test_split(data,housing_y)\n",
    "\n",
    "#learn on the training set\n",
    "knn.fit(X_train,y_train)\n",
    "#Precict on the test set\n",
    "y_hat = knn.predict(X_test)\n",
    "\n",
    "#Evaluate\n",
    "errors = y_test - y_hat\n",
    "mae = np.mean(np.abs(errors))\n",
    "mse = np.mean(errors ** 2)\n",
    "rmse = np.sqrt(mse)\n",
    "\n",
    "\n",
    "results_housing.loc['knn_20'] = [mse,rmse,mae]"
   ]
  },
  {
   "cell_type": "code",
   "execution_count": 38,
   "metadata": {},
   "outputs": [],
   "source": [
    "#select a model and hyperparameters\n",
    "knn = KNeighborsRegressor(n_neighbors=50)\n",
    "\n",
    "#split train and test\n",
    "X_train, X_test, y_train, y_test = train_test_split(data,housing_y)\n",
    "\n",
    "#learn on the training set\n",
    "knn.fit(X_train,y_train)\n",
    "#Precict on the test set\n",
    "y_hat = knn.predict(X_test)\n",
    "\n",
    "#Evaluate\n",
    "errors = y_test - y_hat\n",
    "mae = np.mean(np.abs(errors))\n",
    "mse = np.mean(errors ** 2)\n",
    "rmse = np.sqrt(mse)\n",
    "\n",
    "\n",
    "results_housing.loc['knn_50'] = [mse,rmse,mae]"
   ]
  },
  {
   "cell_type": "code",
   "execution_count": 39,
   "metadata": {
    "scrolled": true
   },
   "outputs": [
    {
     "data": {
      "text/html": [
       "<div>\n",
       "<style scoped>\n",
       "    .dataframe tbody tr th:only-of-type {\n",
       "        vertical-align: middle;\n",
       "    }\n",
       "\n",
       "    .dataframe tbody tr th {\n",
       "        vertical-align: top;\n",
       "    }\n",
       "\n",
       "    .dataframe thead th {\n",
       "        text-align: right;\n",
       "    }\n",
       "</style>\n",
       "<table border=\"1\" class=\"dataframe\">\n",
       "  <thead>\n",
       "    <tr style=\"text-align: right;\">\n",
       "      <th></th>\n",
       "      <th>MSE</th>\n",
       "      <th>RMSE</th>\n",
       "      <th>MAE</th>\n",
       "    </tr>\n",
       "  </thead>\n",
       "  <tbody>\n",
       "    <tr>\n",
       "      <th>knn_5</th>\n",
       "      <td>1.794143e+09</td>\n",
       "      <td>42357.326398</td>\n",
       "      <td>27301.013699</td>\n",
       "    </tr>\n",
       "    <tr>\n",
       "      <th>knn_20</th>\n",
       "      <td>2.541045e+09</td>\n",
       "      <td>50408.780019</td>\n",
       "      <td>30834.185890</td>\n",
       "    </tr>\n",
       "    <tr>\n",
       "      <th>knn_50</th>\n",
       "      <td>3.583973e+09</td>\n",
       "      <td>59866.292933</td>\n",
       "      <td>37070.150411</td>\n",
       "    </tr>\n",
       "  </tbody>\n",
       "</table>\n",
       "</div>"
      ],
      "text/plain": [
       "                 MSE          RMSE           MAE\n",
       "knn_5   1.794143e+09  42357.326398  27301.013699\n",
       "knn_20  2.541045e+09  50408.780019  30834.185890\n",
       "knn_50  3.583973e+09  59866.292933  37070.150411"
      ]
     },
     "execution_count": 39,
     "metadata": {},
     "output_type": "execute_result"
    }
   ],
   "source": [
    "results_housing"
   ]
  },
  {
   "cell_type": "code",
   "execution_count": 40,
   "metadata": {},
   "outputs": [
    {
     "data": {
      "text/html": [
       "<div>\n",
       "<style scoped>\n",
       "    .dataframe tbody tr th:only-of-type {\n",
       "        vertical-align: middle;\n",
       "    }\n",
       "\n",
       "    .dataframe tbody tr th {\n",
       "        vertical-align: top;\n",
       "    }\n",
       "\n",
       "    .dataframe thead th {\n",
       "        text-align: right;\n",
       "    }\n",
       "</style>\n",
       "<table border=\"1\" class=\"dataframe\">\n",
       "  <thead>\n",
       "    <tr style=\"text-align: right;\">\n",
       "      <th></th>\n",
       "      <th>MSSubClass</th>\n",
       "      <th>LotFrontage</th>\n",
       "      <th>LotArea</th>\n",
       "      <th>OverallQual</th>\n",
       "      <th>OverallCond</th>\n",
       "      <th>YearBuilt</th>\n",
       "      <th>YearRemodAdd</th>\n",
       "      <th>MasVnrArea</th>\n",
       "      <th>BsmtFinSF1</th>\n",
       "      <th>BsmtFinSF2</th>\n",
       "      <th>...</th>\n",
       "      <th>GarageArea</th>\n",
       "      <th>WoodDeckSF</th>\n",
       "      <th>OpenPorchSF</th>\n",
       "      <th>EnclosedPorch</th>\n",
       "      <th>3SsnPorch</th>\n",
       "      <th>ScreenPorch</th>\n",
       "      <th>PoolArea</th>\n",
       "      <th>MiscVal</th>\n",
       "      <th>MoSold</th>\n",
       "      <th>YrSold</th>\n",
       "    </tr>\n",
       "  </thead>\n",
       "  <tbody>\n",
       "    <tr>\n",
       "      <th>0</th>\n",
       "      <td>0.073350</td>\n",
       "      <td>-0.220799</td>\n",
       "      <td>-0.207071</td>\n",
       "      <td>0.651256</td>\n",
       "      <td>-0.517023</td>\n",
       "      <td>1.050634</td>\n",
       "      <td>0.878367</td>\n",
       "      <td>0.513928</td>\n",
       "      <td>0.575228</td>\n",
       "      <td>-0.288554</td>\n",
       "      <td>...</td>\n",
       "      <td>0.350880</td>\n",
       "      <td>-0.751918</td>\n",
       "      <td>0.216429</td>\n",
       "      <td>-0.359202</td>\n",
       "      <td>-0.116299</td>\n",
       "      <td>-0.270116</td>\n",
       "      <td>-0.068668</td>\n",
       "      <td>-0.087658</td>\n",
       "      <td>-1.598563</td>\n",
       "      <td>0.138730</td>\n",
       "    </tr>\n",
       "    <tr>\n",
       "      <th>1</th>\n",
       "      <td>-0.872264</td>\n",
       "      <td>0.460162</td>\n",
       "      <td>-0.091855</td>\n",
       "      <td>-0.071812</td>\n",
       "      <td>2.178881</td>\n",
       "      <td>0.156680</td>\n",
       "      <td>-0.429430</td>\n",
       "      <td>-0.570555</td>\n",
       "      <td>1.171591</td>\n",
       "      <td>-0.288554</td>\n",
       "      <td>...</td>\n",
       "      <td>-0.060710</td>\n",
       "      <td>1.625638</td>\n",
       "      <td>-0.704242</td>\n",
       "      <td>-0.359202</td>\n",
       "      <td>-0.116299</td>\n",
       "      <td>-0.270116</td>\n",
       "      <td>-0.068668</td>\n",
       "      <td>-0.087658</td>\n",
       "      <td>-0.488943</td>\n",
       "      <td>-0.614228</td>\n",
       "    </tr>\n",
       "    <tr>\n",
       "      <th>2</th>\n",
       "      <td>0.073350</td>\n",
       "      <td>-0.084607</td>\n",
       "      <td>0.073455</td>\n",
       "      <td>0.651256</td>\n",
       "      <td>-0.517023</td>\n",
       "      <td>0.984415</td>\n",
       "      <td>0.829930</td>\n",
       "      <td>0.325803</td>\n",
       "      <td>0.092875</td>\n",
       "      <td>-0.288554</td>\n",
       "      <td>...</td>\n",
       "      <td>0.631510</td>\n",
       "      <td>-0.751918</td>\n",
       "      <td>-0.070337</td>\n",
       "      <td>-0.359202</td>\n",
       "      <td>-0.116299</td>\n",
       "      <td>-0.270116</td>\n",
       "      <td>-0.068668</td>\n",
       "      <td>-0.087658</td>\n",
       "      <td>0.990552</td>\n",
       "      <td>0.138730</td>\n",
       "    </tr>\n",
       "    <tr>\n",
       "      <th>3</th>\n",
       "      <td>0.309753</td>\n",
       "      <td>-0.447787</td>\n",
       "      <td>-0.096864</td>\n",
       "      <td>0.651256</td>\n",
       "      <td>-0.517023</td>\n",
       "      <td>-1.862993</td>\n",
       "      <td>-0.720051</td>\n",
       "      <td>-0.570555</td>\n",
       "      <td>-0.499103</td>\n",
       "      <td>-0.288554</td>\n",
       "      <td>...</td>\n",
       "      <td>0.790533</td>\n",
       "      <td>-0.751918</td>\n",
       "      <td>-0.175988</td>\n",
       "      <td>4.091122</td>\n",
       "      <td>-0.116299</td>\n",
       "      <td>-0.270116</td>\n",
       "      <td>-0.068668</td>\n",
       "      <td>-0.087658</td>\n",
       "      <td>-1.598563</td>\n",
       "      <td>-1.367186</td>\n",
       "    </tr>\n",
       "    <tr>\n",
       "      <th>4</th>\n",
       "      <td>0.073350</td>\n",
       "      <td>0.641752</td>\n",
       "      <td>0.375020</td>\n",
       "      <td>1.374324</td>\n",
       "      <td>-0.517023</td>\n",
       "      <td>0.951306</td>\n",
       "      <td>0.733056</td>\n",
       "      <td>1.366021</td>\n",
       "      <td>0.463410</td>\n",
       "      <td>-0.288554</td>\n",
       "      <td>...</td>\n",
       "      <td>1.697903</td>\n",
       "      <td>0.779930</td>\n",
       "      <td>0.563567</td>\n",
       "      <td>-0.359202</td>\n",
       "      <td>-0.116299</td>\n",
       "      <td>-0.270116</td>\n",
       "      <td>-0.068668</td>\n",
       "      <td>-0.087658</td>\n",
       "      <td>2.100173</td>\n",
       "      <td>0.138730</td>\n",
       "    </tr>\n",
       "    <tr>\n",
       "      <th>...</th>\n",
       "      <td>...</td>\n",
       "      <td>...</td>\n",
       "      <td>...</td>\n",
       "      <td>...</td>\n",
       "      <td>...</td>\n",
       "      <td>...</td>\n",
       "      <td>...</td>\n",
       "      <td>...</td>\n",
       "      <td>...</td>\n",
       "      <td>...</td>\n",
       "      <td>...</td>\n",
       "      <td>...</td>\n",
       "      <td>...</td>\n",
       "      <td>...</td>\n",
       "      <td>...</td>\n",
       "      <td>...</td>\n",
       "      <td>...</td>\n",
       "      <td>...</td>\n",
       "      <td>...</td>\n",
       "      <td>...</td>\n",
       "      <td>...</td>\n",
       "    </tr>\n",
       "    <tr>\n",
       "      <th>1455</th>\n",
       "      <td>0.073350</td>\n",
       "      <td>-0.356992</td>\n",
       "      <td>-0.260471</td>\n",
       "      <td>-0.071812</td>\n",
       "      <td>-0.517023</td>\n",
       "      <td>0.918196</td>\n",
       "      <td>0.733056</td>\n",
       "      <td>-0.570555</td>\n",
       "      <td>-0.972685</td>\n",
       "      <td>-0.288554</td>\n",
       "      <td>...</td>\n",
       "      <td>-0.060710</td>\n",
       "      <td>-0.751918</td>\n",
       "      <td>-0.100523</td>\n",
       "      <td>-0.359202</td>\n",
       "      <td>-0.116299</td>\n",
       "      <td>-0.270116</td>\n",
       "      <td>-0.068668</td>\n",
       "      <td>-0.087658</td>\n",
       "      <td>0.620678</td>\n",
       "      <td>-0.614228</td>\n",
       "    </tr>\n",
       "    <tr>\n",
       "      <th>1456</th>\n",
       "      <td>-0.872264</td>\n",
       "      <td>0.687149</td>\n",
       "      <td>0.266316</td>\n",
       "      <td>-0.071812</td>\n",
       "      <td>0.381612</td>\n",
       "      <td>0.222899</td>\n",
       "      <td>0.151813</td>\n",
       "      <td>0.087881</td>\n",
       "      <td>0.759399</td>\n",
       "      <td>0.721865</td>\n",
       "      <td>...</td>\n",
       "      <td>0.126376</td>\n",
       "      <td>2.032535</td>\n",
       "      <td>-0.704242</td>\n",
       "      <td>-0.359202</td>\n",
       "      <td>-0.116299</td>\n",
       "      <td>-0.270116</td>\n",
       "      <td>-0.068668</td>\n",
       "      <td>-0.087658</td>\n",
       "      <td>-1.598563</td>\n",
       "      <td>1.644646</td>\n",
       "    </tr>\n",
       "    <tr>\n",
       "      <th>1457</th>\n",
       "      <td>0.309753</td>\n",
       "      <td>-0.175402</td>\n",
       "      <td>-0.147760</td>\n",
       "      <td>0.651256</td>\n",
       "      <td>3.077516</td>\n",
       "      <td>-1.002149</td>\n",
       "      <td>1.023678</td>\n",
       "      <td>-0.570555</td>\n",
       "      <td>-0.369744</td>\n",
       "      <td>-0.288554</td>\n",
       "      <td>...</td>\n",
       "      <td>-1.033560</td>\n",
       "      <td>-0.751918</td>\n",
       "      <td>0.201336</td>\n",
       "      <td>-0.359202</td>\n",
       "      <td>-0.116299</td>\n",
       "      <td>-0.270116</td>\n",
       "      <td>-0.068668</td>\n",
       "      <td>4.951415</td>\n",
       "      <td>-0.488943</td>\n",
       "      <td>1.644646</td>\n",
       "    </tr>\n",
       "    <tr>\n",
       "      <th>1458</th>\n",
       "      <td>-0.872264</td>\n",
       "      <td>-0.084607</td>\n",
       "      <td>-0.080133</td>\n",
       "      <td>-0.794879</td>\n",
       "      <td>0.381612</td>\n",
       "      <td>-0.704164</td>\n",
       "      <td>0.539309</td>\n",
       "      <td>-0.570555</td>\n",
       "      <td>-0.865252</td>\n",
       "      <td>6.090101</td>\n",
       "      <td>...</td>\n",
       "      <td>-1.089686</td>\n",
       "      <td>2.168167</td>\n",
       "      <td>-0.704242</td>\n",
       "      <td>1.473284</td>\n",
       "      <td>-0.116299</td>\n",
       "      <td>-0.270116</td>\n",
       "      <td>-0.068668</td>\n",
       "      <td>-0.087658</td>\n",
       "      <td>-0.858816</td>\n",
       "      <td>1.644646</td>\n",
       "    </tr>\n",
       "    <tr>\n",
       "      <th>1459</th>\n",
       "      <td>-0.872264</td>\n",
       "      <td>0.233175</td>\n",
       "      <td>-0.058092</td>\n",
       "      <td>-0.794879</td>\n",
       "      <td>0.381612</td>\n",
       "      <td>-0.207523</td>\n",
       "      <td>-0.962236</td>\n",
       "      <td>-0.570555</td>\n",
       "      <td>0.847099</td>\n",
       "      <td>1.509123</td>\n",
       "      <td>...</td>\n",
       "      <td>-0.921308</td>\n",
       "      <td>5.120166</td>\n",
       "      <td>0.322080</td>\n",
       "      <td>-0.359202</td>\n",
       "      <td>-0.116299</td>\n",
       "      <td>-0.270116</td>\n",
       "      <td>-0.068668</td>\n",
       "      <td>-0.087658</td>\n",
       "      <td>-0.119069</td>\n",
       "      <td>0.138730</td>\n",
       "    </tr>\n",
       "  </tbody>\n",
       "</table>\n",
       "<p>1460 rows × 36 columns</p>\n",
       "</div>"
      ],
      "text/plain": [
       "      MSSubClass  LotFrontage   LotArea  OverallQual  OverallCond  YearBuilt  \\\n",
       "0       0.073350    -0.220799 -0.207071     0.651256    -0.517023   1.050634   \n",
       "1      -0.872264     0.460162 -0.091855    -0.071812     2.178881   0.156680   \n",
       "2       0.073350    -0.084607  0.073455     0.651256    -0.517023   0.984415   \n",
       "3       0.309753    -0.447787 -0.096864     0.651256    -0.517023  -1.862993   \n",
       "4       0.073350     0.641752  0.375020     1.374324    -0.517023   0.951306   \n",
       "...          ...          ...       ...          ...          ...        ...   \n",
       "1455    0.073350    -0.356992 -0.260471    -0.071812    -0.517023   0.918196   \n",
       "1456   -0.872264     0.687149  0.266316    -0.071812     0.381612   0.222899   \n",
       "1457    0.309753    -0.175402 -0.147760     0.651256     3.077516  -1.002149   \n",
       "1458   -0.872264    -0.084607 -0.080133    -0.794879     0.381612  -0.704164   \n",
       "1459   -0.872264     0.233175 -0.058092    -0.794879     0.381612  -0.207523   \n",
       "\n",
       "      YearRemodAdd  MasVnrArea  BsmtFinSF1  BsmtFinSF2  ...  GarageArea  \\\n",
       "0         0.878367    0.513928    0.575228   -0.288554  ...    0.350880   \n",
       "1        -0.429430   -0.570555    1.171591   -0.288554  ...   -0.060710   \n",
       "2         0.829930    0.325803    0.092875   -0.288554  ...    0.631510   \n",
       "3        -0.720051   -0.570555   -0.499103   -0.288554  ...    0.790533   \n",
       "4         0.733056    1.366021    0.463410   -0.288554  ...    1.697903   \n",
       "...            ...         ...         ...         ...  ...         ...   \n",
       "1455      0.733056   -0.570555   -0.972685   -0.288554  ...   -0.060710   \n",
       "1456      0.151813    0.087881    0.759399    0.721865  ...    0.126376   \n",
       "1457      1.023678   -0.570555   -0.369744   -0.288554  ...   -1.033560   \n",
       "1458      0.539309   -0.570555   -0.865252    6.090101  ...   -1.089686   \n",
       "1459     -0.962236   -0.570555    0.847099    1.509123  ...   -0.921308   \n",
       "\n",
       "      WoodDeckSF  OpenPorchSF  EnclosedPorch  3SsnPorch  ScreenPorch  \\\n",
       "0      -0.751918     0.216429      -0.359202  -0.116299    -0.270116   \n",
       "1       1.625638    -0.704242      -0.359202  -0.116299    -0.270116   \n",
       "2      -0.751918    -0.070337      -0.359202  -0.116299    -0.270116   \n",
       "3      -0.751918    -0.175988       4.091122  -0.116299    -0.270116   \n",
       "4       0.779930     0.563567      -0.359202  -0.116299    -0.270116   \n",
       "...          ...          ...            ...        ...          ...   \n",
       "1455   -0.751918    -0.100523      -0.359202  -0.116299    -0.270116   \n",
       "1456    2.032535    -0.704242      -0.359202  -0.116299    -0.270116   \n",
       "1457   -0.751918     0.201336      -0.359202  -0.116299    -0.270116   \n",
       "1458    2.168167    -0.704242       1.473284  -0.116299    -0.270116   \n",
       "1459    5.120166     0.322080      -0.359202  -0.116299    -0.270116   \n",
       "\n",
       "      PoolArea   MiscVal    MoSold    YrSold  \n",
       "0    -0.068668 -0.087658 -1.598563  0.138730  \n",
       "1    -0.068668 -0.087658 -0.488943 -0.614228  \n",
       "2    -0.068668 -0.087658  0.990552  0.138730  \n",
       "3    -0.068668 -0.087658 -1.598563 -1.367186  \n",
       "4    -0.068668 -0.087658  2.100173  0.138730  \n",
       "...        ...       ...       ...       ...  \n",
       "1455 -0.068668 -0.087658  0.620678 -0.614228  \n",
       "1456 -0.068668 -0.087658 -1.598563  1.644646  \n",
       "1457 -0.068668  4.951415 -0.488943  1.644646  \n",
       "1458 -0.068668 -0.087658 -0.858816  1.644646  \n",
       "1459 -0.068668 -0.087658 -0.119069  0.138730  \n",
       "\n",
       "[1460 rows x 36 columns]"
      ]
     },
     "execution_count": 40,
     "metadata": {},
     "output_type": "execute_result"
    }
   ],
   "source": [
    "normalized = data.copy()\n",
    "normalized = (normalized - normalized.mean()) / normalized.std()\n",
    "normalized"
   ]
  },
  {
   "cell_type": "code",
   "execution_count": 41,
   "metadata": {},
   "outputs": [
    {
     "data": {
      "text/html": [
       "<div>\n",
       "<style scoped>\n",
       "    .dataframe tbody tr th:only-of-type {\n",
       "        vertical-align: middle;\n",
       "    }\n",
       "\n",
       "    .dataframe tbody tr th {\n",
       "        vertical-align: top;\n",
       "    }\n",
       "\n",
       "    .dataframe thead th {\n",
       "        text-align: right;\n",
       "    }\n",
       "</style>\n",
       "<table border=\"1\" class=\"dataframe\">\n",
       "  <thead>\n",
       "    <tr style=\"text-align: right;\">\n",
       "      <th></th>\n",
       "      <th>MSE</th>\n",
       "      <th>RMSE</th>\n",
       "      <th>MAE</th>\n",
       "    </tr>\n",
       "  </thead>\n",
       "  <tbody>\n",
       "    <tr>\n",
       "      <th>knn_5</th>\n",
       "      <td>1.794143e+09</td>\n",
       "      <td>42357.326398</td>\n",
       "      <td>27301.013699</td>\n",
       "    </tr>\n",
       "    <tr>\n",
       "      <th>knn_20</th>\n",
       "      <td>2.541045e+09</td>\n",
       "      <td>50408.780019</td>\n",
       "      <td>30834.185890</td>\n",
       "    </tr>\n",
       "    <tr>\n",
       "      <th>knn_50</th>\n",
       "      <td>3.583973e+09</td>\n",
       "      <td>59866.292933</td>\n",
       "      <td>37070.150411</td>\n",
       "    </tr>\n",
       "    <tr>\n",
       "      <th>knn_20_normalized</th>\n",
       "      <td>1.490722e+09</td>\n",
       "      <td>38609.863604</td>\n",
       "      <td>22513.759863</td>\n",
       "    </tr>\n",
       "  </tbody>\n",
       "</table>\n",
       "</div>"
      ],
      "text/plain": [
       "                            MSE          RMSE           MAE\n",
       "knn_5              1.794143e+09  42357.326398  27301.013699\n",
       "knn_20             2.541045e+09  50408.780019  30834.185890\n",
       "knn_50             3.583973e+09  59866.292933  37070.150411\n",
       "knn_20_normalized  1.490722e+09  38609.863604  22513.759863"
      ]
     },
     "execution_count": 41,
     "metadata": {},
     "output_type": "execute_result"
    }
   ],
   "source": [
    "#select a model and hyperparameters\n",
    "knn = KNeighborsRegressor(n_neighbors=20)\n",
    "\n",
    "#split train and test\n",
    "X_train, X_test, y_train, y_test = train_test_split(normalized,housing_y)\n",
    "\n",
    "#learn on the training set\n",
    "knn.fit(X_train,y_train)\n",
    "#Precict on the test set\n",
    "y_hat = knn.predict(X_test)\n",
    "\n",
    "#Evaluate\n",
    "errors = y_test - y_hat\n",
    "mae = np.mean(np.abs(errors))\n",
    "mse = np.mean(errors ** 2)\n",
    "rmse = np.sqrt(mse)\n",
    "\n",
    "\n",
    "results_housing.loc['knn_20_normalized'] = [mse,rmse,mae]\n",
    "results_housing"
   ]
  },
  {
   "cell_type": "code",
   "execution_count": null,
   "metadata": {},
   "outputs": [],
   "source": []
  },
  {
   "cell_type": "markdown",
   "metadata": {},
   "source": [
    "## Decision Tree Regression\n"
   ]
  },
  {
   "cell_type": "code",
   "execution_count": 42,
   "metadata": {
    "scrolled": false
   },
   "outputs": [
    {
     "data": {
      "text/plain": [
       "[<matplotlib.lines.Line2D at 0x7f71343787f0>]"
      ]
     },
     "execution_count": 42,
     "metadata": {},
     "output_type": "execute_result"
    },
    {
     "data": {
      "image/png": "[encoded data removed]",
      "text/plain": [
       "<Figure size 432x288 with 1 Axes>"
      ]
     },
     "metadata": {
      "needs_background": "light"
     },
     "output_type": "display_data"
    }
   ],
   "source": [
    "from sklearn.tree import DecisionTreeRegressor\n",
    "\n",
    "dt = DecisionTreeRegressor(max_depth=10,\n",
    "                           min_samples_leaf=20)# cuanta menos profundidad mayor varianza, basta comparar con 20 y con 5 para ver la diferencia\n",
    "\n",
    "X_train, X_test, y_train, y_test = train_test_split(X, y)\n",
    "\n",
    "dt.fit(X_train, y_train)\n",
    "\n",
    "plt.scatter(X, y)\n",
    "xs = np.linspace(min(X)-2, max(X)+2)\n",
    "plt.plot(xs, dt.predict(xs), c='orange')"
   ]
  },
  {
   "cell_type": "code",
   "execution_count": 43,
   "metadata": {
    "scrolled": true
   },
   "outputs": [
    {
     "data": {
      "text/html": [
       "<div>\n",
       "<style scoped>\n",
       "    .dataframe tbody tr th:only-of-type {\n",
       "        vertical-align: middle;\n",
       "    }\n",
       "\n",
       "    .dataframe tbody tr th {\n",
       "        vertical-align: top;\n",
       "    }\n",
       "\n",
       "    .dataframe thead th {\n",
       "        text-align: right;\n",
       "    }\n",
       "</style>\n",
       "<table border=\"1\" class=\"dataframe\">\n",
       "  <thead>\n",
       "    <tr style=\"text-align: right;\">\n",
       "      <th></th>\n",
       "      <th>MSE</th>\n",
       "      <th>RMSE</th>\n",
       "      <th>MAE</th>\n",
       "    </tr>\n",
       "  </thead>\n",
       "  <tbody>\n",
       "    <tr>\n",
       "      <th>linear_regression</th>\n",
       "      <td>3185.811026</td>\n",
       "      <td>56.442989</td>\n",
       "      <td>46.990529</td>\n",
       "    </tr>\n",
       "    <tr>\n",
       "      <th>knn_5</th>\n",
       "      <td>3917.655135</td>\n",
       "      <td>62.591175</td>\n",
       "      <td>49.046847</td>\n",
       "    </tr>\n",
       "    <tr>\n",
       "      <th>knn_20</th>\n",
       "      <td>3518.434032</td>\n",
       "      <td>59.316389</td>\n",
       "      <td>48.873423</td>\n",
       "    </tr>\n",
       "    <tr>\n",
       "      <th>knn_50</th>\n",
       "      <td>3234.547503</td>\n",
       "      <td>56.873082</td>\n",
       "      <td>46.262703</td>\n",
       "    </tr>\n",
       "    <tr>\n",
       "      <th>dt_8</th>\n",
       "      <td>5828.130313</td>\n",
       "      <td>76.342192</td>\n",
       "      <td>61.982389</td>\n",
       "    </tr>\n",
       "  </tbody>\n",
       "</table>\n",
       "</div>"
      ],
      "text/plain": [
       "                           MSE       RMSE        MAE\n",
       "linear_regression  3185.811026  56.442989  46.990529\n",
       "knn_5              3917.655135  62.591175  49.046847\n",
       "knn_20             3518.434032  59.316389  48.873423\n",
       "knn_50             3234.547503  56.873082  46.262703\n",
       "dt_8               5828.130313  76.342192  61.982389"
      ]
     },
     "execution_count": 43,
     "metadata": {},
     "output_type": "execute_result"
    }
   ],
   "source": [
    "dt = DecisionTreeRegressor(max_depth=8)\n",
    "\n",
    "X_train, X_test, y_train, y_test = train_test_split(diabetes_X, diabetes_y)\n",
    "\n",
    "dt.fit(X_train, y_train)\n",
    "y_hat = dt.predict(X_test)\n",
    "\n",
    "errors = y_test - y_hat\n",
    "mae = np.mean(np.abs(errors))\n",
    "mse = np.mean(errors ** 2)\n",
    "rmse = np.sqrt(mse)\n",
    "\n",
    "\n",
    "results_diabetes.loc['dt_8'] = [mse,rmse,mae]\n",
    "results_diabetes"
   ]
  },
  {
   "cell_type": "code",
   "execution_count": 44,
   "metadata": {},
   "outputs": [
    {
     "data": {
      "text/html": [
       "<div>\n",
       "<style scoped>\n",
       "    .dataframe tbody tr th:only-of-type {\n",
       "        vertical-align: middle;\n",
       "    }\n",
       "\n",
       "    .dataframe tbody tr th {\n",
       "        vertical-align: top;\n",
       "    }\n",
       "\n",
       "    .dataframe thead th {\n",
       "        text-align: right;\n",
       "    }\n",
       "</style>\n",
       "<table border=\"1\" class=\"dataframe\">\n",
       "  <thead>\n",
       "    <tr style=\"text-align: right;\">\n",
       "      <th></th>\n",
       "      <th>MSE</th>\n",
       "      <th>RMSE</th>\n",
       "      <th>MAE</th>\n",
       "    </tr>\n",
       "  </thead>\n",
       "  <tbody>\n",
       "    <tr>\n",
       "      <th>knn_5</th>\n",
       "      <td>1.794143e+09</td>\n",
       "      <td>42357.326398</td>\n",
       "      <td>27301.013699</td>\n",
       "    </tr>\n",
       "    <tr>\n",
       "      <th>knn_20</th>\n",
       "      <td>2.541045e+09</td>\n",
       "      <td>50408.780019</td>\n",
       "      <td>30834.185890</td>\n",
       "    </tr>\n",
       "    <tr>\n",
       "      <th>knn_50</th>\n",
       "      <td>3.583973e+09</td>\n",
       "      <td>59866.292933</td>\n",
       "      <td>37070.150411</td>\n",
       "    </tr>\n",
       "    <tr>\n",
       "      <th>knn_20_normalized</th>\n",
       "      <td>1.490722e+09</td>\n",
       "      <td>38609.863604</td>\n",
       "      <td>22513.759863</td>\n",
       "    </tr>\n",
       "    <tr>\n",
       "      <th>dt_4_normalized</th>\n",
       "      <td>1.535495e+09</td>\n",
       "      <td>39185.395419</td>\n",
       "      <td>27786.592662</td>\n",
       "    </tr>\n",
       "  </tbody>\n",
       "</table>\n",
       "</div>"
      ],
      "text/plain": [
       "                            MSE          RMSE           MAE\n",
       "knn_5              1.794143e+09  42357.326398  27301.013699\n",
       "knn_20             2.541045e+09  50408.780019  30834.185890\n",
       "knn_50             3.583973e+09  59866.292933  37070.150411\n",
       "knn_20_normalized  1.490722e+09  38609.863604  22513.759863\n",
       "dt_4_normalized    1.535495e+09  39185.395419  27786.592662"
      ]
     },
     "execution_count": 44,
     "metadata": {},
     "output_type": "execute_result"
    }
   ],
   "source": [
    "dt = DecisionTreeRegressor(max_depth=4)\n",
    "\n",
    "X_train, X_test, y_train, y_test = train_test_split(normalized, housing_y)\n",
    "\n",
    "dt.fit(X_train, y_train)\n",
    "y_hat = dt.predict(X_test)\n",
    "\n",
    "errors = y_test - y_hat\n",
    "mae = np.mean(np.abs(errors))\n",
    "mse = np.mean(errors ** 2)\n",
    "rmse = np.sqrt(mse)\n",
    "\n",
    "\n",
    "results_housing.loc['dt_4_normalized'] = [mse,rmse,mae]\n",
    "results_housing"
   ]
  },
  {
   "cell_type": "code",
   "execution_count": 45,
   "metadata": {},
   "outputs": [
    {
     "data": {
      "text/html": [
       "<div>\n",
       "<style scoped>\n",
       "    .dataframe tbody tr th:only-of-type {\n",
       "        vertical-align: middle;\n",
       "    }\n",
       "\n",
       "    .dataframe tbody tr th {\n",
       "        vertical-align: top;\n",
       "    }\n",
       "\n",
       "    .dataframe thead th {\n",
       "        text-align: right;\n",
       "    }\n",
       "</style>\n",
       "<table border=\"1\" class=\"dataframe\">\n",
       "  <thead>\n",
       "    <tr style=\"text-align: right;\">\n",
       "      <th></th>\n",
       "      <th>MSE</th>\n",
       "      <th>RMSE</th>\n",
       "      <th>MAE</th>\n",
       "    </tr>\n",
       "  </thead>\n",
       "  <tbody>\n",
       "    <tr>\n",
       "      <th>knn_5</th>\n",
       "      <td>1.794143e+09</td>\n",
       "      <td>42357.326398</td>\n",
       "      <td>27301.013699</td>\n",
       "    </tr>\n",
       "    <tr>\n",
       "      <th>knn_20</th>\n",
       "      <td>2.541045e+09</td>\n",
       "      <td>50408.780019</td>\n",
       "      <td>30834.185890</td>\n",
       "    </tr>\n",
       "    <tr>\n",
       "      <th>knn_50</th>\n",
       "      <td>3.583973e+09</td>\n",
       "      <td>59866.292933</td>\n",
       "      <td>37070.150411</td>\n",
       "    </tr>\n",
       "    <tr>\n",
       "      <th>knn_20_normalized</th>\n",
       "      <td>1.490722e+09</td>\n",
       "      <td>38609.863604</td>\n",
       "      <td>22513.759863</td>\n",
       "    </tr>\n",
       "    <tr>\n",
       "      <th>dt_4_normalized</th>\n",
       "      <td>1.535495e+09</td>\n",
       "      <td>39185.395419</td>\n",
       "      <td>27786.592662</td>\n",
       "    </tr>\n",
       "    <tr>\n",
       "      <th>dt_4</th>\n",
       "      <td>1.731280e+09</td>\n",
       "      <td>41608.648660</td>\n",
       "      <td>27647.868342</td>\n",
       "    </tr>\n",
       "  </tbody>\n",
       "</table>\n",
       "</div>"
      ],
      "text/plain": [
       "                            MSE          RMSE           MAE\n",
       "knn_5              1.794143e+09  42357.326398  27301.013699\n",
       "knn_20             2.541045e+09  50408.780019  30834.185890\n",
       "knn_50             3.583973e+09  59866.292933  37070.150411\n",
       "knn_20_normalized  1.490722e+09  38609.863604  22513.759863\n",
       "dt_4_normalized    1.535495e+09  39185.395419  27786.592662\n",
       "dt_4               1.731280e+09  41608.648660  27647.868342"
      ]
     },
     "execution_count": 45,
     "metadata": {},
     "output_type": "execute_result"
    }
   ],
   "source": [
    "dt = DecisionTreeRegressor(max_depth=4)\n",
    "\n",
    "X_train, X_test, y_train, y_test = train_test_split(data, housing_y)\n",
    "\n",
    "dt.fit(X_train, y_train)\n",
    "y_hat = dt.predict(X_test)\n",
    "\n",
    "errors = y_test - y_hat\n",
    "mae = np.mean(np.abs(errors))\n",
    "mse = np.mean(errors ** 2)\n",
    "rmse = np.sqrt(mse)\n",
    "\n",
    "\n",
    "results_housing.loc['dt_4'] = [mse,rmse,mae]\n",
    "results_housing"
   ]
  },
  {
   "cell_type": "markdown",
   "metadata": {},
   "source": [
    "# Generalizability of our models\n",
    "\n",
    "We want to train models on known data in order to make inferences (predictions) on unknown data.\n",
    "\n",
    "How do we know how good our models are? "
   ]
  },
  {
   "cell_type": "code",
   "execution_count": null,
   "metadata": {},
   "outputs": [],
   "source": []
  },
  {
   "cell_type": "markdown",
   "metadata": {},
   "source": [
    "## Overfitting\n",
    "\n",
    "![Under- and overfitting](https://djsaunde.files.wordpress.com/2017/07/bias-variance-tradeoff.png)\n",
    "\n",
    "from https://djsaunde.wordpress.com/2017/07/17/the-bias-variance-tradeoff/"
   ]
  },
  {
   "cell_type": "code",
   "execution_count": null,
   "metadata": {},
   "outputs": [],
   "source": []
  },
  {
   "cell_type": "markdown",
   "metadata": {},
   "source": [
    "# Additional References\n",
    "\n",
    "\n",
    "[An Introduction to Statistical Learning](http://www-bcf.usc.edu/~gareth/ISL/)\n",
    "\n",
    "[Introduction to Machine Learning with Python](http://shop.oreilly.com/product/0636920030515.do)\n",
    "\n",
    "[scikit-learn cheat sheet](https://s3.amazonaws.com/assets.datacamp.com/blog_assets/Scikit_Learn_Cheat_Sheet_Python.pdf)\n",
    "\n",
    "[Regression metrics in sklearn](https://scikit-learn.org/stable/modules/model_evaluation.html#regression-metrics)"
   ]
  },
  {
   "cell_type": "code",
   "execution_count": null,
   "metadata": {},
   "outputs": [],
   "source": []
  }
 ],
 "metadata": {
  "kernelspec": {
   "display_name": "Python 3 (ipykernel)",
   "language": "python",
   "name": "python3"
  },
  "language_info": {
   "codemirror_mode": {
    "name": "ipython",
    "version": 3
   },
   "file_extension": ".py",
   "mimetype": "text/x-python",
   "name": "python",
   "nbconvert_exporter": "python",
   "pygments_lexer": "ipython3",
   "version": "3.8.2"
  },
  "toc": {
   "base_numbering": 1,
   "nav_menu": {
    "height": "617px",
    "width": "426px"
   },
   "number_sections": true,
   "sideBar": true,
   "skip_h1_title": false,
   "title_cell": "Table of Contents",
   "title_sidebar": "Contents",
   "toc_cell": false,
   "toc_position": {},
   "toc_section_display": true,
   "toc_window_display": false
  }
 },
 "nbformat": 4,
 "nbformat_minor": 4
}
