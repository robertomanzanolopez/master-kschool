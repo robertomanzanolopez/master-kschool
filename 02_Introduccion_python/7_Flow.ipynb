{
 "cells": [
  {
   "cell_type": "markdown",
   "metadata": {},
   "source": [
    "# Control flow"
   ]
  },
  {
   "cell_type": "markdown",
   "metadata": {},
   "source": [
    "- En Python la indentación se utiliza para marcar los bloques.\n",
    "- Por eso, los espacios son importantes.\n",
    "- Hace el código más legíble.\n",
    "- Se usan cuatro espacios por nivel de anidado.\n",
    "- Los editores se configuran para que el tabulador sean 4 espacios (Jupyter por defecto)."
   ]
  },
  {
   "cell_type": "markdown",
   "metadata": {},
   "source": [
    "## Conditionals"
   ]
  },
  {
   "cell_type": "markdown",
   "metadata": {},
   "source": [
    "### If"
   ]
  },
  {
   "cell_type": "code",
   "execution_count": null,
   "metadata": {},
   "outputs": [],
   "source": [
    "a = 1\n",
    "if a > 2:\n",
    "    print('correcto')"
   ]
  },
  {
   "cell_type": "markdown",
   "metadata": {},
   "source": [
    "### else"
   ]
  },
  {
   "cell_type": "code",
   "execution_count": null,
   "metadata": {},
   "outputs": [],
   "source": [
    "a = 3\n",
    "if a > 2:\n",
    "    print('correcto')\n",
    "else:\n",
    "    print('incorrector')"
   ]
  },
  {
   "cell_type": "markdown",
   "metadata": {},
   "source": [
    "### elif"
   ]
  },
  {
   "cell_type": "code",
   "execution_count": null,
   "metadata": {},
   "outputs": [],
   "source": [
    "a = 2\n",
    "if a > 5:\n",
    "    print('correcto')\n",
    "elif a > 2:\n",
    "    print('estamos en el elif')\n",
    "else:\n",
    "    print('incorrector')"
   ]
  },
  {
   "cell_type": "markdown",
   "metadata": {},
   "source": [
    "- Podemos anidar condicionales (en general, las anidaciones se intentan evitar)"
   ]
  },
  {
   "cell_type": "code",
   "execution_count": null,
   "metadata": {},
   "outputs": [],
   "source": [
    "a = 5\n",
    "b = 10\n",
    "if a > 2:\n",
    "    if b < 5:\n",
    "        print(1)\n",
    "    else:\n",
    "        print(2)\n",
    "else:\n",
    "    print(3)"
   ]
  },
  {
   "cell_type": "markdown",
   "metadata": {},
   "source": [
    "## Loops"
   ]
  },
  {
   "cell_type": "markdown",
   "metadata": {},
   "source": [
    "- Para iterar sobre un conjunto de enteros usamos la función `range()`"
   ]
  },
  {
   "cell_type": "code",
   "execution_count": null,
   "metadata": {},
   "outputs": [],
   "source": [
    "total = 0\n",
    "for i in range(5):\n",
    "    total += i\n",
    "total"
   ]
  },
  {
   "cell_type": "markdown",
   "metadata": {},
   "source": [
    "- Podemos iterar sobre listas"
   ]
  },
  {
   "cell_type": "code",
   "execution_count": null,
   "metadata": {},
   "outputs": [],
   "source": [
    "list_names = ['Juan', 'Fer', 'Paco']\n",
    "for item in list_names:\n",
    "    print(item)"
   ]
  },
  {
   "cell_type": "code",
   "execution_count": null,
   "metadata": {},
   "outputs": [],
   "source": [
    "list_of_lists = [[1, 2, 3], [4, 5, 6], [7, 8, 9]]\n",
    "for list_ in list_of_lists:\n",
    "    print(list_)"
   ]
  },
  {
   "cell_type": "markdown",
   "metadata": {},
   "source": [
    "- Unpacking del iterador"
   ]
  },
  {
   "cell_type": "code",
   "execution_count": null,
   "metadata": {},
   "outputs": [],
   "source": [
    "list_of_lists = [[1, 2, 3], [4, 5, 6], [7, 8, 9]]\n",
    "for a, b, c in list_of_lists:\n",
    "    print(a)"
   ]
  },
  {
   "cell_type": "markdown",
   "metadata": {},
   "source": [
    "- También se pueden anidar los bucles `for` (se intenta evitar).\n",
    "- Existen muchas funciones para ayudar en la iteración.\n",
    "- Por ejemplo: `enumerate()`, `zip()`, `sorted()`, `reversed()`"
   ]
  },
  {
   "cell_type": "markdown",
   "metadata": {},
   "source": [
    "- `enumerate()`"
   ]
  },
  {
   "cell_type": "code",
   "execution_count": null,
   "metadata": {},
   "outputs": [],
   "source": [
    "lista = ['lluvia', 'sol', 'niebla']\n",
    "for i, name in enumerate(lista):\n",
    "    print(f\"Número {i}: {name}\")"
   ]
  },
  {
   "cell_type": "markdown",
   "metadata": {},
   "source": [
    "- `zip()`"
   ]
  },
  {
   "cell_type": "code",
   "execution_count": null,
   "metadata": {},
   "outputs": [],
   "source": [
    "lista = ['lluvia', 'sol', 'niebla']\n",
    "lista_dias = ['ayer', 'hoy', 'mañana']\n",
    "for dia, tiempo in zip(lista_dias, lista):\n",
    "    print(f\"Día {dia}: {tiempo}\")"
   ]
  },
  {
   "cell_type": "code",
   "execution_count": null,
   "metadata": {},
   "outputs": [],
   "source": [
    "a = zip(lista_dias, lista)"
   ]
  },
  {
   "cell_type": "code",
   "execution_count": null,
   "metadata": {},
   "outputs": [],
   "source": [
    "type(a)"
   ]
  },
  {
   "cell_type": "code",
   "execution_count": null,
   "metadata": {},
   "outputs": [],
   "source": [
    "b = list(a)\n",
    "b"
   ]
  },
  {
   "cell_type": "markdown",
   "metadata": {},
   "source": [
    "- Para deshacer la operación, se hace también con `zip()`"
   ]
  },
  {
   "cell_type": "code",
   "execution_count": null,
   "metadata": {},
   "outputs": [],
   "source": [
    "b"
   ]
  },
  {
   "cell_type": "code",
   "execution_count": null,
   "metadata": {},
   "outputs": [],
   "source": [
    "lista_1, lista_2 = list(zip(*b))"
   ]
  },
  {
   "cell_type": "code",
   "execution_count": null,
   "metadata": {},
   "outputs": [],
   "source": [
    "lista_1"
   ]
  },
  {
   "cell_type": "code",
   "execution_count": null,
   "metadata": {},
   "outputs": [],
   "source": [
    "lista_2"
   ]
  },
  {
   "cell_type": "markdown",
   "metadata": {},
   "source": [
    "## While"
   ]
  },
  {
   "cell_type": "code",
   "execution_count": null,
   "metadata": {},
   "outputs": [],
   "source": [
    "i = 1\n",
    "while i < 3:\n",
    "    print(i)\n",
    "    i = i + 1\n",
    "print('Bye')"
   ]
  },
  {
   "cell_type": "markdown",
   "metadata": {},
   "source": [
    "## Break"
   ]
  },
  {
   "cell_type": "markdown",
   "metadata": {},
   "source": [
    "- Podemos terminar un bucle si se da cierta condición"
   ]
  },
  {
   "cell_type": "code",
   "execution_count": null,
   "metadata": {},
   "outputs": [],
   "source": [
    "for i in range(100):\n",
    "    print(i)\n",
    "    if i >= 7:\n",
    "        break"
   ]
  },
  {
   "cell_type": "markdown",
   "metadata": {},
   "source": [
    "## Continue\n",
    "- Continúa con el bucle, pero la iteración actual no se termina."
   ]
  },
  {
   "cell_type": "code",
   "execution_count": null,
   "metadata": {},
   "outputs": [],
   "source": [
    "for i in range(10):\n",
    "    if i > 4:\n",
    "        print(\"Ignored\", i)\n",
    "        continue\n",
    "    print(\"Processed\", i)"
   ]
  },
  {
   "cell_type": "markdown",
   "metadata": {},
   "source": [
    "## map, filter, reduce"
   ]
  },
  {
   "cell_type": "markdown",
   "metadata": {},
   "source": [
    "- El objteivo de los bucles en la mayoría de los casos es uno de los siguientes:\n",
    "    - `map` -> aplicar una transformación a una serie de valores y almacenar el resultado\n",
    "    - `filter` -> filtrar elementos aplicando condicionales\n",
    "    - `reduce` -> realizar una operación de agregación (asociativa y conmutativa)\n",
    "- Estas funciones:\n",
    "    - Son más eficientes\n",
    "    - Mejoran la legibilidad del código\n",
    "    - Son los pilares del paradigma de computación de **Spark**"
   ]
  },
  {
   "cell_type": "code",
   "execution_count": null,
   "metadata": {},
   "outputs": [],
   "source": [
    "import math"
   ]
  },
  {
   "cell_type": "markdown",
   "metadata": {},
   "source": [
    "- Calcular el seno de los números del 1 al 100"
   ]
  },
  {
   "cell_type": "markdown",
   "metadata": {},
   "source": [
    "Podemos hacerlo con un bucle for"
   ]
  },
  {
   "cell_type": "code",
   "execution_count": null,
   "metadata": {},
   "outputs": [],
   "source": [
    "lista = []\n",
    "for i in range(10+1):\n",
    "    lista.append(math.sin(i))\n",
    "lista"
   ]
  },
  {
   "cell_type": "markdown",
   "metadata": {},
   "source": [
    "O directamente con la función `map()`"
   ]
  },
  {
   "cell_type": "code",
   "execution_count": null,
   "metadata": {},
   "outputs": [],
   "source": [
    "lista_map = map(math.sin, range(10+1))"
   ]
  },
  {
   "cell_type": "code",
   "execution_count": null,
   "metadata": {},
   "outputs": [],
   "source": [
    "lista_map_l = list(lista_map)"
   ]
  },
  {
   "cell_type": "code",
   "execution_count": null,
   "metadata": {},
   "outputs": [],
   "source": [
    "list(lista_map)"
   ]
  },
  {
   "cell_type": "code",
   "execution_count": null,
   "metadata": {},
   "outputs": [],
   "source": [
    "lista_map_l"
   ]
  },
  {
   "cell_type": "code",
   "execution_count": null,
   "metadata": {},
   "outputs": [],
   "source": [
    "type(lista_map)"
   ]
  },
  {
   "cell_type": "code",
   "execution_count": null,
   "metadata": {},
   "outputs": [],
   "source": [
    "dir(lista_map)"
   ]
  },
  {
   "cell_type": "code",
   "execution_count": null,
   "metadata": {},
   "outputs": [],
   "source": [
    "lista == lista_map_l"
   ]
  },
  {
   "cell_type": "markdown",
   "metadata": {},
   "source": [
    "- Calcular el logaritmo de los números divisibles por 7 hasta 100"
   ]
  },
  {
   "cell_type": "markdown",
   "metadata": {},
   "source": [
    "Con un bucle `for` y un `if`"
   ]
  },
  {
   "cell_type": "code",
   "execution_count": null,
   "metadata": {},
   "outputs": [],
   "source": [
    "lista = []\n",
    "for i in range(1, 100+1):\n",
    "    if i%7 == 0:\n",
    "        lista.append(math.log(i))\n",
    "lista"
   ]
  },
  {
   "cell_type": "markdown",
   "metadata": {},
   "source": [
    "Usando `filter()` y `map()`"
   ]
  },
  {
   "cell_type": "code",
   "execution_count": null,
   "metadata": {},
   "outputs": [],
   "source": [
    "lista_f = filter(lambda x: x%7==0, range(1, 100+1))\n",
    "lista_map = map(math.log, lista_f)\n",
    "lista_map_list = list(lista_map)"
   ]
  },
  {
   "cell_type": "code",
   "execution_count": null,
   "metadata": {},
   "outputs": [],
   "source": [
    "lista_map_list"
   ]
  },
  {
   "cell_type": "code",
   "execution_count": null,
   "metadata": {},
   "outputs": [],
   "source": [
    "lista == lista_map_list"
   ]
  },
  {
   "cell_type": "markdown",
   "metadata": {},
   "source": [
    "- Calcular la tangente de los números divisibles por 13 hasta 100 y sumar el resultado total"
   ]
  },
  {
   "cell_type": "markdown",
   "metadata": {},
   "source": [
    "Con dos bucles `for`, un `if` y almacenando el resultado"
   ]
  },
  {
   "cell_type": "code",
   "execution_count": null,
   "metadata": {},
   "outputs": [],
   "source": [
    "lista = []\n",
    "for i in range(100):\n",
    "    if i%13 == 0:\n",
    "        lista.append(math.tan(i))\n",
    "resultado = sum(lista)"
   ]
  },
  {
   "cell_type": "markdown",
   "metadata": {},
   "source": [
    "Usando `filter()`, `map()` y `reduce()`"
   ]
  },
  {
   "cell_type": "code",
   "execution_count": null,
   "metadata": {},
   "outputs": [],
   "source": [
    "from functools import reduce"
   ]
  },
  {
   "cell_type": "code",
   "execution_count": null,
   "metadata": {},
   "outputs": [],
   "source": [
    "lista_f = filter(lambda x: x%13 == 0, range(100))\n",
    "lista_map = map(math.tan, lista_f)\n",
    "resultado_reduce = reduce(lambda a, b: a + b, lista_map)"
   ]
  },
  {
   "cell_type": "code",
   "execution_count": null,
   "metadata": {},
   "outputs": [],
   "source": [
    "resultado_reduce"
   ]
  },
  {
   "cell_type": "code",
   "execution_count": null,
   "metadata": {},
   "outputs": [],
   "source": [
    "resultado == resultado_reduce"
   ]
  },
  {
   "cell_type": "markdown",
   "metadata": {},
   "source": [
    "- Comparemos la eficiencia en tiempo"
   ]
  },
  {
   "cell_type": "code",
   "execution_count": null,
   "metadata": {},
   "outputs": [],
   "source": [
    "%%timeit\n",
    "lista = []\n",
    "for i in range(10**6):\n",
    "    if i%13 == 0:\n",
    "        lista.append(math.tan(i))\n",
    "resultado = sum(lista)"
   ]
  },
  {
   "cell_type": "code",
   "execution_count": null,
   "metadata": {},
   "outputs": [],
   "source": [
    "%%timeit\n",
    "lista_f = filter(lambda x: x%13 == 0, range(10**6))\n",
    "lista_map = map(math.tan, lista_f)\n",
    "resultado_reduce = reduce(lambda a, b: a + b, lista_map)"
   ]
  },
  {
   "cell_type": "markdown",
   "metadata": {},
   "source": [
    "- No sólo importa la efciencia en tiempo, sino también la eficiencia en espacio"
   ]
  },
  {
   "cell_type": "code",
   "execution_count": null,
   "metadata": {},
   "outputs": [],
   "source": [
    "import math"
   ]
  },
  {
   "cell_type": "code",
   "execution_count": null,
   "metadata": {},
   "outputs": [],
   "source": [
    "%%time\n",
    "lista = []\n",
    "for i in range(10**8):\n",
    "    if i%2 == 0:\n",
    "        lista.append(math.tan(i))\n",
    "resultado = sum(lista)\n",
    "del(lista)"
   ]
  },
  {
   "cell_type": "code",
   "execution_count": null,
   "metadata": {},
   "outputs": [],
   "source": [
    "import math\n",
    "from functools import reduce"
   ]
  },
  {
   "cell_type": "code",
   "execution_count": null,
   "metadata": {},
   "outputs": [],
   "source": [
    "%%time\n",
    "lista_f = filter(lambda x: x%2 == 0, range(10**8))\n",
    "lista_map = map(math.tan, lista_f)\n",
    "resultado_reduce = reduce(lambda a, b: a + b, lista_map)"
   ]
  },
  {
   "cell_type": "code",
   "execution_count": null,
   "metadata": {},
   "outputs": [],
   "source": [
    "resultado == resultado_reduce"
   ]
  },
  {
   "cell_type": "markdown",
   "metadata": {},
   "source": [
    "### Extra\n",
    "- Para liberar la memoria RAM podemos eliminar las variables que estemos usando o reiniciar el kernel\n",
    "- En caso de que ejecutemos el programa directamente desde la línea de comandos, al finalizar se borran todas las variables y se libera la RAM"
   ]
  },
  {
   "cell_type": "code",
   "execution_count": null,
   "metadata": {},
   "outputs": [],
   "source": [
    "%%file tmp/test.py\n",
    "import math\n",
    "lista = []\n",
    "for i in range(10**8):\n",
    "    if i%2 == 0:\n",
    "        lista.append(math.tan(i))\n",
    "resultado = sum(lista)"
   ]
  },
  {
   "cell_type": "markdown",
   "metadata": {},
   "source": [
    "- No es el caso si lo ejecutamos desde una celda, ya que en ese caso las variables sí quedan almacenadas en el kernel."
   ]
  },
  {
   "cell_type": "code",
   "execution_count": null,
   "metadata": {},
   "outputs": [],
   "source": [
    "%run tmp/test.py"
   ]
  },
  {
   "cell_type": "code",
   "execution_count": null,
   "metadata": {},
   "outputs": [],
   "source": [
    "lista[:5]"
   ]
  },
  {
   "cell_type": "code",
   "execution_count": null,
   "metadata": {},
   "outputs": [],
   "source": [
    "%whos"
   ]
  },
  {
   "cell_type": "code",
   "execution_count": null,
   "metadata": {},
   "outputs": [],
   "source": [
    "%who_ls"
   ]
  },
  {
   "cell_type": "code",
   "execution_count": null,
   "metadata": {},
   "outputs": [],
   "source": [
    "import sys\n",
    "variables = %who_ls\n",
    "sizes = {var: sys.getsizeof(eval(var)) for var in variables}\n",
    "for var, s in sizes.items():\n",
    "    print(f'{s/2**20:12.2f} Mb -> {var}')"
   ]
  },
  {
   "cell_type": "code",
   "execution_count": null,
   "metadata": {},
   "outputs": [],
   "source": [
    "del(lista)"
   ]
  },
  {
   "cell_type": "markdown",
   "metadata": {},
   "source": [
    "## Exceptions"
   ]
  },
  {
   "cell_type": "markdown",
   "metadata": {},
   "source": [
    "- Los errores en Python se generan en forma de excepciones.\n",
    "- Excepciones -> objetos en los que se incluye tanto el detalle del error, como la pila de llamadas que han generado dicho error.\n",
    "- Si las excepciones no son capturadas el código terminará su ejecución de forma repentina.\n",
    "- Hay muchos tipos de excepciones (se pueden consultar [aquí](https://docs.python.org/3/library/exceptions.html#bltin-exceptions))\n",
    "- También podemos crear nuestras propias excepciones"
   ]
  },
  {
   "cell_type": "code",
   "execution_count": null,
   "metadata": {},
   "outputs": [],
   "source": [
    "a = [1, 2, 3]\n",
    "a[3]"
   ]
  },
  {
   "cell_type": "markdown",
   "metadata": {},
   "source": [
    "- Las excepciones se 'capturan' con los comandos `try`, `except` y `finally`"
   ]
  },
  {
   "cell_type": "markdown",
   "metadata": {},
   "source": [
    "- Podemos capturar cualquier excepción"
   ]
  },
  {
   "cell_type": "code",
   "execution_count": null,
   "metadata": {},
   "outputs": [],
   "source": [
    "try:\n",
    "    a[3]\n",
    "except:\n",
    "    print('No se puede')"
   ]
  },
  {
   "cell_type": "markdown",
   "metadata": {},
   "source": [
    "- O capturar una excepción específica"
   ]
  },
  {
   "cell_type": "code",
   "execution_count": null,
   "metadata": {},
   "outputs": [],
   "source": [
    "try:\n",
    "    a[3]\n",
    "except IndexError:\n",
    "    print('No se puede')"
   ]
  },
  {
   "cell_type": "code",
   "execution_count": null,
   "metadata": {},
   "outputs": [],
   "source": [
    "try:\n",
    "    a[3]\n",
    "except NameError:\n",
    "    print('No se puede')"
   ]
  },
  {
   "cell_type": "code",
   "execution_count": null,
   "metadata": {},
   "outputs": [],
   "source": [
    "dir(IndexError())"
   ]
  },
  {
   "cell_type": "code",
   "execution_count": null,
   "metadata": {},
   "outputs": [],
   "source": [
    "try:\n",
    "    a[3]\n",
    "except IndexError as e:\n",
    "    print(e.args)"
   ]
  },
  {
   "cell_type": "markdown",
   "metadata": {},
   "source": [
    "- Podemos lanzar excepciones nosotros mismos"
   ]
  },
  {
   "cell_type": "code",
   "execution_count": null,
   "metadata": {},
   "outputs": [],
   "source": [
    "count = 0\n",
    "while True:\n",
    "    print(\"Looping\")\n",
    "    count = count + 1\n",
    "    if count > 3:\n",
    "        raise Exception(\"Mi Error\")"
   ]
  },
  {
   "cell_type": "markdown",
   "metadata": {},
   "source": [
    "- Las excepciones se propagan hacia arriba, y se pueden capturar en niveles superiores del código"
   ]
  },
  {
   "cell_type": "code",
   "execution_count": null,
   "metadata": {},
   "outputs": [],
   "source": [
    "try:\n",
    "    count = 0\n",
    "    while True:\n",
    "        print(\"Looping\")\n",
    "        count = count + 1\n",
    "        if count > 3:\n",
    "            raise Exception(\"Mi error\")\n",
    "except Exception as e:\n",
    "    print(\"Caught exception:\", e)"
   ]
  },
  {
   "cell_type": "markdown",
   "metadata": {},
   "source": [
    "## Tracebacks"
   ]
  },
  {
   "cell_type": "markdown",
   "metadata": {},
   "source": [
    "- **Tracebacks** -> Pilas de llamadas que se muestran cuando se levanta una excepción\n",
    "- Interpretar correctamente los tracebacks\n",
    "- Tomarse un tiempo para leerlos y sobre todo aprender!\n",
    "- Los tracebacks muestran toda la historia de llamadas que ha ocasionado el error.\n",
    "    - **Código nuestro**: Parte de esa historia será código que hayamos escrito nosotros.\n",
    "    - **Código de módulos**: Puede que haya parte de código de los propios módulos que estemos usando en nuestro código.\n",
    "    - **Código inaccesible**: Cuando usamos módulos que a su vez tienen implementaciones en otros lenguajes como C, a esa parte del código no tendremos acceso desde Python."
   ]
  },
  {
   "cell_type": "code",
   "execution_count": null,
   "metadata": {},
   "outputs": [],
   "source": [
    "import math"
   ]
  },
  {
   "cell_type": "code",
   "execution_count": null,
   "metadata": {},
   "outputs": [],
   "source": [
    "math.sqrt(-5)"
   ]
  },
  {
   "cell_type": "code",
   "execution_count": null,
   "metadata": {},
   "outputs": [],
   "source": [
    "import numpy as np\n",
    "a = np.array([None])\n",
    "a.var(ddof=1)"
   ]
  },
  {
   "cell_type": "markdown",
   "metadata": {},
   "source": [
    "## Debugger"
   ]
  },
  {
   "cell_type": "markdown",
   "metadata": {},
   "source": [
    "- Python tiene una herramienta para debuguear código -> `pdb`\n",
    "- `pdb.set_trace()` -> Línea donde se abrirá el debugger\n",
    "- Algunos de los comandos más usados son:\n",
    "    - `l`, `l .` -> Lista la posición donde nos encontramos\n",
    "    - `ll` -> Muestra el código completo\n",
    "    - `n` -> Ejecuta la siguiente línea de código\n",
    "    - `s` -> Ejecuta la siguiene línea metiéndose dentro de las funciones que haya definidas\n",
    "    - `q` -> Abortar\n",
    "    - `c` -> Continuar\n",
    "    - `r` -> Continuar hasta el siguiente return\n",
    "    - `a` -> Imprime los argumentos de la función actual\n",
    "    - `retval` -> Imprime el valor devuelto por el último return\n",
    "    - `unt` -> Ejecuta hasta la línea indicada\n",
    "    - `p` -> Impime la expresión dada\n",
    "    - `pp` -> Imprime en bonito la expresión dada\n",
    "    - `interact` -> Abre un entorno interactivo con el scope global y local"
   ]
  },
  {
   "cell_type": "code",
   "execution_count": null,
   "metadata": {},
   "outputs": [],
   "source": [
    "import pdb"
   ]
  },
  {
   "cell_type": "code",
   "execution_count": null,
   "metadata": {},
   "outputs": [],
   "source": [
    "def fun(x):\n",
    "    res = x**2\n",
    "    return res"
   ]
  },
  {
   "cell_type": "code",
   "execution_count": null,
   "metadata": {},
   "outputs": [],
   "source": [
    "lista = []\n",
    "if not lista:\n",
    "    pdb.set_trace()\n",
    "    for i in range(10**5):\n",
    "        if i%2 == 0:\n",
    "            lista.append(fun(i))\n",
    "resultado = sum(lista)\n",
    "print(resultado)"
   ]
  },
  {
   "cell_type": "markdown",
   "metadata": {},
   "source": [
    "- Podemos usar el debugger de IPython `ipdb`\n",
    "- Se instala de la siguiente forma\n",
    "    - `conda install -c conda-forge ipdb`\n",
    "- Igual pero más bonito"
   ]
  },
  {
   "cell_type": "code",
   "execution_count": null,
   "metadata": {},
   "outputs": [],
   "source": [
    "import ipdb"
   ]
  },
  {
   "cell_type": "code",
   "execution_count": null,
   "metadata": {},
   "outputs": [],
   "source": [
    "lista = []\n",
    "if not lista:\n",
    "    ipdb.set_trace()\n",
    "    for i in range(10**5):\n",
    "        if i%2 == 0:\n",
    "            lista.append(fun(i))\n",
    "resultado = sum(lista)\n",
    "print(resultado)"
   ]
  },
  {
   "cell_type": "code",
   "execution_count": null,
   "metadata": {},
   "outputs": [],
   "source": []
  }
 ],
 "metadata": {
  "kernelspec": {
   "display_name": "Python 3",
   "language": "python",
   "name": "python3"
  },
  "language_info": {
   "codemirror_mode": {
    "name": "ipython",
    "version": 3
   },
   "file_extension": ".py",
   "mimetype": "text/x-python",
   "name": "python",
   "nbconvert_exporter": "python",
   "pygments_lexer": "ipython3",
   "version": "3.8.5"
  }
 },
 "nbformat": 4,
 "nbformat_minor": 4
}
