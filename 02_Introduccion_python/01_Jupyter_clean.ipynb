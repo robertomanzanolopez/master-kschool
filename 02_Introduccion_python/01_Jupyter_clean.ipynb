{
 "cells": [
  {
   "cell_type": "markdown",
   "metadata": {},
   "source": [
    "# Jupyter Notebooks"
   ]
  },
  {
   "cell_type": "markdown",
   "metadata": {},
   "source": [
    "- Documentos `.json`\n",
    "- Celdas/Cells -> Unidades básicas de código/texto\n",
    "    - **Tipo código (Y)**\n",
    "    - **Tipo texto (M)**\n",
    "    - **Tipo raw (R)**\n",
    "- A cada notebook se le asocia un **kernel** independiente.\n",
    "- Los kernels pueden interrumpirse, reiniciarse y pararse.\n",
    "- Podemos tener varios kernels ejecutándose en paralelo.\n",
    "- Hay kernels para varios lenguajes de programación."
   ]
  },
  {
   "cell_type": "markdown",
   "metadata": {},
   "source": [
    "## Barside"
   ]
  },
  {
   "cell_type": "markdown",
   "metadata": {},
   "source": [
    "- Explorador de archivos\n",
    "- Kernels/Terminals -> Shutdown kernels\n",
    "- Acciones/commandos (keyboard shortcuts)\n",
    "- Herramientas\n",
    "- Pestañas abiertas\n",
    "- Plugins"
   ]
  },
  {
   "cell_type": "markdown",
   "metadata": {},
   "source": [
    "## Comandos útiles"
   ]
  },
  {
   "cell_type": "markdown",
   "metadata": {},
   "source": [
    "- Command Mode:\n",
    "|Shortcut| Desciption|\n",
    "|-|-|\n",
    "|shift + enter| ejecuta la celda, selecciona celda siguiente|\n",
    "|ctrl + enter| ejecuta la celda|\n",
    "|alt + enter| ejecuta la celda, inserta una nueva celda debajo|\n",
    "|A |inserta una celda encima (above) de la actual|\n",
    "|B |inserta una celda abajo (below) de la actual|\n",
    "|C |copia la celda |\n",
    "|V |pega la celda|\n",
    "|D , D |borra la celda seleccionada|\n",
    "|Z|deshace última acción de celda|\n",
    "|shift + M | junta las celdas seleccionadas|\n",
    "|I , I |interrupt kernel|\n",
    "|0 , 0 |restart kernel (with dialog)|\n",
    "|Y |cambia la celda a modo código|\n",
    "|M |cambia la celda a modo markdown (texto)|\n",
    "|R |cambia la celda a modo raw|\n",
    "- Edit Mode:\n",
    "|Shortcut| Desciption|\n",
    "|-|-|\n",
    "|tab| autocompletado o indentación|\n",
    "|shift + tab| muestra ayuda sobre cualquier función|\n",
    "|ctrl + shift + - | divide la celda|"
   ]
  },
  {
   "cell_type": "code",
   "execution_count": null,
   "metadata": {},
   "outputs": [],
   "source": [
    "! pwd"
   ]
  },
  {
   "cell_type": "markdown",
   "metadata": {},
   "source": [
    "## Código"
   ]
  },
  {
   "cell_type": "markdown",
   "metadata": {},
   "source": [
    "- Cada celda de código se puede ejecutar de forma independiente. \n",
    "- Para ejecutar una celda:\n",
    "    - Pulsa el botón `\"Run\"` situado arriba\n",
    "    - Pusa `Ctrl + Enter` (se quedará seleccionada la celda en la que te encuentres)\n",
    "    - Pulsa `Shift + Enter` (se ejecutará y pasará a seleccionarse la siguiente celda)\n",
    "- `[ ]:` -> Una celda sin ejecutar\n",
    "- `[*]:` -> Celda ejecutándose\n",
    "- `[6]` -> Celda ejecutada\n",
    "- `[6]` -> Si hay output, también aparece en el output el número asociado a la celda\n",
    "- Si una celda se ejecuta de nuevo, el número asociado cambiará."
   ]
  },
  {
   "cell_type": "code",
   "execution_count": null,
   "metadata": {},
   "outputs": [],
   "source": [
    "# Comentarios\n",
    "2+2"
   ]
  },
  {
   "cell_type": "markdown",
   "metadata": {},
   "source": [
    "La celda sólo devuelve el resultado de la última línea"
   ]
  },
  {
   "cell_type": "code",
   "execution_count": null,
   "metadata": {},
   "outputs": [],
   "source": [
    "2+2\n",
    "3+5"
   ]
  },
  {
   "cell_type": "markdown",
   "metadata": {},
   "source": [
    "Esto no arroja nada ya que no hay ningún resultado que mostrar"
   ]
  },
  {
   "cell_type": "code",
   "execution_count": null,
   "metadata": {},
   "outputs": [],
   "source": [
    "a = 2+2 "
   ]
  },
  {
   "cell_type": "markdown",
   "metadata": {},
   "source": [
    "Podemos imprimir un resultado explícitamente"
   ]
  },
  {
   "cell_type": "code",
   "execution_count": null,
   "metadata": {},
   "outputs": [],
   "source": [
    "a"
   ]
  },
  {
   "cell_type": "code",
   "execution_count": null,
   "metadata": {},
   "outputs": [],
   "source": [
    "print(a)\n",
    "2*10"
   ]
  },
  {
   "cell_type": "markdown",
   "metadata": {},
   "source": [
    "Variables accesibles en el notebook"
   ]
  },
  {
   "cell_type": "code",
   "execution_count": null,
   "metadata": {},
   "outputs": [],
   "source": [
    "dir()"
   ]
  },
  {
   "cell_type": "markdown",
   "metadata": {},
   "source": [
    "Las variables `_1`, `_2`, ... contienem los resultados de las celdas correspondientes.\n",
    "\n",
    "Las variables `_i1`, `_i2` continen los inputs de las celdas correspondientes.\n",
    "\n",
    "(iPython)"
   ]
  },
  {
   "cell_type": "code",
   "execution_count": null,
   "metadata": {},
   "outputs": [],
   "source": [
    "_8"
   ]
  },
  {
   "cell_type": "code",
   "execution_count": null,
   "metadata": {},
   "outputs": [],
   "source": [
    "_i8"
   ]
  },
  {
   "cell_type": "code",
   "execution_count": null,
   "metadata": {},
   "outputs": [],
   "source": [
    "eval(_i4)"
   ]
  },
  {
   "cell_type": "markdown",
   "metadata": {},
   "source": [
    "## Markdown"
   ]
  },
  {
   "cell_type": "markdown",
   "metadata": {},
   "source": [
    "Podemos dar formato al texto usando el lenguaje **Markdown**. Por ejemplo:\n",
    "\n",
    "*cursiva*, **negrita**, **_ambas_**, ~~tachado~~, `citas`\n",
    "- Listas\n",
    "    - Listas anidadas\n",
    "        - Otra anidación\n",
    "1. Listas numeradas\n",
    "    1. Anidación\n",
    "        1. Otro nivel de anidación\n",
    "\n",
    "### Títulos\n",
    "#### Subtítulo\n",
    "##### Otro subtítulo\n",
    "\n",
    "Links:\n",
    "Si haces click [aquí](https://github.com/adam-p/markdown-here/wiki/Markdown-Cheatsheet) puedes ver una cheatsheet con formatos de Markdown.\n",
    "\n",
    "Código python:\n",
    "```python\n",
    "a = 2+2\n",
    "```\n",
    "\n",
    "También podemos escribir fórmulas usando $\\LaTeX$:\n",
    "\n",
    "$$\\sum_{n=1}^\\infty{\\frac{1}{n^2}} \\, = \\, \\frac{\\pi^2}{6}$$\n",
    "\n",
    "O si queremos insertar fórmulas directamente en el texto: $e^{i\\pi}+1\\,=\\,0$.\n",
    "\n",
    "Se pueden insertar figuras:\n",
    "<center>\n",
    "<img src=\"pictures/python.png\"  alt=\"drawing\" width=\"300\"/>\n",
    "</center>"
   ]
  },
  {
   "cell_type": "markdown",
   "metadata": {},
   "source": [
    "##  Shell"
   ]
  },
  {
   "cell_type": "markdown",
   "metadata": {},
   "source": [
    "- Podemos ejecutar comandos de shell con `!` directamente desde Jupyter.\n",
    "- No muestra la misma información que devuelve la terminal.\n",
    "- No es aconsejable, mejor directamente desde la terminal."
   ]
  },
  {
   "cell_type": "code",
   "execution_count": null,
   "metadata": {},
   "outputs": [],
   "source": [
    "path =\"/Users/aalmagro/Documents/KSchool/Streaming_002/IntroPython\""
   ]
  },
  {
   "cell_type": "code",
   "execution_count": null,
   "metadata": {},
   "outputs": [],
   "source": [
    "!ls"
   ]
  },
  {
   "cell_type": "code",
   "execution_count": null,
   "metadata": {},
   "outputs": [],
   "source": [
    "!pwd"
   ]
  },
  {
   "cell_type": "code",
   "execution_count": null,
   "metadata": {},
   "outputs": [],
   "source": [
    "!ls {path}"
   ]
  },
  {
   "cell_type": "code",
   "execution_count": null,
   "metadata": {},
   "outputs": [],
   "source": [
    "!ls /Users/aalmagro/Documents/KSchool/Streaming_002/IntroPython"
   ]
  },
  {
   "cell_type": "markdown",
   "metadata": {},
   "source": [
    "## Visualización"
   ]
  },
  {
   "cell_type": "markdown",
   "metadata": {},
   "source": [
    "- Podemos visualizar varios notebooks al mismo tiempo ya que la pantalla puede dividirse con libertad.\n",
    "- Para ello podemos clickear en una pestaña y arrastrarla a la zona de la pantalla donde queremos verla."
   ]
  },
  {
   "cell_type": "markdown",
   "metadata": {},
   "source": [
    "## Exportar"
   ]
  },
  {
   "cell_type": "markdown",
   "metadata": {},
   "source": [
    "- Podemos exportar los Notebooks en varios formatos\n",
    "- File -> Export notebook as...\n",
    "- Por ejemplo:\n",
    "    - **HTML**\n",
    "    - **PDF**\n",
    "    - $\\LaTeX$\n",
    "    - **Markdown**\n",
    "- En estos formatos no podremos ejecutar código, pero sí observar los resultados que hayan sido ejecutados previamente."
   ]
  },
  {
   "cell_type": "markdown",
   "metadata": {},
   "source": [
    "## Ventajas de los Notebooks\n",
    "- Muy útiles para exploración de datos, visualización de datos, investigación en un sentido amplio.\n",
    "- En general también para comunicar resultados: clases, congresos, demostraciones, ..."
   ]
  },
  {
   "cell_type": "markdown",
   "metadata": {},
   "source": [
    "## Desventajas de los Notebooks\n",
    "- No son en general una herramienta para entornos de producción.\n",
    "- Para proyectos complejos, hay editores con mejores herramientas para desarroladores (VS Code/PyCharm)."
   ]
  },
  {
   "cell_type": "markdown",
   "metadata": {},
   "source": [
    "## Caveats\n",
    "- Jupyter es una interfaz entre el shell de Python y el usuario, en muy raras ocasiones puede dar errores sutiles cuando se ejecutan módulos o funciones que no darían error ejecutandolos directamente y viceversa.\n",
    "- El orden de ejecución de las celdas es importante."
   ]
  },
  {
   "cell_type": "code",
   "execution_count": null,
   "metadata": {},
   "outputs": [],
   "source": [
    " a = 2"
   ]
  },
  {
   "cell_type": "code",
   "execution_count": null,
   "metadata": {},
   "outputs": [],
   "source": [
    "a + 2"
   ]
  },
  {
   "cell_type": "code",
   "execution_count": null,
   "metadata": {},
   "outputs": [],
   "source": [
    "a = 5"
   ]
  },
  {
   "cell_type": "markdown",
   "metadata": {},
   "source": [
    "## Magic functions"
   ]
  },
  {
   "cell_type": "markdown",
   "metadata": {},
   "source": [
    "- IPython posee ciertas funciones **mágicas**\n",
    "- Se distinguen dos tipos:\n",
    "    - Funciones mágicas de línea (empiezan por `%`) -> El argumento es el resto de la línea\n",
    "    - Funciones mágicas de celda (empiezan por `%%`) -> El argumento es el resto de la celda"
   ]
  },
  {
   "cell_type": "markdown",
   "metadata": {},
   "source": [
    "- Estas son las funciones mágicas de las que disponemos"
   ]
  },
  {
   "cell_type": "code",
   "execution_count": null,
   "metadata": {},
   "outputs": [],
   "source": [
    "%lsmagic"
   ]
  },
  {
   "cell_type": "markdown",
   "metadata": {},
   "source": [
    "- Las más útiles:\n",
    "    - `%%timeit` -> Mide el tiempo de ejecución haciendo varias repeticiones\n",
    "    - `%%time` -> Mide el tiempo de ejecución\n",
    "    - `%%file` -> Escribe el contenido de la celda en un archivo .py\n",
    "    - `%%writefile` -> Lo mismo que file.\n",
    "    - `%run` -> Ejecuta un script de Python como si estuvieramos fuera de Python\n",
    "    - `%pwd` -> Devuelve el directorio de trabajo actual\n",
    "    - `%cd` -> Cambia el directorio de trabajo\n",
    "    - `%precision` -> Precisión con la que se muetran los resultados numéricos\n",
    "    - `%who` -> Imprime una lista de las variables interactivas\n",
    "    - `%who_ls` -> Igual que %who pero en forma de lista\n",
    "    - `%whos` -> Igual que who pero devuelve más información\n",
    "    - `%matplotlib` -> Útil para ver los gráficos directamente en el notebook (%matplotlib inline)\n",
    "\n",
    "    \n",
    "- Otras magias útiles\n",
    "    - `%automagic` -> No tenemos que poner % delante de las funciones mágicas.\n",
    "    - `%quickref` -> Cheatsheet de funciones mágicas\n",
    "    - `%config` -> Sirve para configurar IPython\n",
    "    - `%history` -> Muestra el historial de los comandos usados\n",
    "    - `%macro` -> Define un macro para ejecutar más tarde\n",
    "    - `%xdel` -> Elimina una variable\n",
    "    - `%reset` -> Borra todas las variables definidas por el usuario"
   ]
  },
  {
   "cell_type": "code",
   "execution_count": null,
   "metadata": {},
   "outputs": [],
   "source": [
    "import matplotlib.pyplot as plt\n",
    "import numpy as np\n"
   ]
  },
  {
   "cell_type": "code",
   "execution_count": null,
   "metadata": {},
   "outputs": [],
   "source": [
    "%matplotlib inline \n",
    "# esto es para que me dibuje el grafico en el notebook. \n",
    "#Antiguamente no era asi, pero ahora ya esta implementado por defecto."
   ]
  },
  {
   "cell_type": "code",
   "execution_count": null,
   "metadata": {},
   "outputs": [],
   "source": [
    "x = np.linspace(0,100,40)\n",
    "y = x*2\n",
    "plt.plot(x,y)"
   ]
  },
  {
   "cell_type": "code",
   "execution_count": null,
   "metadata": {},
   "outputs": [],
   "source": [
    "%%time\n",
    "2+2"
   ]
  },
  {
   "cell_type": "code",
   "execution_count": null,
   "metadata": {},
   "outputs": [],
   "source": [
    "%%timeit\n",
    "2+2"
   ]
  },
  {
   "cell_type": "code",
   "execution_count": null,
   "metadata": {},
   "outputs": [],
   "source": [
    "! mkdir tmp"
   ]
  },
  {
   "cell_type": "code",
   "execution_count": null,
   "metadata": {},
   "outputs": [],
   "source": [
    "%%file tmp/test.py\n",
    "a = 10**2\n",
    "print(a)\n",
    "print(\"Me he ejecutado!\")"
   ]
  },
  {
   "cell_type": "code",
   "execution_count": null,
   "metadata": {},
   "outputs": [],
   "source": [
    "%run tmp/test.py"
   ]
  },
  {
   "cell_type": "code",
   "execution_count": null,
   "metadata": {},
   "outputs": [],
   "source": [
    "%pwd"
   ]
  },
  {
   "cell_type": "code",
   "execution_count": null,
   "metadata": {},
   "outputs": [],
   "source": [
    "! ls"
   ]
  },
  {
   "cell_type": "code",
   "execution_count": null,
   "metadata": {},
   "outputs": [],
   "source": [
    "! cat tmp/test.py"
   ]
  },
  {
   "cell_type": "code",
   "execution_count": null,
   "metadata": {},
   "outputs": [],
   "source": [
    "# tambn puedo hacerlo desde la shell:\n",
    "! python tmp/test.py"
   ]
  },
  {
   "cell_type": "code",
   "execution_count": null,
   "metadata": {},
   "outputs": [],
   "source": [
    "import math\n",
    "math.sqrt(2)"
   ]
  },
  {
   "cell_type": "code",
   "execution_count": null,
   "metadata": {},
   "outputs": [],
   "source": [
    "%precision 2"
   ]
  },
  {
   "cell_type": "code",
   "execution_count": null,
   "metadata": {},
   "outputs": [],
   "source": [
    "3.141516/2"
   ]
  },
  {
   "cell_type": "markdown",
   "metadata": {},
   "source": [
    "Not affecting other libraries"
   ]
  },
  {
   "cell_type": "code",
   "execution_count": null,
   "metadata": {},
   "outputs": [],
   "source": [
    "np.sqrt(2)"
   ]
  },
  {
   "cell_type": "markdown",
   "metadata": {},
   "source": [
    "- Aunque se llame `%precision`, no es la precisión con la que se calculan los resultados numéricos"
   ]
  },
  {
   "cell_type": "code",
   "execution_count": null,
   "metadata": {},
   "outputs": [],
   "source": [
    "1/3. + 1/3. + 1/3."
   ]
  },
  {
   "cell_type": "markdown",
   "metadata": {},
   "source": [
    "- Cuidado con el error numérico!"
   ]
  },
  {
   "cell_type": "code",
   "execution_count": null,
   "metadata": {},
   "outputs": [],
   "source": [
    "%precision 50"
   ]
  },
  {
   "cell_type": "code",
   "execution_count": null,
   "metadata": {},
   "outputs": [],
   "source": [
    "1/3"
   ]
  },
  {
   "cell_type": "code",
   "execution_count": null,
   "metadata": {},
   "outputs": [],
   "source": [
    "%who"
   ]
  },
  {
   "cell_type": "code",
   "execution_count": null,
   "metadata": {},
   "outputs": [],
   "source": [
    "%who_ls"
   ]
  },
  {
   "cell_type": "code",
   "execution_count": null,
   "metadata": {},
   "outputs": [],
   "source": [
    "%whos"
   ]
  },
  {
   "cell_type": "code",
   "execution_count": null,
   "metadata": {},
   "outputs": [],
   "source": [
    "%config"
   ]
  },
  {
   "cell_type": "code",
   "execution_count": null,
   "metadata": {},
   "outputs": [],
   "source": [
    "%history"
   ]
  },
  {
   "cell_type": "code",
   "execution_count": null,
   "metadata": {},
   "outputs": [],
   "source": [
    "%quickref"
   ]
  },
  {
   "cell_type": "markdown",
   "metadata": {},
   "source": [
    "## Colab"
   ]
  },
  {
   "cell_type": "markdown",
   "metadata": {},
   "source": [
    "- Herramienta de Google para trabajar con notebooks en la nube\n",
    "- No es necesario instalar nada en nuestro ordenador\n",
    "- El código se ejecuta en servidores de Google\n",
    "- Está integrado con Google Drive\n",
    "- Podemos acceder haciendo click [aquí](https://colab.research.google.com/)"
   ]
  }
 ],
 "metadata": {
  "kernelspec": {
   "display_name": "Python 3 (ipykernel)",
   "language": "python",
   "name": "python3"
  },
  "language_info": {
   "codemirror_mode": {
    "name": "ipython",
    "version": 3
   },
   "file_extension": ".py",
   "mimetype": "text/x-python",
   "name": "python",
   "nbconvert_exporter": "python",
   "pygments_lexer": "ipython3",
   "version": "3.8.11"
  }
 },
 "nbformat": 4,
 "nbformat_minor": 4
}
