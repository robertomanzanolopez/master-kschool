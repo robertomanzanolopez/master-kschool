{
 "cells": [
  {
   "cell_type": "code",
   "execution_count": null,
   "id": "edeb1f5f",
   "metadata": {},
   "outputs": [],
   "source": [
    "#import stuff"
   ]
  },
  {
   "cell_type": "code",
   "execution_count": null,
   "id": "15ea6341",
   "metadata": {},
   "outputs": [],
   "source": [
    "import pandas as pd\n",
    "import numpy as np\n",
    "import matplotlib.pyplot as plt\n",
    "import seaborn as sbs"
   ]
  },
  {
   "cell_type": "code",
   "execution_count": null,
   "id": "a1a58605",
   "metadata": {},
   "outputs": [],
   "source": [
    "%%file tips_module.py\n",
    "'''\n",
    "Module with all function defined for this tips.csv exercise\n",
    "'''\n",
    "\n",
    "#Esto me crea un archivo con ese nombre y el contenido de las comillas\n",
    "\n",
    "\n",
    "def top(df, n=5, col='tip_pct'):\n",
    "    '''\n",
    "    Gives top n rows using descending order.\n",
    "    In other words: TOP n\n",
    "\n",
    "    inputs:\n",
    "    - df: dataframe\n",
    "    - n: number of top elements\n",
    "    - col: column used for ordering\n",
    "\n",
    "    return:\n",
    "    - dataframe sorted by col with head(n)\n",
    "\n",
    "    '''\n",
    "    return df.sort_values(by=col, ascending=False).head(n)"
   ]
  },
  {
   "cell_type": "code",
   "execution_count": null,
   "id": "eb39b196",
   "metadata": {},
   "outputs": [],
   "source": [
    "! ls"
   ]
  },
  {
   "cell_type": "code",
   "execution_count": null,
   "id": "e08f20b7",
   "metadata": {},
   "outputs": [],
   "source": [
    "import tips_module as tps"
   ]
  },
  {
   "cell_type": "code",
   "execution_count": null,
   "id": "5927687f",
   "metadata": {},
   "outputs": [],
   "source": [
    "tps?"
   ]
  },
  {
   "cell_type": "code",
   "execution_count": null,
   "id": "b9d05026",
   "metadata": {},
   "outputs": [],
   "source": [
    "from importlib import reload"
   ]
  },
  {
   "cell_type": "code",
   "execution_count": null,
   "id": "6b09df7c",
   "metadata": {},
   "outputs": [],
   "source": [
    "reload(tps)#como ya lo habia hecho antes tengo que recargar el modulo para que me saque la info actualizada"
   ]
  },
  {
   "cell_type": "code",
   "execution_count": null,
   "id": "c61dcd76",
   "metadata": {},
   "outputs": [],
   "source": [
    "tps?"
   ]
  },
  {
   "cell_type": "code",
   "execution_count": null,
   "id": "d25a31e7",
   "metadata": {},
   "outputs": [],
   "source": [
    "tps.top?"
   ]
  },
  {
   "cell_type": "code",
   "execution_count": null,
   "id": "ee483f04",
   "metadata": {},
   "outputs": [],
   "source": [
    "# Read the csv"
   ]
  },
  {
   "cell_type": "code",
   "execution_count": null,
   "id": "84b1d934",
   "metadata": {},
   "outputs": [],
   "source": [
    "df = pd.read_csv('tips.csv')\n",
    "df.head()"
   ]
  },
  {
   "cell_type": "code",
   "execution_count": null,
   "id": "81677cb6",
   "metadata": {},
   "outputs": [],
   "source": [
    "# 1) Scatter plot of TIP vs TOTAL_BILL"
   ]
  },
  {
   "cell_type": "code",
   "execution_count": null,
   "id": "cf8d20f0",
   "metadata": {},
   "outputs": [],
   "source": [
    "df.plot.scatter(x='tip')"
   ]
  },
  {
   "cell_type": "code",
   "execution_count": null,
   "id": "3ff515d3",
   "metadata": {},
   "outputs": [],
   "source": []
  }
 ],
 "metadata": {
  "kernelspec": {
   "display_name": "Python 3 (ipykernel)",
   "language": "python",
   "name": "python3"
  },
  "language_info": {
   "codemirror_mode": {
    "name": "ipython",
    "version": 3
   },
   "file_extension": ".py",
   "mimetype": "text/x-python",
   "name": "python",
   "nbconvert_exporter": "python",
   "pygments_lexer": "ipython3",
   "version": "3.8.11"
  }
 },
 "nbformat": 4,
 "nbformat_minor": 5
}
