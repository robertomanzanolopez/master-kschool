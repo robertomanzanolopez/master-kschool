{
 "cells": [
  {
   "cell_type": "code",
   "execution_count": null,
   "id": "4463e654",
   "metadata": {},
   "outputs": [],
   "source": [
    "#import stuff"
   ]
  },
  {
   "cell_type": "code",
   "execution_count": null,
   "id": "a59ad3a4",
   "metadata": {},
   "outputs": [],
   "source": [
    "import pandas as pd\n",
    "import numpy as np\n",
    "import matplotlib.pyplot as plt\n",
    "import seaborn as sbs"
   ]
  },
  {
   "cell_type": "code",
   "execution_count": null,
   "id": "0d1210af",
   "metadata": {},
   "outputs": [],
   "source": [
    "%%file tips_module.py\n",
    "'''\n",
    "Module with all function defined for this tips.csv exercise\n",
    "'''\n",
    "\n",
    "#Esto me crea un archivo con ese nombre y el contenido de las comillas\n",
    "\n",
    "\n",
    "def top(df, n=5, col='tip_pct'):\n",
    "    '''\n",
    "    Gives top n rows using descending order.\n",
    "    In other words: TOP n\n",
    "\n",
    "    inputs:\n",
    "    - df: dataframe\n",
    "    - n: number of top elements\n",
    "    - col: column used for ordering\n",
    "\n",
    "    return:\n",
    "    - dataframe sorted by col with head(n)\n",
    "\n",
    "    '''\n",
    "    return df.sort_values(by=col, ascending=False).head(n)"
   ]
  },
  {
   "cell_type": "code",
   "execution_count": null,
   "id": "faae5ac9",
   "metadata": {},
   "outputs": [],
   "source": [
    "! ls"
   ]
  },
  {
   "cell_type": "code",
   "execution_count": null,
   "id": "8719ca19",
   "metadata": {},
   "outputs": [],
   "source": [
    "import tips_module as tps"
   ]
  },
  {
   "cell_type": "code",
   "execution_count": null,
   "id": "51d4096a",
   "metadata": {},
   "outputs": [],
   "source": [
    "tps?"
   ]
  },
  {
   "cell_type": "code",
   "execution_count": null,
   "id": "1ac37783",
   "metadata": {},
   "outputs": [],
   "source": [
    "from importlib import reload"
   ]
  },
  {
   "cell_type": "code",
   "execution_count": null,
   "id": "0576d8b9",
   "metadata": {},
   "outputs": [],
   "source": [
    "reload(tps)#como ya lo habia hecho antes tengo que recargar el modulo para que me saque la info actualizada"
   ]
  },
  {
   "cell_type": "code",
   "execution_count": null,
   "id": "09504885",
   "metadata": {},
   "outputs": [],
   "source": [
    "tps?"
   ]
  },
  {
   "cell_type": "code",
   "execution_count": null,
   "id": "e40b1231",
   "metadata": {},
   "outputs": [],
   "source": [
    "tps.top?"
   ]
  },
  {
   "cell_type": "code",
   "execution_count": null,
   "id": "e52c95e9",
   "metadata": {},
   "outputs": [],
   "source": [
    "# Read the csv"
   ]
  },
  {
   "cell_type": "code",
   "execution_count": null,
   "id": "0c31a75d",
   "metadata": {},
   "outputs": [],
   "source": [
    "df = pd.read_csv('tips.csv')\n",
    "df.head()"
   ]
  },
  {
   "cell_type": "code",
   "execution_count": null,
   "id": "0836886d",
   "metadata": {},
   "outputs": [],
   "source": [
    "# 1) Scatter plot of TIP vs TOTAL_BILL"
   ]
  },
  {
   "cell_type": "code",
   "execution_count": null,
   "id": "dc53217b",
   "metadata": {},
   "outputs": [],
   "source": [
    "df.plot.scatter(x='total_bill', y='tip')\n",
    "#para controlar el tamaño del punto en la nube de puntos hago:\n",
    "#figure = plt.figure(figsize=(20,4))\n",
    "#df.figure"
   ]
  },
  {
   "cell_type": "code",
   "execution_count": null,
   "id": "1c3b4ae3",
   "metadata": {},
   "outputs": [],
   "source": [
    "#correlacion de total_bill y tip"
   ]
  },
  {
   "cell_type": "code",
   "execution_count": null,
   "id": "a531c61b",
   "metadata": {},
   "outputs": [],
   "source": [
    "df.corr()"
   ]
  },
  {
   "cell_type": "code",
   "execution_count": null,
   "id": "042e3639",
   "metadata": {},
   "outputs": [],
   "source": [
    "#vamos a añadir el total_bill/persona"
   ]
  },
  {
   "cell_type": "code",
   "execution_count": null,
   "id": "8de22b92",
   "metadata": {},
   "outputs": [],
   "source": [
    "df['total_bill_pers'] = df['total_bill'] / df['size']\n",
    "df.head()"
   ]
  },
  {
   "cell_type": "code",
   "execution_count": null,
   "id": "a45bf006",
   "metadata": {},
   "outputs": [],
   "source": [
    "sbs.pairplot(df)"
   ]
  },
  {
   "cell_type": "code",
   "execution_count": null,
   "id": "305969a4",
   "metadata": {},
   "outputs": [],
   "source": [
    "#top 5 de los mayores gastos\n",
    "tps.top(df, col='total_bill')"
   ]
  },
  {
   "cell_type": "code",
   "execution_count": null,
   "id": "e0346bdb",
   "metadata": {},
   "outputs": [],
   "source": [
    "df.groupby('time').apply(tps.top,n=3,col='total_bill_pers')"
   ]
  },
  {
   "cell_type": "code",
   "execution_count": null,
   "id": "9a3a3ec5",
   "metadata": {},
   "outputs": [],
   "source": [
    "#otra forma de hacerlo con lambd es:\n",
    "df.groupby('time').apply(lambda df: tps.top(df, col='total_bill_pers'))"
   ]
  },
  {
   "cell_type": "code",
   "execution_count": null,
   "id": "8c006707",
   "metadata": {},
   "outputs": [],
   "source": [
    "#que personas son mas generosas?, hombres vs mujeres y fumadores vs noFumadores"
   ]
  },
  {
   "cell_type": "code",
   "execution_count": null,
   "id": "c46c0d1f",
   "metadata": {},
   "outputs": [],
   "source": [
    "df.groupby(['sex']).agg(['min', 'max', 'mean'])"
   ]
  },
  {
   "cell_type": "code",
   "execution_count": null,
   "id": "10fd26f9",
   "metadata": {},
   "outputs": [],
   "source": [
    "df.groupby(['smoker']).agg(['min', 'max', 'mean'])"
   ]
  },
  {
   "cell_type": "code",
   "execution_count": null,
   "id": "5e4a2364",
   "metadata": {},
   "outputs": [],
   "source": []
  },
  {
   "cell_type": "code",
   "execution_count": null,
   "id": "630f6df4",
   "metadata": {},
   "outputs": [],
   "source": [
    "#%hombres dejan mas propina que la media vs %mujeres dejan mas propina que la media"
   ]
  },
  {
   "cell_type": "code",
   "execution_count": null,
   "id": "c13ba6f0",
   "metadata": {},
   "outputs": [],
   "source": [
    "df['tip_pct_pers'] = (df['tip'] / df['total_bill']) / df['size']\n",
    "tps.top(df,n=100,col='tip_pct_pers')\n",
    "\n",
    "for item in tps.top(df,n=100,col='tip_pct_pers')"
   ]
  },
  {
   "cell_type": "code",
   "execution_count": null,
   "id": "bde2dc72",
   "metadata": {},
   "outputs": [],
   "source": [
    "#%Fumadores dejan mas propina que la media vs %noFumadores dejan mas propina que la media"
   ]
  },
  {
   "cell_type": "code",
   "execution_count": null,
   "id": "06e7d3c3",
   "metadata": {},
   "outputs": [],
   "source": [
    "ax = sbs.boxplot(x=\"smoker\", y=\"tip\", hue=\"sex\", data=df, palette=[\"m\",\"g\"])"
   ]
  },
  {
   "cell_type": "code",
   "execution_count": null,
   "id": "30d69221",
   "metadata": {},
   "outputs": [],
   "source": []
  },
  {
   "cell_type": "code",
   "execution_count": null,
   "id": "2f1a32c0",
   "metadata": {},
   "outputs": [],
   "source": [
    "#DEMOSTRAR QUE LOS FUMADORES SON MAS GENEROSOS CON LAS PROPINAS QUE LOS NO FUMADORES"
   ]
  },
  {
   "cell_type": "code",
   "execution_count": null,
   "id": "421570fe",
   "metadata": {},
   "outputs": [],
   "source": [
    "ax = sbs.boxplot(x=\"day\", y=\"tip\", hue=\"smoker\", data=df, palette=[\"m\",\"g\"])"
   ]
  },
  {
   "cell_type": "code",
   "execution_count": null,
   "id": "de37eead",
   "metadata": {},
   "outputs": [],
   "source": [
    "ax = sbs.boxplot(x=\"day\", y=\"tip_pct_pers\", hue=\"smoker\", data=df, palette=[\"m\",\"g\"])"
   ]
  },
  {
   "cell_type": "code",
   "execution_count": null,
   "id": "0b0c3a41",
   "metadata": {},
   "outputs": [],
   "source": []
  }
 ],
 "metadata": {
  "kernelspec": {
   "display_name": "Python 3 (ipykernel)",
   "language": "python",
   "name": "python3"
  },
  "language_info": {
   "codemirror_mode": {
    "name": "ipython",
    "version": 3
   },
   "file_extension": ".py",
   "mimetype": "text/x-python",
   "name": "python",
   "nbconvert_exporter": "python",
   "pygments_lexer": "ipython3",
   "version": "3.8.11"
  }
 },
 "nbformat": 4,
 "nbformat_minor": 5
}
